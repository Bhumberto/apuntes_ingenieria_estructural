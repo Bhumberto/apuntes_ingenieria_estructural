{
 "cells": [
  {
   "cell_type": "markdown",
   "metadata": {},
   "source": [
    "# Análisis Sísmico"
   ]
  },
  {
   "cell_type": "code",
   "execution_count": 32,
   "metadata": {},
   "outputs": [
    {
     "name": "stdout",
     "output_type": "stream",
     "text": [
      "The autoreload extension is already loaded. To reload it, use:\n",
      "  %reload_ext autoreload\n"
     ]
    }
   ],
   "source": [
    "#Importar las librerías necesarias\n",
    "%load_ext autoreload\n",
    "%autoreload 2\n",
    "import os\n",
    "import sys\n",
    "import numpy\n",
    "sys.path.append(os.getcwd())\n",
    "from lib import etabs_utils as etb\n",
    "from lib import sismo_utils as sis\n",
    "from lib import notebook_utils as ntb\n",
    "#from mem import sismo_mem as smem\n",
    "from ipywidgets import widgets\n",
    "from IPython.display import display\n"
   ]
  },
  {
   "cell_type": "code",
   "execution_count": 33,
   "metadata": {},
   "outputs": [],
   "source": [
    "_,SapModel = etb.connect_to_etabs()"
   ]
  },
  {
   "cell_type": "code",
   "execution_count": 36,
   "metadata": {},
   "outputs": [],
   "source": [
    "sismo = ntb.Sismo()"
   ]
  },
  {
   "cell_type": "markdown",
   "metadata": {},
   "source": [
    "# Parámetros de Sitio\n",
    "\n",
    "## Zonificación\n",
    "![Factor de Zonifiación](./images/factor_zona.png)"
   ]
  },
  {
   "cell_type": "markdown",
   "metadata": {},
   "source": [
    "## Factor de Suelo\n",
    "![Factor de Suelo](./images/factor_suelo.png)\n"
   ]
  },
  {
   "cell_type": "markdown",
   "metadata": {},
   "source": [
    "## Periodos del suelo\n",
    "![Periodos del Suelo](./images/periodos_suelo.png)"
   ]
  },
  {
   "cell_type": "markdown",
   "metadata": {},
   "source": [
    "## Sistema Estructural\n",
    "![Sistema Estructural](./images/sistemas_estructurales.png)"
   ]
  },
  {
   "cell_type": "markdown",
   "metadata": {},
   "source": [
    "## Factor de Amplificación sísmica\n",
    "![Factor de Amplificacion Sísmica](./images/amplificacion_sismica.png)"
   ]
  },
  {
   "cell_type": "markdown",
   "metadata": {},
   "source": [
    "## Factor de Importancia\n",
    "![Factor de Importancia](./images//factor_importancia.png)"
   ]
  },
  {
   "cell_type": "code",
   "execution_count": 37,
   "metadata": {},
   "outputs": [
    {
     "data": {
      "application/vnd.jupyter.widget-view+json": {
       "model_id": "1b6d5500ae594c18a4bbada80d52a1e1",
       "version_major": 2,
       "version_minor": 0
      },
      "text/plain": [
       "VBox(children=(Dropdown(description='Departamento ', options=('Seleccione', 'LORETO', 'UCAYALI', 'MADRE DE DIO…"
      ]
     },
     "metadata": {},
     "output_type": "display_data"
    },
    {
     "data": {
      "application/vnd.jupyter.widget-view+json": {
       "model_id": "d8999b3d6af2426389e2d569bdf21efc",
       "version_major": 2,
       "version_minor": 0
      },
      "text/plain": [
       "VBox(children=(Dropdown(description='Provincia ', options=('Seleccione', 'HUÁNUCO', 'HUACAYBAMBA', 'LEONCIO PR…"
      ]
     },
     "metadata": {},
     "output_type": "display_data"
    },
    {
     "data": {
      "application/vnd.jupyter.widget-view+json": {
       "model_id": "865d79caf5d34dc5ae69bdc5c6891d43",
       "version_major": 2,
       "version_minor": 0
      },
      "text/plain": [
       "VBox(children=(Dropdown(description='Distrito ', options=('Seleccione', 'PANAO', 'CHAGLLA', 'MOLINO', 'UMARI')…"
      ]
     },
     "metadata": {},
     "output_type": "display_data"
    },
    {
     "data": {
      "application/vnd.jupyter.widget-view+json": {
       "model_id": "e56c78755a7a4e16a702aaf27c429238",
       "version_major": 2,
       "version_minor": 0
      },
      "text/plain": [
       "VBox(children=(Dropdown(description='Factor Zona', index=1, options=(1, 2, 3, 4), style=DescriptionStyle(descr…"
      ]
     },
     "metadata": {},
     "output_type": "display_data"
    }
   ],
   "source": [
    "sismo.parametros_e30()"
   ]
  },
  {
   "cell_type": "markdown",
   "metadata": {},
   "source": [
    "# Irregularidades"
   ]
  },
  {
   "cell_type": "code",
   "execution_count": 5,
   "metadata": {},
   "outputs": [
    {
     "data": {
      "application/vnd.jupyter.widget-view+json": {
       "model_id": "1fee261a9f4345c7972a3c2a9c06cd42",
       "version_major": 2,
       "version_minor": 0
      },
      "text/plain": [
       "HBox(children=(VBox(children=(HTML(value='<b>Irregularidad en Altura</b>'), Checkbox(value=False, description=…"
      ]
     },
     "execution_count": 5,
     "metadata": {},
     "output_type": "execute_result"
    }
   ],
   "source": [
    "sismo.irregularidades_e30()"
   ]
  },
  {
   "cell_type": "markdown",
   "metadata": {},
   "source": [
    "# Parámetros Sísmicos"
   ]
  },
  {
   "cell_type": "code",
   "execution_count": 6,
   "metadata": {},
   "outputs": [
    {
     "name": "stdout",
     "output_type": "stream",
     "text": [
      "\n",
      "\u001b[1m Parámetros de sitio:\u001b[0m\n",
      "Factor de zona: \n",
      "    Z=0.45\n",
      "Factor de Importancia: \n",
      "    U=1.00\n",
      "Factor de Suelo: \n",
      "    S=1.05\n",
      "Periodos del Suelo: \n",
      "    Tp=0.60\n",
      "    Tl=2.00\n",
      "Factor Básico de Reducción:\n",
      "    Rox=7.00\n",
      "    Roy=7.00\n",
      "Irregularidad en planta:\n",
      "    Ip=1.00\n",
      "Irregularidad en altura:\n",
      "    Ia=1.00\n",
      "Factor de Reducción:\n",
      "    Rx=7.00\n",
      "    Ry=7.00\n",
      "\n"
     ]
    }
   ],
   "source": [
    "sismo.show_params()"
   ]
  },
  {
   "cell_type": "code",
   "execution_count": 7,
   "metadata": {},
   "outputs": [
    {
     "data": {
      "application/vnd.jupyter.widget-view+json": {
       "model_id": "6f2d3da149fd4d7182bc53852016a231",
       "version_major": 2,
       "version_minor": 0
      },
      "text/plain": [
       "HBox(children=(VBox(children=(HTML(value='<b>Dirección X</b>'), Dropdown(description='Sismo Estatico en X', in…"
      ]
     },
     "execution_count": 7,
     "metadata": {},
     "output_type": "execute_result"
    }
   ],
   "source": [
    "sismo.select_loads(SapModel)"
   ]
  },
  {
   "cell_type": "code",
   "execution_count": 13,
   "metadata": {},
   "outputs": [
    {
     "data": {
      "application/vnd.jupyter.widget-view+json": {
       "model_id": "417a91a95a67430aa85956fde06d01e4",
       "version_major": 2,
       "version_minor": 0
      },
      "text/plain": [
       "Dropdown(description='Piso Base', options=('Story1', 'Story2', 'Story3', 'Story4'), style=DescriptionStyle(des…"
      ]
     },
     "execution_count": 13,
     "metadata": {},
     "output_type": "execute_result"
    }
   ],
   "source": [
    "sismo.select_base_story(SapModel)"
   ]
  },
  {
   "cell_type": "code",
   "execution_count": 19,
   "metadata": {},
   "outputs": [],
   "source": [
    "sismo.analisis_sismo(SapModel)"
   ]
  },
  {
   "cell_type": "code",
   "execution_count": 20,
   "metadata": {},
   "outputs": [
    {
     "data": {
      "text/html": [
       "<div>\n",
       "<style scoped>\n",
       "    .dataframe tbody tr th:only-of-type {\n",
       "        vertical-align: middle;\n",
       "    }\n",
       "\n",
       "    .dataframe tbody tr th {\n",
       "        vertical-align: top;\n",
       "    }\n",
       "\n",
       "    .dataframe thead th {\n",
       "        text-align: right;\n",
       "    }\n",
       "</style>\n",
       "<table border=\"1\" class=\"dataframe\">\n",
       "  <thead>\n",
       "    <tr style=\"text-align: right;\">\n",
       "      <th></th>\n",
       "      <th>Mode</th>\n",
       "      <th>Period</th>\n",
       "      <th>UX</th>\n",
       "      <th>UY</th>\n",
       "      <th>RZ</th>\n",
       "      <th>SumUX</th>\n",
       "      <th>SumUY</th>\n",
       "      <th>SumRZ</th>\n",
       "    </tr>\n",
       "  </thead>\n",
       "  <tbody>\n",
       "    <tr>\n",
       "      <th>0</th>\n",
       "      <td>1</td>\n",
       "      <td>0.272</td>\n",
       "      <td>8.001000e-01</td>\n",
       "      <td>0.000100</td>\n",
       "      <td>0.0143</td>\n",
       "      <td>0.8001</td>\n",
       "      <td>0.0001</td>\n",
       "      <td>0.0143</td>\n",
       "    </tr>\n",
       "    <tr>\n",
       "      <th>1</th>\n",
       "      <td>2</td>\n",
       "      <td>0.153</td>\n",
       "      <td>1.210000e-02</td>\n",
       "      <td>0.136300</td>\n",
       "      <td>0.6867</td>\n",
       "      <td>0.8122</td>\n",
       "      <td>0.1364</td>\n",
       "      <td>0.7009</td>\n",
       "    </tr>\n",
       "    <tr>\n",
       "      <th>2</th>\n",
       "      <td>3</td>\n",
       "      <td>0.135</td>\n",
       "      <td>3.200000e-03</td>\n",
       "      <td>0.737400</td>\n",
       "      <td>0.1362</td>\n",
       "      <td>0.8154</td>\n",
       "      <td>0.8738</td>\n",
       "      <td>0.8372</td>\n",
       "    </tr>\n",
       "    <tr>\n",
       "      <th>3</th>\n",
       "      <td>4</td>\n",
       "      <td>0.094</td>\n",
       "      <td>5.680000e-02</td>\n",
       "      <td>0.000200</td>\n",
       "      <td>0.0352</td>\n",
       "      <td>0.8722</td>\n",
       "      <td>0.8739</td>\n",
       "      <td>0.8724</td>\n",
       "    </tr>\n",
       "    <tr>\n",
       "      <th>4</th>\n",
       "      <td>5</td>\n",
       "      <td>0.072</td>\n",
       "      <td>1.081000e-01</td>\n",
       "      <td>0.000100</td>\n",
       "      <td>0.007</td>\n",
       "      <td>0.9804</td>\n",
       "      <td>0.874</td>\n",
       "      <td>0.8794</td>\n",
       "    </tr>\n",
       "    <tr>\n",
       "      <th>5</th>\n",
       "      <td>6</td>\n",
       "      <td>0.052</td>\n",
       "      <td>3.000000e-04</td>\n",
       "      <td>0.075600</td>\n",
       "      <td>0.025</td>\n",
       "      <td>0.9807</td>\n",
       "      <td>0.9496</td>\n",
       "      <td>0.9044</td>\n",
       "    </tr>\n",
       "    <tr>\n",
       "      <th>6</th>\n",
       "      <td>7</td>\n",
       "      <td>0.047</td>\n",
       "      <td>1.300000e-03</td>\n",
       "      <td>0.019000</td>\n",
       "      <td>0.0789</td>\n",
       "      <td>0.982</td>\n",
       "      <td>0.9686</td>\n",
       "      <td>0.9833</td>\n",
       "    </tr>\n",
       "    <tr>\n",
       "      <th>7</th>\n",
       "      <td>8</td>\n",
       "      <td>0.043</td>\n",
       "      <td>1.750000e-02</td>\n",
       "      <td>0.000200</td>\n",
       "      <td>4.81E-06</td>\n",
       "      <td>0.9995</td>\n",
       "      <td>0.9688</td>\n",
       "      <td>0.9833</td>\n",
       "    </tr>\n",
       "    <tr>\n",
       "      <th>8</th>\n",
       "      <td>9</td>\n",
       "      <td>0.039</td>\n",
       "      <td>1.000000e-04</td>\n",
       "      <td>0.020500</td>\n",
       "      <td>0.0039</td>\n",
       "      <td>0.9996</td>\n",
       "      <td>0.9893</td>\n",
       "      <td>0.9872</td>\n",
       "    </tr>\n",
       "    <tr>\n",
       "      <th>9</th>\n",
       "      <td>10</td>\n",
       "      <td>0.033</td>\n",
       "      <td>4.134000e-05</td>\n",
       "      <td>0.004200</td>\n",
       "      <td>0.0005</td>\n",
       "      <td>0.9997</td>\n",
       "      <td>0.9935</td>\n",
       "      <td>0.9877</td>\n",
       "    </tr>\n",
       "    <tr>\n",
       "      <th>10</th>\n",
       "      <td>11</td>\n",
       "      <td>0.029</td>\n",
       "      <td>9.026000e-07</td>\n",
       "      <td>0.006500</td>\n",
       "      <td>4.904E-06</td>\n",
       "      <td>0.9997</td>\n",
       "      <td>1</td>\n",
       "      <td>0.9877</td>\n",
       "    </tr>\n",
       "    <tr>\n",
       "      <th>11</th>\n",
       "      <td>12</td>\n",
       "      <td>0.029</td>\n",
       "      <td>3.000000e-04</td>\n",
       "      <td>0.000035</td>\n",
       "      <td>0.0123</td>\n",
       "      <td>1</td>\n",
       "      <td>1</td>\n",
       "      <td>1</td>\n",
       "    </tr>\n",
       "  </tbody>\n",
       "</table>\n",
       "</div>"
      ],
      "text/plain": [
       "   Mode Period            UX        UY         RZ   SumUX   SumUY   SumRZ\n",
       "0     1  0.272  8.001000e-01  0.000100     0.0143  0.8001  0.0001  0.0143\n",
       "1     2  0.153  1.210000e-02  0.136300     0.6867  0.8122  0.1364  0.7009\n",
       "2     3  0.135  3.200000e-03  0.737400     0.1362  0.8154  0.8738  0.8372\n",
       "3     4  0.094  5.680000e-02  0.000200     0.0352  0.8722  0.8739  0.8724\n",
       "4     5  0.072  1.081000e-01  0.000100      0.007  0.9804   0.874  0.8794\n",
       "5     6  0.052  3.000000e-04  0.075600      0.025  0.9807  0.9496  0.9044\n",
       "6     7  0.047  1.300000e-03  0.019000     0.0789   0.982  0.9686  0.9833\n",
       "7     8  0.043  1.750000e-02  0.000200   4.81E-06  0.9995  0.9688  0.9833\n",
       "8     9  0.039  1.000000e-04  0.020500     0.0039  0.9996  0.9893  0.9872\n",
       "9    10  0.033  4.134000e-05  0.004200     0.0005  0.9997  0.9935  0.9877\n",
       "10   11  0.029  9.026000e-07  0.006500  4.904E-06  0.9997       1  0.9877\n",
       "11   12  0.029  3.000000e-04  0.000035     0.0123       1       1       1"
      ]
     },
     "execution_count": 20,
     "metadata": {},
     "output_type": "execute_result"
    }
   ],
   "source": [
    "sismo.tables.modal"
   ]
  },
  {
   "cell_type": "markdown",
   "metadata": {},
   "source": [
    "## Revisión por Piso Blando"
   ]
  },
  {
   "cell_type": "code",
   "execution_count": 21,
   "metadata": {},
   "outputs": [
    {
     "data": {
      "application/vnd.jupyter.widget-view+json": {
       "model_id": "f46335690def4226bf7da7f767828168",
       "version_major": 2,
       "version_minor": 0
      },
      "text/plain": [
       "Dropdown(description='Filtro', options=('SDy Max', 'Sx', 'Sy', 'SDx Max', 'sin filtro'), style=DescriptionStyl…"
      ]
     },
     "metadata": {},
     "output_type": "display_data"
    },
    {
     "data": {
      "text/html": [
       "<div>\n",
       "<style scoped>\n",
       "    .dataframe tbody tr th:only-of-type {\n",
       "        vertical-align: middle;\n",
       "    }\n",
       "\n",
       "    .dataframe tbody tr th {\n",
       "        vertical-align: top;\n",
       "    }\n",
       "\n",
       "    .dataframe thead th {\n",
       "        text-align: right;\n",
       "    }\n",
       "</style>\n",
       "<table border=\"1\" class=\"dataframe\">\n",
       "  <thead>\n",
       "    <tr style=\"text-align: right;\">\n",
       "      <th></th>\n",
       "      <th>Story</th>\n",
       "      <th>OutputCase</th>\n",
       "      <th>UX</th>\n",
       "      <th>UY</th>\n",
       "      <th>ΔUX</th>\n",
       "      <th>ΔUY</th>\n",
       "      <th>VX</th>\n",
       "      <th>VY</th>\n",
       "      <th>lat_rig(k)</th>\n",
       "      <th>0.7_prev_k</th>\n",
       "      <th>0.8k_prom</th>\n",
       "      <th>is_reg</th>\n",
       "    </tr>\n",
       "  </thead>\n",
       "  <tbody>\n",
       "    <tr>\n",
       "      <th>0</th>\n",
       "      <td>Story4</td>\n",
       "      <td>SDy Max</td>\n",
       "      <td>0.001918</td>\n",
       "      <td>0.002699</td>\n",
       "      <td>0.001738</td>\n",
       "      <td>0.000567</td>\n",
       "      <td>2.6003</td>\n",
       "      <td>5.5762</td>\n",
       "      <td>9834.567901</td>\n",
       "      <td>0.000000</td>\n",
       "      <td>0.00000</td>\n",
       "      <td>Regular</td>\n",
       "    </tr>\n",
       "    <tr>\n",
       "      <th>1</th>\n",
       "      <td>Story3</td>\n",
       "      <td>SDy Max</td>\n",
       "      <td>0.00018</td>\n",
       "      <td>0.002132</td>\n",
       "      <td>0.000007</td>\n",
       "      <td>0.000554</td>\n",
       "      <td>1.3659</td>\n",
       "      <td>48.3728</td>\n",
       "      <td>87315.523466</td>\n",
       "      <td>6884.197531</td>\n",
       "      <td>0.00000</td>\n",
       "      <td>Regular</td>\n",
       "    </tr>\n",
       "    <tr>\n",
       "      <th>2</th>\n",
       "      <td>Story2</td>\n",
       "      <td>SDy Max</td>\n",
       "      <td>0.000173</td>\n",
       "      <td>0.001578</td>\n",
       "      <td>0.000103</td>\n",
       "      <td>0.000759</td>\n",
       "      <td>5.4704</td>\n",
       "      <td>90.1874</td>\n",
       "      <td>118823.978920</td>\n",
       "      <td>61120.866426</td>\n",
       "      <td>0.00000</td>\n",
       "      <td>Regular</td>\n",
       "    </tr>\n",
       "    <tr>\n",
       "      <th>3</th>\n",
       "      <td>Story1</td>\n",
       "      <td>SDy Max</td>\n",
       "      <td>7E-05</td>\n",
       "      <td>0.000819</td>\n",
       "      <td>0.000070</td>\n",
       "      <td>0.000819</td>\n",
       "      <td>7.1651</td>\n",
       "      <td>113.9952</td>\n",
       "      <td>139188.278388</td>\n",
       "      <td>83176.785244</td>\n",
       "      <td>57593.08541</td>\n",
       "      <td>Regular</td>\n",
       "    </tr>\n",
       "  </tbody>\n",
       "</table>\n",
       "</div>"
      ],
      "text/plain": [
       "    Story OutputCase        UX        UY       ΔUX       ΔUY      VX  \\\n",
       "0  Story4    SDy Max  0.001918  0.002699  0.001738  0.000567  2.6003   \n",
       "1  Story3    SDy Max   0.00018  0.002132  0.000007  0.000554  1.3659   \n",
       "2  Story2    SDy Max  0.000173  0.001578  0.000103  0.000759  5.4704   \n",
       "3  Story1    SDy Max     7E-05  0.000819  0.000070  0.000819  7.1651   \n",
       "\n",
       "         VY     lat_rig(k)    0.7_prev_k    0.8k_prom   is_reg  \n",
       "0    5.5762    9834.567901      0.000000      0.00000  Regular  \n",
       "1   48.3728   87315.523466   6884.197531      0.00000  Regular  \n",
       "2   90.1874  118823.978920  61120.866426      0.00000  Regular  \n",
       "3  113.9952  139188.278388  83176.785244  57593.08541  Regular  "
      ]
     },
     "metadata": {},
     "output_type": "display_data"
    }
   ],
   "source": [
    "sismo.show_table(sismo.tables.piso_blando_table)"
   ]
  },
  {
   "cell_type": "markdown",
   "metadata": {},
   "source": [
    "## Revisión por Irregularidad de Masa"
   ]
  },
  {
   "cell_type": "code",
   "execution_count": 22,
   "metadata": {},
   "outputs": [
    {
     "data": {
      "text/html": [
       "<div>\n",
       "<style scoped>\n",
       "    .dataframe tbody tr th:only-of-type {\n",
       "        vertical-align: middle;\n",
       "    }\n",
       "\n",
       "    .dataframe tbody tr th {\n",
       "        vertical-align: top;\n",
       "    }\n",
       "\n",
       "    .dataframe thead th {\n",
       "        text-align: right;\n",
       "    }\n",
       "</style>\n",
       "<table border=\"1\" class=\"dataframe\">\n",
       "  <thead>\n",
       "    <tr style=\"text-align: right;\">\n",
       "      <th></th>\n",
       "      <th>Story</th>\n",
       "      <th>Mass</th>\n",
       "      <th>1.5 Mass</th>\n",
       "      <th>story_type</th>\n",
       "      <th>is_regular</th>\n",
       "    </tr>\n",
       "  </thead>\n",
       "  <tbody>\n",
       "    <tr>\n",
       "      <th>0</th>\n",
       "      <td>Story4</td>\n",
       "      <td>0.76938</td>\n",
       "      <td></td>\n",
       "      <td>Azotea</td>\n",
       "      <td>Regular</td>\n",
       "    </tr>\n",
       "    <tr>\n",
       "      <th>1</th>\n",
       "      <td>Story3</td>\n",
       "      <td>9.56556</td>\n",
       "      <td>14.34834</td>\n",
       "      <td>Piso</td>\n",
       "      <td>Regular</td>\n",
       "    </tr>\n",
       "    <tr>\n",
       "      <th>2</th>\n",
       "      <td>Story2</td>\n",
       "      <td>12.89374</td>\n",
       "      <td>19.34061</td>\n",
       "      <td>Piso</td>\n",
       "      <td>Regular</td>\n",
       "    </tr>\n",
       "    <tr>\n",
       "      <th>3</th>\n",
       "      <td>Story1</td>\n",
       "      <td>13.32974</td>\n",
       "      <td>19.99461</td>\n",
       "      <td>Piso</td>\n",
       "      <td>Regular</td>\n",
       "    </tr>\n",
       "    <tr>\n",
       "      <th>4</th>\n",
       "      <td>Base</td>\n",
       "      <td>2.73697</td>\n",
       "      <td></td>\n",
       "      <td>Sotano</td>\n",
       "      <td>Regular</td>\n",
       "    </tr>\n",
       "  </tbody>\n",
       "</table>\n",
       "</div>"
      ],
      "text/plain": [
       "    Story      Mass  1.5 Mass story_type is_regular\n",
       "0  Story4   0.76938               Azotea    Regular\n",
       "1  Story3   9.56556  14.34834       Piso    Regular\n",
       "2  Story2  12.89374  19.34061       Piso    Regular\n",
       "3  Story1  13.32974  19.99461       Piso    Regular\n",
       "4    Base   2.73697               Sotano    Regular"
      ]
     },
     "execution_count": 22,
     "metadata": {},
     "output_type": "execute_result"
    }
   ],
   "source": [
    "sismo.tables.rev_masa_table"
   ]
  },
  {
   "cell_type": "markdown",
   "metadata": {},
   "source": [
    "## Revisión de torsión"
   ]
  },
  {
   "cell_type": "code",
   "execution_count": 23,
   "metadata": {},
   "outputs": [
    {
     "data": {
      "application/vnd.jupyter.widget-view+json": {
       "model_id": "62aae7c7dbd34e11ad1a5f59628319c8",
       "version_major": 2,
       "version_minor": 0
      },
      "text/plain": [
       "Dropdown(description='Filtro', options=('SDx Max', 'SDy Max', 'Sx ', 'Sy ', 'sin filtro'), style=DescriptionSt…"
      ]
     },
     "metadata": {},
     "output_type": "display_data"
    },
    {
     "data": {
      "text/html": [
       "<div>\n",
       "<style scoped>\n",
       "    .dataframe tbody tr th:only-of-type {\n",
       "        vertical-align: middle;\n",
       "    }\n",
       "\n",
       "    .dataframe tbody tr th {\n",
       "        vertical-align: top;\n",
       "    }\n",
       "\n",
       "    .dataframe thead th {\n",
       "        text-align: right;\n",
       "    }\n",
       "</style>\n",
       "<table border=\"1\" class=\"dataframe\">\n",
       "  <thead>\n",
       "    <tr style=\"text-align: right;\">\n",
       "      <th></th>\n",
       "      <th>Story</th>\n",
       "      <th>OutputCase</th>\n",
       "      <th>Direction</th>\n",
       "      <th>Max Drift</th>\n",
       "      <th>Avg Drift</th>\n",
       "      <th>Ratio</th>\n",
       "      <th>Height</th>\n",
       "      <th>Drifts</th>\n",
       "      <th>Drift &lt; Dmax/2</th>\n",
       "      <th>tor_reg</th>\n",
       "    </tr>\n",
       "  </thead>\n",
       "  <tbody>\n",
       "    <tr>\n",
       "      <th>0</th>\n",
       "      <td>Story4</td>\n",
       "      <td>SDx Max</td>\n",
       "      <td>X</td>\n",
       "      <td>0.003045</td>\n",
       "      <td>0.003029</td>\n",
       "      <td>1.005</td>\n",
       "      <td>2.3</td>\n",
       "      <td>0.021315</td>\n",
       "      <td>False</td>\n",
       "      <td>Regular</td>\n",
       "    </tr>\n",
       "    <tr>\n",
       "      <th>5</th>\n",
       "      <td>Story3</td>\n",
       "      <td>SDx Max</td>\n",
       "      <td>X</td>\n",
       "      <td>0.003497</td>\n",
       "      <td>0.003316</td>\n",
       "      <td>1.055</td>\n",
       "      <td>3</td>\n",
       "      <td>0.024479</td>\n",
       "      <td>False</td>\n",
       "      <td>Regular</td>\n",
       "    </tr>\n",
       "    <tr>\n",
       "      <th>10</th>\n",
       "      <td>Story2</td>\n",
       "      <td>SDx Max</td>\n",
       "      <td>X</td>\n",
       "      <td>0.003958</td>\n",
       "      <td>0.003565</td>\n",
       "      <td>1.11</td>\n",
       "      <td>3</td>\n",
       "      <td>0.027706</td>\n",
       "      <td>False</td>\n",
       "      <td>Regular</td>\n",
       "    </tr>\n",
       "    <tr>\n",
       "      <th>15</th>\n",
       "      <td>Story1</td>\n",
       "      <td>SDx Max</td>\n",
       "      <td>X</td>\n",
       "      <td>0.003226</td>\n",
       "      <td>0.002729</td>\n",
       "      <td>1.182</td>\n",
       "      <td>3.3</td>\n",
       "      <td>0.022582</td>\n",
       "      <td>False</td>\n",
       "      <td>Regular</td>\n",
       "    </tr>\n",
       "  </tbody>\n",
       "</table>\n",
       "</div>"
      ],
      "text/plain": [
       "     Story OutputCase Direction Max Drift Avg Drift  Ratio Height    Drifts  \\\n",
       "0   Story4    SDx Max         X  0.003045  0.003029  1.005    2.3  0.021315   \n",
       "5   Story3    SDx Max         X  0.003497  0.003316  1.055      3  0.024479   \n",
       "10  Story2    SDx Max         X  0.003958  0.003565   1.11      3  0.027706   \n",
       "15  Story1    SDx Max         X  0.003226  0.002729  1.182    3.3  0.022582   \n",
       "\n",
       "    Drift < Dmax/2  tor_reg  \n",
       "0            False  Regular  \n",
       "5            False  Regular  \n",
       "10           False  Regular  \n",
       "15           False  Regular  "
      ]
     },
     "metadata": {},
     "output_type": "display_data"
    }
   ],
   "source": [
    "sismo.show_table(sismo.tables.torsion_table)"
   ]
  },
  {
   "cell_type": "markdown",
   "metadata": {},
   "source": [
    "## Derivas"
   ]
  },
  {
   "cell_type": "code",
   "execution_count": 24,
   "metadata": {},
   "outputs": [
    {
     "data": {
      "application/vnd.jupyter.widget-view+json": {
       "model_id": "2421a05036664fd2bde81a5cd164bca8",
       "version_major": 2,
       "version_minor": 0
      },
      "text/plain": [
       "Dropdown(description='Filtro', options=('SDx Max', 'SDy Max', 'Sx ', 'Sy ', 'sin filtro'), style=DescriptionSt…"
      ]
     },
     "metadata": {},
     "output_type": "display_data"
    },
    {
     "data": {
      "text/html": [
       "<div>\n",
       "<style scoped>\n",
       "    .dataframe tbody tr th:only-of-type {\n",
       "        vertical-align: middle;\n",
       "    }\n",
       "\n",
       "    .dataframe tbody tr th {\n",
       "        vertical-align: top;\n",
       "    }\n",
       "\n",
       "    .dataframe thead th {\n",
       "        text-align: right;\n",
       "    }\n",
       "</style>\n",
       "<table border=\"1\" class=\"dataframe\">\n",
       "  <thead>\n",
       "    <tr style=\"text-align: right;\">\n",
       "      <th></th>\n",
       "      <th>Story</th>\n",
       "      <th>OutputCase</th>\n",
       "      <th>Direction</th>\n",
       "      <th>Drifts</th>\n",
       "      <th>Drift_Check</th>\n",
       "    </tr>\n",
       "  </thead>\n",
       "  <tbody>\n",
       "    <tr>\n",
       "      <th>0</th>\n",
       "      <td>Story4</td>\n",
       "      <td>SDx Max</td>\n",
       "      <td>X</td>\n",
       "      <td>0.021315</td>\n",
       "      <td>No Cumple</td>\n",
       "    </tr>\n",
       "    <tr>\n",
       "      <th>5</th>\n",
       "      <td>Story3</td>\n",
       "      <td>SDx Max</td>\n",
       "      <td>X</td>\n",
       "      <td>0.024479</td>\n",
       "      <td>No Cumple</td>\n",
       "    </tr>\n",
       "    <tr>\n",
       "      <th>10</th>\n",
       "      <td>Story2</td>\n",
       "      <td>SDx Max</td>\n",
       "      <td>X</td>\n",
       "      <td>0.027706</td>\n",
       "      <td>No Cumple</td>\n",
       "    </tr>\n",
       "    <tr>\n",
       "      <th>15</th>\n",
       "      <td>Story1</td>\n",
       "      <td>SDx Max</td>\n",
       "      <td>X</td>\n",
       "      <td>0.022582</td>\n",
       "      <td>No Cumple</td>\n",
       "    </tr>\n",
       "  </tbody>\n",
       "</table>\n",
       "</div>"
      ],
      "text/plain": [
       "     Story OutputCase Direction    Drifts Drift_Check\n",
       "0   Story4    SDx Max         X  0.021315   No Cumple\n",
       "5   Story3    SDx Max         X  0.024479   No Cumple\n",
       "10  Story2    SDx Max         X  0.027706   No Cumple\n",
       "15  Story1    SDx Max         X  0.022582   No Cumple"
      ]
     },
     "metadata": {},
     "output_type": "display_data"
    }
   ],
   "source": [
    "sismo.show_table(sismo.tables.drift_table)"
   ]
  },
  {
   "cell_type": "markdown",
   "metadata": {},
   "source": [
    "# Fuerza Cortante Mínima"
   ]
  },
  {
   "cell_type": "code",
   "execution_count": 25,
   "metadata": {},
   "outputs": [
    {
     "data": {
      "text/html": [
       "<style type=\"text/css\">\n",
       "</style>\n",
       "<table id=\"T_ec27c\">\n",
       "  <thead>\n",
       "  </thead>\n",
       "  <tbody>\n",
       "    <tr>\n",
       "      <td id=\"T_ec27c_row0_col0\" class=\"data row0 col0\" ></td>\n",
       "      <td id=\"T_ec27c_row0_col1\" class=\"data row0 col1\" >X</td>\n",
       "      <td id=\"T_ec27c_row0_col2\" class=\"data row0 col2\" >Y</td>\n",
       "    </tr>\n",
       "    <tr>\n",
       "      <td id=\"T_ec27c_row1_col0\" class=\"data row1 col0\" >V din (Ton)</td>\n",
       "      <td id=\"T_ec27c_row1_col1\" class=\"data row1 col1\" >114.666100</td>\n",
       "      <td id=\"T_ec27c_row1_col2\" class=\"data row1 col2\" >113.995200</td>\n",
       "    </tr>\n",
       "    <tr>\n",
       "      <td id=\"T_ec27c_row2_col0\" class=\"data row2 col0\" >V est (Ton)</td>\n",
       "      <td id=\"T_ec27c_row2_col1\" class=\"data row2 col1\" >-141.183500</td>\n",
       "      <td id=\"T_ec27c_row2_col2\" class=\"data row2 col2\" >-141.183500</td>\n",
       "    </tr>\n",
       "    <tr>\n",
       "      <td id=\"T_ec27c_row3_col0\" class=\"data row3 col0\" >% min</td>\n",
       "      <td id=\"T_ec27c_row3_col1\" class=\"data row3 col1\" >80</td>\n",
       "      <td id=\"T_ec27c_row3_col2\" class=\"data row3 col2\" >80</td>\n",
       "    </tr>\n",
       "    <tr>\n",
       "      <td id=\"T_ec27c_row4_col0\" class=\"data row4 col0\" >%</td>\n",
       "      <td id=\"T_ec27c_row4_col1\" class=\"data row4 col1\" >81.220000</td>\n",
       "      <td id=\"T_ec27c_row4_col2\" class=\"data row4 col2\" >80.740000</td>\n",
       "    </tr>\n",
       "    <tr>\n",
       "      <td id=\"T_ec27c_row5_col0\" class=\"data row5 col0\" >F.E.</td>\n",
       "      <td id=\"T_ec27c_row5_col1\" class=\"data row5 col1\" >1</td>\n",
       "      <td id=\"T_ec27c_row5_col2\" class=\"data row5 col2\" >1</td>\n",
       "    </tr>\n",
       "  </tbody>\n",
       "</table>\n"
      ],
      "text/plain": [
       "<pandas.io.formats.style.Styler at 0x204980d6c70>"
      ]
     },
     "execution_count": 25,
     "metadata": {},
     "output_type": "execute_result"
    }
   ],
   "source": [
    "sismo.tables.shear_table.style.hide(axis='index').hide(axis='columns')"
   ]
  },
  {
   "cell_type": "markdown",
   "metadata": {},
   "source": [
    "# Generación de reporte"
   ]
  },
  {
   "cell_type": "code",
   "execution_count": 26,
   "metadata": {},
   "outputs": [
    {
     "ename": "TypeError",
     "evalue": "factor_zona() missing 1 required positional argument: 'zona'",
     "output_type": "error",
     "traceback": [
      "\u001b[1;31m---------------------------------------------------------------------------\u001b[0m",
      "\u001b[1;31mTypeError\u001b[0m                                 Traceback (most recent call last)",
      "Cell \u001b[1;32mIn[26], line 1\u001b[0m\n\u001b[1;32m----> 1\u001b[0m \u001b[43msismo\u001b[49m\u001b[38;5;241;43m.\u001b[39;49m\u001b[43mgenerate_memoria\u001b[49m\u001b[43m(\u001b[49m\u001b[43m)\u001b[49m\n",
      "File \u001b[1;32mD:\\CARPETAS W10\\Escritorio\\GITHUB\\automatizacion_estructural\\lib\\sismo_utils.py:518\u001b[0m, in \u001b[0;36mSismo_e30.generate_memoria\u001b[1;34m(self)\u001b[0m\n\u001b[0;32m    516\u001b[0m doc\u001b[38;5;241m.\u001b[39mpreamble\u001b[38;5;241m.\u001b[39mappend(NoEscape(\u001b[38;5;124mr\u001b[39m\u001b[38;5;124m'\u001b[39m\u001b[38;5;124m\\\u001b[39m\u001b[38;5;124mgraphicspath\u001b[39m\u001b[38;5;124m{\u001b[39m\u001b[38;5;124m \u001b[39m\u001b[38;5;124m{\u001b[39m\u001b[38;5;132;01m%s\u001b[39;00m\u001b[38;5;124m/} }\u001b[39m\u001b[38;5;124m'\u001b[39m\u001b[38;5;241m%\u001b[39mos\u001b[38;5;241m.\u001b[39mgetcwd()\u001b[38;5;241m.\u001b[39mreplace(\u001b[38;5;124m'\u001b[39m\u001b[38;5;130;01m\\\\\u001b[39;00m\u001b[38;5;124m'\u001b[39m,\u001b[38;5;124m'\u001b[39m\u001b[38;5;124m/\u001b[39m\u001b[38;5;124m'\u001b[39m)))\n\u001b[0;32m    517\u001b[0m sec \u001b[38;5;241m=\u001b[39m Section(\u001b[38;5;124m'\u001b[39m\u001b[38;5;124mAnálisis Sísmico\u001b[39m\u001b[38;5;124m'\u001b[39m)\n\u001b[1;32m--> 518\u001b[0m f_zona \u001b[38;5;241m=\u001b[39m \u001b[43msmem\u001b[49m\u001b[38;5;241;43m.\u001b[39;49m\u001b[43mfactor_zona\u001b[49m\u001b[43m(\u001b[49m\u001b[43mzona\u001b[49m\u001b[43m,\u001b[49m\u001b[43m \u001b[49m\u001b[43mo_type\u001b[49m\u001b[38;5;241;43m=\u001b[39;49m\u001b[43mSubsection\u001b[49m\u001b[43m)\u001b[49m\n\u001b[0;32m    519\u001b[0m f_suelo \u001b[38;5;241m=\u001b[39m smem\u001b[38;5;241m.\u001b[39mfactor_suelo(zona, suelo)\n\u001b[0;32m    520\u001b[0m p_suelo \u001b[38;5;241m=\u001b[39m smem\u001b[38;5;241m.\u001b[39mperiodos_suelo(suelo)   \n",
      "\u001b[1;31mTypeError\u001b[0m: factor_zona() missing 1 required positional argument: 'zona'"
     ]
    }
   ],
   "source": [
    "sismo.generate_memoria()"
   ]
  }
 ],
 "metadata": {
  "kernelspec": {
   "display_name": "Python 3 (ipykernel)",
   "language": "python",
   "name": "python3"
  },
  "language_info": {
   "codemirror_mode": {
    "name": "ipython",
    "version": 3
   },
   "file_extension": ".py",
   "mimetype": "text/x-python",
   "name": "python",
   "nbconvert_exporter": "python",
   "pygments_lexer": "ipython3",
   "version": "3.9.16"
  },
  "toc-showmarkdowntxt": true,
  "vscode": {
   "interpreter": {
    "hash": "bac46d45b902eb1257731b3cec425c94a9ada4fac09ba91d7557c516a1f31c36"
   }
  }
 },
 "nbformat": 4,
 "nbformat_minor": 4
}
