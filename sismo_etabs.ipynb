{
 "cells": [
  {
   "cell_type": "markdown",
   "metadata": {},
   "source": [
    "# Análisis Sísmico"
   ]
  },
  {
   "cell_type": "code",
   "execution_count": 1,
   "metadata": {},
   "outputs": [],
   "source": [
    "#Importar las librerías necesarias\n",
    "%load_ext autoreload\n",
    "%autoreload 2\n",
    "import os\n",
    "import sys\n",
    "import numpy\n",
    "sys.path.append(os.getcwd())\n",
    "from lib import etabs_utils as etb\n",
    "from lib import sismo_utils as sis\n",
    "from lib import notebook_utils as ntb\n",
    "#from mem import sismo_mem as smem\n",
    "from ipywidgets import widgets\n",
    "from IPython.display import display\n"
   ]
  },
  {
   "cell_type": "code",
   "execution_count": 2,
   "metadata": {},
   "outputs": [],
   "source": [
    "_,SapModel = etb.connect_to_etabs()"
   ]
  },
  {
   "cell_type": "code",
   "execution_count": 3,
   "metadata": {},
   "outputs": [],
   "source": [
    "sismo = ntb.Sismo()"
   ]
  },
  {
   "cell_type": "markdown",
   "metadata": {},
   "source": [
    "# Parámetros de Sitio\n",
    "\n",
    "## Zonificación\n",
    "![Factor de Zonifiación](./images/factor_zona.png)"
   ]
  },
  {
   "cell_type": "markdown",
   "metadata": {},
   "source": [
    "## Factor de Suelo\n",
    "![Factor de Suelo](./images/factor_suelo.png)\n"
   ]
  },
  {
   "cell_type": "markdown",
   "metadata": {},
   "source": [
    "## Periodos del suelo\n",
    "![Periodos del Suelo](./images/periodos_suelo.png)"
   ]
  },
  {
   "cell_type": "markdown",
   "metadata": {},
   "source": [
    "## Sistema Estructural\n",
    "![Sistema Estructural](./images/sistemas_estructurales.png)"
   ]
  },
  {
   "cell_type": "markdown",
   "metadata": {},
   "source": [
    "## Factor de Amplificación sísmica\n",
    "![Factor de Amplificacion Sísmica](./images/amplificacion_sismica.png)"
   ]
  },
  {
   "cell_type": "markdown",
   "metadata": {},
   "source": [
    "## Factor de Importancia\n",
    "![Factor de Importancia](./images/factor_importancia.png)"
   ]
  },
  {
   "cell_type": "code",
   "execution_count": 4,
   "metadata": {},
   "outputs": [
    {
     "data": {
      "application/vnd.jupyter.widget-view+json": {
       "model_id": "873ed74fcf9b441db63b8f22f9e91ccb",
       "version_major": 2,
       "version_minor": 0
      },
      "text/plain": [
       "VBox(children=(Dropdown(description='Departamento ', options=('LORETO', 'UCAYALI', 'MADRE DE DIOS', 'PUNO', 'A…"
      ]
     },
     "execution_count": 4,
     "metadata": {},
     "output_type": "execute_result"
    }
   ],
   "source": [
    "sismo.ubicacion()"
   ]
  },
  {
   "cell_type": "code",
   "execution_count": 5,
   "metadata": {},
   "outputs": [
    {
     "data": {
      "application/vnd.jupyter.widget-view+json": {
       "model_id": "1c9d94a74c1c4c149c369dda9bc0f0e2",
       "version_major": 2,
       "version_minor": 0
      },
      "text/plain": [
       "VBox(children=(Dropdown(description='Factor Zona', index=3, options=(1, 2, 3, 4), style=DescriptionStyle(descr…"
      ]
     },
     "metadata": {},
     "output_type": "display_data"
    }
   ],
   "source": [
    "sismo.parametros_e30()"
   ]
  },
  {
   "cell_type": "markdown",
   "metadata": {},
   "source": [
    "# Irregularidades"
   ]
  },
  {
   "cell_type": "code",
   "execution_count": 6,
   "metadata": {},
   "outputs": [
    {
     "data": {
      "application/vnd.jupyter.widget-view+json": {
       "model_id": "74261322f83143d6be3caafebfd4c86a",
       "version_major": 2,
       "version_minor": 0
      },
      "text/plain": [
       "HBox(children=(VBox(children=(HTML(value='<b>Irregularidad en Altura</b>'), Checkbox(value=False, description=…"
      ]
     },
     "execution_count": 6,
     "metadata": {},
     "output_type": "execute_result"
    }
   ],
   "source": [
    "sismo.irregularidades_e30()"
   ]
  },
  {
   "cell_type": "markdown",
   "metadata": {},
   "source": [
    "# Parámetros Sísmicos"
   ]
  },
  {
   "cell_type": "code",
   "execution_count": 7,
   "metadata": {},
   "outputs": [
    {
     "name": "stdout",
     "output_type": "stream",
     "text": [
      "\n",
      "\u001b[1m Parámetros de sitio:\u001b[0m\n",
      "Factor de zona: \n",
      "    Z=0.45\n",
      "Factor de Importancia: \n",
      "    U=1.00\n",
      "Factor de Suelo: \n",
      "    S=1.05\n",
      "Periodos del Suelo: \n",
      "    Tp=0.60\n",
      "    Tl=2.00\n",
      "Factor Básico de Reducción:\n",
      "    Rox=7.00\n",
      "    Roy=7.00\n",
      "Irregularidad en planta:\n",
      "    Ip=1.00\n",
      "Irregularidad en altura:\n",
      "    Ia=1.00\n",
      "Factor de Reducción:\n",
      "    Rx=7.00\n",
      "    Ry=7.00\n",
      "\n"
     ]
    }
   ],
   "source": [
    "sismo.show_params()"
   ]
  },
  {
   "cell_type": "markdown",
   "metadata": {},
   "source": [
    "# Cargas Sísmicas"
   ]
  },
  {
   "cell_type": "code",
   "execution_count": 8,
   "metadata": {},
   "outputs": [
    {
     "data": {
      "application/vnd.jupyter.widget-view+json": {
       "model_id": "41d3a2d242054720aa82b121d6efefd2",
       "version_major": 2,
       "version_minor": 0
      },
      "text/plain": [
       "HBox(children=(VBox(children=(HTML(value='<b>Dirección X</b>'), Dropdown(description='Sismo Estatico en X', in…"
      ]
     },
     "execution_count": 8,
     "metadata": {},
     "output_type": "execute_result"
    }
   ],
   "source": [
    "sismo.select_loads(SapModel)"
   ]
  },
  {
   "cell_type": "markdown",
   "metadata": {},
   "source": [
    "# Selección del Piso Base"
   ]
  },
  {
   "cell_type": "code",
   "execution_count": 9,
   "metadata": {},
   "outputs": [
    {
     "data": {
      "application/vnd.jupyter.widget-view+json": {
       "model_id": "53c0931dbb9d463699c3b4422553a6bc",
       "version_major": 2,
       "version_minor": 0
      },
      "text/plain": [
       "Dropdown(description='Piso Base', options=('Story1', 'Story2', 'Story3'), style=DescriptionStyle(description_w…"
      ]
     },
     "execution_count": 9,
     "metadata": {},
     "output_type": "execute_result"
    }
   ],
   "source": [
    "sismo.select_base_story(SapModel)"
   ]
  },
  {
   "cell_type": "markdown",
   "metadata": {},
   "source": [
    "# Periodos Modales"
   ]
  },
  {
   "cell_type": "code",
   "execution_count": 10,
   "metadata": {},
   "outputs": [
    {
     "name": "stdout",
     "output_type": "stream",
     "text": [
      "\n",
      "Análisis Modal:\n",
      "Masa Participativa X: 1.00\n",
      "Masa Participativa Y: 1.00\n",
      "Periodo y Masa Participativa X: Tx=0.353, Ux=0.863\n",
      "Periodo y Masa Participativa Y: Ty=0.267, Uy=0.871\n"
     ]
    },
    {
     "data": {
      "text/html": [
       "<div>\n",
       "<style scoped>\n",
       "    .dataframe tbody tr th:only-of-type {\n",
       "        vertical-align: middle;\n",
       "    }\n",
       "\n",
       "    .dataframe tbody tr th {\n",
       "        vertical-align: top;\n",
       "    }\n",
       "\n",
       "    .dataframe thead th {\n",
       "        text-align: right;\n",
       "    }\n",
       "</style>\n",
       "<table border=\"1\" class=\"dataframe\">\n",
       "  <thead>\n",
       "    <tr style=\"text-align: right;\">\n",
       "      <th></th>\n",
       "      <th>Mode</th>\n",
       "      <th>Period</th>\n",
       "      <th>UX</th>\n",
       "      <th>UY</th>\n",
       "      <th>RZ</th>\n",
       "      <th>SumUX</th>\n",
       "      <th>SumUY</th>\n",
       "      <th>SumRZ</th>\n",
       "    </tr>\n",
       "  </thead>\n",
       "  <tbody>\n",
       "    <tr>\n",
       "      <th>0</th>\n",
       "      <td>1</td>\n",
       "      <td>0.353</td>\n",
       "      <td>8.632000e-01</td>\n",
       "      <td>0.000000</td>\n",
       "      <td>1.74E-06</td>\n",
       "      <td>0.8632</td>\n",
       "      <td>0</td>\n",
       "      <td>1.74E-06</td>\n",
       "    </tr>\n",
       "    <tr>\n",
       "      <th>1</th>\n",
       "      <td>2</td>\n",
       "      <td>0.267</td>\n",
       "      <td>0.000000e+00</td>\n",
       "      <td>0.871100</td>\n",
       "      <td>1.747E-06</td>\n",
       "      <td>0.8632</td>\n",
       "      <td>0.8711</td>\n",
       "      <td>3.486E-06</td>\n",
       "    </tr>\n",
       "    <tr>\n",
       "      <th>2</th>\n",
       "      <td>3</td>\n",
       "      <td>0.221</td>\n",
       "      <td>9.558000e-06</td>\n",
       "      <td>0.000002</td>\n",
       "      <td>0.8493</td>\n",
       "      <td>0.8632</td>\n",
       "      <td>0.8711</td>\n",
       "      <td>0.8493</td>\n",
       "    </tr>\n",
       "    <tr>\n",
       "      <th>3</th>\n",
       "      <td>4</td>\n",
       "      <td>0.099</td>\n",
       "      <td>1.195000e-01</td>\n",
       "      <td>0.000000</td>\n",
       "      <td>3.174E-06</td>\n",
       "      <td>0.9828</td>\n",
       "      <td>0.8711</td>\n",
       "      <td>0.8493</td>\n",
       "    </tr>\n",
       "    <tr>\n",
       "      <th>4</th>\n",
       "      <td>5</td>\n",
       "      <td>0.075</td>\n",
       "      <td>0.000000e+00</td>\n",
       "      <td>0.112600</td>\n",
       "      <td>0</td>\n",
       "      <td>0.9828</td>\n",
       "      <td>0.9837</td>\n",
       "      <td>0.8493</td>\n",
       "    </tr>\n",
       "    <tr>\n",
       "      <th>5</th>\n",
       "      <td>6</td>\n",
       "      <td>0.061</td>\n",
       "      <td>9.722000e-07</td>\n",
       "      <td>0.000000</td>\n",
       "      <td>0.1323</td>\n",
       "      <td>0.9828</td>\n",
       "      <td>0.9837</td>\n",
       "      <td>0.9816</td>\n",
       "    </tr>\n",
       "    <tr>\n",
       "      <th>6</th>\n",
       "      <td>7</td>\n",
       "      <td>0.047</td>\n",
       "      <td>1.720000e-02</td>\n",
       "      <td>0.000000</td>\n",
       "      <td>0</td>\n",
       "      <td>1</td>\n",
       "      <td>0.9837</td>\n",
       "      <td>0.9816</td>\n",
       "    </tr>\n",
       "    <tr>\n",
       "      <th>7</th>\n",
       "      <td>8</td>\n",
       "      <td>0.036</td>\n",
       "      <td>0.000000e+00</td>\n",
       "      <td>0.016300</td>\n",
       "      <td>0</td>\n",
       "      <td>1</td>\n",
       "      <td>1</td>\n",
       "      <td>0.9816</td>\n",
       "    </tr>\n",
       "    <tr>\n",
       "      <th>8</th>\n",
       "      <td>9</td>\n",
       "      <td>0.028</td>\n",
       "      <td>2.530000e-06</td>\n",
       "      <td>0.000000</td>\n",
       "      <td>0.0184</td>\n",
       "      <td>1</td>\n",
       "      <td>1</td>\n",
       "      <td>1</td>\n",
       "    </tr>\n",
       "  </tbody>\n",
       "</table>\n",
       "</div>"
      ],
      "text/plain": [
       "  Mode Period            UX        UY         RZ   SumUX   SumUY      SumRZ\n",
       "0    1  0.353  8.632000e-01  0.000000   1.74E-06  0.8632       0   1.74E-06\n",
       "1    2  0.267  0.000000e+00  0.871100  1.747E-06  0.8632  0.8711  3.486E-06\n",
       "2    3  0.221  9.558000e-06  0.000002     0.8493  0.8632  0.8711     0.8493\n",
       "3    4  0.099  1.195000e-01  0.000000  3.174E-06  0.9828  0.8711     0.8493\n",
       "4    5  0.075  0.000000e+00  0.112600          0  0.9828  0.9837     0.8493\n",
       "5    6  0.061  9.722000e-07  0.000000     0.1323  0.9828  0.9837     0.9816\n",
       "6    7  0.047  1.720000e-02  0.000000          0       1  0.9837     0.9816\n",
       "7    8  0.036  0.000000e+00  0.016300          0       1       1     0.9816\n",
       "8    9  0.028  2.530000e-06  0.000000     0.0184       1       1          1"
      ]
     },
     "metadata": {},
     "output_type": "display_data"
    }
   ],
   "source": [
    "sismo.ana_modal(SapModel,report=True)"
   ]
  },
  {
   "cell_type": "markdown",
   "metadata": {},
   "source": [
    "# Análisis Estático"
   ]
  },
  {
   "cell_type": "code",
   "execution_count": 11,
   "metadata": {},
   "outputs": [
    {
     "name": "stdout",
     "output_type": "stream",
     "text": [
      "Factor de Reduccion con Irregularidades en X: R=7.0\n",
      "Factor de Reduccion con Irregularidades en Y: R=7.0\n",
      "C en X: 2.50\n",
      "C en Y: 2.50\n",
      "\n",
      "Coeficiente de sismo estático X: 0.169\n",
      "Coeficiente de sismo estático Y: 0.169\n",
      "Exponente de altura X: 1.00\n",
      "Exponente de altura Y: 1.00\n",
      "Fuerza Cortante en X: 59.15\n",
      "Fuerza Cortante en Y: 59.15\n"
     ]
    },
    {
     "data": {
      "text/html": [
       "<div>\n",
       "<style scoped>\n",
       "    .dataframe tbody tr th:only-of-type {\n",
       "        vertical-align: middle;\n",
       "    }\n",
       "\n",
       "    .dataframe tbody tr th {\n",
       "        vertical-align: top;\n",
       "    }\n",
       "\n",
       "    .dataframe thead th {\n",
       "        text-align: right;\n",
       "    }\n",
       "</style>\n",
       "<table border=\"1\" class=\"dataframe\">\n",
       "  <thead>\n",
       "    <tr style=\"text-align: right;\">\n",
       "      <th></th>\n",
       "      <th>Story</th>\n",
       "      <th>Weight</th>\n",
       "      <th>Height</th>\n",
       "      <th>H^kx</th>\n",
       "      <th>H^ky</th>\n",
       "      <th>PxHx</th>\n",
       "      <th>PxHy</th>\n",
       "      <th>ax</th>\n",
       "      <th>ay</th>\n",
       "      <th>vx</th>\n",
       "      <th>vy</th>\n",
       "    </tr>\n",
       "  </thead>\n",
       "  <tbody>\n",
       "    <tr>\n",
       "      <th>0</th>\n",
       "      <td>Story3</td>\n",
       "      <td>87.789</td>\n",
       "      <td>12.2</td>\n",
       "      <td>12.2</td>\n",
       "      <td>12.2</td>\n",
       "      <td>1071.021</td>\n",
       "      <td>1071.021</td>\n",
       "      <td>0.377</td>\n",
       "      <td>0.377</td>\n",
       "      <td>22.275</td>\n",
       "      <td>22.275</td>\n",
       "    </tr>\n",
       "    <tr>\n",
       "      <th>1</th>\n",
       "      <td>Story2</td>\n",
       "      <td>127.640</td>\n",
       "      <td>8.6</td>\n",
       "      <td>8.6</td>\n",
       "      <td>8.6</td>\n",
       "      <td>1097.705</td>\n",
       "      <td>1097.705</td>\n",
       "      <td>0.386</td>\n",
       "      <td>0.386</td>\n",
       "      <td>22.829</td>\n",
       "      <td>22.829</td>\n",
       "    </tr>\n",
       "    <tr>\n",
       "      <th>2</th>\n",
       "      <td>Story1</td>\n",
       "      <td>135.116</td>\n",
       "      <td>5.0</td>\n",
       "      <td>5.0</td>\n",
       "      <td>5.0</td>\n",
       "      <td>675.578</td>\n",
       "      <td>675.578</td>\n",
       "      <td>0.238</td>\n",
       "      <td>0.238</td>\n",
       "      <td>14.050</td>\n",
       "      <td>14.050</td>\n",
       "    </tr>\n",
       "  </tbody>\n",
       "</table>\n",
       "</div>"
      ],
      "text/plain": [
       "    Story   Weight  Height  H^kx  H^ky      PxHx      PxHy     ax     ay  \\\n",
       "0  Story3   87.789    12.2  12.2  12.2  1071.021  1071.021  0.377  0.377   \n",
       "1  Story2  127.640     8.6   8.6   8.6  1097.705  1097.705  0.386  0.386   \n",
       "2  Story1  135.116     5.0   5.0   5.0   675.578   675.578  0.238  0.238   \n",
       "\n",
       "       vx      vy  \n",
       "0  22.275  22.275  \n",
       "1  22.829  22.829  \n",
       "2  14.050  14.050  "
      ]
     },
     "metadata": {},
     "output_type": "display_data"
    }
   ],
   "source": [
    "sismo.sismo_estatico(SapModel,report=True) "
   ]
  },
  {
   "cell_type": "markdown",
   "metadata": {},
   "source": [
    "# Espectro dinámico"
   ]
  },
  {
   "cell_type": "code",
   "execution_count": 159,
   "metadata": {},
   "outputs": [
    {
     "data": {
      "image/png": "[encoded data removed]",
      "text/plain": [
       "<Figure size 432x288 with 1 Axes>"
      ]
     },
     "metadata": {
      "needs_background": "light"
     },
     "output_type": "display_data"
    }
   ],
   "source": [
    "sismo.dinamic_spectrum(report=True)"
   ]
  },
  {
   "cell_type": "markdown",
   "metadata": {},
   "source": [
    "# Fuerza Cortante Mínima"
   ]
  },
  {
   "cell_type": "code",
   "execution_count": 160,
   "metadata": {},
   "outputs": [
    {
     "data": {
      "text/html": [
       "<style type=\"text/css\">\n",
       "</style>\n",
       "<table id=\"T_44b7d\">\n",
       "  <thead>\n",
       "  </thead>\n",
       "  <tbody>\n",
       "    <tr>\n",
       "      <td id=\"T_44b7d_row0_col0\" class=\"data row0 col0\" ></td>\n",
       "      <td id=\"T_44b7d_row0_col1\" class=\"data row0 col1\" >X</td>\n",
       "      <td id=\"T_44b7d_row0_col2\" class=\"data row0 col2\" >Y</td>\n",
       "    </tr>\n",
       "    <tr>\n",
       "      <td id=\"T_44b7d_row1_col0\" class=\"data row1 col0\" >V din (Ton)</td>\n",
       "      <td id=\"T_44b7d_row1_col1\" class=\"data row1 col1\" >90.325300</td>\n",
       "      <td id=\"T_44b7d_row1_col2\" class=\"data row1 col2\" >78.021000</td>\n",
       "    </tr>\n",
       "    <tr>\n",
       "      <td id=\"T_44b7d_row2_col0\" class=\"data row2 col0\" >V est (Ton)</td>\n",
       "      <td id=\"T_44b7d_row2_col1\" class=\"data row2 col1\" >-59.245900</td>\n",
       "      <td id=\"T_44b7d_row2_col2\" class=\"data row2 col2\" >-59.245900</td>\n",
       "    </tr>\n",
       "    <tr>\n",
       "      <td id=\"T_44b7d_row3_col0\" class=\"data row3 col0\" >% min</td>\n",
       "      <td id=\"T_44b7d_row3_col1\" class=\"data row3 col1\" >80</td>\n",
       "      <td id=\"T_44b7d_row3_col2\" class=\"data row3 col2\" >80</td>\n",
       "    </tr>\n",
       "    <tr>\n",
       "      <td id=\"T_44b7d_row4_col0\" class=\"data row4 col0\" >%</td>\n",
       "      <td id=\"T_44b7d_row4_col1\" class=\"data row4 col1\" >152.460000</td>\n",
       "      <td id=\"T_44b7d_row4_col2\" class=\"data row4 col2\" >131.690000</td>\n",
       "    </tr>\n",
       "    <tr>\n",
       "      <td id=\"T_44b7d_row5_col0\" class=\"data row5 col0\" >F.E.</td>\n",
       "      <td id=\"T_44b7d_row5_col1\" class=\"data row5 col1\" >1</td>\n",
       "      <td id=\"T_44b7d_row5_col2\" class=\"data row5 col2\" >1</td>\n",
       "    </tr>\n",
       "  </tbody>\n",
       "</table>\n"
      ],
      "text/plain": [
       "<pandas.io.formats.style.Styler at 0x233f5cb52a0>"
      ]
     },
     "metadata": {},
     "output_type": "display_data"
    }
   ],
   "source": [
    "sismo.min_shear(SapModel,story=sismo.base_story,report=True)"
   ]
  },
  {
   "cell_type": "markdown",
   "metadata": {},
   "source": [
    "## Revisión por Piso Blando"
   ]
  },
  {
   "cell_type": "code",
   "execution_count": 161,
   "metadata": {},
   "outputs": [
    {
     "data": {
      "application/vnd.jupyter.widget-view+json": {
       "model_id": "cfe964fa2d7d49c8bfa8ffa3859a6f9a",
       "version_major": 2,
       "version_minor": 0
      },
      "text/plain": [
       "Dropdown(description='Filtro', options=('SDy Max', 'Sy', 'SDx Max', 'Sx', 'sin filtro'), style=DescriptionStyl…"
      ]
     },
     "metadata": {},
     "output_type": "display_data"
    },
    {
     "data": {
      "text/html": [
       "<div>\n",
       "<style scoped>\n",
       "    .dataframe tbody tr th:only-of-type {\n",
       "        vertical-align: middle;\n",
       "    }\n",
       "\n",
       "    .dataframe tbody tr th {\n",
       "        vertical-align: top;\n",
       "    }\n",
       "\n",
       "    .dataframe thead th {\n",
       "        text-align: right;\n",
       "    }\n",
       "</style>\n",
       "<table border=\"1\" class=\"dataframe\">\n",
       "  <thead>\n",
       "    <tr style=\"text-align: right;\">\n",
       "      <th></th>\n",
       "      <th>Story</th>\n",
       "      <th>OutputCase</th>\n",
       "      <th>UX</th>\n",
       "      <th>UY</th>\n",
       "      <th>ΔUX</th>\n",
       "      <th>ΔUY</th>\n",
       "      <th>VX</th>\n",
       "      <th>VY</th>\n",
       "      <th>lat_rig(k)</th>\n",
       "      <th>0.7_prev_k</th>\n",
       "      <th>0.8k_prom</th>\n",
       "      <th>is_reg</th>\n",
       "    </tr>\n",
       "  </thead>\n",
       "  <tbody>\n",
       "    <tr>\n",
       "      <th>0</th>\n",
       "      <td>Story3</td>\n",
       "      <td>SDy Max</td>\n",
       "      <td>0.003666</td>\n",
       "      <td>0.00596</td>\n",
       "      <td>0.001057</td>\n",
       "      <td>0.001629</td>\n",
       "      <td>10.9157</td>\n",
       "      <td>30.9145</td>\n",
       "      <td>18977.593616</td>\n",
       "      <td>0.000000</td>\n",
       "      <td>0.0</td>\n",
       "      <td>Regular</td>\n",
       "    </tr>\n",
       "    <tr>\n",
       "      <th>1</th>\n",
       "      <td>Story2</td>\n",
       "      <td>SDy Max</td>\n",
       "      <td>0.002609</td>\n",
       "      <td>0.004331</td>\n",
       "      <td>0.001311</td>\n",
       "      <td>0.002142</td>\n",
       "      <td>21.2111</td>\n",
       "      <td>60.8111</td>\n",
       "      <td>28389.869281</td>\n",
       "      <td>13284.315531</td>\n",
       "      <td>0.0</td>\n",
       "      <td>Regular</td>\n",
       "    </tr>\n",
       "    <tr>\n",
       "      <th>2</th>\n",
       "      <td>Story1</td>\n",
       "      <td>SDy Max</td>\n",
       "      <td>0.001298</td>\n",
       "      <td>0.002189</td>\n",
       "      <td>0.001298</td>\n",
       "      <td>0.002189</td>\n",
       "      <td>27.0976</td>\n",
       "      <td>78.021</td>\n",
       "      <td>35642.302421</td>\n",
       "      <td>19872.908497</td>\n",
       "      <td>0.0</td>\n",
       "      <td>Regular</td>\n",
       "    </tr>\n",
       "  </tbody>\n",
       "</table>\n",
       "</div>"
      ],
      "text/plain": [
       "    Story OutputCase        UX        UY       ΔUX       ΔUY       VX  \\\n",
       "0  Story3    SDy Max  0.003666   0.00596  0.001057  0.001629  10.9157   \n",
       "1  Story2    SDy Max  0.002609  0.004331  0.001311  0.002142  21.2111   \n",
       "2  Story1    SDy Max  0.001298  0.002189  0.001298  0.002189  27.0976   \n",
       "\n",
       "        VY    lat_rig(k)    0.7_prev_k  0.8k_prom   is_reg  \n",
       "0  30.9145  18977.593616      0.000000        0.0  Regular  \n",
       "1  60.8111  28389.869281  13284.315531        0.0  Regular  \n",
       "2   78.021  35642.302421  19872.908497        0.0  Regular  "
      ]
     },
     "metadata": {},
     "output_type": "display_data"
    }
   ],
   "source": [
    "sismo.piso_blando(SapModel,report=True)"
   ]
  },
  {
   "cell_type": "markdown",
   "metadata": {},
   "source": [
    "## Revisión por Irregularidad de Masa"
   ]
  },
  {
   "cell_type": "code",
   "execution_count": 162,
   "metadata": {},
   "outputs": [
    {
     "data": {
      "text/html": [
       "<div>\n",
       "<style scoped>\n",
       "    .dataframe tbody tr th:only-of-type {\n",
       "        vertical-align: middle;\n",
       "    }\n",
       "\n",
       "    .dataframe tbody tr th {\n",
       "        vertical-align: top;\n",
       "    }\n",
       "\n",
       "    .dataframe thead th {\n",
       "        text-align: right;\n",
       "    }\n",
       "</style>\n",
       "<table border=\"1\" class=\"dataframe\">\n",
       "  <thead>\n",
       "    <tr style=\"text-align: right;\">\n",
       "      <th></th>\n",
       "      <th>Story</th>\n",
       "      <th>Mass</th>\n",
       "      <th>1.5 Mass</th>\n",
       "      <th>story_type</th>\n",
       "      <th>is_regular</th>\n",
       "    </tr>\n",
       "  </thead>\n",
       "  <tbody>\n",
       "    <tr>\n",
       "      <th>0</th>\n",
       "      <td>Story3</td>\n",
       "      <td>8.95254</td>\n",
       "      <td></td>\n",
       "      <td>Azotea</td>\n",
       "      <td>Regular</td>\n",
       "    </tr>\n",
       "    <tr>\n",
       "      <th>1</th>\n",
       "      <td>Story2</td>\n",
       "      <td>13.01653</td>\n",
       "      <td>19.524795</td>\n",
       "      <td>Piso</td>\n",
       "      <td>Regular</td>\n",
       "    </tr>\n",
       "    <tr>\n",
       "      <th>2</th>\n",
       "      <td>Story1</td>\n",
       "      <td>13.77887</td>\n",
       "      <td>20.668305</td>\n",
       "      <td>Piso</td>\n",
       "      <td>Regular</td>\n",
       "    </tr>\n",
       "    <tr>\n",
       "      <th>3</th>\n",
       "      <td>Base</td>\n",
       "      <td>2.72264</td>\n",
       "      <td></td>\n",
       "      <td>Sotano</td>\n",
       "      <td>Regular</td>\n",
       "    </tr>\n",
       "  </tbody>\n",
       "</table>\n",
       "</div>"
      ],
      "text/plain": [
       "    Story      Mass   1.5 Mass story_type is_regular\n",
       "0  Story3   8.95254                Azotea    Regular\n",
       "1  Story2  13.01653  19.524795       Piso    Regular\n",
       "2  Story1  13.77887  20.668305       Piso    Regular\n",
       "3    Base   2.72264                Sotano    Regular"
      ]
     },
     "metadata": {},
     "output_type": "display_data"
    }
   ],
   "source": [
    "sismo.irregularidad_masa(SapModel,report=True)"
   ]
  },
  {
   "cell_type": "markdown",
   "metadata": {},
   "source": [
    "## Revisión de torsión"
   ]
  },
  {
   "cell_type": "code",
   "execution_count": 163,
   "metadata": {},
   "outputs": [
    {
     "data": {
      "application/vnd.jupyter.widget-view+json": {
       "model_id": "cc263d95bfea4ba4b411801f682fba8e",
       "version_major": 2,
       "version_minor": 0
      },
      "text/plain": [
       "Dropdown(description='Filtro', options=('Sx ', 'Sy ', 'SDx Max', 'SDy Max', 'sin filtro'), style=DescriptionSt…"
      ]
     },
     "metadata": {},
     "output_type": "display_data"
    },
    {
     "data": {
      "text/html": [
       "<div>\n",
       "<style scoped>\n",
       "    .dataframe tbody tr th:only-of-type {\n",
       "        vertical-align: middle;\n",
       "    }\n",
       "\n",
       "    .dataframe tbody tr th {\n",
       "        vertical-align: top;\n",
       "    }\n",
       "\n",
       "    .dataframe thead th {\n",
       "        text-align: right;\n",
       "    }\n",
       "</style>\n",
       "<table border=\"1\" class=\"dataframe\">\n",
       "  <thead>\n",
       "    <tr style=\"text-align: right;\">\n",
       "      <th></th>\n",
       "      <th>Story</th>\n",
       "      <th>OutputCase</th>\n",
       "      <th>Direction</th>\n",
       "      <th>Max Drift</th>\n",
       "      <th>Avg Drift</th>\n",
       "      <th>Ratio</th>\n",
       "      <th>Height</th>\n",
       "      <th>Drifts</th>\n",
       "      <th>Drift &lt; Dmax/2</th>\n",
       "      <th>tor_reg</th>\n",
       "    </tr>\n",
       "  </thead>\n",
       "  <tbody>\n",
       "    <tr>\n",
       "      <th>0</th>\n",
       "      <td>Story3</td>\n",
       "      <td>Sx</td>\n",
       "      <td>X</td>\n",
       "      <td>0.002473</td>\n",
       "      <td>0.002278</td>\n",
       "      <td>1.086</td>\n",
       "      <td>3.6</td>\n",
       "      <td>0.014838</td>\n",
       "      <td>False</td>\n",
       "      <td>Regular</td>\n",
       "    </tr>\n",
       "    <tr>\n",
       "      <th>6</th>\n",
       "      <td>Story2</td>\n",
       "      <td>Sx</td>\n",
       "      <td>X</td>\n",
       "      <td>0.003055</td>\n",
       "      <td>0.002837</td>\n",
       "      <td>1.077</td>\n",
       "      <td>3.6</td>\n",
       "      <td>0.018330</td>\n",
       "      <td>False</td>\n",
       "      <td>Regular</td>\n",
       "    </tr>\n",
       "    <tr>\n",
       "      <th>12</th>\n",
       "      <td>Story1</td>\n",
       "      <td>Sx</td>\n",
       "      <td>X</td>\n",
       "      <td>0.003025</td>\n",
       "      <td>0.002829</td>\n",
       "      <td>1.069</td>\n",
       "      <td>5</td>\n",
       "      <td>0.018150</td>\n",
       "      <td>False</td>\n",
       "      <td>Regular</td>\n",
       "    </tr>\n",
       "  </tbody>\n",
       "</table>\n",
       "</div>"
      ],
      "text/plain": [
       "     Story OutputCase Direction Max Drift Avg Drift  Ratio Height    Drifts  \\\n",
       "0   Story3        Sx          X  0.002473  0.002278  1.086    3.6  0.014838   \n",
       "6   Story2        Sx          X  0.003055  0.002837  1.077    3.6  0.018330   \n",
       "12  Story1        Sx          X  0.003025  0.002829  1.069      5  0.018150   \n",
       "\n",
       "    Drift < Dmax/2  tor_reg  \n",
       "0            False  Regular  \n",
       "6            False  Regular  \n",
       "12           False  Regular  "
      ]
     },
     "metadata": {},
     "output_type": "display_data"
    }
   ],
   "source": [
    "sismo.irregularidad_torsion(SapModel,report=True)"
   ]
  },
  {
   "cell_type": "markdown",
   "metadata": {},
   "source": [
    "## Derivas"
   ]
  },
  {
   "cell_type": "code",
   "execution_count": 167,
   "metadata": {},
   "outputs": [
    {
     "data": {
      "application/vnd.jupyter.widget-view+json": {
       "model_id": "971aab168eeb4ea7a710dbfab135d84c",
       "version_major": 2,
       "version_minor": 0
      },
      "text/plain": [
       "Dropdown(description='Filtro', options=('Sx ', 'Sy ', 'SDx Max', 'SDy Max', 'sin filtro'), style=DescriptionSt…"
      ]
     },
     "metadata": {},
     "output_type": "display_data"
    },
    {
     "data": {
      "text/html": [
       "<div>\n",
       "<style scoped>\n",
       "    .dataframe tbody tr th:only-of-type {\n",
       "        vertical-align: middle;\n",
       "    }\n",
       "\n",
       "    .dataframe tbody tr th {\n",
       "        vertical-align: top;\n",
       "    }\n",
       "\n",
       "    .dataframe thead th {\n",
       "        text-align: right;\n",
       "    }\n",
       "</style>\n",
       "<table border=\"1\" class=\"dataframe\">\n",
       "  <thead>\n",
       "    <tr style=\"text-align: right;\">\n",
       "      <th></th>\n",
       "      <th>Story</th>\n",
       "      <th>OutputCase</th>\n",
       "      <th>Direction</th>\n",
       "      <th>Height</th>\n",
       "      <th>Drifts</th>\n",
       "      <th>Drift_Check</th>\n",
       "    </tr>\n",
       "  </thead>\n",
       "  <tbody>\n",
       "    <tr>\n",
       "      <th>0</th>\n",
       "      <td>Story3</td>\n",
       "      <td>Sx</td>\n",
       "      <td>X</td>\n",
       "      <td>3.6</td>\n",
       "      <td>0.014838</td>\n",
       "      <td>No Cumple</td>\n",
       "    </tr>\n",
       "    <tr>\n",
       "      <th>6</th>\n",
       "      <td>Story2</td>\n",
       "      <td>Sx</td>\n",
       "      <td>X</td>\n",
       "      <td>3.6</td>\n",
       "      <td>0.018330</td>\n",
       "      <td>No Cumple</td>\n",
       "    </tr>\n",
       "    <tr>\n",
       "      <th>12</th>\n",
       "      <td>Story1</td>\n",
       "      <td>Sx</td>\n",
       "      <td>X</td>\n",
       "      <td>5</td>\n",
       "      <td>0.018150</td>\n",
       "      <td>No Cumple</td>\n",
       "    </tr>\n",
       "  </tbody>\n",
       "</table>\n",
       "</div>"
      ],
      "text/plain": [
       "     Story OutputCase Direction Height    Drifts Drift_Check\n",
       "0   Story3        Sx          X    3.6  0.014838   No Cumple\n",
       "6   Story2        Sx          X    3.6  0.018330   No Cumple\n",
       "12  Story1        Sx          X      5  0.018150   No Cumple"
      ]
     },
     "metadata": {},
     "output_type": "display_data"
    },
    {
     "data": {
      "image/png": "[encoded data removed]",
      "text/plain": [
       "<Figure size 432x288 with 1 Axes>"
      ]
     },
     "metadata": {
      "needs_background": "light"
     },
     "output_type": "display_data"
    }
   ],
   "source": [
    "sismo.derivas(SapModel,report=True)"
   ]
  },
  {
   "cell_type": "markdown",
   "metadata": {},
   "source": [
    "# Desplazamientos Laterales"
   ]
  },
  {
   "cell_type": "code",
   "execution_count": 178,
   "metadata": {},
   "outputs": [
    {
     "data": {
      "application/vnd.jupyter.widget-view+json": {
       "model_id": "64857199431346da8bea78c0948c7b97",
       "version_major": 2,
       "version_minor": 0
      },
      "text/plain": [
       "Dropdown(description='Filtro', options=('Sx ', 'Sy ', 'SDx Max', 'SDy Max', 'sin filtro'), style=DescriptionSt…"
      ]
     },
     "metadata": {},
     "output_type": "display_data"
    },
    {
     "data": {
      "text/html": [
       "<div>\n",
       "<style scoped>\n",
       "    .dataframe tbody tr th:only-of-type {\n",
       "        vertical-align: middle;\n",
       "    }\n",
       "\n",
       "    .dataframe tbody tr th {\n",
       "        vertical-align: top;\n",
       "    }\n",
       "\n",
       "    .dataframe thead th {\n",
       "        text-align: right;\n",
       "    }\n",
       "</style>\n",
       "<table border=\"1\" class=\"dataframe\">\n",
       "  <thead>\n",
       "    <tr style=\"text-align: right;\">\n",
       "      <th></th>\n",
       "      <th>Story</th>\n",
       "      <th>OutputCase</th>\n",
       "      <th>Direction</th>\n",
       "      <th>Maximum</th>\n",
       "      <th>Height</th>\n",
       "    </tr>\n",
       "  </thead>\n",
       "  <tbody>\n",
       "    <tr>\n",
       "      <th>0</th>\n",
       "      <td>Story3</td>\n",
       "      <td>Sx</td>\n",
       "      <td>X</td>\n",
       "      <td>0.008553</td>\n",
       "      <td>3.6</td>\n",
       "    </tr>\n",
       "    <tr>\n",
       "      <th>6</th>\n",
       "      <td>Story2</td>\n",
       "      <td>Sx</td>\n",
       "      <td>X</td>\n",
       "      <td>0.00608</td>\n",
       "      <td>3.6</td>\n",
       "    </tr>\n",
       "    <tr>\n",
       "      <th>12</th>\n",
       "      <td>Story1</td>\n",
       "      <td>Sx</td>\n",
       "      <td>X</td>\n",
       "      <td>0.003025</td>\n",
       "      <td>5</td>\n",
       "    </tr>\n",
       "  </tbody>\n",
       "</table>\n",
       "</div>"
      ],
      "text/plain": [
       "     Story OutputCase Direction   Maximum Height\n",
       "0   Story3        Sx          X  0.008553    3.6\n",
       "6   Story2        Sx          X   0.00608    3.6\n",
       "12  Story1        Sx          X  0.003025      5"
      ]
     },
     "metadata": {},
     "output_type": "display_data"
    },
    {
     "data": {
      "image/png": "[encoded data removed]",
      "text/plain": [
       "<Figure size 432x288 with 1 Axes>"
      ]
     },
     "metadata": {
      "needs_background": "light"
     },
     "output_type": "display_data"
    }
   ],
   "source": [
    "sismo.desplazamientos(SapModel,report=True)"
   ]
  },
  {
   "cell_type": "markdown",
   "metadata": {},
   "source": [
    "# Centro de Masas e Inercias"
   ]
  },
  {
   "cell_type": "code",
   "execution_count": 26,
   "metadata": {},
   "outputs": [
    {
     "data": {
      "text/html": [
       "<div>\n",
       "<style scoped>\n",
       "    .dataframe tbody tr th:only-of-type {\n",
       "        vertical-align: middle;\n",
       "    }\n",
       "\n",
       "    .dataframe tbody tr th {\n",
       "        vertical-align: top;\n",
       "    }\n",
       "\n",
       "    .dataframe thead th {\n",
       "        text-align: right;\n",
       "    }\n",
       "</style>\n",
       "<table border=\"1\" class=\"dataframe\">\n",
       "  <thead>\n",
       "    <tr style=\"text-align: right;\">\n",
       "      <th></th>\n",
       "      <th>Story</th>\n",
       "      <th>XCCM</th>\n",
       "      <th>XCR</th>\n",
       "      <th>YCCM</th>\n",
       "      <th>YCR</th>\n",
       "      <th>DifX</th>\n",
       "      <th>DifY</th>\n",
       "    </tr>\n",
       "  </thead>\n",
       "  <tbody>\n",
       "    <tr>\n",
       "      <th>0</th>\n",
       "      <td>Story3</td>\n",
       "      <td>3.135</td>\n",
       "      <td>3.135</td>\n",
       "      <td>7.415</td>\n",
       "      <td>7.3571</td>\n",
       "      <td>0.0000</td>\n",
       "      <td>0.0579</td>\n",
       "    </tr>\n",
       "    <tr>\n",
       "      <th>1</th>\n",
       "      <td>Story2</td>\n",
       "      <td>3.1397</td>\n",
       "      <td>3.135</td>\n",
       "      <td>7.3457</td>\n",
       "      <td>7.3753</td>\n",
       "      <td>0.0047</td>\n",
       "      <td>-0.0296</td>\n",
       "    </tr>\n",
       "    <tr>\n",
       "      <th>2</th>\n",
       "      <td>Story1</td>\n",
       "      <td>3.1408</td>\n",
       "      <td>3.135</td>\n",
       "      <td>7.3286</td>\n",
       "      <td>7.3975</td>\n",
       "      <td>0.0058</td>\n",
       "      <td>-0.0689</td>\n",
       "    </tr>\n",
       "  </tbody>\n",
       "</table>\n",
       "</div>"
      ],
      "text/plain": [
       "    Story    XCCM    XCR    YCCM     YCR    DifX    DifY\n",
       "0  Story3   3.135  3.135   7.415  7.3571  0.0000  0.0579\n",
       "1  Story2  3.1397  3.135  7.3457  7.3753  0.0047 -0.0296\n",
       "2  Story1  3.1408  3.135  7.3286  7.3975  0.0058 -0.0689"
      ]
     },
     "metadata": {},
     "output_type": "display_data"
    }
   ],
   "source": [
    "#Activar calculate Diaphragm Center of Rigidity en Set Load Cases to Run\n",
    "sismo.centro_masa_inercia(SapModel,report=True)"
   ]
  },
  {
   "cell_type": "markdown",
   "metadata": {},
   "source": [
    "# Generación de reporte"
   ]
  },
  {
   "cell_type": "code",
   "execution_count": null,
   "metadata": {},
   "outputs": [],
   "source": [
    "sismo.generate_memoria()"
   ]
  }
 ],
 "metadata": {
  "kernelspec": {
   "display_name": "Python 3 (ipykernel)",
   "language": "python",
   "name": "python3"
  },
  "language_info": {
   "codemirror_mode": {
    "name": "ipython",
    "version": 3
   },
   "file_extension": ".py",
   "mimetype": "text/x-python",
   "name": "python",
   "nbconvert_exporter": "python",
   "pygments_lexer": "ipython3",
   "version": "3.10.8"
  },
  "toc-showmarkdowntxt": true,
  "vscode": {
   "interpreter": {
    "hash": "bac46d45b902eb1257731b3cec425c94a9ada4fac09ba91d7557c516a1f31c36"
   }
  }
 },
 "nbformat": 4,
 "nbformat_minor": 4
}
