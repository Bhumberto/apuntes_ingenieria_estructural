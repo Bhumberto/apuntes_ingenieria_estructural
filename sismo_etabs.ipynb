{
 "cells": [
  {
   "cell_type": "markdown",
   "metadata": {},
   "source": [
    "# Análisis Sísmico"
   ]
  },
  {
   "cell_type": "code",
   "execution_count": 2,
   "metadata": {},
   "outputs": [
    {
     "name": "stdout",
     "output_type": "stream",
     "text": [
      "The autoreload extension is already loaded. To reload it, use:\n",
      "  %reload_ext autoreload\n"
     ]
    }
   ],
   "source": [
    "#Importar las librerías necesarias\n",
    "%load_ext autoreload\n",
    "%autoreload 2\n",
    "import os\n",
    "import sys\n",
    "import numpy\n",
    "sys.path.append(os.getcwd())\n",
    "from lib import etabs_utils as etb\n",
    "from lib import sismo_utils as sis\n",
    "from lib import notebook_utils as ntb\n",
    "#from mem import sismo_mem as smem\n",
    "from ipywidgets import widgets\n",
    "from IPython.display import display\n"
   ]
  },
  {
   "cell_type": "code",
   "execution_count": 3,
   "metadata": {},
   "outputs": [],
   "source": [
    "_,SapModel = etb.connect_to_etabs()"
   ]
  },
  {
   "cell_type": "code",
   "execution_count": 4,
   "metadata": {},
   "outputs": [],
   "source": [
    "sismo = ntb.Sismo()"
   ]
  },
  {
   "cell_type": "markdown",
   "metadata": {},
   "source": [
    "# Parámetros de Sitio\n",
    "\n",
    "## Zonificación\n",
    "![Factor de Zonifiación](./images/factor_zona.png)"
   ]
  },
  {
   "cell_type": "markdown",
   "metadata": {},
   "source": [
    "## Factor de Suelo\n",
    "![Factor de Suelo](./images/factor_suelo.png)\n"
   ]
  },
  {
   "cell_type": "markdown",
   "metadata": {},
   "source": [
    "## Periodos del suelo\n",
    "![Periodos del Suelo](./images/periodos_suelo.png)"
   ]
  },
  {
   "cell_type": "markdown",
   "metadata": {},
   "source": [
    "## Sistema Estructural\n",
    "![Sistema Estructural](./images/sistemas_estructurales.png)"
   ]
  },
  {
   "cell_type": "markdown",
   "metadata": {},
   "source": [
    "## Factor de Amplificación sísmica\n",
    "![Factor de Amplificacion Sísmica](./images/amplificacion_sismica.png)"
   ]
  },
  {
   "cell_type": "markdown",
   "metadata": {},
   "source": [
    "## Factor de Importancia\n",
    "![Factor de Importancia](./images/factor_importancia.png)"
   ]
  },
  {
   "cell_type": "code",
   "execution_count": 5,
   "metadata": {},
   "outputs": [
    {
     "data": {
      "application/vnd.jupyter.widget-view+json": {
       "model_id": "10434edd50154f13b39feb9da39b01b2",
       "version_major": 2,
       "version_minor": 0
      },
      "text/plain": [
       "VBox(children=(Dropdown(description='Departamento ', index=9, options=('LORETO', 'UCAYALI', 'MADRE DE DIOS', '…"
      ]
     },
     "metadata": {},
     "output_type": "display_data"
    }
   ],
   "source": [
    "sismo.ubicacion()"
   ]
  },
  {
   "cell_type": "code",
   "execution_count": 12,
   "metadata": {},
   "outputs": [
    {
     "data": {
      "application/vnd.jupyter.widget-view+json": {
       "model_id": "1eeff7eb27d74cf99eda5077defa560a",
       "version_major": 2,
       "version_minor": 0
      },
      "text/plain": [
       "VBox(children=(Dropdown(description='Factor Zona', index=1, options=(1, 2, 3, 4), style=DescriptionStyle(descr…"
      ]
     },
     "metadata": {},
     "output_type": "display_data"
    }
   ],
   "source": [
    "sismo.parametros_e30()"
   ]
  },
  {
   "cell_type": "markdown",
   "metadata": {},
   "source": [
    "# Irregularidades"
   ]
  },
  {
   "cell_type": "code",
   "execution_count": 13,
   "metadata": {},
   "outputs": [
    {
     "data": {
      "application/vnd.jupyter.widget-view+json": {
       "model_id": "e69332e8e8074c1dbbf2f86204cb50cc",
       "version_major": 2,
       "version_minor": 0
      },
      "text/plain": [
       "HBox(children=(VBox(children=(HTML(value='<b>Irregularidad en Altura</b>'), Checkbox(value=False, description=…"
      ]
     },
     "execution_count": 13,
     "metadata": {},
     "output_type": "execute_result"
    }
   ],
   "source": [
    "sismo.irregularidades_e30()"
   ]
  },
  {
   "cell_type": "markdown",
   "metadata": {},
   "source": [
    "# Parámetros Sísmicos"
   ]
  },
  {
   "cell_type": "code",
   "execution_count": 30,
   "metadata": {},
   "outputs": [
    {
     "name": "stdout",
     "output_type": "stream",
     "text": [
      "\n",
      "\u001b[1m Parámetros de sitio:\u001b[0m\n",
      "Factor de zona: \n",
      "    Z=0.45\n",
      "Factor de Importancia: \n",
      "    U=1.00\n",
      "Factor de Suelo: \n",
      "    S=1.05\n",
      "Periodos del Suelo: \n",
      "    Tp=0.60\n",
      "    Tl=2.00\n",
      "Factor Básico de Reducción:\n",
      "    Rox=7.00\n",
      "    Roy=8.00\n",
      "Irregularidad en planta:\n",
      "    Ip=1.00\n",
      "Irregularidad en altura:\n",
      "    Ia=1.00\n",
      "Factor de Reducción:\n",
      "    Rx=7.00\n",
      "    Ry=8.00\n",
      "\n"
     ]
    }
   ],
   "source": [
    "sismo.show_params()"
   ]
  },
  {
   "cell_type": "markdown",
   "metadata": {},
   "source": [
    "# Cargas Sísmicas"
   ]
  },
  {
   "cell_type": "code",
   "execution_count": 31,
   "metadata": {},
   "outputs": [
    {
     "data": {
      "application/vnd.jupyter.widget-view+json": {
       "model_id": "65bd91a6de284ad5bca0d0808ee1cdef",
       "version_major": 2,
       "version_minor": 0
      },
      "text/plain": [
       "HBox(children=(VBox(children=(HTML(value='<b>Dirección X</b>'), Dropdown(description='Sismo Estatico en X', in…"
      ]
     },
     "execution_count": 31,
     "metadata": {},
     "output_type": "execute_result"
    }
   ],
   "source": [
    "sismo.select_loads(SapModel)"
   ]
  },
  {
   "cell_type": "markdown",
   "metadata": {},
   "source": [
    "# Selección del Piso Base"
   ]
  },
  {
   "cell_type": "code",
   "execution_count": 32,
   "metadata": {},
   "outputs": [
    {
     "data": {
      "application/vnd.jupyter.widget-view+json": {
       "model_id": "3692dcafcc124a0c9aefbd491e78118c",
       "version_major": 2,
       "version_minor": 0
      },
      "text/plain": [
       "Dropdown(description='Piso Base', options=('Story1', 'Story2', 'Story3'), style=DescriptionStyle(description_w…"
      ]
     },
     "execution_count": 32,
     "metadata": {},
     "output_type": "execute_result"
    }
   ],
   "source": [
    "sismo.select_base_story(SapModel)"
   ]
  },
  {
   "cell_type": "markdown",
   "metadata": {},
   "source": [
    "# Fuerza Cortante Mínima"
   ]
  },
  {
   "cell_type": "code",
   "execution_count": 33,
   "metadata": {},
   "outputs": [
    {
     "data": {
      "text/html": [
       "<style type=\"text/css\">\n",
       "</style>\n",
       "<table id=\"T_7af5f\">\n",
       "  <thead>\n",
       "  </thead>\n",
       "  <tbody>\n",
       "    <tr>\n",
       "      <td id=\"T_7af5f_row0_col0\" class=\"data row0 col0\" ></td>\n",
       "      <td id=\"T_7af5f_row0_col1\" class=\"data row0 col1\" >X</td>\n",
       "      <td id=\"T_7af5f_row0_col2\" class=\"data row0 col2\" >Y</td>\n",
       "    </tr>\n",
       "    <tr>\n",
       "      <td id=\"T_7af5f_row1_col0\" class=\"data row1 col0\" >V din (Ton)</td>\n",
       "      <td id=\"T_7af5f_row1_col1\" class=\"data row1 col1\" >95.208500</td>\n",
       "      <td id=\"T_7af5f_row1_col2\" class=\"data row1 col2\" >82.237300</td>\n",
       "    </tr>\n",
       "    <tr>\n",
       "      <td id=\"T_7af5f_row2_col0\" class=\"data row2 col0\" >V est (Ton)</td>\n",
       "      <td id=\"T_7af5f_row2_col1\" class=\"data row2 col1\" >-109.036400</td>\n",
       "      <td id=\"T_7af5f_row2_col2\" class=\"data row2 col2\" >-93.454500</td>\n",
       "    </tr>\n",
       "    <tr>\n",
       "      <td id=\"T_7af5f_row3_col0\" class=\"data row3 col0\" >% min</td>\n",
       "      <td id=\"T_7af5f_row3_col1\" class=\"data row3 col1\" >80</td>\n",
       "      <td id=\"T_7af5f_row3_col2\" class=\"data row3 col2\" >80</td>\n",
       "    </tr>\n",
       "    <tr>\n",
       "      <td id=\"T_7af5f_row4_col0\" class=\"data row4 col0\" >%</td>\n",
       "      <td id=\"T_7af5f_row4_col1\" class=\"data row4 col1\" >87.320000</td>\n",
       "      <td id=\"T_7af5f_row4_col2\" class=\"data row4 col2\" >88.000000</td>\n",
       "    </tr>\n",
       "    <tr>\n",
       "      <td id=\"T_7af5f_row5_col0\" class=\"data row5 col0\" >F.E.</td>\n",
       "      <td id=\"T_7af5f_row5_col1\" class=\"data row5 col1\" >1</td>\n",
       "      <td id=\"T_7af5f_row5_col2\" class=\"data row5 col2\" >1</td>\n",
       "    </tr>\n",
       "  </tbody>\n",
       "</table>\n"
      ],
      "text/plain": [
       "<pandas.io.formats.style.Styler at 0x23c29542980>"
      ]
     },
     "execution_count": 33,
     "metadata": {},
     "output_type": "execute_result"
    }
   ],
   "source": [
    "sismo.tables.shear_table.style.hide(axis='index').hide(axis='columns')"
   ]
  },
  {
   "cell_type": "markdown",
   "metadata": {},
   "source": [
    "# Periodos Modales"
   ]
  },
  {
   "cell_type": "code",
   "execution_count": 34,
   "metadata": {},
   "outputs": [
    {
     "name": "stdout",
     "output_type": "stream",
     "text": [
      "\n",
      "Análisis Modal:\n",
      "Masa Participativa X: 1.00\n",
      "Masa Participativa Y: 1.00\n",
      "Periodo y Masa Participativa X: Tx=0.360, Ux=0.864\n",
      "Periodo y Masa Participativa Y: Ty=0.273, Uy=0.872\n"
     ]
    },
    {
     "data": {
      "text/html": [
       "<div>\n",
       "<style scoped>\n",
       "    .dataframe tbody tr th:only-of-type {\n",
       "        vertical-align: middle;\n",
       "    }\n",
       "\n",
       "    .dataframe tbody tr th {\n",
       "        vertical-align: top;\n",
       "    }\n",
       "\n",
       "    .dataframe thead th {\n",
       "        text-align: right;\n",
       "    }\n",
       "</style>\n",
       "<table border=\"1\" class=\"dataframe\">\n",
       "  <thead>\n",
       "    <tr style=\"text-align: right;\">\n",
       "      <th></th>\n",
       "      <th>Mode</th>\n",
       "      <th>Period</th>\n",
       "      <th>UX</th>\n",
       "      <th>UY</th>\n",
       "      <th>RZ</th>\n",
       "      <th>SumUX</th>\n",
       "      <th>SumUY</th>\n",
       "      <th>SumRZ</th>\n",
       "    </tr>\n",
       "  </thead>\n",
       "  <tbody>\n",
       "    <tr>\n",
       "      <th>0</th>\n",
       "      <td>1</td>\n",
       "      <td>0.36</td>\n",
       "      <td>0.864000</td>\n",
       "      <td>0.000000</td>\n",
       "      <td>2.486E-06</td>\n",
       "      <td>0.864</td>\n",
       "      <td>0</td>\n",
       "      <td>2.486E-06</td>\n",
       "    </tr>\n",
       "    <tr>\n",
       "      <th>1</th>\n",
       "      <td>2</td>\n",
       "      <td>0.273</td>\n",
       "      <td>0.000000</td>\n",
       "      <td>0.871800</td>\n",
       "      <td>1.513E-06</td>\n",
       "      <td>0.864</td>\n",
       "      <td>0.8718</td>\n",
       "      <td>4E-06</td>\n",
       "    </tr>\n",
       "    <tr>\n",
       "      <th>2</th>\n",
       "      <td>3</td>\n",
       "      <td>0.225</td>\n",
       "      <td>0.000011</td>\n",
       "      <td>0.000001</td>\n",
       "      <td>0.8499</td>\n",
       "      <td>0.864</td>\n",
       "      <td>0.8718</td>\n",
       "      <td>0.8499</td>\n",
       "    </tr>\n",
       "    <tr>\n",
       "      <th>3</th>\n",
       "      <td>4</td>\n",
       "      <td>0.101</td>\n",
       "      <td>0.118800</td>\n",
       "      <td>0.000000</td>\n",
       "      <td>4.188E-06</td>\n",
       "      <td>0.9828</td>\n",
       "      <td>0.8718</td>\n",
       "      <td>0.8499</td>\n",
       "    </tr>\n",
       "    <tr>\n",
       "      <th>4</th>\n",
       "      <td>5</td>\n",
       "      <td>0.077</td>\n",
       "      <td>0.000000</td>\n",
       "      <td>0.111900</td>\n",
       "      <td>0</td>\n",
       "      <td>0.9828</td>\n",
       "      <td>0.9837</td>\n",
       "      <td>0.8499</td>\n",
       "    </tr>\n",
       "    <tr>\n",
       "      <th>5</th>\n",
       "      <td>6</td>\n",
       "      <td>0.062</td>\n",
       "      <td>0.000000</td>\n",
       "      <td>0.000000</td>\n",
       "      <td>0.1317</td>\n",
       "      <td>0.9828</td>\n",
       "      <td>0.9837</td>\n",
       "      <td>0.9816</td>\n",
       "    </tr>\n",
       "    <tr>\n",
       "      <th>6</th>\n",
       "      <td>7</td>\n",
       "      <td>0.048</td>\n",
       "      <td>0.017200</td>\n",
       "      <td>0.000000</td>\n",
       "      <td>6.349E-07</td>\n",
       "      <td>1</td>\n",
       "      <td>0.9837</td>\n",
       "      <td>0.9816</td>\n",
       "    </tr>\n",
       "    <tr>\n",
       "      <th>7</th>\n",
       "      <td>8</td>\n",
       "      <td>0.037</td>\n",
       "      <td>0.000000</td>\n",
       "      <td>0.016300</td>\n",
       "      <td>0</td>\n",
       "      <td>1</td>\n",
       "      <td>1</td>\n",
       "      <td>0.9816</td>\n",
       "    </tr>\n",
       "    <tr>\n",
       "      <th>8</th>\n",
       "      <td>9</td>\n",
       "      <td>0.029</td>\n",
       "      <td>0.000002</td>\n",
       "      <td>0.000000</td>\n",
       "      <td>0.0184</td>\n",
       "      <td>1</td>\n",
       "      <td>1</td>\n",
       "      <td>1</td>\n",
       "    </tr>\n",
       "  </tbody>\n",
       "</table>\n",
       "</div>"
      ],
      "text/plain": [
       "  Mode Period        UX        UY         RZ   SumUX   SumUY      SumRZ\n",
       "0    1   0.36  0.864000  0.000000  2.486E-06   0.864       0  2.486E-06\n",
       "1    2  0.273  0.000000  0.871800  1.513E-06   0.864  0.8718      4E-06\n",
       "2    3  0.225  0.000011  0.000001     0.8499   0.864  0.8718     0.8499\n",
       "3    4  0.101  0.118800  0.000000  4.188E-06  0.9828  0.8718     0.8499\n",
       "4    5  0.077  0.000000  0.111900          0  0.9828  0.9837     0.8499\n",
       "5    6  0.062  0.000000  0.000000     0.1317  0.9828  0.9837     0.9816\n",
       "6    7  0.048  0.017200  0.000000  6.349E-07       1  0.9837     0.9816\n",
       "7    8  0.037  0.000000  0.016300          0       1       1     0.9816\n",
       "8    9  0.029  0.000002  0.000000     0.0184       1       1          1"
      ]
     },
     "metadata": {},
     "output_type": "display_data"
    }
   ],
   "source": [
    "sismo.ana_modal(SapModel,report=True)"
   ]
  },
  {
   "cell_type": "markdown",
   "metadata": {},
   "source": [
    "# Análisis Estático"
   ]
  },
  {
   "cell_type": "code",
   "execution_count": 36,
   "metadata": {},
   "outputs": [
    {
     "name": "stdout",
     "output_type": "stream",
     "text": [
      "Factor de Reduccion con Irregularidades en X: R=7.0\n",
      "Factor de Reduccion con Irregularidades en Y: R=8.0\n",
      "C en X: 2.50\n",
      "C en Y: 2.50\n",
      "\n",
      "Coeficiente de sismo estático X: 0.169\n",
      "Coeficiente de sismo estático Y: 0.148\n",
      "Exponente de altura X: 1.00\n",
      "Exponente de altura Y: 1.00\n",
      "Fuerza Cortante en X: 62.31\n",
      "Fuerza Cortante en Y: 54.52\n"
     ]
    },
    {
     "data": {
      "text/html": [
       "<div>\n",
       "<style scoped>\n",
       "    .dataframe tbody tr th:only-of-type {\n",
       "        vertical-align: middle;\n",
       "    }\n",
       "\n",
       "    .dataframe tbody tr th {\n",
       "        vertical-align: top;\n",
       "    }\n",
       "\n",
       "    .dataframe thead th {\n",
       "        text-align: right;\n",
       "    }\n",
       "</style>\n",
       "<table border=\"1\" class=\"dataframe\">\n",
       "  <thead>\n",
       "    <tr style=\"text-align: right;\">\n",
       "      <th></th>\n",
       "      <th>Story</th>\n",
       "      <th>Weight</th>\n",
       "      <th>Height</th>\n",
       "      <th>H^kx</th>\n",
       "      <th>H^ky</th>\n",
       "      <th>PxHx</th>\n",
       "      <th>PxHy</th>\n",
       "      <th>ax</th>\n",
       "      <th>ay</th>\n",
       "      <th>vx</th>\n",
       "      <th>vy</th>\n",
       "    </tr>\n",
       "  </thead>\n",
       "  <tbody>\n",
       "    <tr>\n",
       "      <th>0</th>\n",
       "      <td>Story3</td>\n",
       "      <td>90.122</td>\n",
       "      <td>12.2</td>\n",
       "      <td>12.2</td>\n",
       "      <td>12.2</td>\n",
       "      <td>1099.494</td>\n",
       "      <td>1099.494</td>\n",
       "      <td>0.368</td>\n",
       "      <td>0.368</td>\n",
       "      <td>22.958</td>\n",
       "      <td>20.088</td>\n",
       "    </tr>\n",
       "    <tr>\n",
       "      <th>1</th>\n",
       "      <td>Story2</td>\n",
       "      <td>135.809</td>\n",
       "      <td>8.6</td>\n",
       "      <td>8.6</td>\n",
       "      <td>8.6</td>\n",
       "      <td>1167.954</td>\n",
       "      <td>1167.954</td>\n",
       "      <td>0.391</td>\n",
       "      <td>0.391</td>\n",
       "      <td>24.388</td>\n",
       "      <td>21.339</td>\n",
       "    </tr>\n",
       "    <tr>\n",
       "      <th>2</th>\n",
       "      <td>Story1</td>\n",
       "      <td>143.284</td>\n",
       "      <td>5.0</td>\n",
       "      <td>5.0</td>\n",
       "      <td>5.0</td>\n",
       "      <td>716.420</td>\n",
       "      <td>716.420</td>\n",
       "      <td>0.240</td>\n",
       "      <td>0.240</td>\n",
       "      <td>14.959</td>\n",
       "      <td>13.089</td>\n",
       "    </tr>\n",
       "  </tbody>\n",
       "</table>\n",
       "</div>"
      ],
      "text/plain": [
       "    Story   Weight  Height  H^kx  H^ky      PxHx      PxHy     ax     ay  \\\n",
       "0  Story3   90.122    12.2  12.2  12.2  1099.494  1099.494  0.368  0.368   \n",
       "1  Story2  135.809     8.6   8.6   8.6  1167.954  1167.954  0.391  0.391   \n",
       "2  Story1  143.284     5.0   5.0   5.0   716.420   716.420  0.240  0.240   \n",
       "\n",
       "       vx      vy  \n",
       "0  22.958  20.088  \n",
       "1  24.388  21.339  \n",
       "2  14.959  13.089  "
      ]
     },
     "metadata": {},
     "output_type": "display_data"
    }
   ],
   "source": [
    "sismo.sismo_estatico(SapModel,report=True) "
   ]
  },
  {
   "cell_type": "code",
   "execution_count": 49,
   "metadata": {},
   "outputs": [
    {
     "ename": "ModuleNotFoundError",
     "evalue": "No module named 'matplotlib'",
     "output_type": "error",
     "traceback": [
      "\u001b[1;31m---------------------------------------------------------------------------\u001b[0m",
      "\u001b[1;31mModuleNotFoundError\u001b[0m                       Traceback (most recent call last)",
      "Input \u001b[1;32mIn [49]\u001b[0m, in \u001b[0;36m<cell line: 1>\u001b[1;34m()\u001b[0m\n\u001b[1;32m----> 1\u001b[0m \u001b[43msismo\u001b[49m\u001b[38;5;241;43m.\u001b[39;49m\u001b[43mdinamic_spectrum\u001b[49m\u001b[43m(\u001b[49m\u001b[43mreport\u001b[49m\u001b[38;5;241;43m=\u001b[39;49m\u001b[38;5;28;43;01mTrue\u001b[39;49;00m\u001b[43m)\u001b[49m\n",
      "File \u001b[1;32mD:\\programas\\automatizacion_estructural\\lib\\sismo_utils.py:354\u001b[0m, in \u001b[0;36mSismo_e30.dinamic_spectrum\u001b[1;34m(self, report)\u001b[0m\n\u001b[0;32m    351\u001b[0m     \u001b[38;5;28mself\u001b[39m\u001b[38;5;241m.\u001b[39mSay \u001b[38;5;241m=\u001b[39m \u001b[38;5;28mself\u001b[39m\u001b[38;5;241m.\u001b[39mT\u001b[38;5;241m.\u001b[39mapply(\u001b[38;5;28mself\u001b[39m\u001b[38;5;241m.\u001b[39mget_C)\u001b[38;5;241m*\u001b[39m\u001b[38;5;28mself\u001b[39m\u001b[38;5;241m.\u001b[39mget_ZUCS_R(\u001b[38;5;241m1\u001b[39m,\u001b[38;5;28mself\u001b[39m\u001b[38;5;241m.\u001b[39mdata\u001b[38;5;241m.\u001b[39mRy)\n\u001b[0;32m    353\u001b[0m \u001b[38;5;66;03m#Revisión por Torsión      \u001b[39;00m\n\u001b[1;32m--> 354\u001b[0m \u001b[38;5;28;01mdef\u001b[39;00m \u001b[38;5;21mirregularidad_torsion\u001b[39m(\u001b[38;5;28mself\u001b[39m,SapModel):\n\u001b[0;32m    355\u001b[0m     \u001b[38;5;124;03m'''Registra en un DataFrame la tabla de derivas maximas de entrepiso, \u001b[39;00m\n\u001b[0;32m    356\u001b[0m \u001b[38;5;124;03m    deriva promedio y la razon de derivas maximas sobre derivas promedios\u001b[39;00m\n\u001b[0;32m    357\u001b[0m \n\u001b[1;32m   (...)\u001b[0m\n\u001b[0;32m    369\u001b[0m \u001b[38;5;124;03m    Avg Drift y Ratio\u001b[39;00m\n\u001b[0;32m    370\u001b[0m \u001b[38;5;124;03m    '''\u001b[39;00m\n\u001b[0;32m    371\u001b[0m     set_loads \u001b[38;5;241m=\u001b[39m [load \u001b[38;5;28;01mfor\u001b[39;00m load \u001b[38;5;129;01min\u001b[39;00m \u001b[38;5;28mself\u001b[39m\u001b[38;5;241m.\u001b[39mloads\u001b[38;5;241m.\u001b[39mseism_loads\u001b[38;5;241m.\u001b[39mvalues()]\n",
      "\u001b[1;31mModuleNotFoundError\u001b[0m: No module named 'matplotlib'"
     ]
    }
   ],
   "source": [
    "sismo.dinamic_spectrum(report=True)"
   ]
  },
  {
   "cell_type": "code",
   "execution_count": null,
   "metadata": {},
   "outputs": [],
   "source": [
    "!pip install matplotlib"
   ]
  },
  {
   "cell_type": "code",
   "execution_count": 48,
   "metadata": {},
   "outputs": [
    {
     "data": {
      "text/plain": [
       "array([0.148, 0.148, 0.148, 0.148, 0.148, 0.148, 0.127, 0.111, 0.098,\n",
       "       0.089, 0.081, 0.074, 0.068, 0.063, 0.059, 0.055, 0.052, 0.049,\n",
       "       0.047, 0.044, 0.04 , 0.037, 0.033, 0.031, 0.028, 0.026, 0.024,\n",
       "       0.023, 0.021, 0.02 , 0.018, 0.017, 0.016, 0.015, 0.014, 0.014,\n",
       "       0.013, 0.012, 0.012, 0.011])"
      ]
     },
     "execution_count": 48,
     "metadata": {},
     "output_type": "execute_result"
    }
   ],
   "source": [
    "sismo.Say"
   ]
  },
  {
   "cell_type": "markdown",
   "metadata": {},
   "source": [
    "# Análisis Sismico"
   ]
  },
  {
   "cell_type": "code",
   "execution_count": 17,
   "metadata": {},
   "outputs": [],
   "source": [
    "sismo.analisis_sismo(SapModel)"
   ]
  },
  {
   "cell_type": "markdown",
   "metadata": {},
   "source": [
    "## Revisión por Piso Blando"
   ]
  },
  {
   "cell_type": "code",
   "execution_count": 19,
   "metadata": {},
   "outputs": [
    {
     "data": {
      "application/vnd.jupyter.widget-view+json": {
       "model_id": "8ef47442785a4b09a72d54bc804aee40",
       "version_major": 2,
       "version_minor": 0
      },
      "text/plain": [
       "Dropdown(description='Filtro', options=('SDy Max', 'Sy', 'Sx', 'SDx Max', 'sin filtro'), style=DescriptionStyl…"
      ]
     },
     "metadata": {},
     "output_type": "display_data"
    },
    {
     "data": {
      "text/html": [
       "<div>\n",
       "<style scoped>\n",
       "    .dataframe tbody tr th:only-of-type {\n",
       "        vertical-align: middle;\n",
       "    }\n",
       "\n",
       "    .dataframe tbody tr th {\n",
       "        vertical-align: top;\n",
       "    }\n",
       "\n",
       "    .dataframe thead th {\n",
       "        text-align: right;\n",
       "    }\n",
       "</style>\n",
       "<table border=\"1\" class=\"dataframe\">\n",
       "  <thead>\n",
       "    <tr style=\"text-align: right;\">\n",
       "      <th></th>\n",
       "      <th>Story</th>\n",
       "      <th>OutputCase</th>\n",
       "      <th>UX</th>\n",
       "      <th>UY</th>\n",
       "      <th>ΔUX</th>\n",
       "      <th>ΔUY</th>\n",
       "      <th>VX</th>\n",
       "      <th>VY</th>\n",
       "      <th>lat_rig(k)</th>\n",
       "      <th>0.7_prev_k</th>\n",
       "      <th>0.8k_prom</th>\n",
       "      <th>is_reg</th>\n",
       "    </tr>\n",
       "  </thead>\n",
       "  <tbody>\n",
       "    <tr>\n",
       "      <th>0</th>\n",
       "      <td>Story3</td>\n",
       "      <td>SDy Max</td>\n",
       "      <td>3.842</td>\n",
       "      <td>6.248</td>\n",
       "      <td>1.103</td>\n",
       "      <td>1.699</td>\n",
       "      <td>110434.85</td>\n",
       "      <td>312667.21</td>\n",
       "      <td>184030.141260</td>\n",
       "      <td>0.000000</td>\n",
       "      <td>0.0</td>\n",
       "      <td>Regular</td>\n",
       "    </tr>\n",
       "    <tr>\n",
       "      <th>1</th>\n",
       "      <td>Story2</td>\n",
       "      <td>SDy Max</td>\n",
       "      <td>2.739</td>\n",
       "      <td>4.549</td>\n",
       "      <td>1.374</td>\n",
       "      <td>2.246</td>\n",
       "      <td>218523.07</td>\n",
       "      <td>626457.42</td>\n",
       "      <td>278921.380232</td>\n",
       "      <td>128821.098882</td>\n",
       "      <td>0.0</td>\n",
       "      <td>Regular</td>\n",
       "    </tr>\n",
       "    <tr>\n",
       "      <th>2</th>\n",
       "      <td>Story1</td>\n",
       "      <td>SDy Max</td>\n",
       "      <td>1.365</td>\n",
       "      <td>2.303</td>\n",
       "      <td>1.365</td>\n",
       "      <td>2.303</td>\n",
       "      <td>280102.97</td>\n",
       "      <td>806472.13</td>\n",
       "      <td>350183.295701</td>\n",
       "      <td>195244.966162</td>\n",
       "      <td>0.0</td>\n",
       "      <td>Regular</td>\n",
       "    </tr>\n",
       "  </tbody>\n",
       "</table>\n",
       "</div>"
      ],
      "text/plain": [
       "    Story OutputCase     UX     UY    ΔUX    ΔUY         VX         VY  \\\n",
       "0  Story3    SDy Max  3.842  6.248  1.103  1.699  110434.85  312667.21   \n",
       "1  Story2    SDy Max  2.739  4.549  1.374  2.246  218523.07  626457.42   \n",
       "2  Story1    SDy Max  1.365  2.303  1.365  2.303  280102.97  806472.13   \n",
       "\n",
       "      lat_rig(k)     0.7_prev_k  0.8k_prom   is_reg  \n",
       "0  184030.141260       0.000000        0.0  Regular  \n",
       "1  278921.380232  128821.098882        0.0  Regular  \n",
       "2  350183.295701  195244.966162        0.0  Regular  "
      ]
     },
     "metadata": {},
     "output_type": "display_data"
    }
   ],
   "source": [
    "sismo.show_table(sismo.tables.piso_blando_table)"
   ]
  },
  {
   "cell_type": "markdown",
   "metadata": {},
   "source": [
    "## Revisión por Irregularidad de Masa"
   ]
  },
  {
   "cell_type": "code",
   "execution_count": 20,
   "metadata": {},
   "outputs": [
    {
     "data": {
      "text/html": [
       "<div>\n",
       "<style scoped>\n",
       "    .dataframe tbody tr th:only-of-type {\n",
       "        vertical-align: middle;\n",
       "    }\n",
       "\n",
       "    .dataframe tbody tr th {\n",
       "        vertical-align: top;\n",
       "    }\n",
       "\n",
       "    .dataframe thead th {\n",
       "        text-align: right;\n",
       "    }\n",
       "</style>\n",
       "<table border=\"1\" class=\"dataframe\">\n",
       "  <thead>\n",
       "    <tr style=\"text-align: right;\">\n",
       "      <th></th>\n",
       "      <th>Story</th>\n",
       "      <th>Mass</th>\n",
       "      <th>1.5 Mass</th>\n",
       "      <th>story_type</th>\n",
       "      <th>is_regular</th>\n",
       "    </tr>\n",
       "  </thead>\n",
       "  <tbody>\n",
       "    <tr>\n",
       "      <th>0</th>\n",
       "      <td>Story3</td>\n",
       "      <td>90.1284</td>\n",
       "      <td></td>\n",
       "      <td>Azotea</td>\n",
       "      <td>Regular</td>\n",
       "    </tr>\n",
       "    <tr>\n",
       "      <th>1</th>\n",
       "      <td>Story2</td>\n",
       "      <td>135.8175</td>\n",
       "      <td>203.72625</td>\n",
       "      <td>Piso</td>\n",
       "      <td>Regular</td>\n",
       "    </tr>\n",
       "    <tr>\n",
       "      <th>2</th>\n",
       "      <td>Story1</td>\n",
       "      <td>143.2935</td>\n",
       "      <td>214.94025</td>\n",
       "      <td>Piso</td>\n",
       "      <td>Regular</td>\n",
       "    </tr>\n",
       "    <tr>\n",
       "      <th>3</th>\n",
       "      <td>Base</td>\n",
       "      <td>26.7000</td>\n",
       "      <td></td>\n",
       "      <td>Sotano</td>\n",
       "      <td>Regular</td>\n",
       "    </tr>\n",
       "  </tbody>\n",
       "</table>\n",
       "</div>"
      ],
      "text/plain": [
       "    Story      Mass   1.5 Mass story_type is_regular\n",
       "0  Story3   90.1284                Azotea    Regular\n",
       "1  Story2  135.8175  203.72625       Piso    Regular\n",
       "2  Story1  143.2935  214.94025       Piso    Regular\n",
       "3    Base   26.7000                Sotano    Regular"
      ]
     },
     "execution_count": 20,
     "metadata": {},
     "output_type": "execute_result"
    }
   ],
   "source": [
    "sismo.tables.rev_masa_table"
   ]
  },
  {
   "cell_type": "markdown",
   "metadata": {},
   "source": [
    "## Revisión de torsión"
   ]
  },
  {
   "cell_type": "code",
   "execution_count": 21,
   "metadata": {},
   "outputs": [
    {
     "data": {
      "application/vnd.jupyter.widget-view+json": {
       "model_id": "7e593641f7fa491599463e6c49fd0dc1",
       "version_major": 2,
       "version_minor": 0
      },
      "text/plain": [
       "Dropdown(description='Filtro', options=('Sx ', 'Sy ', 'SDx Max', 'SDy Max', 'sin filtro'), style=DescriptionSt…"
      ]
     },
     "metadata": {},
     "output_type": "display_data"
    },
    {
     "data": {
      "text/html": [
       "<div>\n",
       "<style scoped>\n",
       "    .dataframe tbody tr th:only-of-type {\n",
       "        vertical-align: middle;\n",
       "    }\n",
       "\n",
       "    .dataframe tbody tr th {\n",
       "        vertical-align: top;\n",
       "    }\n",
       "\n",
       "    .dataframe thead th {\n",
       "        text-align: right;\n",
       "    }\n",
       "</style>\n",
       "<table border=\"1\" class=\"dataframe\">\n",
       "  <thead>\n",
       "    <tr style=\"text-align: right;\">\n",
       "      <th></th>\n",
       "      <th>Story</th>\n",
       "      <th>OutputCase</th>\n",
       "      <th>Direction</th>\n",
       "      <th>Max Drift</th>\n",
       "      <th>Avg Drift</th>\n",
       "      <th>Ratio</th>\n",
       "      <th>Height</th>\n",
       "      <th>Drifts</th>\n",
       "      <th>Drift &lt; Dmax/2</th>\n",
       "      <th>tor_reg</th>\n",
       "    </tr>\n",
       "  </thead>\n",
       "  <tbody>\n",
       "    <tr>\n",
       "      <th>0</th>\n",
       "      <td>Story3</td>\n",
       "      <td>Sx</td>\n",
       "      <td>X</td>\n",
       "      <td>4.506</td>\n",
       "      <td>4.149</td>\n",
       "      <td>1.086</td>\n",
       "      <td>3600</td>\n",
       "      <td>31.542</td>\n",
       "      <td>False</td>\n",
       "      <td>Regular</td>\n",
       "    </tr>\n",
       "    <tr>\n",
       "      <th>6</th>\n",
       "      <td>Story2</td>\n",
       "      <td>Sx</td>\n",
       "      <td>X</td>\n",
       "      <td>5.596</td>\n",
       "      <td>5.195</td>\n",
       "      <td>1.077</td>\n",
       "      <td>3600</td>\n",
       "      <td>39.172</td>\n",
       "      <td>False</td>\n",
       "      <td>Regular</td>\n",
       "    </tr>\n",
       "    <tr>\n",
       "      <th>12</th>\n",
       "      <td>Story1</td>\n",
       "      <td>Sx</td>\n",
       "      <td>X</td>\n",
       "      <td>5.557</td>\n",
       "      <td>5.196</td>\n",
       "      <td>1.069</td>\n",
       "      <td>5000</td>\n",
       "      <td>38.899</td>\n",
       "      <td>False</td>\n",
       "      <td>Regular</td>\n",
       "    </tr>\n",
       "  </tbody>\n",
       "</table>\n",
       "</div>"
      ],
      "text/plain": [
       "     Story OutputCase Direction Max Drift Avg Drift  Ratio Height  Drifts  \\\n",
       "0   Story3        Sx          X     4.506     4.149  1.086   3600  31.542   \n",
       "6   Story2        Sx          X     5.596     5.195  1.077   3600  39.172   \n",
       "12  Story1        Sx          X     5.557     5.196  1.069   5000  38.899   \n",
       "\n",
       "    Drift < Dmax/2  tor_reg  \n",
       "0            False  Regular  \n",
       "6            False  Regular  \n",
       "12           False  Regular  "
      ]
     },
     "metadata": {},
     "output_type": "display_data"
    }
   ],
   "source": [
    "sismo.show_table(sismo.tables.torsion_table)"
   ]
  },
  {
   "cell_type": "markdown",
   "metadata": {},
   "source": [
    "## Derivas"
   ]
  },
  {
   "cell_type": "code",
   "execution_count": 22,
   "metadata": {},
   "outputs": [
    {
     "data": {
      "application/vnd.jupyter.widget-view+json": {
       "model_id": "fdb32577902d4ee8b17c3cd0b47e2f58",
       "version_major": 2,
       "version_minor": 0
      },
      "text/plain": [
       "Dropdown(description='Filtro', options=('Sx ', 'Sy ', 'SDx Max', 'SDy Max', 'sin filtro'), style=DescriptionSt…"
      ]
     },
     "metadata": {},
     "output_type": "display_data"
    },
    {
     "data": {
      "text/html": [
       "<div>\n",
       "<style scoped>\n",
       "    .dataframe tbody tr th:only-of-type {\n",
       "        vertical-align: middle;\n",
       "    }\n",
       "\n",
       "    .dataframe tbody tr th {\n",
       "        vertical-align: top;\n",
       "    }\n",
       "\n",
       "    .dataframe thead th {\n",
       "        text-align: right;\n",
       "    }\n",
       "</style>\n",
       "<table border=\"1\" class=\"dataframe\">\n",
       "  <thead>\n",
       "    <tr style=\"text-align: right;\">\n",
       "      <th></th>\n",
       "      <th>Story</th>\n",
       "      <th>OutputCase</th>\n",
       "      <th>Direction</th>\n",
       "      <th>Drifts</th>\n",
       "      <th>Drift_Check</th>\n",
       "    </tr>\n",
       "  </thead>\n",
       "  <tbody>\n",
       "    <tr>\n",
       "      <th>0</th>\n",
       "      <td>Story3</td>\n",
       "      <td>Sx</td>\n",
       "      <td>X</td>\n",
       "      <td>31.542</td>\n",
       "      <td>No Cumple</td>\n",
       "    </tr>\n",
       "    <tr>\n",
       "      <th>6</th>\n",
       "      <td>Story2</td>\n",
       "      <td>Sx</td>\n",
       "      <td>X</td>\n",
       "      <td>39.172</td>\n",
       "      <td>No Cumple</td>\n",
       "    </tr>\n",
       "    <tr>\n",
       "      <th>12</th>\n",
       "      <td>Story1</td>\n",
       "      <td>Sx</td>\n",
       "      <td>X</td>\n",
       "      <td>38.899</td>\n",
       "      <td>No Cumple</td>\n",
       "    </tr>\n",
       "  </tbody>\n",
       "</table>\n",
       "</div>"
      ],
      "text/plain": [
       "     Story OutputCase Direction  Drifts Drift_Check\n",
       "0   Story3        Sx          X  31.542   No Cumple\n",
       "6   Story2        Sx          X  39.172   No Cumple\n",
       "12  Story1        Sx          X  38.899   No Cumple"
      ]
     },
     "metadata": {},
     "output_type": "display_data"
    }
   ],
   "source": [
    "sismo.show_table(sismo.tables.drift_table)"
   ]
  },
  {
   "cell_type": "markdown",
   "metadata": {},
   "source": [
    "# Generación de reporte"
   ]
  },
  {
   "cell_type": "code",
   "execution_count": 18,
   "metadata": {},
   "outputs": [],
   "source": [
    "sismo.generate_memoria()"
   ]
  }
 ],
 "metadata": {
  "kernelspec": {
   "display_name": "Python 3 (ipykernel)",
   "language": "python",
   "name": "python3"
  },
  "language_info": {
   "codemirror_mode": {
    "name": "ipython",
    "version": 3
   },
   "file_extension": ".py",
   "mimetype": "text/x-python",
   "name": "python",
   "nbconvert_exporter": "python",
   "pygments_lexer": "ipython3",
   "version": "3.10.8"
  },
  "toc-showmarkdowntxt": true,
  "vscode": {
   "interpreter": {
    "hash": "bac46d45b902eb1257731b3cec425c94a9ada4fac09ba91d7557c516a1f31c36"
   }
  }
 },
 "nbformat": 4,
 "nbformat_minor": 4
}
