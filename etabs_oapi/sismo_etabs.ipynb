{
 "cells": [
  {
   "cell_type": "code",
   "execution_count": null,
   "metadata": {},
   "outputs": [],
   "source": [
    "#Programado para etabs 2019\n",
    "\n",
    "import numpy as np\n",
    "import pandas as pd \n",
    "import etabs_utils as etb\n",
    "import sismo_utils as sis\n",
    "SapModel, EtabsObject = etb.connect_to_etabs()"
   ]
  },
  {
   "cell_type": "code",
   "execution_count": 63,
   "metadata": {},
   "outputs": [],
   "source": [
    "Datos = {\n",
    "'N': 8,\n",
    "'Z': 0.25,\n",
    "'U': 1,\n",
    "'S': 1.2,\n",
    "'Tp': 0.6,\n",
    "'Tl': 2,\n",
    "'Ip': 1,\n",
    "'Ia': 1,\n",
    "'R_o': 8,\n",
    "'max_drift': 0.007,\n",
    "'loads': ['Sx','Sy','SDx','SDy'],\n",
    "'n_sotanos': 2,\n",
    "'n_techos': 2}"
   ]
  },
  {
   "cell_type": "code",
   "execution_count": 64,
   "metadata": {},
   "outputs": [],
   "source": [
    "'''\n",
    "1 → Análisis Modal\n",
    "2 → Sismo Estático\n",
    "3 → Revisar Torsión\n",
    "4 → Revisar Piso Blando\n",
    "5 → Revisar Irregularidad de masa\n",
    "6 → Obtener Centros de Masa y Rigidez\n",
    "7 → Análisis de Derivas\n",
    "8 → Análisis Completo\n",
    "'''\n",
    "\n",
    "data = sis.rev_sismo(SapModel,Datos,T_analisis = 4)"
   ]
  }
 ],
 "metadata": {
  "kernelspec": {
   "display_name": "Python 3.9.13 ('work')",
   "language": "python",
   "name": "python3"
  },
  "language_info": {
   "codemirror_mode": {
    "name": "ipython",
    "version": 3
   },
   "file_extension": ".py",
   "mimetype": "text/x-python",
   "name": "python",
   "nbconvert_exporter": "python",
   "pygments_lexer": "ipython3",
   "version": "3.9.13"
  },
  "orig_nbformat": 4,
  "vscode": {
   "interpreter": {
    "hash": "1f8b5a4397f1efbb0cd638280ee2162588f56684c51ac47b4fc5310f4e913229"
   }
  }
 },
 "nbformat": 4,
 "nbformat_minor": 2
}
