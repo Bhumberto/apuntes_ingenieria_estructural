{
 "cells": [
  {
   "cell_type": "code",
   "execution_count": null,
   "metadata": {},
   "outputs": [],
   "source": [
    "import numpy as np\n",
    "barras_acero = {'3/8':[3/8*2.54,0.71], '1/2':[1/2*2.54,1.29], '5/8':[2/8*2.54,1.99], '3/4':[3/4*2.54,2.84], '1':[2.54,510]}\n",
    "\n",
    "class elemento_columna():\n",
    "    def __init__(self,b,h,r,fc,fy):\n",
    "        self.b = b\n",
    "        self.h = h\n",
    "        self.r = r\n",
    "        self.fc = fc\n",
    "        self.fy = fy\n",
    "\n",
    "    def matriz_acero(self, matriz):\n",
    "        self.matriz = matriz\n",
    "\n",
    "    "
   ]
  }
 ],
 "metadata": {
  "language_info": {
   "name": "python"
  },
  "orig_nbformat": 4
 },
 "nbformat": 4,
 "nbformat_minor": 2
}
