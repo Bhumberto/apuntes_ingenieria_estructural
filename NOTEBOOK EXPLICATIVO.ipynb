{
 "cells": [
  {
   "cell_type": "markdown",
   "id": "e1a6f3f7",
   "metadata": {},
   "source": [
    "# LIBRERIA sismo_utils"
   ]
  },
  {
   "cell_type": "markdown",
   "id": "0a41a5d8",
   "metadata": {},
   "source": [
    "## 1. Importando librerias"
   ]
  },
  {
   "cell_type": "code",
   "execution_count": 6,
   "id": "3de5c8b8",
   "metadata": {},
   "outputs": [
    {
     "ename": "ImportError",
     "evalue": "cannot import name 'etabs_utils' from 'lib' (unknown location)",
     "output_type": "error",
     "traceback": [
      "\u001b[1;31m---------------------------------------------------------------------------\u001b[0m",
      "\u001b[1;31mImportError\u001b[0m                               Traceback (most recent call last)",
      "Cell \u001b[1;32mIn[6], line 2\u001b[0m\n\u001b[0;32m      1\u001b[0m \u001b[39mimport\u001b[39;00m \u001b[39mpandas\u001b[39;00m \u001b[39mas\u001b[39;00m \u001b[39mpd\u001b[39;00m\n\u001b[1;32m----> 2\u001b[0m \u001b[39mfrom\u001b[39;00m \u001b[39mlib\u001b[39;00m \u001b[39mimport\u001b[39;00m etabs_utils \u001b[39mas\u001b[39;00m etb\n\u001b[0;32m      3\u001b[0m \u001b[39mimport\u001b[39;00m \u001b[39msys\u001b[39;00m\n\u001b[0;32m      4\u001b[0m \u001b[39mfrom\u001b[39;00m \u001b[39mipywidgets\u001b[39;00m \u001b[39mimport\u001b[39;00m widgets\n",
      "\u001b[1;31mImportError\u001b[0m: cannot import name 'etabs_utils' from 'lib' (unknown location)"
     ]
    }
   ],
   "source": [
    "import pandas as pd\n",
    "from lib import etabs_utils as etb\n",
    "import sys\n",
    "from ipywidgets import widgets\n",
    "from mem import latex_utils as ltx\n",
    "from IPython.display import clear_output, display"
   ]
  },
  {
   "cell_type": "markdown",
   "id": "4047e160",
   "metadata": {},
   "source": [
    "## 2. Conectando a ETABS"
   ]
  },
  {
   "cell_type": "code",
   "execution_count": null,
   "id": "ced4b1d2",
   "metadata": {},
   "outputs": [],
   "source": [
    "_,SapModel = etb.connect_to_etabs()"
   ]
  },
  {
   "cell_type": "markdown",
   "id": "b12ae729",
   "metadata": {},
   "source": [
    "## 3. Funciones Básicas"
   ]
  },
  {
   "cell_type": "markdown",
   "id": "3649e900",
   "metadata": {},
   "source": [
    "### 3.1 Cálculo del exponente en altura"
   ]
  },
  {
   "cell_type": "markdown",
   "id": "b7807bd1",
   "metadata": {},
   "source": [
    "FUNCION get_k(T):\n",
    "Devuelve el exponente relacionado con el periodo (T). Revisar sección 28.3.2 de la NTE 030 Diseño Sismorresistente 2020.\n",
    "\n",
    "**Parámetros:**\n",
    "\n",
    "$T$ : Periodo fundamental de vibración de la estructura (seg)\n",
    "    \n",
    "**Returns:**\n",
    "\n",
    "$k=1$, si $0.5 \\geq T$\n",
    "\n",
    "$k=0.75+0.5*T$, si $T \\geq 0.5$\n",
    "\n",
    "$k=2$, si $0.75+0.5*T>2$"
   ]
  },
  {
   "cell_type": "code",
   "execution_count": null,
   "id": "d8dd7d7b",
   "metadata": {},
   "outputs": [],
   "source": [
    "def get_k(T):\n",
    "    if T < 0.5:\n",
    "        return 1\n",
    "    elif 0.75+0.5*T < 2:\n",
    "        return 0.75+0.5*T\n",
    "    else:\n",
    "        return 2"
   ]
  }
 ],
 "metadata": {
  "kernelspec": {
   "display_name": "Python 3 (ipykernel)",
   "language": "python",
   "name": "python3"
  },
  "language_info": {
   "codemirror_mode": {
    "name": "ipython",
    "version": 3
   },
   "file_extension": ".py",
   "mimetype": "text/x-python",
   "name": "python",
   "nbconvert_exporter": "python",
   "pygments_lexer": "ipython3",
   "version": "3.10.10"
  }
 },
 "nbformat": 4,
 "nbformat_minor": 5
}
