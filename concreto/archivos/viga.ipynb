{
 "cells": [
  {
   "cell_type": "code",
   "execution_count": 3,
   "metadata": {},
   "outputs": [],
   "source": [
    "import flexion as fl\n",
    "import materiales as mat"
   ]
  },
  {
   "cell_type": "code",
   "execution_count": 11,
   "metadata": {},
   "outputs": [],
   "source": [
    "viga_1 = fl.elemento_viga(b=35,h=50,r=4,memoria=True)"
   ]
  },
  {
   "cell_type": "code",
   "execution_count": 12,
   "metadata": {},
   "outputs": [
    {
     "name": "stdout",
     "output_type": "stream",
     "text": [
      "rho_min:0.0024\n",
      "As_min:3.89\n"
     ]
    }
   ],
   "source": [
    "rho_min, As_min = viga_1.cuantia_minima()\n",
    "print('rho_min:{:.4f}'.format(rho_min))\n",
    "print('As_min:{:.2f}'.format(As_min))"
   ]
  },
  {
   "cell_type": "code",
   "execution_count": 13,
   "metadata": {},
   "outputs": [
    {
     "name": "stdout",
     "output_type": "stream",
     "text": [
      "rho_b:0.0212\n",
      "rho_max:0.0159\n",
      "As_max:25.66\n"
     ]
    }
   ],
   "source": [
    "rho_b, rho_max, As_max = viga_1.cuantia_maxima()\n",
    "print('rho_b:{:.4f}'.format(rho_b))\n",
    "print('rho_max:{:.4f}'.format(rho_max))\n",
    "print('As_max:{:.2f}'.format(As_max))"
   ]
  },
  {
   "cell_type": "code",
   "execution_count": 14,
   "metadata": {},
   "outputs": [
    {
     "name": "stdout",
     "output_type": "stream",
     "text": [
      "R_n:15.00\n",
      "rho_dis:0.0037\n",
      "As_dis:6.02\n"
     ]
    }
   ],
   "source": [
    "Mu = 10\n",
    "R_n, rho_dis, As_dis = viga_1.cuantia_flexion(Mu)\n",
    "print('R_n:{:.2f}'.format(R_n))\n",
    "print('rho_dis:{:.4f}'.format(rho_dis))\n",
    "print('As_dis:{:.2f}'.format(As_dis))"
   ]
  },
  {
   "cell_type": "code",
   "execution_count": 16,
   "metadata": {},
   "outputs": [
    {
     "name": "stdout",
     "output_type": "stream",
     "text": [
      "Cantidad de espaciamientos3\n",
      "Nro de estribos 11\n",
      "Espaciamiento (cm) 15\n",
      "Nro de estribos 210\n",
      "Espaciamiento (cm) 210\n",
      "Nro de estribos 3R\n",
      "Espaciamiento (cm) 325\n"
     ]
    },
    {
     "data": {
      "text/plain": [
       "(41.64604306203651,\n",
       " 10.510668010894932,\n",
       " 5.289331989105069,\n",
       " 22.043653194801173,\n",
       " 21.81459398487627,\n",
       " [23.0, 60],\n",
       " 100,\n",
       " [4.6, 15.875, 22.86, 30])"
      ]
     },
     "execution_count": 16,
     "metadata": {},
     "output_type": "execute_result"
    }
   ],
   "source": [
    "Vu = 15.8\n",
    "ref_viga = mat.b_5_8\n",
    "viga_1.diseño_corte(Vu,ref_viga)"
   ]
  },
  {
   "cell_type": "code",
   "execution_count": 17,
   "metadata": {},
   "outputs": [],
   "source": [
    "viga_1.crear_memoria()\n",
    "viga_1.memoria_flexion()\n",
    "viga_1.memoria_corte()\n",
    "viga_1.generar_memoria()"
   ]
  },
  {
   "cell_type": "code",
   "execution_count": null,
   "metadata": {},
   "outputs": [],
   "source": []
  }
 ],
 "metadata": {
  "interpreter": {
   "hash": "bac46d45b902eb1257731b3cec425c94a9ada4fac09ba91d7557c516a1f31c36"
  },
  "kernelspec": {
   "display_name": "Python 3 (ipykernel)",
   "language": "python",
   "name": "python3"
  },
  "language_info": {
   "codemirror_mode": {
    "name": "ipython",
    "version": 3
   },
   "file_extension": ".py",
   "mimetype": "text/x-python",
   "name": "python",
   "nbconvert_exporter": "python",
   "pygments_lexer": "ipython3",
   "version": "3.8.10"
  }
 },
 "nbformat": 4,
 "nbformat_minor": 2
}
