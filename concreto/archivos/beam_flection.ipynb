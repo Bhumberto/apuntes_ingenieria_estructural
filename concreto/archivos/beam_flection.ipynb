{
 "cells": [
  {
   "cell_type": "markdown",
   "id": "95b9f0e1",
   "metadata": {},
   "source": [
    "**Flexión en Vigas**"
   ]
  },
  {
   "cell_type": "markdown",
   "id": "67236609",
   "metadata": {},
   "source": [
    "**Módulo de Rotura**\n",
    "\n",
    "$ f_{r} = 7.5\\lambda\\sqrt{f'_{c}} $\n",
    "\n",
    "$ \\lambda $ < 1 : para concretos livianos\n"
   ]
  },
  {
   "cell_type": "code",
   "execution_count": 30,
   "id": "540c7706",
   "metadata": {},
   "outputs": [],
   "source": [
    "# datos\n",
    "lamb = 1\n",
    "fc = 4000 #lb/plg2\n",
    "\n",
    "fr = 7.5 * lamb * fc**0.5 #lb/plg2"
   ]
  },
  {
   "cell_type": "code",
   "execution_count": 31,
   "id": "b5e4a7f7",
   "metadata": {},
   "outputs": [
    {
     "name": "stdout",
     "output_type": "stream",
     "text": [
      "Módulo de rotura: 474.34 lb/plg2\n"
     ]
    }
   ],
   "source": [
    "print('Módulo de rotura: {:.2f} lb/plg2'.format(fr))"
   ]
  },
  {
   "attachments": {
    "image-2.png": {
     "image/png": "[encoded data removed]"
    }
   },
   "cell_type": "markdown",
   "id": "cdb91fdc",
   "metadata": {},
   "source": [
    "**Eje Neutro dada la razón modular**\n",
    "\n",
    "*Razón modular:* relación entre módulos de Young\n",
    "\n",
    "\n",
    "Momentamos respecto al eje neutro\n",
    "![image-2.png](attachment:image-2.png)\n",
    "\n",
    "$C(x/2)= T(h-x) \\\\$\n",
    "$b(x)(x/2) = nA_{s}(d-x)$"
   ]
  },
  {
   "cell_type": "code",
   "execution_count": 35,
   "id": "de56a2a8",
   "metadata": {},
   "outputs": [],
   "source": [
    "#datos:\n",
    "b = 12 #pulg\n",
    "h = 20 #pulg\n",
    "r = 3 #pulg\n",
    "As = 3 #pulg2\n",
    "n = 9\n",
    "M=70 #pie-klb\n",
    "\n",
    "d = h-r\n",
    "\n",
    "#resolviendo la ecuación cuadrática (Momentos respecto al eje Neutro)\n",
    "a1 = b/2\n",
    "a2 = n*As\n",
    "a3 = -n*As*d\n",
    "\n",
    "x = (-a2+(a2**2-4*a1*a3)**0.5)/(2*a1)"
   ]
  },
  {
   "cell_type": "code",
   "execution_count": 29,
   "id": "7f8b52ca",
   "metadata": {},
   "outputs": [
    {
     "name": "stdout",
     "output_type": "stream",
     "text": [
      "Distancia al eje neutro: 6.78\"\n"
     ]
    }
   ],
   "source": [
    "print('Distancia al eje neutro: {:.2f}\\\"'.format(x))"
   ]
  },
  {
   "cell_type": "markdown",
   "id": "fd985a90",
   "metadata": {},
   "source": [
    "**Momento de Inercia**\n",
    "\n",
    "$I=\\frac{1}{3}(b)(x)^{3}+n(A_{s})(d-x)$\n",
    "\n",
    "**Esfuerzos por flexión**\n",
    "\n",
    "$f_{c}=\\frac{M_{y}}{I}$\n",
    "\n",
    "$f_{s}=\\frac{nM_{y}}{I}$"
   ]
  },
  {
   "cell_type": "code",
   "execution_count": 33,
   "id": "b36f13cc",
   "metadata": {},
   "outputs": [],
   "source": [
    "I = 1/3*b*x**3+n*As*(d-x)**2"
   ]
  },
  {
   "cell_type": "code",
   "execution_count": 38,
   "id": "b3e8108a",
   "metadata": {},
   "outputs": [
    {
     "name": "stdout",
     "output_type": "stream",
     "text": [
      "Momento de Inercia: 4066.77\n"
     ]
    }
   ],
   "source": [
    "print('Momento de Inercia: {:.2f}'.format(I))"
   ]
  },
  {
   "cell_type": "code",
   "execution_count": 36,
   "id": "0c6d8a4e",
   "metadata": {},
   "outputs": [],
   "source": [
    "fc = M*12000*x/I\n",
    "fy = n*M*12000*(d-x)/I"
   ]
  },
  {
   "cell_type": "code",
   "execution_count": 40,
   "id": "180b2261",
   "metadata": {},
   "outputs": [
    {
     "name": "stdout",
     "output_type": "stream",
     "text": [
      "Esfuerzo f'c: 1400.67 lb/plg2\n",
      "Esfuerzo fy: 18996.44 lb/plg2\n"
     ]
    }
   ],
   "source": [
    "print('Esfuerzo f\\'c: {:.2f} lb/plg2'.format(fc))\n",
    "print('Esfuerzo fy: {:.2f} lb/plg2'.format(fy))"
   ]
  },
  {
   "cell_type": "markdown",
   "id": "d3aec5c9",
   "metadata": {},
   "source": [
    "**Ejemplo determinar Momento resistente permisible dados los esfuerzos permisibles**\n",
    "\n",
    "$M_{c}=\\frac{f_{c}I}{y}$\n",
    "\n",
    "$M_{s}=\\frac{f_{s}I}{ny}$"
   ]
  },
  {
   "cell_type": "code",
   "execution_count": 44,
   "id": "51848483",
   "metadata": {},
   "outputs": [],
   "source": [
    "#datos\n",
    "fc = 1350 #lb/plg2\n",
    "fs = 20000 #lb/plg2\n",
    "\n",
    "Mc = fc*I/x /12000 #pie-klb\n",
    "Ms = fs*I/(n*(d-x)) /12000 #pie-klb"
   ]
  },
  {
   "cell_type": "code",
   "execution_count": 49,
   "id": "a1293c84",
   "metadata": {},
   "outputs": [
    {
     "name": "stdout",
     "output_type": "stream",
     "text": [
      "Mc: 67.47\n",
      "Ms: 73.70\n"
     ]
    }
   ],
   "source": [
    "print('Mc: {:.2f}'.format(Mc))\n",
    "print('Ms: {:.2f}'.format(Ms))"
   ]
  },
  {
   "attachments": {
    "image.png": {
     "image/png": "[encoded data removed]"
    }
   },
   "cell_type": "markdown",
   "id": "e3f2310a",
   "metadata": {},
   "source": [
    "**Momentos últimos o nominales**\n",
    "![image.png](attachment:image.png)\n",
    "$T=A_{s}f_{y}$\n",
    "\n",
    "$C=0.85f'_{c}ab$\n",
    "\n",
    "$T=C$\n",
    "\n",
    "$A_{s}f_{y}=0.85f'_{c}ab$\n",
    "\n",
    "$a=\\frac{A_{s}f_{y}}{0.85f'_{c}b}$\n",
    "\n",
    "Momentando el par de fuerzas:\n",
    "\n",
    "$M_{n}=T(d-\\frac{a}{2})$\n",
    "\n",
    "$M_{n}=A_{s}f_{y}(d-\\frac{a}{2})$"
   ]
  },
  {
   "cell_type": "code",
   "execution_count": 5,
   "id": "6f922375",
   "metadata": {},
   "outputs": [],
   "source": [
    "#Ejemplo\n",
    "#datos\n",
    "b = 14 #pulg\n",
    "h = 24 #pulg\n",
    "r = 3 #pulg\n",
    "As = 3 #pulg2\n",
    "fc = 3000\n",
    "fy = 60000\n",
    "\n",
    "d = h-r\n",
    "a = As*fy/(0.85*fc*b)\n",
    "\n",
    "Mn = As*fy*(d-a/2)/12000"
   ]
  },
  {
   "cell_type": "code",
   "execution_count": 10,
   "id": "b95471e5",
   "metadata": {},
   "outputs": [
    {
     "name": "stdout",
     "output_type": "stream",
     "text": [
      "a: 5.04 pulg\n",
      "Mn: 277.18 pig-klb\n"
     ]
    }
   ],
   "source": [
    "print('a: {:.2f} pulg'.format(a))\n",
    "print('Mn: {:.2f} pig-klb'.format(Mn))"
   ]
  },
  {
   "attachments": {
    "image-2.png": {
     "image/png": "[encoded data removed]"
    },
    "image.png": {
     "image/png": "[encoded data removed]"
    }
   },
   "cell_type": "markdown",
   "id": "5cf951f8",
   "metadata": {},
   "source": [
    "**Análisis de vigas por Resistencia**\n",
    "![image.png](attachment:image.png)\n",
    "Hipótesis de Whitney\n",
    "![image-2.png](attachment:image-2.png)\n",
    "El área debe ser la misma y los centroides deben coincidir, se logra con el factor $\\beta_{1}$, que tendrá un valor de 0.85 si el concreto tiene una resistencia menor a 4000 $lb/plg^{2}$ e irá reduciendose e a razón de 0.05 por cada incremento de 1000 $lb/plg^{2}$ hasta un valor mínimo de 0.65.\n",
    "\n",
    "$si f'{c} < 4000 lb/plg^{2}$\n",
    "\n",
    "$\\beta_{1}=085$\n",
    "\n",
    "$si f'{c} > 4000 lb/plg^{2}$\n",
    "\n",
    "$\\beta_{1}=085-(\\frac{f'_{c}-4000}{1000})(0.05) \\geq 0.65$"
   ]
  },
  {
   "cell_type": "markdown",
   "id": "3cc5b645",
   "metadata": {},
   "source": [
    "**Expresiones de cálculo en una viga a flexión**\n",
    "\n",
    "Incluímos la expresión de cunatía o porcentaje de acero a flexión:\n",
    "\n",
    "$\\rho=\\frac{A_{s}}{bd}$, entonces\n",
    "\n",
    "$a=\\frac{A_{s}f_{y}}{0.85f'_{c}b}=\\frac{\\rho f_{y}}{0.85f'_{c}}$\n",
    "\n",
    "Recordemos el valor del momento nominal:\n",
    "\n",
    "$M_{n}=T(d-\\frac{a}{2})=A_{s}f_{y}(d-\\frac{a}{2})$\n",
    "\n",
    "Añadiendo un factor de reducción de resistencia (0.9 para la flexión), la resistencia útil es:\n",
    "\n",
    "$\\phi M_{n}=M_{u}=\\phi A_{s} f_{y} (d-\\frac{a}{2})$\n",
    "\n",
    "Reemplazando el valor de a con $\\frac {\\rho f_{y} d} {0.85 f'_{c}}$ y $A_{s}$ con $\\rho b d$\n",
    "\n",
    "$\\phi M_{n}=M_{u}=\\phi b d^{2}f_{y} \\rho (1-\\frac{\\rho f_{y}}{1.7 f'_{c}})$\n",
    "\n",
    "Añadiendo un término auxiliar $R_{n}=\\frac{M_{u}}{\\phi b d^{2}}$ despejamos la cuantía ($\\rho$)\n",
    "\n",
    "$\\rho = \\frac{0.85 f'_{c}}{f_{y}}(1-\\sqrt{1-\\frac{2R_{n}}{0.85 f'_{c}}})$"
   ]
  },
  {
   "attachments": {
    "image.png": {
     "image/png": "[encoded data removed]"
    }
   },
   "cell_type": "markdown",
   "id": "382b6abd",
   "metadata": {},
   "source": [
    "**Deformaciones Unitarias**\n",
    "Aplicamos la hipótesis de que las deformaciones unitarias en miembros de concreto y su refuerzo varían en forma directamente proporcional a las distancias de sus ejes neutros.\n",
    "La deformación unitaria máxima útil en las fibras extremas de compresión de un miembro sometido a flexión es de 0.003.\n",
    "La deformación unitaria en el acero es de 0.002 en condición de balance (Teóricamente para el acero a 60 000 $lb/plg^{2}$ es igual a $\\frac{f_{y}}{E_{s}}=\\frac{60000}{26x10^{6}}=0.00207$)\n",
    "\n",
    "Podemos deducir el valor de c comparándolo con el valor de a:\n",
    "\n",
    "$a=\\frac{A_{s}f_{y}}{0.85f'_{c}b}=\\beta _{1}c$\n",
    "\n",
    "$c = \\frac{a}{\\beta_{1}}$\n",
    "\n",
    "Así podemos detrerminar la deformación unitaria del acero por triángulos semejantes\n",
    "\n",
    "![image.png](attachment:image.png)"
   ]
  },
  {
   "cell_type": "code",
   "execution_count": 1,
   "id": "5b883597",
   "metadata": {},
   "outputs": [],
   "source": [
    "# Ejemplo Deformaciones (calcular a,c y deformación unitaria)\n",
    "# datos\n",
    "d = 21 #pulg\n",
    "b = 14 #pulg\n",
    "fy = 60000 #lb/pulg2\n",
    "fc = 3000 #lb/pulg2\n",
    "As = 3 #pulg2\n",
    "\n",
    "a = As*fy/(0.85*fc*b)\n",
    "\n",
    "def calc_beta(fc):\n",
    "    if fc <= 3000:\n",
    "        beta_1 = 0.85\n",
    "    else:\n",
    "        beta_1 = 0.85-(fc-4000)/1000*.05\n",
    "        if beta_1<0.65:\n",
    "            beta_1 = 0.65\n",
    "    return beta_1        \n",
    "    \n",
    "beta_1 = calc_beta(fc)\n",
    "        \n",
    "c = a/beta_1\n",
    "eps_t = (d-c)/c*(0.003)"
   ]
  },
  {
   "cell_type": "code",
   "execution_count": 2,
   "id": "9d1e1f48",
   "metadata": {},
   "outputs": [
    {
     "name": "stdout",
     "output_type": "stream",
     "text": [
      "a: 5.04\n",
      "beta_1: 0.85\n",
      "c: 5.93\n",
      "eps_1: 0.01\n"
     ]
    }
   ],
   "source": [
    "print(\"a: {:.2f}\".format(a))\n",
    "print(\"beta_1: {:.2f}\".format(beta_1))\n",
    "print(\"c: {:.2f}\".format(c))\n",
    "print(\"eps_1: {:.2f}\".format(eps_t))"
   ]
  },
  {
   "cell_type": "markdown",
   "id": "fec87af4",
   "metadata": {},
   "source": [
    "**Reducción de resistencia de factores**\n",
    "\n",
    "Cuando tenemos vigas donde $\\epsilon_{y}\\geq 0.005$ el valor de $\\phi$ para flexión es 0.90. Si $\\epsilon_{y}$ es menor a 0.005, aún es posible usar las secciones, sin embargo el valor de $\\phi$ cambia generándose vigas antieconómicas, es recomendable ampliar las dimensiones de la viga o reducir la cantidad de acero en esta.\n",
    "\n",
    "Cuando $f_{y}=60000 \\ lib/pulg^{2}$\n",
    "\n",
    "$\\phi = 0.65 + 0.25 \\left[ \\frac{1}{c/d_{t}} - \\frac{5}{3} \\right]$\n",
    "\n",
    "Para resistencias diferentes a $f_{y}=60000 \\ lib/pulg^{2}$\n",
    "\n",
    "$\\phi = 0.65 + (\\epsilon_{t} - \\epsilon_{y}) \\frac {0.25} {0.005- \\epsilon_{y}}$\n",
    "\n",
    "**Acero mínimo**\n",
    "\n",
    "$A_{min} = min( \\frac{ 3\\sqrt{f'_{c}}}{f_{y}}b_{w}d  ,  \\frac{200b_{w}d}{f_{y}})$\n",
    "\n",
    "**Porcentaje de acero en equilibrio (cuantía balanceada)**\n",
    "\n",
    "$ \\rho_{b}=\\left( \\frac{0.85\\beta_{1}f'_{c}}{f_{y}} \\right) \\left( \\frac{87000}{87000+f_{y}} \\right)$"
   ]
  },
  {
   "cell_type": "code",
   "execution_count": 20,
   "id": "741f8a18",
   "metadata": {},
   "outputs": [],
   "source": [
    "#Ejemplo capacidades de momento de diseño\n",
    "h = 27 #pulg\n",
    "r = 3 #pulg\n",
    "b = 15 #pulg\n",
    "As = 4 #pulg2\n",
    "fc = 4000 #lb/pulg2\n",
    "fy = 60000 #lb/pulg2\n",
    "\n",
    "d = h-r\n",
    "rho = As/(b*d)\n",
    "\n",
    "rho_min1 = 3 * fc ** 0.5 / fy\n",
    "rho_min2 = 200 / fy\n",
    "rho_min = min(rho_min1,rho_min2)\n",
    "\n",
    "a = As*fy/(0.85*fc*b)\n",
    "beta_1 = calc_beta(fc)\n",
    "c = a/beta_1\n",
    "\n",
    "eps_t = (d-c)/c*0.003\n",
    "\n",
    "def calc_phi(eps_t):\n",
    "    if eps_t > 0.005:\n",
    "        return 0.9\n",
    "    elif eps_t < 0.004:\n",
    "        print('La sección no es ductil')\n",
    "        return\n",
    "    else:\n",
    "        phi = 0.65 + (eps_t - 0.002)*250/3          \n",
    "\n",
    "phi = calc_phi(eps_t)\n",
    "Mn = As*fy*(d-a/2)/12000\n",
    "phi_Mn = phi*Mn"
   ]
  },
  {
   "cell_type": "code",
   "execution_count": 26,
   "id": "89fd5748",
   "metadata": {},
   "outputs": [
    {
     "name": "stdout",
     "output_type": "stream",
     "text": [
      "rho: 0.01\n",
      "rho_min1: 0.0032\n",
      "rho_min2: 0.0033\n",
      "rho_min: 0.0032\n",
      "a: 4.71\n",
      "beta_1: 0.85\n",
      "c: 5.54\n",
      "eps_t: 0.010\n",
      "phi: 0.90\n",
      "Mn: 432.94\n",
      "phi_Mn: 389.65\n"
     ]
    }
   ],
   "source": [
    "print('rho: {:.2f}'.format(rho))\n",
    "print('rho_min1: {:.4f}'.format(rho_min1))\n",
    "print('rho_min2: {:.4f}'.format(rho_min2))\n",
    "print('rho_min: {:.4f}'.format(rho_min))\n",
    "print('a: {:.2f}'.format(a))\n",
    "print('beta_1: {:.2f}'.format(beta_1))\n",
    "print('c: {:.2f}'.format(c))\n",
    "print('eps_t: {:.3f}'.format(eps_t))\n",
    "print('phi: {:.2f}'.format(phi))\n",
    "print('Mn: {:.2f}'.format(Mn))\n",
    "print('phi_Mn: {:.2f}'.format(phi_Mn))"
   ]
  },
  {
   "cell_type": "code",
   "execution_count": 33,
   "id": "f47afe80",
   "metadata": {},
   "outputs": [
    {
     "name": "stdout",
     "output_type": "stream",
     "text": [
      "La sección no es ductil\n"
     ]
    }
   ],
   "source": [
    "#Ejemplo capacidades de momento de diseño\n",
    "h = 18 #pulg\n",
    "r = 3 #pulg\n",
    "b = 12 #pulg\n",
    "As = 4.68 #pulg2\n",
    "fc = 4000 #lb/pulg2\n",
    "fy = 60000 #lb/pulg2\n",
    "\n",
    "d = h-r\n",
    "rho = As/(b*d)\n",
    "\n",
    "rho_min1 = 3 * fc ** 0.5 / fy\n",
    "rho_min2 = 200 / fy\n",
    "rho_min = min(rho_min1,rho_min2)\n",
    "\n",
    "a = As*fy/(0.85*fc*b)\n",
    "beta_1 = calc_beta(fc)\n",
    "c = a/beta_1\n",
    "\n",
    "eps_t = (d-c)/c*0.003\n",
    "\n",
    "def calc_phi(eps_t):\n",
    "    if eps_t > 0.005:\n",
    "        return 0.9\n",
    "    elif eps_t < 0.004:\n",
    "        return('La sección no es ductil')\n",
    "    else:\n",
    "        phi = 0.65 + (eps_t - 0.002)*250/3          \n",
    "\n",
    "phi = calc_phi(eps_t)\n",
    "Mn = As*fy*(d-a/2)/12000\n",
    "\n",
    "try:\n",
    "    phi_Mn = phi*Mn\n",
    "except:\n",
    "    pass"
   ]
  },
  {
   "cell_type": "code",
   "execution_count": 34,
   "id": "96990454",
   "metadata": {},
   "outputs": [],
   "source": [
    "#Ejemplo capacidades de momento de diseño\n",
    "h = 18 #pulg\n",
    "r = 3 #pulg\n",
    "b = 10 #pulg\n",
    "As = 4.68 #pulg2\n",
    "fc = 4000 #lb/pulg2\n",
    "fy = 60000 #lb/pulg2\n",
    "\n",
    "d = h-r\n",
    "rho = As/(b*d)\n",
    "\n",
    "rho_min1 = 3 * fc ** 0.5 / fy\n",
    "rho_min2 = 200 / fy\n",
    "rho_min = min(rho_min1,rho_min2)\n",
    "\n",
    "a = As*fy/(0.85*fc*b)\n",
    "beta_1 = calc_beta(fc)\n",
    "c = a/beta_1\n",
    "\n",
    "eps_t = (d-c)/c*0.003\n",
    "\n",
    "def calc_phi(eps_t):\n",
    "    if eps_t > 0.005:\n",
    "        return 0.9\n",
    "    elif eps_t < 0.004:\n",
    "        return('La sección no es ductil')\n",
    "    else:\n",
    "        phi = 0.65 + (eps_t - 0.002)*250/3          \n",
    "\n",
    "phi = calc_phi(eps_t)\n",
    "Mn = As*fy*(d-a/2)/12000\n",
    "\n",
    "try:\n",
    "    phi_Mn = phi*Mn\n",
    "except:\n",
    "    pass"
   ]
  },
  {
   "cell_type": "code",
   "execution_count": 37,
   "id": "5eec675c",
   "metadata": {},
   "outputs": [
    {
     "name": "stdout",
     "output_type": "stream",
     "text": [
      "rho: 0.03\n",
      "rho_min1: 0.0032\n",
      "rho_min2: 0.0033\n",
      "rho_min: 0.0032\n",
      "a: 8.26\n",
      "beta_1: 0.85\n",
      "c: 9.72\n",
      "eps_t: 0.002\n",
      "La sección no es ductil\n"
     ]
    }
   ],
   "source": [
    "print('rho: {:.2f}'.format(rho))\n",
    "print('rho_min1: {:.4f}'.format(rho_min1))\n",
    "print('rho_min2: {:.4f}'.format(rho_min2))\n",
    "print('rho_min: {:.4f}'.format(rho_min))\n",
    "print('a: {:.2f}'.format(a))\n",
    "print('beta_1: {:.2f}'.format(beta_1))\n",
    "print('c: {:.2f}'.format(c))\n",
    "print('eps_t: {:.3f}'.format(eps_t))\n",
    "try:\n",
    "    print('phi: {:.2f}'.format(phi))\n",
    "    print('Mn: {:.2f}'.format(Mn))\n",
    "    print('phi_Mn: {:.2f}'.format(phi_Mn))\n",
    "except:\n",
    "    print(phi)"
   ]
  },
  {
   "cell_type": "markdown",
   "id": "1dabbe99",
   "metadata": {},
   "source": [
    "**Factores de Carga**\n",
    "\n",
    "Factores que amplifican la carga según el grado de incertidumbre que tengamos al calcularla.\n",
    "   \n",
    "U = 1.4(D+F)\n",
    "\n",
    "U = 1.2(D+F+T)+1.6(L+H)+0.5($L_{r}$ o S o R)\n",
    "\n",
    "U = 1.2D + 1.6($L_{r}$ o S o R)+(1.0L o 0.8W)\n",
    "\n",
    "U = 1.2D + 1.6W + 1.0L + 0.5($L_{r}$ o S o R)\n",
    "\n",
    "U = 1.2D + 1.0E + 1.0L + 0.2S\n",
    "\n",
    "U = 0.9D + 1.6W + 1.6H\n",
    "\n",
    "U = 0.9D + 1.0E + 1.6H\n",
    "\n",
    "Donde:\n",
    "\n",
    "U = carga de diseño o última que la estrucutra necesita poder resistir\n",
    "\n",
    "D = carga muerta\n",
    "\n",
    "F = cargas debidas al peso y presión de fluidos\n",
    "\n",
    "T = efectos totales de temperatura, flujo, contracción, asentamientos diferenciales y concreto compensador de contracción\n",
    "\n",
    "L = carga viva\n",
    "\n",
    "H = cargas debidas al peso y a la presión lateral del suelo, presión del agua subterránea o presión de materiales a granel\n",
    "\n",
    "$L_{r}$ = carga viva de techo\n",
    "\n",
    "S = carga de nieve\n",
    "\n",
    "R = carga pluvial\n",
    "\n",
    "W = carga eólica\n",
    "\n",
    "E = efectos sísmicos o carga de terremoto"
   ]
  },
  {
   "cell_type": "code",
   "execution_count": 7,
   "id": "743abb3a",
   "metadata": {},
   "outputs": [],
   "source": [
    "#Ejemplo Factores de Carga\n",
    "#Datos de cargas axiales de una columna\n",
    "D = 150 #klb\n",
    "Lr = 60 #klb\n",
    "L = 300 #klb\n",
    "Wc = 70 #klb (viento compresión)\n",
    "Wt = -60 #klb (viento tensión)\n",
    "Ec = 50 #klb (sismo compresión)\n",
    "Et = -40 #klb (sismo compresión)\n",
    "\n",
    "U = [\n",
    "    1.4*(D+0),\n",
    "    1.2*(D+0+0)+1.6*(L+0)+0.5*Lr,\n",
    "    1.2*D+1.6*(Lr)+1*L,\n",
    "    1.2*D+1.6*Lr+0.8*Wc,\n",
    "    1.2*D+1.6*Lr+0.8*Wt,\n",
    "    1.2*D+1.6*Wc+L+0.5*Lr,\n",
    "    1.2*D+1.6*Wt+L+0.5*Lr,\n",
    "    1.2*D+Ec+L+0.2*0,\n",
    "    1.2*D+Et+L+0.2*0,\n",
    "    0.9*D+1.6*Wc+1.6*0,\n",
    "    0.9*D+1.6*Wt+1.6*0,\n",
    "    0.9*D+1*Ec+1.6*0,\n",
    "    0.9*D+1*Et+1.6*0\n",
    "]\n"
   ]
  },
  {
   "cell_type": "code",
   "execution_count": 8,
   "id": "e5924d98",
   "metadata": {},
   "outputs": [
    {
     "name": "stdout",
     "output_type": "stream",
     "text": [
      "[210.0, 690.0, 576.0, 332.0, 228.0, 622.0, 414.0, 530.0, 440.0, 247.0, 39.0, 185.0, 95.0]\n",
      "Umax: 690.00\n"
     ]
    }
   ],
   "source": [
    "print(U)\n",
    "print('Umax: {:.2f}'.format(max(U)))"
   ]
  },
  {
   "cell_type": "code",
   "execution_count": null,
   "id": "570f86bc",
   "metadata": {},
   "outputs": [],
   "source": [
    "    "
   ]
  }
 ],
 "metadata": {
  "kernelspec": {
   "display_name": "Python 3 (ipykernel)",
   "language": "python",
   "name": "python3"
  },
  "language_info": {
   "codemirror_mode": {
    "name": "ipython",
    "version": 3
   },
   "file_extension": ".py",
   "mimetype": "text/x-python",
   "name": "python",
   "nbconvert_exporter": "python",
   "pygments_lexer": "ipython3",
   "version": "3.8.10"
  }
 },
 "nbformat": 4,
 "nbformat_minor": 5
}
