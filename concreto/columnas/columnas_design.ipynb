{
 "cells": [
  {
   "cell_type": "code",
   "execution_count": 19,
   "id": "5fc6ed0d",
   "metadata": {},
   "outputs": [
    {
     "ename": "ImportError",
     "evalue": "cannot import name 'etabs_utils' from 'lib' (unknown location)",
     "output_type": "error",
     "traceback": [
      "\u001b[1;31m---------------------------------------------------------------------------\u001b[0m",
      "\u001b[1;31mImportError\u001b[0m                               Traceback (most recent call last)",
      "Cell \u001b[1;32mIn[19], line 11\u001b[0m\n\u001b[0;32m      9\u001b[0m \u001b[39mimport\u001b[39;00m \u001b[39msys\u001b[39;00m\n\u001b[0;32m     10\u001b[0m \u001b[39m# sys.path.append(os.getcwd()+'\\\\..\\\\..')\u001b[39;00m\n\u001b[1;32m---> 11\u001b[0m \u001b[39mfrom\u001b[39;00m \u001b[39mlib\u001b[39;00m \u001b[39mimport\u001b[39;00m etabs_utils \u001b[39mas\u001b[39;00m etb\n\u001b[0;32m     12\u001b[0m \u001b[39mfrom\u001b[39;00m \u001b[39mlib\u001b[39;00m \u001b[39mimport\u001b[39;00m sismo_utils \u001b[39mas\u001b[39;00m sis\n\u001b[0;32m     15\u001b[0m \u001b[39m# %load_ext autoreload\u001b[39;00m\n\u001b[0;32m     16\u001b[0m \u001b[39m# %autoreload 2\u001b[39;00m\n",
      "\u001b[1;31mImportError\u001b[0m: cannot import name 'etabs_utils' from 'lib' (unknown location)"
     ]
    }
   ],
   "source": [
    "import math\n",
    "import numpy as np\n",
    "import pandas as pd\n",
    "import matplotlib.pyplot as plt\n",
    "import columnas_utils as col\n",
    "\n",
    "\n",
    "import os\n",
    "import sys\n",
    "sys.path.append('D:\\Apps\\github\\apuntes_ingenieria_estructural')\n",
    "from lib import etabs_utils as etb\n",
    "from lib import sismo_utils as sis\n",
    "\n",
    "\n",
    "# %load_ext autoreload\n",
    "# %autoreload 2\n",
    "%matplotlib inline\n",
    "%matplotlib notebook"
   ]
  },
  {
   "cell_type": "markdown",
   "id": "13adc4e8",
   "metadata": {},
   "source": [
    "## Diseño de Columnas según ACI 318-19"
   ]
  },
  {
   "cell_type": "code",
   "execution_count": null,
   "id": "34fc3077",
   "metadata": {},
   "outputs": [
    {
     "name": "stdout",
     "output_type": "stream",
     "text": [
      "D:\\Apps\\github\\apuntes_ingenieria_estructural\n"
     ]
    }
   ],
   "source": [
    "%cd D:\\Apps\\github\\apuntes_ingenieria_estructural"
   ]
  },
  {
   "cell_type": "code",
   "execution_count": null,
   "id": "9619f704",
   "metadata": {},
   "outputs": [],
   "source": [
    "# Definicion de las unidades\n",
    "N = 1\n",
    "m = 1\n",
    "cm = 1/100\n",
    "Pa = 1\n",
    "MPa = 10**6\n",
    "pulg = 2.54 / 100\n",
    "\n",
    "# Definicion de varillas de acero:\n",
    "d_3 = 3/8 * pulg\n",
    "d_4 = 1/2 * pulg\n",
    "d_5 = 5/8 * pulg\n",
    "d_6 = 3/4 * pulg\n",
    "d_8 = 1 * pulg\n",
    "\n",
    "A_3 = d_3 ** 2 /4 * math.pi\n",
    "A_4 = d_4 ** 2 /4 * math.pi\n",
    "A_5 = d_5 ** 2 /4 * math.pi\n",
    "A_6 = d_6 ** 2 /4 * math.pi\n",
    "A_8 = d_8 ** 2 /4 * math.pi"
   ]
  },
  {
   "cell_type": "markdown",
   "id": "0a999f3a",
   "metadata": {},
   "source": [
    "## Datos de la sección"
   ]
  },
  {
   "cell_type": "code",
   "execution_count": null,
   "id": "cae420db",
   "metadata": {},
   "outputs": [],
   "source": [
    "#Dimensiones de la columna\n",
    "b = 35*cm\n",
    "h = 75*cm\n",
    "r = 4*cm\n",
    "column = col.Column(b, h, r)"
   ]
  },
  {
   "cell_type": "markdown",
   "id": "b7914e50",
   "metadata": {},
   "source": [
    "## Materiales"
   ]
  },
  {
   "cell_type": "code",
   "execution_count": null,
   "id": "f3fb90ad",
   "metadata": {},
   "outputs": [],
   "source": [
    "# Concreto\n",
    "fc = 21*MPa #Resistencia a la compresion\n",
    "eps_u = 0.003 #Deformación unitaria ultima\n",
    "column.set_concrete(fc, eps_u)\n",
    "\n",
    "#Acero de refuerzo\n",
    "fy = 420*MPa #Esfuerzo a la fluencia del acero\n",
    "Es = 200000*MPa #Módulo de elasticidad del acero\n",
    "eps_y = fy/Es #Deformación de fluencia del acero\n",
    "column.set_steel_reb(fy, Es)"
   ]
  },
  {
   "cell_type": "markdown",
   "id": "43789e88",
   "metadata": {},
   "source": [
    "## Acero de Refuerzo Colocado"
   ]
  },
  {
   "cell_type": "code",
   "execution_count": null,
   "id": "767b93b9",
   "metadata": {},
   "outputs": [],
   "source": [
    "d_p = d_5 #diámetro principal\n",
    "d_s = d_5 #diámetro secundario\n",
    "d_st = d_3 #diámetro del estribo\n",
    "n_f = 6  #filas de acero\n",
    "n_c = 3 #columnas de acero\n",
    "column.set_rebar(d_p, d_s, d_st, n_f, n_c)"
   ]
  },
  {
   "cell_type": "markdown",
   "id": "0524c95d",
   "metadata": {},
   "source": [
    "## Resistencia a la compresión pura de la Columna"
   ]
  },
  {
   "cell_type": "code",
   "execution_count": null,
   "id": "e7fbc2ed",
   "metadata": {},
   "outputs": [],
   "source": [
    "#factor de minoración\n",
    "phi = 0.65\n",
    "column.compress_resist(phi)\n",
    "print('Resistencia a la compresión pura reducida: {:.2f} N'.format(column.phiP_n))"
   ]
  },
  {
   "cell_type": "markdown",
   "id": "653197e7",
   "metadata": {},
   "source": [
    "## Diseño a Flexocompresión"
   ]
  },
  {
   "cell_type": "code",
   "execution_count": null,
   "id": "563b1554",
   "metadata": {},
   "outputs": [],
   "source": [
    "#Importación de cargas\n",
    "cargas = pd.read_csv('cargas.csv',sep=';')\n",
    "\n",
    "#Conversion de unidades\n",
    "cargas.P = cargas.P*9.81*10**3\n",
    "cargas.M2 = cargas.M2*9.81*10**3\n",
    "cargas.M3 = cargas.M3*9.81*10**3"
   ]
  },
  {
   "cell_type": "code",
   "execution_count": null,
   "id": "cf681847",
   "metadata": {},
   "outputs": [],
   "source": [
    "cargas"
   ]
  },
  {
   "cell_type": "code",
   "execution_count": null,
   "id": "93656826",
   "metadata": {},
   "outputs": [],
   "source": [
    "#Diagrama de flexocompresión:\n",
    "column.biaxial_flex_comp()"
   ]
  },
  {
   "cell_type": "code",
   "execution_count": null,
   "id": "668b25c0",
   "metadata": {},
   "outputs": [],
   "source": [
    "#Datos generados:\n",
    "column.biaxial_f_c"
   ]
  },
  {
   "cell_type": "code",
   "execution_count": null,
   "id": "4917d07f",
   "metadata": {},
   "outputs": [],
   "source": [
    "#Diagrama a flexocompresión\n",
    "fig = plt.figure()\n",
    "ax = fig.add_subplot(projection='3d')\n",
    "column.plot_bi_f_c(ax,loads=cargas)\n",
    "plt.title('Diagrama de Flexocompresión')\n",
    "ax.set_xlabel(\"$\\phi Mn_x$ (kN-m)\")\n",
    "ax.set_ylabel(\"$\\phi Mn_x$ (kN-m)\")\n",
    "ax.set_zlabel(\"$\\phi Pn$ (kN)\")\n",
    "plt.show()"
   ]
  },
  {
   "cell_type": "code",
   "execution_count": null,
   "id": "0a939dc1",
   "metadata": {},
   "outputs": [],
   "source": [
    "fig, ax = plt.subplots()\n",
    "column.plot_f_c(ax,loads=cargas,axis='x')\n",
    "plt.show()"
   ]
  },
  {
   "cell_type": "code",
   "execution_count": null,
   "id": "c93b4a6f",
   "metadata": {
    "scrolled": true
   },
   "outputs": [],
   "source": [
    "fig, ax = plt.subplots()\n",
    "column.plot_f_c(ax,loads=cargas,axis='y')\n",
    "plt.show()"
   ]
  },
  {
   "cell_type": "markdown",
   "id": "0f73ec4c",
   "metadata": {},
   "source": [
    "## Comprobación Viga débil Columna Fuerte\n",
    "\n",
    "La resistencia a la flexión de las columnas debe ser por lo menos 6/5 de la resistencia a la flexion de la viga que se apoya en ella:\n",
    "\n",
    "$ \\hspace{5.5cm} \\Sigma M_{nc} \\geq (6/5) \\Sigma M_{nb} $"
   ]
  },
  {
   "cell_type": "code",
   "execution_count": null,
   "id": "15d9219e",
   "metadata": {},
   "outputs": [],
   "source": [
    "#Datos de la viga\n",
    "viga_1 = col.Beam(b=25*cm,h=40*cm,r=9*cm)\n",
    "viga_1.set_rebar(d_s=d_5, n_s=4)\n",
    "\n",
    "#Momento Resistente máximo con acero en tracción solamente\n",
    "As = viga_1.Ast\n",
    "fy = viga_1.fy\n",
    "fc = viga_1.fc\n",
    "b = viga_1.b\n",
    "d = viga_1.d\n",
    "phi_f = 0.9\n",
    "viga_1.a = As*fy/(0.5*fc*b)\n",
    "viga_1.Mn = As*fy*(d-viga_1.a/2)\n",
    "viga_1.phi_Mn = phi_f*viga_1.Mn"
   ]
  },
  {
   "cell_type": "code",
   "execution_count": null,
   "id": "93818f3e",
   "metadata": {},
   "outputs": [],
   "source": [
    "#Elegimos la menor carga que no se encuentra en el último nivel\n",
    "P_min = cargas[cargas.Piso!=6]['P'].max()*-1\n",
    "\n",
    "#Filtro de datos para la menor carga\n",
    "data = column.biaxial_f_c\n",
    "data = data[data.theta==0]\n",
    "data = data[abs(data.Pn-P_min)== min(abs(data.Pn-P_min))]\n",
    "\n",
    "#Momento de diseño\n",
    "Mnx_des = float(data.Mn_x)\n",
    "\n",
    "#Verificación:\n",
    "if 2*Mnx_des > 1.2*(2*viga_1.Mn):\n",
    "    print('OK')\n",
    "else:\n",
    "    print('Viga más fuerte que la columna')"
   ]
  },
  {
   "cell_type": "markdown",
   "id": "ce2297c7",
   "metadata": {},
   "source": [
    "## Desarrollo del acero en la columna\n",
    "A lo largo de la altura libre de la columna, el refuerzo longitudinal debe seleccionarse de manera que:\n",
    "\n",
    "$\\hspace{5cm} 1.25\\cdot l_d = l_u/2 $\n",
    "- $l_u$ luz libre de la columna\n",
    "- $l_d $ longitud de desarrollo del acero"
   ]
  },
  {
   "cell_type": "code",
   "execution_count": null,
   "id": "51485f6f",
   "metadata": {},
   "outputs": [],
   "source": [
    "#Cálculo de la longitud de desarrollo sin considerar confinamiento de estribos\n",
    "lu = 1.95*m\n",
    "lamb = 1\n",
    "psi_g = 1\n",
    "psi_e = 1\n",
    "psi_s1 = 1\n",
    "psi_s2 = 0.8\n",
    "psi_ts = 1.3\n",
    "psi_ti = 1\n",
    "db = 0.75 * pulg\n",
    "\n",
    "psi_ts_e = psi_ts*psi_e \n",
    "if psi_ts_e > 1.7:\n",
    "    psi_ts_e = 1.7\n",
    "    \n",
    "sqrt_fc = (fc/10**6)**0.5*MPa\n",
    "if sqrt_fc > 8.3*MPa:\n",
    "   sqrt_fc = 8.3*MPa\n",
    "\n",
    "ld3 = fy/(1.1*lamb*sqrt_fc)*psi_g*psi_e*psi_s2*psi_g*db\n",
    "ld3"
   ]
  },
  {
   "cell_type": "code",
   "execution_count": null,
   "id": "c67958d4",
   "metadata": {},
   "outputs": [],
   "source": [
    "#Considerando el efecto de los estribos:\n",
    "r = column.r\n",
    "d_st = column.d_st\n",
    "nb = column.n_c\n",
    "\n",
    "cb1 = r+d_st+db*0.5\n",
    "cb2 = (b-2*r-2*d_st-db)/(nb-1)/2\n",
    "cb = min(cb1,cb2)\n",
    "\n",
    "k_tr = 0\n",
    "\n",
    "#restricciones de la norma\n",
    "alpha = (cb+k_tr)/db\n",
    "if alpha > 2.5:\n",
    "    alpha = 2.5\n",
    "\n",
    "#Por tanto:\n",
    "ld3 = ld3/alpha \n",
    "ld3"
   ]
  },
  {
   "cell_type": "code",
   "execution_count": null,
   "id": "1f7e31cf",
   "metadata": {},
   "outputs": [],
   "source": [
    "#Verificación\n",
    "if 1.25*ld3 <= lu/2:\n",
    "    print('Ok')\n",
    "else:\n",
    "    print('El acero no puede desarrolarse en la columna')"
   ]
  },
  {
   "cell_type": "markdown",
   "id": "42a57e93",
   "metadata": {},
   "source": [
    "## Diseño de estribos\n",
    "\n",
    "### Longitud de confinamiento:\n",
    "Es la longitud $l_o$ medida desde cada cara del nudo a ambos lados de cualquier sección donde pueda ocurrir fluencia por flexión como resultado de desplazamientos laterales que exceden el rango elástico de comportamiento."
   ]
  },
  {
   "cell_type": "code",
   "execution_count": null,
   "id": "3665cc83",
   "metadata": {},
   "outputs": [],
   "source": [
    "hm= 2.1*m\n",
    "h = column.h\n",
    "Lo = max(b,h,hm/6,45*cm)\n",
    "Lo"
   ]
  },
  {
   "attachments": {
    "image.png": {
     "image/png": "[encoded data removed]"
    }
   },
   "cell_type": "markdown",
   "id": "4a4979fe",
   "metadata": {},
   "source": [
    "### Distribución de los estribos en la sección\n",
    "La cantidad de refuerzo transversal debe cumplir con le exigido en la tabla 18.7.5.4:\n",
    "![image.png](attachment:image.png)\n",
    "\n",
    "- $k_f$: factor de resistencia del concreto $k_f=\\frac{f'_c}{175}+0.6 \\geq 1.0$\n",
    "- $k_n$: factor de efectividad del confinamiento $k_n=\\frac{n_l}{nl-2}$\n",
    "- $n_l$: número de barras longitudinales alrededor del perímetro del núcleo de una columna con estribos cerrados de confinamiento que están soportados lateralmente por una esquina del estribo cerrado de confinamiento con ganchos sísmicos"
   ]
  },
  {
   "cell_type": "code",
   "execution_count": null,
   "id": "8fb45e51",
   "metadata": {},
   "outputs": [],
   "source": [
    "s = 10*cm #Separación inicial de estribos\n",
    "bc = b-2*r\n",
    "hc = h-2*r\n",
    "Ach = bc*hc\n",
    "P_max = cargas.P.min()\n",
    "Ag = column.Ag\n",
    "\n",
    "#Dirección X:\n",
    "Ash1 = 0.09*s*bc*fc/fy\n",
    "Ash2 = 0.3*s*bc*(Ag/Ach-1)*fc/fy\n",
    "Ash3 = 0\n",
    "nl = 10\n",
    "if 0.3*fc*Ag < P_max:\n",
    "    kf = fc/175+0.6\n",
    "    if kf < 1.0:\n",
    "        kf = 1.0 \n",
    "    kn = nl/(nl-2)\n",
    "    Ash3 = 0.2*kf*kn*P_max/(fy*Ach)\n",
    "Ashx = max(Ash1,Ash2,Ash3)\n",
    "Ashx*10**4"
   ]
  },
  {
   "cell_type": "code",
   "execution_count": null,
   "id": "c9df3eb4",
   "metadata": {},
   "outputs": [],
   "source": [
    "#Revisión Y\n",
    "Ash1 = 0.09*s*hc*fc/fy\n",
    "Ash2 = 0.3*s*hc*(Ag/Ach-1)*fc/fy\n",
    "Ash3 = 0\n",
    "nl = 10\n",
    "if 0.3*fc*Ag < P_max:\n",
    "    kf = fc/175+0.6\n",
    "    if kf < 1.0:\n",
    "        kf = 1.0 \n",
    "    kn = nl/(nl-2)\n",
    "    Ash3 = 0.2*kf*kn*P_max/(fy*Ach)\n",
    "Ashy = max(Ash1,Ash2,Ash3)\n",
    "Ashy*10**4"
   ]
  },
  {
   "cell_type": "code",
   "execution_count": null,
   "id": "3138fdd6",
   "metadata": {},
   "outputs": [],
   "source": [
    "#Comprobracion:\n",
    "Ashpx = 2*A_4 #dos ramas de acero #4\n",
    "Ashpy = 4*A_3+2*A_4 #dos ramas de acero #4 y cuatro ramas de #3\n",
    "\n",
    "if Ashpx < Ashx:\n",
    "    print('Acero insuficiente en X')\n",
    "else:\n",
    "    print('Acero colocado en el sentido X: {:.2f} cm^2'.format(Ashpx*10**4))\n",
    "if Ashpy < Ashy:\n",
    "    print('Acero insuficiente en Y')\n",
    "else:\n",
    "    print('Acero colocado en el sentido Y: {:.2f} cm^2'.format(Ashpy*10**4))"
   ]
  },
  {
   "cell_type": "markdown",
   "id": "f4bd0ee0",
   "metadata": {},
   "source": [
    "### Cortante que toma el acero considerando rótula en la columna"
   ]
  },
  {
   "cell_type": "code",
   "execution_count": null,
   "id": "cc43c852",
   "metadata": {},
   "outputs": [],
   "source": [
    "#Diagramas a flexocompresión mayorados\n",
    "\n",
    "#Momentos en X\n",
    "flex_comp_data = column.nominal_PM(theta=0,mayored=True)\n",
    "Pn_x_may = flex_comp_data[0]\n",
    "Mn_x_may = flex_comp_data[2]\n",
    "\n",
    "#Momentos en Y\n",
    "flex_comp_data = column.nominal_PM(theta=90,mayored=True)\n",
    "Pn_y_may = flex_comp_data[0]\n",
    "Mn_y_may = flex_comp_data[4]"
   ]
  },
  {
   "cell_type": "code",
   "execution_count": null,
   "id": "2c1ae7e9",
   "metadata": {},
   "outputs": [],
   "source": [
    "#Diagrama en el eje x    \n",
    "fig, ax = plt.subplots()\n",
    "column.plot_f_c(ax,loads=cargas,axis='x',factored=False)\n",
    "ax.set_xlabel(\"$M_x$ (kN-m)\")\n",
    "ax.set_ylabel(\"$Pn$ (kN)\")\n",
    "plt.show()"
   ]
  },
  {
   "cell_type": "code",
   "execution_count": null,
   "id": "4407283e",
   "metadata": {},
   "outputs": [],
   "source": [
    "#Diagrama en el eje y  \n",
    "fig, ax = plt.subplots()\n",
    "column.plot_f_c(ax,loads=cargas,axis='y',factored=False)\n",
    "ax.set_xlabel(\"$M_y$ (kN-m)\")\n",
    "ax.set_ylabel(\"$Pn$ (kN)\")\n",
    "plt.show()"
   ]
  },
  {
   "cell_type": "code",
   "execution_count": null,
   "id": "efda8ffc",
   "metadata": {},
   "outputs": [],
   "source": [
    "#Momentos Probables\n",
    "P_max = cargas['P'].min()\n",
    "i = column.find_i(Pn_x_may,P_max)\n",
    "Mnx_des = Mn_x_may[i]\n",
    "Pnx_des = Pn_x_may[i]\n",
    "\n",
    "i = column.find_i(Pn_y_may,P_max)\n",
    "Mny_des = Mn_y_may[i]\n",
    "Pny_des = Pn_y_may[i]"
   ]
  },
  {
   "cell_type": "code",
   "execution_count": null,
   "id": "241d750a",
   "metadata": {},
   "outputs": [],
   "source": [
    "#Cortantes ultimas por capacidad\n",
    "hn1 = 1.95*m\n",
    "hn2 = 2.1*m\n",
    "Vux = 2*Mnx_des/hn2\n",
    "Vuy = 2*Mny_des/hn1"
   ]
  },
  {
   "cell_type": "code",
   "execution_count": null,
   "id": "0cad497c",
   "metadata": {},
   "outputs": [],
   "source": [
    "#Cortante que toma el concreto:\n",
    "phi_c =0.75 #factor de reduccion\n",
    "#Direccion X\n",
    "Y = abs(P_max)/(6*Ag)\n",
    "Y = min(Y,0.05*fc)\n",
    "Vcx1 = (0.17*lamb*(fc/MPa)**0.5*MPa+Y)*h*(b-r-d_st)\n",
    "Vcx2 = (0.42*lamb*(fc/MPa)**0.5*MPa)*h*(b-r-d_st)\n",
    "Vcx = min(Vcx1,Vcx2)\n",
    "Vsx = (Vux-phi_c*Vcx)/phi_c\n",
    "#Direccion Y\n",
    "Vcy1 = (0.17*lamb*(fc/MPa)**0.5*MPa+Y)*b*(h-r-d_st)\n",
    "Vcy2 = (0.42*lamb*(fc/MPa)**0.5*MPa)*b*(h-r-d_st)\n",
    "Vcy = min(Vcy1,Vcy2)\n",
    "Vsy = (Vuy-phi_c*Vcy)/phi_c"
   ]
  },
  {
   "cell_type": "code",
   "execution_count": null,
   "id": "a10a5e54",
   "metadata": {},
   "outputs": [],
   "source": [
    "#Comprobacion de la sección transversal por cortante\n",
    "Vumx = phi_c*(Vcx+0.66*(fc/MPa)**0.5*MPa*h*(b-r-d_st))\n",
    "Vumy = phi_c*(Vcy+0.66*(fc/MPa)**0.5*MPa*b*(h-r-d_st))\n",
    "\n",
    "if Vumx < Vux:\n",
    "    print('Aumentar seccion')\n",
    "else:\n",
    "    print('OK')\n",
    "    \n",
    "if Vumy < Vuy:\n",
    "    print('Aumentar seccion')\n",
    "else:\n",
    "    print('OK')"
   ]
  },
  {
   "cell_type": "code",
   "execution_count": null,
   "id": "2c8b5c8d",
   "metadata": {},
   "outputs": [],
   "source": [
    "#Separación de estribos:\n",
    "#Direccion X\n",
    "n = 2\n",
    "n2 = 0\n",
    "theta = math.radians(45)\n",
    "Ast = A_4*n+A_3*n2*math.cos(theta)\n",
    "sx = Ast*fy*(h-r-d_st)/Vsy\n",
    "sx*100"
   ]
  },
  {
   "cell_type": "code",
   "execution_count": null,
   "id": "4c9db481",
   "metadata": {},
   "outputs": [],
   "source": [
    "#Direccion Y\n",
    "n1 = 2\n",
    "n2 = 4\n",
    "n3 = 0\n",
    "theta = math.radians(45)\n",
    "Ast = A_4*n1+A_3*n2+A_3*n3*math.cos(theta)\n",
    "sy = Ast*fy*(b-r-d_st)/Vsx\n",
    "sy*100"
   ]
  },
  {
   "cell_type": "code",
   "execution_count": null,
   "id": "f3527b29",
   "metadata": {},
   "outputs": [],
   "source": [
    "#Separacion minima\n",
    "d_p = column.d_p\n",
    "s = min(sx,sy,6*d_p,15*cm)\n",
    "s"
   ]
  },
  {
   "cell_type": "markdown",
   "id": "2a65332a",
   "metadata": {},
   "source": [
    "### Cortante que toma el acero considerando rótula en las vigas"
   ]
  },
  {
   "cell_type": "code",
   "execution_count": null,
   "id": "9189617c",
   "metadata": {},
   "outputs": [],
   "source": [
    "#Viga en el sentido Y:\n",
    "viga_1.ln = 5.65*m-0.2*m\n",
    "#Vigas en el sentido X\n",
    "viga_2 = col.Beam(b=35*cm,h=55*cm,r=9*cm)\n",
    "viga_2.set_rebar(d_s=[d_5,d_6], n_s=[2,2])\n",
    "viga_3 = col.Beam(b=35*cm,h=55*cm,r=9*cm)\n",
    "viga_3.set_rebar(d_s=d_5, n_s=3)\n",
    "\n",
    "viga_2.ln = 4.56*m-0.35*m\n",
    "viga_3.ln = 4*m-0.35*m"
   ]
  },
  {
   "cell_type": "code",
   "execution_count": null,
   "id": "7d1dacc4",
   "metadata": {},
   "outputs": [],
   "source": [
    "#Momentos Probables en las vigas\n",
    "#Sentido X\n",
    "viga_1.a = viga_1.Ast*1.25*fy/(0.85*fc*viga_1.b)\n",
    "Mpx = viga_1.Ast*1.25*fy*(viga_1.d-viga_1.a/2)\n",
    "Vux = 4*Mpx/(2*hn2)\n",
    "#Sentido Y\n",
    "viga_2.a = viga_2.Ast*1.25*fy/(0.85*fc*viga_2.b)\n",
    "Mpy1 = viga_2.Ast*1.25*fy*(viga_2.d-viga_2.a/2)\n",
    "viga_3.a = viga_3.Ast*1.25*fy/(0.85*fc*viga_3.b)\n",
    "Mpy2 = viga_3.Ast*1.25*fy*(viga_3.d-viga_3.a/2)\n",
    "Mpy = max(Mpy1,Mpy2)\n",
    "Vuy = 2*Mpy/(2*hn2)"
   ]
  },
  {
   "cell_type": "code",
   "execution_count": null,
   "id": "8db95a74",
   "metadata": {},
   "outputs": [],
   "source": [
    "#Cortantes producidos por las vigas en X\n",
    "V2 = 2*Mpx/ln2\n",
    "V1 = 2*Mpx/ln3\n",
    "#Longitud de diseño de la columna en X\n",
    "lc1 = 0.5*hn2+viga_1.h\n",
    "#Cortante de la columna en el sentido X\n",
    "Vcolx = 2*Mpx/lc1 + (V1+V2)*b/2/lc1\n",
    "Vcolx"
   ]
  },
  {
   "cell_type": "code",
   "execution_count": null,
   "id": "a9cf45c0",
   "metadata": {},
   "outputs": [],
   "source": [
    "#Cortantes producidos por la viga en Y\n",
    "V3 = (Mpy1+Mpy2)/viga_1.ln\n",
    "#Longitud de diseño de la columna en Y\n",
    "lc2 = 0.5*hn1+viga_2.h\n",
    "#Cortante de la columna en el sentido Y\n",
    "Vcoly = Mpy/lc2+V3*h/2/lc2\n",
    "Vcoly"
   ]
  },
  {
   "cell_type": "markdown",
   "id": "ba8dfe97",
   "metadata": {},
   "source": [
    "## Fuerza cortante en el Nudo:"
   ]
  },
  {
   "cell_type": "code",
   "execution_count": null,
   "id": "c524fc12",
   "metadata": {},
   "outputs": [],
   "source": [
    "#Sentido X (dos vigas llegando al nudo)\n",
    "T1 = viga_1.Ast*fy\n",
    "T2 = T1\n",
    "Vux = T1+T2-Vcolx\n",
    "Vux"
   ]
  },
  {
   "cell_type": "code",
   "execution_count": null,
   "id": "3288f2bf",
   "metadata": {},
   "outputs": [],
   "source": [
    "#Sentido Y (una viga en el nudo)\n",
    "T3 = viga_2.Ast*fy\n",
    "Vuy = T3-Vcoly\n",
    "Vuy"
   ]
  },
  {
   "cell_type": "code",
   "execution_count": null,
   "id": "ff730ee9",
   "metadata": {},
   "outputs": [],
   "source": [
    "#En nudos viga columna de porticos a momento especiales usamos un factor de:\n",
    "phi_c = 0.85\n",
    "fact = {'IA':1.7,\n",
    "       'IB':1.3,\n",
    "       'IC':1.3,\n",
    "       'ID':1.0,\n",
    "       'IIA':1.3,\n",
    "       'IIB':1.0,\n",
    "       'IIC':1.0,\n",
    "       'IID':0.7}\n",
    "\n",
    "#Análisis en X:\n",
    "tipox = 'I' #columna continua\n",
    "v_c = 'y' #continuidad de la viga después del nudo\n",
    "if v_c == 'y':\n",
    "    if viga_2.b >= 0.75*h:\n",
    "        tipox += 'A'\n",
    "    else:\n",
    "        tipox += 'B'\n",
    "else:\n",
    "    if viga_2.b >= 0.75*h:\n",
    "        tipox += 'C'\n",
    "    else:\n",
    "        tipox += 'D'\n",
    "tipox"
   ]
  },
  {
   "cell_type": "code",
   "execution_count": null,
   "id": "fd89063b",
   "metadata": {},
   "outputs": [],
   "source": [
    "#Análisis en Y:\n",
    "tipoy = 'I' #columna continua\n",
    "v_c = 'n' #continuidad de la viga después del nudo\n",
    "if v_c == 'y':\n",
    "    if viga_2.b >= 0.75*h:\n",
    "        tipoy += 'A'\n",
    "    else:\n",
    "        tipoy += 'B'\n",
    "else:\n",
    "    if viga_2.b >= 0.75*h:\n",
    "        tipoy += 'C'\n",
    "    else:\n",
    "        tipoy += 'D'\n",
    "tipoy"
   ]
  },
  {
   "cell_type": "code",
   "execution_count": null,
   "id": "23dc2dac",
   "metadata": {},
   "outputs": [],
   "source": [
    "#Cortante que resiste el nudo direccion X\n",
    "befx = min(viga_1.b+b,viga_1.b) #Ancho efectivo del nudo en X\n",
    "Ajx = befx*b\n",
    "phiVnx = phi_c*fact[tipox]*(fc/MPa)**0.5*MPa*Ajx\n",
    "phiVnx"
   ]
  },
  {
   "cell_type": "code",
   "execution_count": null,
   "id": "958e01b5",
   "metadata": {},
   "outputs": [],
   "source": [
    "#Cortante que resiste el nudo direccion X\n",
    "befy = min(viga_2.b+h,viga_2.b) #Ancho efectivo del nudo en X\n",
    "Ajy = befy*h\n",
    "phiVny = phi_c*fact[tipoy]*(fc/MPa)**0.5*MPa*Ajy\n",
    "phiVny"
   ]
  },
  {
   "cell_type": "code",
   "execution_count": null,
   "id": "22ae8938",
   "metadata": {},
   "outputs": [],
   "source": [
    "#Propuesta al nudo en X\n",
    "b = 40*cm\n",
    "bv1 = 35*cm\n",
    "fc = 28*MPa\n",
    "befx = min(bv1+b,bv1)\n",
    "Ajx = b*befx\n",
    "phiVnx = phi_c*fact[tipox]*(fc/MPa)**0.5*MPa*Ajx\n",
    "phiVnx"
   ]
  }
 ],
 "metadata": {
  "kernelspec": {
   "display_name": "API",
   "language": "python",
   "name": "python3"
  },
  "language_info": {
   "codemirror_mode": {
    "name": "ipython",
    "version": 3
   },
   "file_extension": ".py",
   "mimetype": "text/x-python",
   "name": "python",
   "nbconvert_exporter": "python",
   "pygments_lexer": "ipython3",
   "version": "3.9.16"
  },
  "vscode": {
   "interpreter": {
    "hash": "5791b4287b5ec7fadd801eb3f0a157326fdd5e3bd9c95da2aac047fef93499ff"
   }
  }
 },
 "nbformat": 4,
 "nbformat_minor": 5
}
