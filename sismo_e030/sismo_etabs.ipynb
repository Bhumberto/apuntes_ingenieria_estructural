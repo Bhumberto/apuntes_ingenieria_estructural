{
 "cells": [
  {
   "cell_type": "markdown",
   "metadata": {},
   "source": [
    "# Análisis Sísmico"
   ]
  },
  {
   "cell_type": "code",
<<<<<<< HEAD
   "execution_count": 33,
=======
   "execution_count": 198,
>>>>>>> 3a159e30a1d32120bbcff4dbc86c4f255c7364e3
   "metadata": {},
   "outputs": [
    {
     "name": "stdout",
     "output_type": "stream",
     "text": [
      "The autoreload extension is already loaded. To reload it, use:\n",
      "  %reload_ext autoreload\n"
     ]
    }
   ],
   "source": [
    "#Importar las librerías necesarias\n",
    "%load_ext autoreload\n",
    "%autoreload 2\n",
    "import os\n",
    "import sys\n",
    "sys.path.append(os.getcwd()+'\\\\..')\n",
    "from lib import etabs_utils as etb\n",
    "from lib import sismo_utils as sis\n",
    "#from mem import sismo_mem as smem\n",
    "from ipywidgets import widgets\n",
    "from IPython.display import display"
   ]
  },
  {
   "cell_type": "code",
<<<<<<< HEAD
   "execution_count": 34,
=======
   "execution_count": 199,
>>>>>>> 3a159e30a1d32120bbcff4dbc86c4f255c7364e3
   "metadata": {},
   "outputs": [],
   "source": [
    "_,SapModel = etb.connect_to_etabs()"
   ]
  },
  {
   "cell_type": "code",
<<<<<<< HEAD
   "execution_count": 35,
=======
   "execution_count": 200,
   "metadata": {},
   "outputs": [
    {
     "data": {
      "application/vnd.jupyter.widget-view+json": {
       "model_id": "ddd403cf307d4296af958c534bc498de",
       "version_major": 2,
       "version_minor": 0
      },
      "text/plain": [
       "HBox(children=(VBox(children=(HTML(value='<b>Dirección X</b>'), Dropdown(description='Sismo Estatico en X', op…"
      ]
     },
     "execution_count": 200,
     "metadata": {},
     "output_type": "execute_result"
    }
   ],
   "source": [
    "Lista_Cases = sis.Cargas_Cases()\n",
    "Lista_Cases.Select_load(SapModel)"
   ]
  },
  {
   "cell_type": "code",
   "execution_count": 201,
   "metadata": {},
   "outputs": [
    {
     "data": {
      "text/plain": [
       "(('Case',\n",
       "  'Mode',\n",
       "  'Period',\n",
       "  'UX',\n",
       "  'UY',\n",
       "  'UZ',\n",
       "  'SumUX',\n",
       "  'SumUY',\n",
       "  'SumUZ',\n",
       "  'RX',\n",
       "  'RY',\n",
       "  'RZ',\n",
       "  'SumRX',\n",
       "  'SumRY',\n",
       "  'SumRZ'),\n",
       "      Case Mode Period         UX         UY UZ   SumUX   SumUY SumUZ  \\\n",
       " 0   Modal    1  0.272     0.8001     0.0001  0  0.8001  0.0001     0   \n",
       " 1   Modal    2  0.153     0.0121     0.1363  0  0.8122  0.1364     0   \n",
       " 2   Modal    3  0.135     0.0032     0.7374  0  0.8154  0.8738     0   \n",
       " 3   Modal    4  0.094     0.0568     0.0002  0  0.8722  0.8739     0   \n",
       " 4   Modal    5  0.072     0.1081     0.0001  0  0.9804   0.874     0   \n",
       " 5   Modal    6  0.052     0.0003     0.0756  0  0.9807  0.9496     0   \n",
       " 6   Modal    7  0.047     0.0013      0.019  0   0.982  0.9686     0   \n",
       " 7   Modal    8  0.043     0.0175     0.0002  0  0.9995  0.9688     0   \n",
       " 8   Modal    9  0.039     0.0001     0.0205  0  0.9996  0.9893     0   \n",
       " 9   Modal   10  0.033  4.134E-05     0.0042  0  0.9997  0.9935     0   \n",
       " 10  Modal   11  0.029  9.026E-07     0.0065  0  0.9997       1     0   \n",
       " 11  Modal   12  0.029     0.0003  3.506E-05  0       1       1     0   \n",
       " \n",
       "            RX         RY         RZ      SumRX   SumRY   SumRZ  \n",
       " 0   1.054E-05     0.3394     0.0143  1.054E-05  0.3394  0.0143  \n",
       " 1      0.0553     0.0012     0.6867     0.0553  0.3405  0.7009  \n",
       " 2      0.2014     0.0001     0.1362     0.2567  0.3406  0.8372  \n",
       " 3      0.0001     0.2279     0.0352     0.2567  0.5685  0.8724  \n",
       " 4      0.0003     0.3728      0.007     0.2571  0.9413  0.8794  \n",
       " 5      0.4422     0.0006      0.025     0.6993  0.9419  0.9044  \n",
       " 6      0.1545     0.0034     0.0789     0.8538  0.9453  0.9833  \n",
       " 7      0.0016     0.0531   4.81E-06     0.8554  0.9985  0.9833  \n",
       " 8      0.1076     0.0003     0.0039      0.963  0.9988  0.9872  \n",
       " 9      0.0236     0.0002     0.0005     0.9867  0.9989  0.9877  \n",
       " 10      0.013  1.499E-06  4.904E-06     0.9997  0.9989  0.9877  \n",
       " 11     0.0003     0.0011     0.0123          1       1       1  )"
      ]
     },
     "execution_count": 201,
     "metadata": {},
     "output_type": "execute_result"
    }
   ],
   "source": [
    "etb.get_table(SapModel,'Modal Participating Mass Ratios')"
   ]
  },
  {
   "cell_type": "code",
   "execution_count": 202,
>>>>>>> 3a159e30a1d32120bbcff4dbc86c4f255c7364e3
   "metadata": {},
   "outputs": [],
   "source": [
    "sismo = sis.sismo_e30()"
   ]
  },
  {
   "cell_type": "markdown",
   "metadata": {},
   "source": [
    "# Parámetros de Sitio\n",
    "\n",
    "## Zonificación\n",
    "![Factor de Zonifiación](./factor_zona.png)"
   ]
  },
  {
   "cell_type": "markdown",
   "metadata": {},
   "source": [
    "## Factor de Suelo\n",
    "![Factor de Suelo](./factor_suelo.png)\n"
   ]
  },
  {
   "cell_type": "markdown",
   "metadata": {},
   "source": [
    "## Periodos del suelo\n",
    "![Periodos del Suelo](./periodos_suelo.png)"
   ]
  },
  {
   "cell_type": "markdown",
   "metadata": {},
   "source": [
    "## Sistema Estructural\n",
    "![Sistema Estructural](./sistemas_estructurales.png)"
   ]
  },
  {
   "cell_type": "markdown",
   "metadata": {},
   "source": [
    "## Factor de Amplificación sísmica\n",
    "![Factor de Amplificacion Sísmica](./amplificacion_sismica.png)"
   ]
  },
  {
   "cell_type": "markdown",
   "metadata": {},
   "source": [
    "## Factor de Importancia\n",
    "![Factor de Importancia](./factor_importancia.png)"
   ]
  },
  {
   "cell_type": "code",
<<<<<<< HEAD
   "execution_count": 36,
=======
   "execution_count": 203,
>>>>>>> 3a159e30a1d32120bbcff4dbc86c4f255c7364e3
   "metadata": {},
   "outputs": [
    {
     "data": {
      "application/vnd.jupyter.widget-view+json": {
<<<<<<< HEAD
       "model_id": "d0e36bdb61a443a28db82467ddaf494a",
=======
       "model_id": "d7dce1f038cb4340800a8b64f5818f77",
>>>>>>> 3a159e30a1d32120bbcff4dbc86c4f255c7364e3
       "version_major": 2,
       "version_minor": 0
      },
      "text/plain": [
<<<<<<< HEAD
       "VBox(children=(Dropdown(description='Factor Zona', index=1, options=('1', '2', '3', '4'), style=DescriptionSty…"
=======
       "VBox(children=(Dropdown(description='Factor Zona', index=3, options=('1', '2', '3', '4'), style=DescriptionSty…"
>>>>>>> 3a159e30a1d32120bbcff4dbc86c4f255c7364e3
      ]
     },
     "metadata": {},
     "output_type": "display_data"
    }
   ],
   "source": [
    "sismo.parametros_e30()"
   ]
  },
  {
   "cell_type": "markdown",
   "metadata": {},
   "source": [
    "# Irregularidades"
   ]
  },
  {
   "cell_type": "code",
<<<<<<< HEAD
   "execution_count": 37,
=======
   "execution_count": 204,
>>>>>>> 3a159e30a1d32120bbcff4dbc86c4f255c7364e3
   "metadata": {},
   "outputs": [
    {
     "data": {
      "application/vnd.jupyter.widget-view+json": {
<<<<<<< HEAD
       "model_id": "2599cfecb2b64de4a89f70bc60f0c2a0",
=======
       "model_id": "8d8df43d49d14ae6900fb487d2a4776c",
>>>>>>> 3a159e30a1d32120bbcff4dbc86c4f255c7364e3
       "version_major": 2,
       "version_minor": 0
      },
      "text/plain": [
       "HBox(children=(VBox(children=(HTML(value='<b>Irregularidad en Altura</b>'), Checkbox(value=False, description=…"
      ]
     },
<<<<<<< HEAD
     "metadata": {},
     "output_type": "display_data"
=======
     "execution_count": 204,
     "metadata": {},
     "output_type": "execute_result"
>>>>>>> 3a159e30a1d32120bbcff4dbc86c4f255c7364e3
    }
   ],
   "source": [
    "sismo.irregularidades_e30()"
   ]
  },
  {
   "cell_type": "markdown",
   "metadata": {},
   "source": [
    "# Parámetros Sísmicos"
   ]
  },
  {
   "cell_type": "code",
<<<<<<< HEAD
   "execution_count": 38,
=======
   "execution_count": 206,
>>>>>>> 3a159e30a1d32120bbcff4dbc86c4f255c7364e3
   "metadata": {},
   "outputs": [
    {
     "name": "stdout",
     "output_type": "stream",
     "text": [
      "\n",
      "\u001b[1mParámetros de sitio:\u001b[0m\n",
      "Factor de zona: \n",
<<<<<<< HEAD
      "    Z=0.25\n",
      "Factor de Importancia: \n",
      "    U=1.50\n",
      "Factor de Suelo: \n",
      "    S=1.00\n",
      "Periodos del Suelo: \n",
      "    Tp=0.40\n",
      "    Tl=2.50\n",
      "Factor Básico de Reducción:\n",
      "    Rox=7.00\n",
      "    Roy=7.00\n",
=======
      "    Z=0.45\n",
      "Factor de Importancia: \n",
      "    U=1.00\n",
      "Factor de Suelo: \n",
      "    S=1.05\n",
      "Periodos del Suelo: \n",
      "    Tp=0.60\n",
      "    Tl=2.00\n",
      "Factor Básico de Reducción:\n",
      "    Rox=3.00\n",
      "    Roy=3.00\n",
>>>>>>> 3a159e30a1d32120bbcff4dbc86c4f255c7364e3
      "Irregularidad en planta:\n",
      "    Ipx=1.00\n",
      "    Ipy=1.00\n",
      "Irregularidad en altura:\n",
      "    Iax=1.00\n",
      "    Iay=1.00\n",
      "Factor de Reducción:\n",
<<<<<<< HEAD
      "    Rx=7.00\n",
      "    Ry=7.00\n",
=======
      "    Rx=3.00\n",
      "    Ry=3.00\n",
>>>>>>> 3a159e30a1d32120bbcff4dbc86c4f255c7364e3
      "\n"
     ]
    }
   ],
   "source": [
    "sismo.show_params()"
   ]
  },
  {
   "cell_type": "code",
<<<<<<< HEAD
   "execution_count": 39,
=======
   "execution_count": 207,
>>>>>>> 3a159e30a1d32120bbcff4dbc86c4f255c7364e3
   "metadata": {},
   "outputs": [
    {
     "name": "stdout",
     "output_type": "stream",
     "text": [
      "\n",
      "Análisis Modal:\n",
      "Masa Participativa X: 1.00\n",
      "Masa Participativa Y: 1.00\n",
      "Periodo y deformaxión X: Tx=0.029, Ux=0.000\n",
<<<<<<< HEAD
      "Periodo y deformaxión Y: Ty=0.225, Uy=0.000\n",
      "Factor de Reduccion con Irregularidades: R=7.0\n",
      "C en X: 2.50\n",
      "C en Y: 2.50\n",
      "\n",
      "Coeficiente de sismo estático X: 0.134\n",
      "Coeficiente de sismo estático Y: 0.134\n",
=======
      "Periodo y deformaxión Y: Ty=0.029, Uy=0.000\n",
      "Factor de Reduccion con Irregularidades: R=3.0\n",
      "C en X: 2.50\n",
      "C en Y: 2.50\n",
      "\n",
      "Coeficiente de sismo estático X: 0.394\n",
      "Coeficiente de sismo estático Y: 0.394\n",
>>>>>>> 3a159e30a1d32120bbcff4dbc86c4f255c7364e3
      "Exponente de altura X: 1.00\n",
      "Exponente de altura Y: 1.00\n"
     ]
    }
   ],
   "source": [
    "sismo.analisis_sismo(SapModel,Lista_Cases.List_Cargas)"
   ]
  },
  {
   "cell_type": "markdown",
   "metadata": {},
   "source": [
    "## Revisión por Piso Blando"
   ]
  },
  {
   "cell_type": "code",
<<<<<<< HEAD
   "execution_count": 40,
=======
   "execution_count": 208,
>>>>>>> 3a159e30a1d32120bbcff4dbc86c4f255c7364e3
   "metadata": {},
   "outputs": [
    {
     "data": {
      "application/vnd.jupyter.widget-view+json": {
<<<<<<< HEAD
       "model_id": "71c2aab172074f79a0859fe024bb5bb7",
=======
       "model_id": "aff40b5390364ae8921f0b45345b8262",
>>>>>>> 3a159e30a1d32120bbcff4dbc86c4f255c7364e3
       "version_major": 2,
       "version_minor": 0
      },
      "text/plain": [
<<<<<<< HEAD
       "Dropdown(description='Filtro', index=44, options=('Derivas Min', 'Servicio', 'R18 Min', 'R13 Max', 'R14 Min', …"
=======
       "Dropdown(description='Filtro', index=2, options=('Sx Max', 'SDx Max', 'SDy Max', 'Sy Max', 'sin filtro'), styl…"
>>>>>>> 3a159e30a1d32120bbcff4dbc86c4f255c7364e3
      ]
     },
     "metadata": {},
     "output_type": "display_data"
    },
    {
     "data": {
      "text/html": [
       "<div>\n",
       "<style scoped>\n",
       "    .dataframe tbody tr th:only-of-type {\n",
       "        vertical-align: middle;\n",
       "    }\n",
       "\n",
       "    .dataframe tbody tr th {\n",
       "        vertical-align: top;\n",
       "    }\n",
       "\n",
       "    .dataframe thead th {\n",
       "        text-align: right;\n",
       "    }\n",
       "</style>\n",
       "<table border=\"1\" class=\"dataframe\">\n",
       "  <thead>\n",
       "    <tr style=\"text-align: right;\">\n",
       "      <th></th>\n",
       "      <th>Story</th>\n",
       "      <th>OutputCase</th>\n",
       "      <th>UX</th>\n",
       "      <th>UY</th>\n",
<<<<<<< HEAD
       "      <th>ΔUX</th>\n",
       "      <th>ΔUY</th>\n",
=======
       "      <th>URX</th>\n",
       "      <th>URY</th>\n",
>>>>>>> 3a159e30a1d32120bbcff4dbc86c4f255c7364e3
       "      <th>VX</th>\n",
       "      <th>VY</th>\n",
       "      <th>lat_rig(k)</th>\n",
       "      <th>0.7_prev_k</th>\n",
       "      <th>0.8k_prom</th>\n",
       "      <th>is_reg</th>\n",
       "    </tr>\n",
       "  </thead>\n",
       "  <tbody>\n",
       "    <tr>\n",
<<<<<<< HEAD
       "      <th>0</th>\n",
       "      <td>Story3</td>\n",
       "      <td>Derivas Min</td>\n",
       "      <td>-57.629</td>\n",
       "      <td>-32.8</td>\n",
       "      <td>-16.545</td>\n",
       "      <td>-8.919</td>\n",
       "      <td>-1656522.79</td>\n",
       "      <td>-1641502.87</td>\n",
       "      <td>184045.618343</td>\n",
       "      <td>0.000000</td>\n",
       "      <td>0.0</td>\n",
       "      <td>Regular</td>\n",
       "    </tr>\n",
       "    <tr>\n",
       "      <th>1</th>\n",
       "      <td>Story2</td>\n",
       "      <td>Derivas Min</td>\n",
       "      <td>-41.084</td>\n",
       "      <td>-23.881</td>\n",
       "      <td>-20.616</td>\n",
       "      <td>-11.790</td>\n",
       "      <td>-3277846.08</td>\n",
       "      <td>-3288901.43</td>\n",
       "      <td>278956.864292</td>\n",
       "      <td>128831.932840</td>\n",
       "      <td>0.0</td>\n",
       "      <td>Regular</td>\n",
       "    </tr>\n",
       "    <tr>\n",
       "      <th>2</th>\n",
       "      <td>Story1</td>\n",
       "      <td>Derivas Min</td>\n",
       "      <td>-20.468</td>\n",
       "      <td>-12.091</td>\n",
       "      <td>-20.468</td>\n",
       "      <td>-12.091</td>\n",
       "      <td>-4201544.58</td>\n",
       "      <td>-4233978.69</td>\n",
       "      <td>350176.055744</td>\n",
       "      <td>195269.805004</td>\n",
       "      <td>0.0</td>\n",
       "      <td>Regular</td>\n",
       "    </tr>\n",
       "    <tr>\n",
       "      <th>3</th>\n",
       "      <td>Story3</td>\n",
       "      <td>Servicio</td>\n",
       "      <td>-0.004</td>\n",
       "      <td>-0.009</td>\n",
       "      <td>-0.002</td>\n",
       "      <td>-0.002</td>\n",
       "      <td>0</td>\n",
       "      <td>0</td>\n",
       "      <td>0.000000</td>\n",
       "      <td>0.000000</td>\n",
       "      <td>0.0</td>\n",
       "      <td>Irregular</td>\n",
       "    </tr>\n",
       "    <tr>\n",
       "      <th>4</th>\n",
       "      <td>Story2</td>\n",
       "      <td>Servicio</td>\n",
       "      <td>-0.002</td>\n",
       "      <td>-0.007</td>\n",
       "      <td>-0.001</td>\n",
       "      <td>-0.004</td>\n",
       "      <td>0</td>\n",
       "      <td>0</td>\n",
       "      <td>0.000000</td>\n",
       "      <td>0.000000</td>\n",
       "      <td>0.0</td>\n",
       "      <td>Irregular</td>\n",
       "    </tr>\n",
       "    <tr>\n",
       "      <th>...</th>\n",
       "      <td>...</td>\n",
       "      <td>...</td>\n",
       "      <td>...</td>\n",
       "      <td>...</td>\n",
       "      <td>...</td>\n",
       "      <td>...</td>\n",
       "      <td>...</td>\n",
       "      <td>...</td>\n",
       "      <td>...</td>\n",
       "      <td>...</td>\n",
       "      <td>...</td>\n",
       "      <td>...</td>\n",
       "    </tr>\n",
       "    <tr>\n",
       "      <th>127</th>\n",
       "      <td>Story2</td>\n",
       "      <td>ER Min</td>\n",
       "      <td>-9.133</td>\n",
       "      <td>-4.573</td>\n",
       "      <td>-4.583</td>\n",
       "      <td>-2.260</td>\n",
       "      <td>-728410.24</td>\n",
       "      <td>-626457.42</td>\n",
       "      <td>277193.548673</td>\n",
       "      <td>128292.524619</td>\n",
       "      <td>0.0</td>\n",
       "      <td>Regular</td>\n",
       "    </tr>\n",
       "    <tr>\n",
       "      <th>128</th>\n",
       "      <td>Story1</td>\n",
       "      <td>ER Min</td>\n",
       "      <td>-4.55</td>\n",
       "      <td>-2.313</td>\n",
       "      <td>-4.550</td>\n",
       "      <td>-2.313</td>\n",
       "      <td>-933676.57</td>\n",
       "      <td>-806472.13</td>\n",
       "      <td>348669.316904</td>\n",
       "      <td>194035.484071</td>\n",
       "      <td>0.0</td>\n",
       "      <td>Regular</td>\n",
       "    </tr>\n",
       "    <tr>\n",
       "      <th>129</th>\n",
       "      <td>Story3</td>\n",
       "      <td>R17 Max</td>\n",
       "      <td>12.802</td>\n",
       "      <td>1.885</td>\n",
       "      <td>3.675</td>\n",
       "      <td>0.511</td>\n",
       "      <td>368116.18</td>\n",
       "      <td>93800.16</td>\n",
       "      <td>183561.956947</td>\n",
       "      <td>0.000000</td>\n",
       "      <td>0.0</td>\n",
       "      <td>Regular</td>\n",
       "    </tr>\n",
       "    <tr>\n",
       "      <th>130</th>\n",
       "      <td>Story2</td>\n",
       "      <td>R17 Max</td>\n",
       "      <td>9.127</td>\n",
       "      <td>1.374</td>\n",
       "      <td>4.580</td>\n",
       "      <td>0.680</td>\n",
       "      <td>728410.24</td>\n",
       "      <td>187937.22</td>\n",
       "      <td>276378.264706</td>\n",
       "      <td>128493.369863</td>\n",
       "      <td>0.0</td>\n",
       "      <td>Regular</td>\n",
       "    </tr>\n",
       "    <tr>\n",
       "      <th>131</th>\n",
       "      <td>Story1</td>\n",
       "      <td>R17 Max</td>\n",
       "      <td>4.547</td>\n",
       "      <td>0.694</td>\n",
       "      <td>4.547</td>\n",
       "      <td>0.694</td>\n",
       "      <td>933676.57</td>\n",
       "      <td>241941.64</td>\n",
       "      <td>348619.077810</td>\n",
       "      <td>193464.785294</td>\n",
       "      <td>0.0</td>\n",
=======
       "      <th>8</th>\n",
       "      <td>Story4</td>\n",
       "      <td>SDy Max</td>\n",
       "      <td>1.918</td>\n",
       "      <td>2.699</td>\n",
       "      <td>1.738</td>\n",
       "      <td>0.567</td>\n",
       "      <td>25500.16</td>\n",
       "      <td>54684.28</td>\n",
       "      <td>1.111171e+05</td>\n",
       "      <td>0.000000e+00</td>\n",
       "      <td>0.000000e+00</td>\n",
       "      <td>Regular</td>\n",
       "    </tr>\n",
       "    <tr>\n",
       "      <th>9</th>\n",
       "      <td>Story3</td>\n",
       "      <td>SDy Max</td>\n",
       "      <td>0.18</td>\n",
       "      <td>2.132</td>\n",
       "      <td>0.007</td>\n",
       "      <td>0.554</td>\n",
       "      <td>13394.81</td>\n",
       "      <td>474375.27</td>\n",
       "      <td>2.769817e+06</td>\n",
       "      <td>7.778195e+04</td>\n",
       "      <td>0.000000e+00</td>\n",
       "      <td>Regular</td>\n",
       "    </tr>\n",
       "    <tr>\n",
       "      <th>10</th>\n",
       "      <td>Story2</td>\n",
       "      <td>SDy Max</td>\n",
       "      <td>0.173</td>\n",
       "      <td>1.578</td>\n",
       "      <td>0.103</td>\n",
       "      <td>0.759</td>\n",
       "      <td>53646.03</td>\n",
       "      <td>884436.59</td>\n",
       "      <td>1.686101e+06</td>\n",
       "      <td>1.938872e+06</td>\n",
       "      <td>0.000000e+00</td>\n",
       "      <td>Irregular</td>\n",
       "    </tr>\n",
       "    <tr>\n",
       "      <th>11</th>\n",
       "      <td>Story1</td>\n",
       "      <td>SDy Max</td>\n",
       "      <td>0.07</td>\n",
       "      <td>0.819</td>\n",
       "      <td>0.070</td>\n",
       "      <td>0.819</td>\n",
       "      <td>70265.36</td>\n",
       "      <td>1117910.65</td>\n",
       "      <td>2.368761e+06</td>\n",
       "      <td>1.180271e+06</td>\n",
       "      <td>1.217876e+06</td>\n",
>>>>>>> 3a159e30a1d32120bbcff4dbc86c4f255c7364e3
       "      <td>Regular</td>\n",
       "    </tr>\n",
       "  </tbody>\n",
       "</table>\n",
<<<<<<< HEAD
       "<p>132 rows × 12 columns</p>\n",
       "</div>"
      ],
      "text/plain": [
       "      Story   OutputCase       UX       UY     ΔUX     ΔUY           VX  \\\n",
       "0    Story3  Derivas Min  -57.629    -32.8 -16.545  -8.919  -1656522.79   \n",
       "1    Story2  Derivas Min  -41.084  -23.881 -20.616 -11.790  -3277846.08   \n",
       "2    Story1  Derivas Min  -20.468  -12.091 -20.468 -12.091  -4201544.58   \n",
       "3    Story3     Servicio   -0.004   -0.009  -0.002  -0.002            0   \n",
       "4    Story2     Servicio   -0.002   -0.007  -0.001  -0.004            0   \n",
       "..      ...          ...      ...      ...     ...     ...          ...   \n",
       "127  Story2       ER Min   -9.133   -4.573  -4.583  -2.260   -728410.24   \n",
       "128  Story1       ER Min    -4.55   -2.313  -4.550  -2.313   -933676.57   \n",
       "129  Story3      R17 Max   12.802    1.885   3.675   0.511    368116.18   \n",
       "130  Story2      R17 Max    9.127    1.374   4.580   0.680    728410.24   \n",
       "131  Story1      R17 Max    4.547    0.694   4.547   0.694    933676.57   \n",
       "\n",
       "              VY     lat_rig(k)     0.7_prev_k  0.8k_prom     is_reg  \n",
       "0    -1641502.87  184045.618343       0.000000        0.0    Regular  \n",
       "1    -3288901.43  278956.864292  128831.932840        0.0    Regular  \n",
       "2    -4233978.69  350176.055744  195269.805004        0.0    Regular  \n",
       "3              0       0.000000       0.000000        0.0  Irregular  \n",
       "4              0       0.000000       0.000000        0.0  Irregular  \n",
       "..           ...            ...            ...        ...        ...  \n",
       "127   -626457.42  277193.548673  128292.524619        0.0    Regular  \n",
       "128   -806472.13  348669.316904  194035.484071        0.0    Regular  \n",
       "129     93800.16  183561.956947       0.000000        0.0    Regular  \n",
       "130    187937.22  276378.264706  128493.369863        0.0    Regular  \n",
       "131    241941.64  348619.077810  193464.785294        0.0    Regular  \n",
       "\n",
       "[132 rows x 12 columns]"
=======
       "</div>"
      ],
      "text/plain": [
       "     Story OutputCase     UX     UY    URX    URY        VX          VY  \\\n",
       "8   Story4    SDy Max  1.918  2.699  1.738  0.567  25500.16    54684.28   \n",
       "9   Story3    SDy Max   0.18  2.132  0.007  0.554  13394.81   474375.27   \n",
       "10  Story2    SDy Max  0.173  1.578  0.103  0.759  53646.03   884436.59   \n",
       "11  Story1    SDy Max   0.07  0.819  0.070  0.819  70265.36  1117910.65   \n",
       "\n",
       "      lat_rig(k)    0.7_prev_k     0.8k_prom     is_reg  \n",
       "8   1.111171e+05  0.000000e+00  0.000000e+00    Regular  \n",
       "9   2.769817e+06  7.778195e+04  0.000000e+00    Regular  \n",
       "10  1.686101e+06  1.938872e+06  0.000000e+00  Irregular  \n",
       "11  2.368761e+06  1.180271e+06  1.217876e+06    Regular  "
>>>>>>> 3a159e30a1d32120bbcff4dbc86c4f255c7364e3
      ]
     },
     "metadata": {},
     "output_type": "display_data"
    }
   ],
   "source": [
    "sis.show_table(sismo.piso_blando_table)"
   ]
  },
  {
   "cell_type": "code",
   "execution_count": 41,
   "metadata": {},
   "outputs": [],
   "source": [
    "a = sismo.piso_blando_table"
   ]
  },
  {
   "cell_type": "markdown",
   "metadata": {},
   "source": [
    "## Revisión por Irregularidad de Masa"
   ]
  },
  {
   "cell_type": "code",
<<<<<<< HEAD
   "execution_count": 42,
=======
   "execution_count": 209,
>>>>>>> 3a159e30a1d32120bbcff4dbc86c4f255c7364e3
   "metadata": {},
   "outputs": [
    {
     "data": {
      "text/html": [
       "<div>\n",
       "<style scoped>\n",
       "    .dataframe tbody tr th:only-of-type {\n",
       "        vertical-align: middle;\n",
       "    }\n",
       "\n",
       "    .dataframe tbody tr th {\n",
       "        vertical-align: top;\n",
       "    }\n",
       "\n",
       "    .dataframe thead th {\n",
       "        text-align: right;\n",
       "    }\n",
       "</style>\n",
       "<table border=\"1\" class=\"dataframe\">\n",
       "  <thead>\n",
       "    <tr style=\"text-align: right;\">\n",
       "      <th></th>\n",
       "      <th>Story</th>\n",
       "      <th>Mass</th>\n",
<<<<<<< HEAD
       "      <th>1.5 Mass</th>\n",
       "      <th>story_type</th>\n",
       "      <th>is_regular</th>\n",
=======
       "      <th>1.5_inf_mass</th>\n",
       "      <th>1.5_sup_mass</th>\n",
       "      <th>story_type</th>\n",
       "      <th>is_reg</th>\n",
>>>>>>> 3a159e30a1d32120bbcff4dbc86c4f255c7364e3
       "    </tr>\n",
       "  </thead>\n",
       "  <tbody>\n",
       "    <tr>\n",
       "      <th>0</th>\n",
<<<<<<< HEAD
       "      <td>Story3</td>\n",
       "      <td>90.1284</td>\n",
=======
       "      <td>Story4</td>\n",
       "      <td>7.5451</td>\n",
       "      <td></td>\n",
>>>>>>> 3a159e30a1d32120bbcff4dbc86c4f255c7364e3
       "      <td></td>\n",
       "      <td>Azotea</td>\n",
       "      <td>Regular</td>\n",
       "    </tr>\n",
       "    <tr>\n",
       "      <th>1</th>\n",
<<<<<<< HEAD
       "      <td>Story2</td>\n",
       "      <td>135.8175</td>\n",
       "      <td>203.72625</td>\n",
=======
       "      <td>Story3</td>\n",
       "      <td>93.8061</td>\n",
       "      <td></td>\n",
       "      <td>11.31765</td>\n",
       "      <td>Azotea</td>\n",
       "      <td>Regular</td>\n",
       "    </tr>\n",
       "    <tr>\n",
       "      <th>2</th>\n",
       "      <td>Story2</td>\n",
       "      <td>126.4444</td>\n",
       "      <td>196.08015</td>\n",
       "      <td></td>\n",
>>>>>>> 3a159e30a1d32120bbcff4dbc86c4f255c7364e3
       "      <td>Piso</td>\n",
       "      <td>Regular</td>\n",
       "    </tr>\n",
       "    <tr>\n",
<<<<<<< HEAD
       "      <th>2</th>\n",
       "      <td>Story1</td>\n",
       "      <td>143.2935</td>\n",
       "      <td>214.94025</td>\n",
=======
       "      <th>3</th>\n",
       "      <td>Story1</td>\n",
       "      <td>130.7201</td>\n",
       "      <td></td>\n",
       "      <td>189.6666</td>\n",
>>>>>>> 3a159e30a1d32120bbcff4dbc86c4f255c7364e3
       "      <td>Piso</td>\n",
       "      <td>Regular</td>\n",
       "    </tr>\n",
       "    <tr>\n",
<<<<<<< HEAD
       "      <th>3</th>\n",
       "      <td>Base</td>\n",
       "      <td>26.7000</td>\n",
=======
       "      <th>4</th>\n",
       "      <td>Base</td>\n",
       "      <td>26.8405</td>\n",
       "      <td></td>\n",
>>>>>>> 3a159e30a1d32120bbcff4dbc86c4f255c7364e3
       "      <td></td>\n",
       "      <td>Sotano</td>\n",
       "      <td>Regular</td>\n",
       "    </tr>\n",
       "  </tbody>\n",
       "</table>\n",
       "</div>"
      ],
      "text/plain": [
<<<<<<< HEAD
       "    Story      Mass   1.5 Mass story_type is_regular\n",
       "0  Story3   90.1284                Azotea    Regular\n",
       "1  Story2  135.8175  203.72625       Piso    Regular\n",
       "2  Story1  143.2935  214.94025       Piso    Regular\n",
       "3    Base   26.7000                Sotano    Regular"
      ]
     },
     "execution_count": 42,
=======
       "    Story      Mass 1.5_inf_mass 1.5_sup_mass story_type   is_reg\n",
       "0  Story4    7.5451                               Azotea  Regular\n",
       "1  Story3   93.8061                  11.31765     Azotea  Regular\n",
       "2  Story2  126.4444    196.08015                    Piso  Regular\n",
       "3  Story1  130.7201                  189.6666       Piso  Regular\n",
       "4    Base   26.8405                               Sotano  Regular"
      ]
     },
     "execution_count": 209,
>>>>>>> 3a159e30a1d32120bbcff4dbc86c4f255c7364e3
     "metadata": {},
     "output_type": "execute_result"
    }
   ],
   "source": [
    "sismo.rev_masa_table"
   ]
  },
  {
   "cell_type": "markdown",
   "metadata": {},
   "source": [
    "## Revisión de torsión"
   ]
  },
  {
   "cell_type": "code",
<<<<<<< HEAD
   "execution_count": 43,
=======
   "execution_count": 210,
>>>>>>> 3a159e30a1d32120bbcff4dbc86c4f255c7364e3
   "metadata": {},
   "outputs": [
    {
     "data": {
      "application/vnd.jupyter.widget-view+json": {
<<<<<<< HEAD
       "model_id": "6703650ed18c402f9ff9cb86a205828f",
=======
       "model_id": "ae55f32befe64a8bb461167098f07b80",
>>>>>>> 3a159e30a1d32120bbcff4dbc86c4f255c7364e3
       "version_major": 2,
       "version_minor": 0
      },
      "text/plain": [
<<<<<<< HEAD
       "Dropdown(description='Filtro', index=39, options=(nan, 'SDx Max', 'SDy Max', 'Derivas Max', 'Derivas Min', 'R2…"
=======
       "Dropdown(description='Filtro', index=1, options=('SDx Max', 'SDy Max', 'Sx Max', 'Sy Max', 'sin filtro'), styl…"
>>>>>>> 3a159e30a1d32120bbcff4dbc86c4f255c7364e3
      ]
     },
     "metadata": {},
     "output_type": "display_data"
    },
    {
     "data": {
      "text/html": [
       "<div>\n",
       "<style scoped>\n",
       "    .dataframe tbody tr th:only-of-type {\n",
       "        vertical-align: middle;\n",
       "    }\n",
       "\n",
       "    .dataframe tbody tr th {\n",
       "        vertical-align: top;\n",
       "    }\n",
       "\n",
       "    .dataframe thead th {\n",
       "        text-align: right;\n",
       "    }\n",
       "</style>\n",
       "<table border=\"1\" class=\"dataframe\">\n",
       "  <thead>\n",
       "    <tr style=\"text-align: right;\">\n",
       "      <th></th>\n",
       "      <th>Story</th>\n",
       "      <th>OutputCase</th>\n",
       "      <th>Direction</th>\n",
       "      <th>Max Drift</th>\n",
       "      <th>Avg Drift</th>\n",
       "      <th>Ratio</th>\n",
       "      <th>Height</th>\n",
       "      <th>Drifts</th>\n",
       "      <th>Drift &lt; Dmax/2</th>\n",
       "      <th>tor_reg</th>\n",
       "    </tr>\n",
       "  </thead>\n",
       "  <tbody>\n",
       "    <tr>\n",
<<<<<<< HEAD
       "      <th>0</th>\n",
       "      <td>Story3</td>\n",
       "      <td>NaN</td>\n",
       "      <td>X</td>\n",
       "      <td>4.506</td>\n",
       "      <td>4.149</td>\n",
       "      <td>1.086</td>\n",
       "      <td>3600</td>\n",
       "      <td>0.006571</td>\n",
       "      <td>False</td>\n",
       "      <td>Regular</td>\n",
       "    </tr>\n",
       "    <tr>\n",
       "      <th>1</th>\n",
       "      <td>Story3</td>\n",
       "      <td>NaN</td>\n",
       "      <td>Y</td>\n",
       "      <td>1.968</td>\n",
       "      <td>1.916</td>\n",
       "      <td>1.027</td>\n",
       "      <td>3600</td>\n",
       "      <td>0.002870</td>\n",
=======
       "      <th>1</th>\n",
       "      <td>Story4</td>\n",
       "      <td>SDy Max</td>\n",
       "      <td>X</td>\n",
       "      <td>0.885</td>\n",
       "      <td>0.837</td>\n",
       "      <td>1.057</td>\n",
       "      <td>2300</td>\n",
       "      <td>0.000866</td>\n",
>>>>>>> 3a159e30a1d32120bbcff4dbc86c4f255c7364e3
       "      <td>True</td>\n",
       "      <td>Regular</td>\n",
       "    </tr>\n",
       "    <tr>\n",
       "      <th>2</th>\n",
<<<<<<< HEAD
       "      <td>Story3</td>\n",
       "      <td>SDx Max</td>\n",
       "      <td>X</td>\n",
       "      <td>4.028</td>\n",
       "      <td>3.867</td>\n",
       "      <td>1.042</td>\n",
       "      <td>3600</td>\n",
       "      <td>0.005874</td>\n",
       "      <td>False</td>\n",
       "      <td>Regular</td>\n",
       "    </tr>\n",
       "    <tr>\n",
       "      <th>3</th>\n",
       "      <td>Story3</td>\n",
       "      <td>SDx Max</td>\n",
       "      <td>Y</td>\n",
       "      <td>0.643</td>\n",
       "      <td>0.622</td>\n",
       "      <td>1.034</td>\n",
       "      <td>3600</td>\n",
       "      <td>0.000938</td>\n",
=======
       "      <td>Story4</td>\n",
       "      <td>SDy Max</td>\n",
       "      <td>Y</td>\n",
       "      <td>0.646</td>\n",
       "      <td>0.626</td>\n",
       "      <td>1.031</td>\n",
       "      <td>2300</td>\n",
       "      <td>0.000632</td>\n",
>>>>>>> 3a159e30a1d32120bbcff4dbc86c4f255c7364e3
       "      <td>True</td>\n",
       "      <td>Regular</td>\n",
       "    </tr>\n",
       "    <tr>\n",
<<<<<<< HEAD
       "      <th>4</th>\n",
       "      <td>Story3</td>\n",
       "      <td>SDy Max</td>\n",
       "      <td>X</td>\n",
       "      <td>1.227</td>\n",
       "      <td>1.17</td>\n",
       "      <td>1.049</td>\n",
       "      <td>3600</td>\n",
       "      <td>0.001789</td>\n",
=======
       "      <th>7</th>\n",
       "      <td>Story3</td>\n",
       "      <td>SDy Max</td>\n",
       "      <td>X</td>\n",
       "      <td>0.604</td>\n",
       "      <td>0.333</td>\n",
       "      <td>1.813</td>\n",
       "      <td>3000</td>\n",
       "      <td>0.000453</td>\n",
>>>>>>> 3a159e30a1d32120bbcff4dbc86c4f255c7364e3
       "      <td>True</td>\n",
       "      <td>Regular</td>\n",
       "    </tr>\n",
       "    <tr>\n",
<<<<<<< HEAD
       "      <th>...</th>\n",
       "      <td>...</td>\n",
       "      <td>...</td>\n",
       "      <td>...</td>\n",
       "      <td>...</td>\n",
       "      <td>...</td>\n",
       "      <td>...</td>\n",
       "      <td>...</td>\n",
       "      <td>...</td>\n",
       "      <td>...</td>\n",
       "      <td>...</td>\n",
       "    </tr>\n",
       "    <tr>\n",
       "      <th>253</th>\n",
       "      <td>Story1</td>\n",
       "      <td>R19 Min</td>\n",
       "      <td>Y</td>\n",
       "      <td>2.352</td>\n",
       "      <td>2.343</td>\n",
       "      <td>1.004</td>\n",
       "      <td>5000</td>\n",
       "      <td>0.002470</td>\n",
=======
       "      <th>8</th>\n",
       "      <td>Story3</td>\n",
       "      <td>SDy Max</td>\n",
       "      <td>Y</td>\n",
       "      <td>0.631</td>\n",
       "      <td>0.597</td>\n",
       "      <td>1.057</td>\n",
       "      <td>3000</td>\n",
       "      <td>0.000473</td>\n",
>>>>>>> 3a159e30a1d32120bbcff4dbc86c4f255c7364e3
       "      <td>True</td>\n",
       "      <td>Regular</td>\n",
       "    </tr>\n",
       "    <tr>\n",
<<<<<<< HEAD
       "      <th>254</th>\n",
       "      <td>Story1</td>\n",
       "      <td>ER Max</td>\n",
       "      <td>X</td>\n",
       "      <td>4.891</td>\n",
       "      <td>4.72</td>\n",
       "      <td>1.036</td>\n",
       "      <td>5000</td>\n",
       "      <td>0.005136</td>\n",
       "      <td>False</td>\n",
       "      <td>Regular</td>\n",
       "    </tr>\n",
       "    <tr>\n",
       "      <th>255</th>\n",
       "      <td>Story1</td>\n",
       "      <td>ER Max</td>\n",
       "      <td>Y</td>\n",
       "      <td>2.361</td>\n",
       "      <td>2.349</td>\n",
       "      <td>1.005</td>\n",
       "      <td>5000</td>\n",
       "      <td>0.002479</td>\n",
=======
       "      <th>13</th>\n",
       "      <td>Story2</td>\n",
       "      <td>SDy Max</td>\n",
       "      <td>X</td>\n",
       "      <td>0.75</td>\n",
       "      <td>0.405</td>\n",
       "      <td>1.854</td>\n",
       "      <td>3000</td>\n",
       "      <td>0.000563</td>\n",
       "      <td>True</td>\n",
       "      <td>Regular</td>\n",
       "    </tr>\n",
       "    <tr>\n",
       "      <th>14</th>\n",
       "      <td>Story2</td>\n",
       "      <td>SDy Max</td>\n",
       "      <td>Y</td>\n",
       "      <td>0.866</td>\n",
       "      <td>0.814</td>\n",
       "      <td>1.064</td>\n",
       "      <td>3000</td>\n",
       "      <td>0.000650</td>\n",
>>>>>>> 3a159e30a1d32120bbcff4dbc86c4f255c7364e3
       "      <td>True</td>\n",
       "      <td>Regular</td>\n",
       "    </tr>\n",
       "    <tr>\n",
<<<<<<< HEAD
       "      <th>256</th>\n",
       "      <td>Story1</td>\n",
       "      <td>ER Min</td>\n",
       "      <td>X</td>\n",
       "      <td>4.881</td>\n",
       "      <td>4.716</td>\n",
       "      <td>1.035</td>\n",
       "      <td>5000</td>\n",
       "      <td>0.005125</td>\n",
       "      <td>False</td>\n",
       "      <td>Regular</td>\n",
       "    </tr>\n",
       "    <tr>\n",
       "      <th>257</th>\n",
       "      <td>Story1</td>\n",
       "      <td>ER Min</td>\n",
       "      <td>Y</td>\n",
       "      <td>2.365</td>\n",
       "      <td>2.356</td>\n",
       "      <td>1.004</td>\n",
       "      <td>5000</td>\n",
       "      <td>0.002483</td>\n",
=======
       "      <th>19</th>\n",
       "      <td>Story1</td>\n",
       "      <td>SDy Max</td>\n",
       "      <td>X</td>\n",
       "      <td>0.706</td>\n",
       "      <td>0.377</td>\n",
       "      <td>1.873</td>\n",
       "      <td>3300</td>\n",
       "      <td>0.000481</td>\n",
       "      <td>True</td>\n",
       "      <td>Regular</td>\n",
       "    </tr>\n",
       "    <tr>\n",
       "      <th>20</th>\n",
       "      <td>Story1</td>\n",
       "      <td>SDy Max</td>\n",
       "      <td>Y</td>\n",
       "      <td>0.966</td>\n",
       "      <td>0.883</td>\n",
       "      <td>1.093</td>\n",
       "      <td>3300</td>\n",
       "      <td>0.000659</td>\n",
>>>>>>> 3a159e30a1d32120bbcff4dbc86c4f255c7364e3
       "      <td>True</td>\n",
       "      <td>Regular</td>\n",
       "    </tr>\n",
       "  </tbody>\n",
       "</table>\n",
<<<<<<< HEAD
       "<p>258 rows × 10 columns</p>\n",
       "</div>"
      ],
      "text/plain": [
       "      Story OutputCase Direction Max Drift Avg Drift  Ratio Height    Drifts  \\\n",
       "0    Story3        NaN         X     4.506     4.149  1.086   3600  0.006571   \n",
       "1    Story3        NaN         Y     1.968     1.916  1.027   3600  0.002870   \n",
       "2    Story3    SDx Max         X     4.028     3.867  1.042   3600  0.005874   \n",
       "3    Story3    SDx Max         Y     0.643     0.622  1.034   3600  0.000938   \n",
       "4    Story3    SDy Max         X     1.227      1.17  1.049   3600  0.001789   \n",
       "..      ...        ...       ...       ...       ...    ...    ...       ...   \n",
       "253  Story1    R19 Min         Y     2.352     2.343  1.004   5000  0.002470   \n",
       "254  Story1     ER Max         X     4.891      4.72  1.036   5000  0.005136   \n",
       "255  Story1     ER Max         Y     2.361     2.349  1.005   5000  0.002479   \n",
       "256  Story1     ER Min         X     4.881     4.716  1.035   5000  0.005125   \n",
       "257  Story1     ER Min         Y     2.365     2.356  1.004   5000  0.002483   \n",
       "\n",
       "     Drift < Dmax/2  tor_reg  \n",
       "0             False  Regular  \n",
       "1              True  Regular  \n",
       "2             False  Regular  \n",
       "3              True  Regular  \n",
       "4              True  Regular  \n",
       "..              ...      ...  \n",
       "253            True  Regular  \n",
       "254           False  Regular  \n",
       "255            True  Regular  \n",
       "256           False  Regular  \n",
       "257            True  Regular  \n",
       "\n",
       "[258 rows x 10 columns]"
=======
       "</div>"
      ],
      "text/plain": [
       "     Story OutputCase Direction Max Drift Avg Drift  Ratio Height    Drifts  \\\n",
       "1   Story4    SDy Max         X     0.885     0.837  1.057   2300  0.000866   \n",
       "2   Story4    SDy Max         Y     0.646     0.626  1.031   2300  0.000632   \n",
       "7   Story3    SDy Max         X     0.604     0.333  1.813   3000  0.000453   \n",
       "8   Story3    SDy Max         Y     0.631     0.597  1.057   3000  0.000473   \n",
       "13  Story2    SDy Max         X      0.75     0.405  1.854   3000  0.000563   \n",
       "14  Story2    SDy Max         Y     0.866     0.814  1.064   3000  0.000650   \n",
       "19  Story1    SDy Max         X     0.706     0.377  1.873   3300  0.000481   \n",
       "20  Story1    SDy Max         Y     0.966     0.883  1.093   3300  0.000659   \n",
       "\n",
       "    Drift < Dmax/2  tor_reg  \n",
       "1             True  Regular  \n",
       "2             True  Regular  \n",
       "7             True  Regular  \n",
       "8             True  Regular  \n",
       "13            True  Regular  \n",
       "14            True  Regular  \n",
       "19            True  Regular  \n",
       "20            True  Regular  "
>>>>>>> 3a159e30a1d32120bbcff4dbc86c4f255c7364e3
      ]
     },
     "metadata": {},
     "output_type": "display_data"
    }
   ],
   "source": [
    "sis.show_table(sismo.torsion_table)"
   ]
  },
  {
   "cell_type": "markdown",
   "metadata": {},
   "source": [
    "## Derivas"
   ]
  },
  {
   "cell_type": "code",
<<<<<<< HEAD
   "execution_count": 44,
=======
   "execution_count": 211,
>>>>>>> 3a159e30a1d32120bbcff4dbc86c4f255c7364e3
   "metadata": {},
   "outputs": [
    {
     "data": {
      "application/vnd.jupyter.widget-view+json": {
<<<<<<< HEAD
       "model_id": "3a97029c60cd4fcb86eff16926c83bf5",
=======
       "model_id": "bae569dc7ed940dabc9d1034c3758717",
>>>>>>> 3a159e30a1d32120bbcff4dbc86c4f255c7364e3
       "version_major": 2,
       "version_minor": 0
      },
      "text/plain": [
<<<<<<< HEAD
       "Dropdown(description='Filtro', index=39, options=(nan, 'SDx Max', 'SDy Max', 'Derivas Max', 'Derivas Min', 'R2…"
=======
       "Dropdown(description='Filtro', options=('SDx Max', 'SDy Max', 'Sx Max', 'Sy Max', 'sin filtro'), style=Descrip…"
>>>>>>> 3a159e30a1d32120bbcff4dbc86c4f255c7364e3
      ]
     },
     "metadata": {},
     "output_type": "display_data"
    },
    {
     "data": {
      "text/html": [
       "<div>\n",
       "<style scoped>\n",
       "    .dataframe tbody tr th:only-of-type {\n",
       "        vertical-align: middle;\n",
       "    }\n",
       "\n",
       "    .dataframe tbody tr th {\n",
       "        vertical-align: top;\n",
       "    }\n",
       "\n",
       "    .dataframe thead th {\n",
       "        text-align: right;\n",
       "    }\n",
       "</style>\n",
       "<table border=\"1\" class=\"dataframe\">\n",
       "  <thead>\n",
       "    <tr style=\"text-align: right;\">\n",
       "      <th></th>\n",
       "      <th>Story</th>\n",
       "      <th>OutputCase</th>\n",
       "      <th>Direction</th>\n",
       "      <th>Drifts</th>\n",
       "      <th>Drift_Check</th>\n",
       "    </tr>\n",
       "  </thead>\n",
       "  <tbody>\n",
       "    <tr>\n",
       "      <th>0</th>\n",
<<<<<<< HEAD
       "      <td>Story3</td>\n",
       "      <td>NaN</td>\n",
       "      <td>X</td>\n",
       "      <td>0.006571</td>\n",
       "      <td>Cumple</td>\n",
       "    </tr>\n",
       "    <tr>\n",
       "      <th>1</th>\n",
       "      <td>Story3</td>\n",
       "      <td>NaN</td>\n",
       "      <td>Y</td>\n",
       "      <td>0.002870</td>\n",
       "      <td>Cumple</td>\n",
       "    </tr>\n",
       "    <tr>\n",
       "      <th>2</th>\n",
       "      <td>Story3</td>\n",
       "      <td>SDx Max</td>\n",
       "      <td>X</td>\n",
       "      <td>0.005874</td>\n",
       "      <td>Cumple</td>\n",
       "    </tr>\n",
       "    <tr>\n",
       "      <th>3</th>\n",
       "      <td>Story3</td>\n",
       "      <td>SDx Max</td>\n",
       "      <td>Y</td>\n",
       "      <td>0.000938</td>\n",
       "      <td>Cumple</td>\n",
       "    </tr>\n",
       "    <tr>\n",
       "      <th>4</th>\n",
       "      <td>Story3</td>\n",
       "      <td>SDy Max</td>\n",
       "      <td>X</td>\n",
       "      <td>0.001789</td>\n",
       "      <td>Cumple</td>\n",
       "    </tr>\n",
       "    <tr>\n",
       "      <th>...</th>\n",
       "      <td>...</td>\n",
       "      <td>...</td>\n",
       "      <td>...</td>\n",
       "      <td>...</td>\n",
       "      <td>...</td>\n",
       "    </tr>\n",
       "    <tr>\n",
       "      <th>253</th>\n",
       "      <td>Story1</td>\n",
       "      <td>R19 Min</td>\n",
       "      <td>Y</td>\n",
       "      <td>0.002470</td>\n",
       "      <td>Cumple</td>\n",
       "    </tr>\n",
       "    <tr>\n",
       "      <th>254</th>\n",
       "      <td>Story1</td>\n",
       "      <td>ER Max</td>\n",
       "      <td>X</td>\n",
       "      <td>0.005136</td>\n",
       "      <td>Cumple</td>\n",
       "    </tr>\n",
       "    <tr>\n",
       "      <th>255</th>\n",
       "      <td>Story1</td>\n",
       "      <td>ER Max</td>\n",
       "      <td>Y</td>\n",
       "      <td>0.002479</td>\n",
       "      <td>Cumple</td>\n",
       "    </tr>\n",
       "    <tr>\n",
       "      <th>256</th>\n",
       "      <td>Story1</td>\n",
       "      <td>ER Min</td>\n",
       "      <td>X</td>\n",
       "      <td>0.005125</td>\n",
       "      <td>Cumple</td>\n",
       "    </tr>\n",
       "    <tr>\n",
       "      <th>257</th>\n",
       "      <td>Story1</td>\n",
       "      <td>ER Min</td>\n",
       "      <td>Y</td>\n",
       "      <td>0.002483</td>\n",
=======
       "      <td>Story4</td>\n",
       "      <td>SDx Max</td>\n",
       "      <td>X</td>\n",
       "      <td>0.002979</td>\n",
       "      <td>Cumple</td>\n",
       "    </tr>\n",
       "    <tr>\n",
       "      <th>6</th>\n",
       "      <td>Story3</td>\n",
       "      <td>SDx Max</td>\n",
       "      <td>X</td>\n",
       "      <td>0.002623</td>\n",
       "      <td>Cumple</td>\n",
       "    </tr>\n",
       "    <tr>\n",
       "      <th>12</th>\n",
       "      <td>Story2</td>\n",
       "      <td>SDx Max</td>\n",
       "      <td>X</td>\n",
       "      <td>0.002968</td>\n",
       "      <td>Cumple</td>\n",
       "    </tr>\n",
       "    <tr>\n",
       "      <th>18</th>\n",
       "      <td>Story1</td>\n",
       "      <td>SDx Max</td>\n",
       "      <td>X</td>\n",
       "      <td>0.002200</td>\n",
>>>>>>> 3a159e30a1d32120bbcff4dbc86c4f255c7364e3
       "      <td>Cumple</td>\n",
       "    </tr>\n",
       "  </tbody>\n",
       "</table>\n",
<<<<<<< HEAD
       "<p>258 rows × 5 columns</p>\n",
       "</div>"
      ],
      "text/plain": [
       "      Story OutputCase Direction    Drifts Drift_Check\n",
       "0    Story3        NaN         X  0.006571      Cumple\n",
       "1    Story3        NaN         Y  0.002870      Cumple\n",
       "2    Story3    SDx Max         X  0.005874      Cumple\n",
       "3    Story3    SDx Max         Y  0.000938      Cumple\n",
       "4    Story3    SDy Max         X  0.001789      Cumple\n",
       "..      ...        ...       ...       ...         ...\n",
       "253  Story1    R19 Min         Y  0.002470      Cumple\n",
       "254  Story1     ER Max         X  0.005136      Cumple\n",
       "255  Story1     ER Max         Y  0.002479      Cumple\n",
       "256  Story1     ER Min         X  0.005125      Cumple\n",
       "257  Story1     ER Min         Y  0.002483      Cumple\n",
       "\n",
       "[258 rows x 5 columns]"
=======
       "</div>"
      ],
      "text/plain": [
       "     Story OutputCase Direction    Drifts Drift_Check\n",
       "0   Story4    SDx Max         X  0.002979      Cumple\n",
       "6   Story3    SDx Max         X  0.002623      Cumple\n",
       "12  Story2    SDx Max         X  0.002968      Cumple\n",
       "18  Story1    SDx Max         X  0.002200      Cumple"
>>>>>>> 3a159e30a1d32120bbcff4dbc86c4f255c7364e3
      ]
     },
     "metadata": {},
     "output_type": "display_data"
    }
   ],
   "source": [
    "sis.show_table(sismo.drift_table)"
   ]
  },
  {
   "cell_type": "markdown",
   "metadata": {},
   "source": [
    "# Fuerza Cortante Mínima"
   ]
  },
  {
   "cell_type": "code",
<<<<<<< HEAD
   "execution_count": 45,
=======
   "execution_count": 212,
>>>>>>> 3a159e30a1d32120bbcff4dbc86c4f255c7364e3
   "metadata": {},
   "outputs": [
    {
     "data": {
      "text/html": [
       "<style type=\"text/css\">\n",
       "</style>\n",
<<<<<<< HEAD
       "<table id=\"T_acfc3\">\n",
=======
       "<table id=\"T_75e96\">\n",
>>>>>>> 3a159e30a1d32120bbcff4dbc86c4f255c7364e3
       "  <thead>\n",
       "  </thead>\n",
       "  <tbody>\n",
       "    <tr>\n",
<<<<<<< HEAD
       "      <td id=\"T_acfc3_row0_col0\" class=\"data row0 col0\" ></td>\n",
       "      <td id=\"T_acfc3_row0_col1\" class=\"data row0 col1\" >X</td>\n",
       "      <td id=\"T_acfc3_row0_col2\" class=\"data row0 col2\" >Y</td>\n",
       "    </tr>\n",
       "    <tr>\n",
       "      <td id=\"T_acfc3_row1_col0\" class=\"data row1 col0\" >V din (Ton)</td>\n",
       "      <td id=\"T_acfc3_row1_col1\" class=\"data row1 col1\" >95.208500</td>\n",
       "      <td id=\"T_acfc3_row1_col2\" class=\"data row1 col2\" >82.237300</td>\n",
       "    </tr>\n",
       "    <tr>\n",
       "      <td id=\"T_acfc3_row2_col0\" class=\"data row2 col0\" >V est (Ton)</td>\n",
       "      <td id=\"T_acfc3_row2_col1\" class=\"data row2 col1\" >-109.036400</td>\n",
       "      <td id=\"T_acfc3_row2_col2\" class=\"data row2 col2\" >-93.454500</td>\n",
       "    </tr>\n",
       "    <tr>\n",
       "      <td id=\"T_acfc3_row3_col0\" class=\"data row3 col0\" >% min</td>\n",
       "      <td id=\"T_acfc3_row3_col1\" class=\"data row3 col1\" >80</td>\n",
       "      <td id=\"T_acfc3_row3_col2\" class=\"data row3 col2\" >80</td>\n",
       "    </tr>\n",
       "    <tr>\n",
       "      <td id=\"T_acfc3_row4_col0\" class=\"data row4 col0\" >%</td>\n",
       "      <td id=\"T_acfc3_row4_col1\" class=\"data row4 col1\" >87.320000</td>\n",
       "      <td id=\"T_acfc3_row4_col2\" class=\"data row4 col2\" >88.000000</td>\n",
       "    </tr>\n",
       "    <tr>\n",
       "      <td id=\"T_acfc3_row5_col0\" class=\"data row5 col0\" >F.E.</td>\n",
       "      <td id=\"T_acfc3_row5_col1\" class=\"data row5 col1\" >1</td>\n",
       "      <td id=\"T_acfc3_row5_col2\" class=\"data row5 col2\" >1</td>\n",
=======
       "      <td id=\"T_75e96_row0_col0\" class=\"data row0 col0\" ></td>\n",
       "      <td id=\"T_75e96_row0_col1\" class=\"data row0 col1\" >X</td>\n",
       "      <td id=\"T_75e96_row0_col2\" class=\"data row0 col2\" >Y</td>\n",
       "    </tr>\n",
       "    <tr>\n",
       "      <td id=\"T_75e96_row1_col0\" class=\"data row1 col0\" >V din (Ton)</td>\n",
       "      <td id=\"T_75e96_row1_col1\" class=\"data row1 col1\" >114.666100</td>\n",
       "      <td id=\"T_75e96_row1_col2\" class=\"data row1 col2\" >113.995200</td>\n",
       "    </tr>\n",
       "    <tr>\n",
       "      <td id=\"T_75e96_row2_col0\" class=\"data row2 col0\" >V est (Ton)</td>\n",
       "      <td id=\"T_75e96_row2_col1\" class=\"data row2 col1\" >57.333000</td>\n",
       "      <td id=\"T_75e96_row2_col2\" class=\"data row2 col2\" >56.997600</td>\n",
       "    </tr>\n",
       "    <tr>\n",
       "      <td id=\"T_75e96_row3_col0\" class=\"data row3 col0\" >% min</td>\n",
       "      <td id=\"T_75e96_row3_col1\" class=\"data row3 col1\" >80</td>\n",
       "      <td id=\"T_75e96_row3_col2\" class=\"data row3 col2\" >80</td>\n",
       "    </tr>\n",
       "    <tr>\n",
       "      <td id=\"T_75e96_row4_col0\" class=\"data row4 col0\" >%</td>\n",
       "      <td id=\"T_75e96_row4_col1\" class=\"data row4 col1\" >200.000000</td>\n",
       "      <td id=\"T_75e96_row4_col2\" class=\"data row4 col2\" >200.000000</td>\n",
       "    </tr>\n",
       "    <tr>\n",
       "      <td id=\"T_75e96_row5_col0\" class=\"data row5 col0\" >F.E.</td>\n",
       "      <td id=\"T_75e96_row5_col1\" class=\"data row5 col1\" >1</td>\n",
       "      <td id=\"T_75e96_row5_col2\" class=\"data row5 col2\" >1</td>\n",
>>>>>>> 3a159e30a1d32120bbcff4dbc86c4f255c7364e3
       "    </tr>\n",
       "  </tbody>\n",
       "</table>\n"
      ],
      "text/plain": [
<<<<<<< HEAD
       "<pandas.io.formats.style.Styler at 0x25a719d4280>"
      ]
     },
     "execution_count": 45,
=======
       "<pandas.io.formats.style.Styler at 0x209b2c87be0>"
      ]
     },
     "execution_count": 212,
>>>>>>> 3a159e30a1d32120bbcff4dbc86c4f255c7364e3
     "metadata": {},
     "output_type": "execute_result"
    }
   ],
   "source": [
    "sismo.shear_table.style.hide(axis='index').hide(axis='columns')"
   ]
<<<<<<< HEAD
=======
  },
  {
   "cell_type": "code",
   "execution_count": 213,
   "metadata": {},
   "outputs": [
    {
     "ename": "ModuleNotFoundError",
     "evalue": "No module named 'latex_utils'",
     "output_type": "error",
     "traceback": [
      "\u001b[1;31m---------------------------------------------------------------------------\u001b[0m",
      "\u001b[1;31mModuleNotFoundError\u001b[0m                       Traceback (most recent call last)",
      "Cell \u001b[1;32mIn[213], line 1\u001b[0m\n\u001b[1;32m----> 1\u001b[0m \u001b[38;5;28;01mfrom\u001b[39;00m \u001b[38;5;21;01mmem\u001b[39;00m \u001b[38;5;28;01mimport\u001b[39;00m sismo_mem \u001b[38;5;28;01mas\u001b[39;00m smem\n\u001b[0;32m      2\u001b[0m zona \u001b[38;5;241m=\u001b[39m \u001b[38;5;241m2\u001b[39m\n\u001b[0;32m      3\u001b[0m suelo \u001b[38;5;241m=\u001b[39m \u001b[38;5;124m'\u001b[39m\u001b[38;5;124mS2\u001b[39m\u001b[38;5;124m'\u001b[39m\n",
      "File \u001b[1;32mD:\\CARPETAS W10\\Escritorio\\GITHUB\\automatizacion_estructural\\sismo_e030\\..\\mem\\sismo_mem.py:1\u001b[0m\n\u001b[1;32m----> 1\u001b[0m \u001b[38;5;28;01mimport\u001b[39;00m \u001b[38;5;21;01mlatex_utils\u001b[39;00m \u001b[38;5;28;01mas\u001b[39;00m \u001b[38;5;21;01mltx\u001b[39;00m\n\u001b[0;32m      2\u001b[0m \u001b[38;5;28;01mfrom\u001b[39;00m \u001b[38;5;21;01mpylatex\u001b[39;00m \u001b[38;5;28;01mimport\u001b[39;00m Document, Section, Subsection,Subsubsection, Tabular, NoEscape, MiniPage, Center, MultiColumn, Table, Figure, Tabularx\n\u001b[0;32m      3\u001b[0m \u001b[38;5;28;01mfrom\u001b[39;00m \u001b[38;5;21;01mpylatex\u001b[39;00m\u001b[38;5;21;01m.\u001b[39;00m\u001b[38;5;21;01mutils\u001b[39;00m \u001b[38;5;28;01mimport\u001b[39;00m NoEscape, bold\n",
      "\u001b[1;31mModuleNotFoundError\u001b[0m: No module named 'latex_utils'"
     ]
    }
   ],
   "source": [
    "from mem import sismo_mem as smem\n",
    "zona = 2\n",
    "suelo = 'S2'\n",
    "categoria = sismo.data['Factor de Importancia']\n",
    "\n",
    "ins = r'''Esto mostrará una lista de los commits en el repositorio, comenzando con el commit más reciente.\n",
    "Cada commit estará identificado por una cadena de caracteres larga y hexadecimal que aparece en la\n",
    "línea que comien\n",
    "'''\n",
    "\n",
    "section = smem.Section('Análsis Sísmico')\n",
    "smem.factor_zona(section,zona,o_type=smem.Subsection,insert=ins)\n",
    "geometry_options = { \"left\": \"2.5cm\", \"top\": \"1.5cm\" }\n",
    "section.append('Esto mostrará una lista de los commits en el repositorio, comenzando con el commit más reciente. Cada commit estará identificado por una cadena de caracteres larga y hexadecimal que aparece en la línea que comienz')\n",
    "doc = smem.Document(geometry_options=geometry_options)\n",
    "doc.packages.append(smem.Package('xcolor', options=['dvipsnames']))\n",
    "doc.append(section)\n",
    "doc.generate_pdf('Memoria')"
   ]
  },
  {
   "cell_type": "code",
   "execution_count": null,
   "metadata": {},
   "outputs": [],
   "source": [
    "doc.generate_tex('Memoria')"
   ]
  },
  {
   "cell_type": "code",
   "execution_count": null,
   "metadata": {},
   "outputs": [],
   "source": [
    "zona = 3\n",
    "suelo = 'S0'\n",
    "section = smem.Section('Análsis Sísmico')\n",
    "subsection = smem.Subsection('Parámetros de Sitio')\n",
    "smem.factor_zona(subsection,zona,insert=ins)\n",
    "smem.factor_suelo(subsection,zona,suelo)\n",
    "geometry_options = { \"left\": \"2.5cm\", \"top\": \"1.5cm\" }\n",
    "section.append('Esto mostrará una lista de los commits en el repositorio, comenzando con el commit más reciente. Cada commit estará identificado por una cadena de caracteres larga y hexadecimal que aparece en la línea que comienz')\n",
    "doc = smem.Document(geometry_options=geometry_options)\n",
    "doc.packages.append(smem.Package('xcolor', options=['dvipsnames']))\n",
    "section.append(subsection)\n",
    "doc.append(section)\n",
    "tabla = sismo.torsion_table\n",
    "sis_x = tabla[tabla['OutputCase']=='SDx Max']\n",
    "sis_y = tabla[tabla['OutputCase']=='SDy Max']\n",
    "sis_y = sis_y[sis_y['Direction']=='Y']\n",
    "section2 = smem.Section('Irregularidades')\n",
    "smem.irreg_torsion(section2,sis_x,sis_y)\n",
    "doc.append(section2)\n",
    "doc.generate_pdf('Memoria')"
   ]
  },
  {
   "cell_type": "code",
   "execution_count": null,
   "metadata": {},
   "outputs": [],
   "source": [
    "tabla = sismo.torsion_table"
   ]
  },
  {
   "cell_type": "code",
   "execution_count": null,
   "metadata": {},
   "outputs": [],
   "source": [
    "tabla"
   ]
>>>>>>> 3a159e30a1d32120bbcff4dbc86c4f255c7364e3
  }
 ],
 "metadata": {
  "kernelspec": {
   "display_name": "structures",
   "language": "python",
   "name": "python3"
  },
  "language_info": {
   "codemirror_mode": {
    "name": "ipython",
    "version": 3
   },
   "file_extension": ".py",
   "mimetype": "text/x-python",
   "name": "python",
   "nbconvert_exporter": "python",
   "pygments_lexer": "ipython3",
   "version": "3.9.16"
  },
  "toc-showmarkdowntxt": true,
  "vscode": {
   "interpreter": {
    "hash": "bac46d45b902eb1257731b3cec425c94a9ada4fac09ba91d7557c516a1f31c36"
   }
  }
 },
 "nbformat": 4,
 "nbformat_minor": 4
}
