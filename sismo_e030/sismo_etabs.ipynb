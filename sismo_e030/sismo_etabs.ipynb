{
 "cells": [
  {
   "cell_type": "markdown",
   "metadata": {},
   "source": [
    "# Análisis Sísmico"
   ]
  },
  {
   "cell_type": "code",
   "execution_count": 33,
   "metadata": {},
   "outputs": [
    {
     "name": "stdout",
     "output_type": "stream",
     "text": [
      "The autoreload extension is already loaded. To reload it, use:\n",
      "  %reload_ext autoreload\n"
     ]
    }
   ],
   "source": [
    "#Importar las librerías necesarias\n",
    "%load_ext autoreload\n",
    "%autoreload 2\n",
    "import os\n",
    "import sys\n",
    "sys.path.append(os.getcwd()+'\\\\..')\n",
    "from lib import etabs_utils as etb\n",
    "from lib import sismo_utils as sis\n",
    "#from mem import sismo_mem as smem\n",
    "from ipywidgets import widgets\n",
    "from IPython.display import display"
   ]
  },
  {
   "cell_type": "code",
   "execution_count": 34,
   "metadata": {},
   "outputs": [],
   "source": [
    "_,SapModel = etb.connect_to_etabs()"
   ]
  },
  {
   "cell_type": "code",
   "execution_count": 35,
   "metadata": {},
   "outputs": [],
   "source": [
    "sismo = sis.sismo_e30()"
   ]
  },
  {
   "cell_type": "markdown",
   "metadata": {},
   "source": [
    "# Parámetros de Sitio\n",
    "\n",
    "## Zonificación\n",
    "![Factor de Zonifiación](./factor_zona.png)"
   ]
  },
  {
   "cell_type": "markdown",
   "metadata": {},
   "source": [
    "## Factor de Suelo\n",
    "![Factor de Suelo](./factor_suelo.png)\n"
   ]
  },
  {
   "cell_type": "markdown",
   "metadata": {},
   "source": [
    "## Periodos del suelo\n",
    "![Periodos del Suelo](./periodos_suelo.png)"
   ]
  },
  {
   "cell_type": "markdown",
   "metadata": {},
   "source": [
    "## Sistema Estructural\n",
    "![Sistema Estructural](./sistemas_estructurales.png)"
   ]
  },
  {
   "cell_type": "markdown",
   "metadata": {},
   "source": [
    "## Factor de Amplificación sísmica\n",
    "![Factor de Amplificacion Sísmica](./amplificacion_sismica.png)"
   ]
  },
  {
   "cell_type": "markdown",
   "metadata": {},
   "source": [
    "## Factor de Importancia\n",
    "![Factor de Importancia](./factor_importancia.png)"
   ]
  },
  {
   "cell_type": "code",
   "execution_count": 36,
   "metadata": {},
   "outputs": [
    {
     "data": {
      "application/vnd.jupyter.widget-view+json": {
       "model_id": "d0e36bdb61a443a28db82467ddaf494a",
       "version_major": 2,
       "version_minor": 0
      },
      "text/plain": [
       "VBox(children=(Dropdown(description='Factor Zona', index=1, options=('1', '2', '3', '4'), style=DescriptionSty…"
      ]
     },
     "metadata": {},
     "output_type": "display_data"
    }
   ],
   "source": [
    "sismo.parametros_e30()"
   ]
  },
  {
   "cell_type": "markdown",
   "metadata": {},
   "source": [
    "# Irregularidades"
   ]
  },
  {
   "cell_type": "code",
   "execution_count": 37,
   "metadata": {},
   "outputs": [
    {
     "data": {
      "application/vnd.jupyter.widget-view+json": {
       "model_id": "2599cfecb2b64de4a89f70bc60f0c2a0",
       "version_major": 2,
       "version_minor": 0
      },
      "text/plain": [
       "HBox(children=(VBox(children=(HTML(value='<b>Irregularidad en Altura</b>'), Checkbox(value=False, description=…"
      ]
     },
     "metadata": {},
     "output_type": "display_data"
    }
   ],
   "source": [
    "sismo.irregularidades_e30()"
   ]
  },
  {
   "cell_type": "markdown",
   "metadata": {},
   "source": [
    "# Parámetros Sísmicos"
   ]
  },
  {
   "cell_type": "code",
   "execution_count": 38,
   "metadata": {},
   "outputs": [
    {
     "name": "stdout",
     "output_type": "stream",
     "text": [
      "\n",
      "\u001b[1mParámetros de sitio:\u001b[0m\n",
      "Factor de zona: \n",
      "    Z=0.25\n",
      "Factor de Importancia: \n",
      "    U=1.50\n",
      "Factor de Suelo: \n",
      "    S=1.00\n",
      "Periodos del Suelo: \n",
      "    Tp=0.40\n",
      "    Tl=2.50\n",
      "Factor Básico de Reducción:\n",
      "    Rox=7.00\n",
      "    Roy=7.00\n",
      "Irregularidad en planta:\n",
      "    Ipx=1.00\n",
      "    Ipy=1.00\n",
      "Irregularidad en altura:\n",
      "    Iax=1.00\n",
      "    Iay=1.00\n",
      "Factor de Reducción:\n",
      "    Rx=7.00\n",
      "    Ry=7.00\n",
      "\n"
     ]
    }
   ],
   "source": [
    "sismo.show_params()"
   ]
  },
  {
   "cell_type": "code",
   "execution_count": 39,
   "metadata": {},
   "outputs": [
    {
     "name": "stdout",
     "output_type": "stream",
     "text": [
      "\n",
      "Análisis Modal:\n",
      "Masa Participativa X: 1.00\n",
      "Masa Participativa Y: 1.00\n",
      "Periodo y deformaxión X: Tx=0.029, Ux=0.000\n",
      "Periodo y deformaxión Y: Ty=0.225, Uy=0.000\n",
      "Factor de Reduccion con Irregularidades: R=7.0\n",
      "C en X: 2.50\n",
      "C en Y: 2.50\n",
      "\n",
      "Coeficiente de sismo estático X: 0.134\n",
      "Coeficiente de sismo estático Y: 0.134\n",
      "Exponente de altura X: 1.00\n",
      "Exponente de altura Y: 1.00\n"
     ]
    }
   ],
   "source": [
    "sismo.analisis_sismo(SapModel)"
   ]
  },
  {
   "cell_type": "markdown",
   "metadata": {},
   "source": [
    "## Revisión por Piso Blando"
   ]
  },
  {
   "cell_type": "code",
   "execution_count": 40,
   "metadata": {},
   "outputs": [
    {
     "data": {
      "application/vnd.jupyter.widget-view+json": {
       "model_id": "71c2aab172074f79a0859fe024bb5bb7",
       "version_major": 2,
       "version_minor": 0
      },
      "text/plain": [
       "Dropdown(description='Filtro', index=44, options=('Derivas Min', 'Servicio', 'R18 Min', 'R13 Max', 'R14 Min', …"
      ]
     },
     "metadata": {},
     "output_type": "display_data"
    },
    {
     "data": {
      "text/html": [
       "<div>\n",
       "<style scoped>\n",
       "    .dataframe tbody tr th:only-of-type {\n",
       "        vertical-align: middle;\n",
       "    }\n",
       "\n",
       "    .dataframe tbody tr th {\n",
       "        vertical-align: top;\n",
       "    }\n",
       "\n",
       "    .dataframe thead th {\n",
       "        text-align: right;\n",
       "    }\n",
       "</style>\n",
       "<table border=\"1\" class=\"dataframe\">\n",
       "  <thead>\n",
       "    <tr style=\"text-align: right;\">\n",
       "      <th></th>\n",
       "      <th>Story</th>\n",
       "      <th>OutputCase</th>\n",
       "      <th>UX</th>\n",
       "      <th>UY</th>\n",
       "      <th>ΔUX</th>\n",
       "      <th>ΔUY</th>\n",
       "      <th>VX</th>\n",
       "      <th>VY</th>\n",
       "      <th>lat_rig(k)</th>\n",
       "      <th>0.7_prev_k</th>\n",
       "      <th>0.8k_prom</th>\n",
       "      <th>is_reg</th>\n",
       "    </tr>\n",
       "  </thead>\n",
       "  <tbody>\n",
       "    <tr>\n",
       "      <th>0</th>\n",
       "      <td>Story3</td>\n",
       "      <td>Derivas Min</td>\n",
       "      <td>-57.629</td>\n",
       "      <td>-32.8</td>\n",
       "      <td>-16.545</td>\n",
       "      <td>-8.919</td>\n",
       "      <td>-1656522.79</td>\n",
       "      <td>-1641502.87</td>\n",
       "      <td>184045.618343</td>\n",
       "      <td>0.000000</td>\n",
       "      <td>0.0</td>\n",
       "      <td>Regular</td>\n",
       "    </tr>\n",
       "    <tr>\n",
       "      <th>1</th>\n",
       "      <td>Story2</td>\n",
       "      <td>Derivas Min</td>\n",
       "      <td>-41.084</td>\n",
       "      <td>-23.881</td>\n",
       "      <td>-20.616</td>\n",
       "      <td>-11.790</td>\n",
       "      <td>-3277846.08</td>\n",
       "      <td>-3288901.43</td>\n",
       "      <td>278956.864292</td>\n",
       "      <td>128831.932840</td>\n",
       "      <td>0.0</td>\n",
       "      <td>Regular</td>\n",
       "    </tr>\n",
       "    <tr>\n",
       "      <th>2</th>\n",
       "      <td>Story1</td>\n",
       "      <td>Derivas Min</td>\n",
       "      <td>-20.468</td>\n",
       "      <td>-12.091</td>\n",
       "      <td>-20.468</td>\n",
       "      <td>-12.091</td>\n",
       "      <td>-4201544.58</td>\n",
       "      <td>-4233978.69</td>\n",
       "      <td>350176.055744</td>\n",
       "      <td>195269.805004</td>\n",
       "      <td>0.0</td>\n",
       "      <td>Regular</td>\n",
       "    </tr>\n",
       "    <tr>\n",
       "      <th>3</th>\n",
       "      <td>Story3</td>\n",
       "      <td>Servicio</td>\n",
       "      <td>-0.004</td>\n",
       "      <td>-0.009</td>\n",
       "      <td>-0.002</td>\n",
       "      <td>-0.002</td>\n",
       "      <td>0</td>\n",
       "      <td>0</td>\n",
       "      <td>0.000000</td>\n",
       "      <td>0.000000</td>\n",
       "      <td>0.0</td>\n",
       "      <td>Irregular</td>\n",
       "    </tr>\n",
       "    <tr>\n",
       "      <th>4</th>\n",
       "      <td>Story2</td>\n",
       "      <td>Servicio</td>\n",
       "      <td>-0.002</td>\n",
       "      <td>-0.007</td>\n",
       "      <td>-0.001</td>\n",
       "      <td>-0.004</td>\n",
       "      <td>0</td>\n",
       "      <td>0</td>\n",
       "      <td>0.000000</td>\n",
       "      <td>0.000000</td>\n",
       "      <td>0.0</td>\n",
       "      <td>Irregular</td>\n",
       "    </tr>\n",
       "    <tr>\n",
       "      <th>...</th>\n",
       "      <td>...</td>\n",
       "      <td>...</td>\n",
       "      <td>...</td>\n",
       "      <td>...</td>\n",
       "      <td>...</td>\n",
       "      <td>...</td>\n",
       "      <td>...</td>\n",
       "      <td>...</td>\n",
       "      <td>...</td>\n",
       "      <td>...</td>\n",
       "      <td>...</td>\n",
       "      <td>...</td>\n",
       "    </tr>\n",
       "    <tr>\n",
       "      <th>127</th>\n",
       "      <td>Story2</td>\n",
       "      <td>ER Min</td>\n",
       "      <td>-9.133</td>\n",
       "      <td>-4.573</td>\n",
       "      <td>-4.583</td>\n",
       "      <td>-2.260</td>\n",
       "      <td>-728410.24</td>\n",
       "      <td>-626457.42</td>\n",
       "      <td>277193.548673</td>\n",
       "      <td>128292.524619</td>\n",
       "      <td>0.0</td>\n",
       "      <td>Regular</td>\n",
       "    </tr>\n",
       "    <tr>\n",
       "      <th>128</th>\n",
       "      <td>Story1</td>\n",
       "      <td>ER Min</td>\n",
       "      <td>-4.55</td>\n",
       "      <td>-2.313</td>\n",
       "      <td>-4.550</td>\n",
       "      <td>-2.313</td>\n",
       "      <td>-933676.57</td>\n",
       "      <td>-806472.13</td>\n",
       "      <td>348669.316904</td>\n",
       "      <td>194035.484071</td>\n",
       "      <td>0.0</td>\n",
       "      <td>Regular</td>\n",
       "    </tr>\n",
       "    <tr>\n",
       "      <th>129</th>\n",
       "      <td>Story3</td>\n",
       "      <td>R17 Max</td>\n",
       "      <td>12.802</td>\n",
       "      <td>1.885</td>\n",
       "      <td>3.675</td>\n",
       "      <td>0.511</td>\n",
       "      <td>368116.18</td>\n",
       "      <td>93800.16</td>\n",
       "      <td>183561.956947</td>\n",
       "      <td>0.000000</td>\n",
       "      <td>0.0</td>\n",
       "      <td>Regular</td>\n",
       "    </tr>\n",
       "    <tr>\n",
       "      <th>130</th>\n",
       "      <td>Story2</td>\n",
       "      <td>R17 Max</td>\n",
       "      <td>9.127</td>\n",
       "      <td>1.374</td>\n",
       "      <td>4.580</td>\n",
       "      <td>0.680</td>\n",
       "      <td>728410.24</td>\n",
       "      <td>187937.22</td>\n",
       "      <td>276378.264706</td>\n",
       "      <td>128493.369863</td>\n",
       "      <td>0.0</td>\n",
       "      <td>Regular</td>\n",
       "    </tr>\n",
       "    <tr>\n",
       "      <th>131</th>\n",
       "      <td>Story1</td>\n",
       "      <td>R17 Max</td>\n",
       "      <td>4.547</td>\n",
       "      <td>0.694</td>\n",
       "      <td>4.547</td>\n",
       "      <td>0.694</td>\n",
       "      <td>933676.57</td>\n",
       "      <td>241941.64</td>\n",
       "      <td>348619.077810</td>\n",
       "      <td>193464.785294</td>\n",
       "      <td>0.0</td>\n",
       "      <td>Regular</td>\n",
       "    </tr>\n",
       "  </tbody>\n",
       "</table>\n",
       "<p>132 rows × 12 columns</p>\n",
       "</div>"
      ],
      "text/plain": [
       "      Story   OutputCase       UX       UY     ΔUX     ΔUY           VX  \\\n",
       "0    Story3  Derivas Min  -57.629    -32.8 -16.545  -8.919  -1656522.79   \n",
       "1    Story2  Derivas Min  -41.084  -23.881 -20.616 -11.790  -3277846.08   \n",
       "2    Story1  Derivas Min  -20.468  -12.091 -20.468 -12.091  -4201544.58   \n",
       "3    Story3     Servicio   -0.004   -0.009  -0.002  -0.002            0   \n",
       "4    Story2     Servicio   -0.002   -0.007  -0.001  -0.004            0   \n",
       "..      ...          ...      ...      ...     ...     ...          ...   \n",
       "127  Story2       ER Min   -9.133   -4.573  -4.583  -2.260   -728410.24   \n",
       "128  Story1       ER Min    -4.55   -2.313  -4.550  -2.313   -933676.57   \n",
       "129  Story3      R17 Max   12.802    1.885   3.675   0.511    368116.18   \n",
       "130  Story2      R17 Max    9.127    1.374   4.580   0.680    728410.24   \n",
       "131  Story1      R17 Max    4.547    0.694   4.547   0.694    933676.57   \n",
       "\n",
       "              VY     lat_rig(k)     0.7_prev_k  0.8k_prom     is_reg  \n",
       "0    -1641502.87  184045.618343       0.000000        0.0    Regular  \n",
       "1    -3288901.43  278956.864292  128831.932840        0.0    Regular  \n",
       "2    -4233978.69  350176.055744  195269.805004        0.0    Regular  \n",
       "3              0       0.000000       0.000000        0.0  Irregular  \n",
       "4              0       0.000000       0.000000        0.0  Irregular  \n",
       "..           ...            ...            ...        ...        ...  \n",
       "127   -626457.42  277193.548673  128292.524619        0.0    Regular  \n",
       "128   -806472.13  348669.316904  194035.484071        0.0    Regular  \n",
       "129     93800.16  183561.956947       0.000000        0.0    Regular  \n",
       "130    187937.22  276378.264706  128493.369863        0.0    Regular  \n",
       "131    241941.64  348619.077810  193464.785294        0.0    Regular  \n",
       "\n",
       "[132 rows x 12 columns]"
      ]
     },
     "metadata": {},
     "output_type": "display_data"
    }
   ],
   "source": [
    "sis.show_table(sismo.piso_blando_table)"
   ]
  },
  {
   "cell_type": "code",
   "execution_count": 41,
   "metadata": {},
   "outputs": [],
   "source": [
    "a = sismo.piso_blando_table"
   ]
  },
  {
   "cell_type": "markdown",
   "metadata": {},
   "source": [
    "## Revisión por Irregularidad de Masa"
   ]
  },
  {
   "cell_type": "code",
   "execution_count": 42,
   "metadata": {},
   "outputs": [
    {
     "data": {
      "text/html": [
       "<div>\n",
       "<style scoped>\n",
       "    .dataframe tbody tr th:only-of-type {\n",
       "        vertical-align: middle;\n",
       "    }\n",
       "\n",
       "    .dataframe tbody tr th {\n",
       "        vertical-align: top;\n",
       "    }\n",
       "\n",
       "    .dataframe thead th {\n",
       "        text-align: right;\n",
       "    }\n",
       "</style>\n",
       "<table border=\"1\" class=\"dataframe\">\n",
       "  <thead>\n",
       "    <tr style=\"text-align: right;\">\n",
       "      <th></th>\n",
       "      <th>Story</th>\n",
       "      <th>Mass</th>\n",
       "      <th>1.5 Mass</th>\n",
       "      <th>story_type</th>\n",
       "      <th>is_regular</th>\n",
       "    </tr>\n",
       "  </thead>\n",
       "  <tbody>\n",
       "    <tr>\n",
       "      <th>0</th>\n",
       "      <td>Story3</td>\n",
       "      <td>90.1284</td>\n",
       "      <td></td>\n",
       "      <td>Azotea</td>\n",
       "      <td>Regular</td>\n",
       "    </tr>\n",
       "    <tr>\n",
       "      <th>1</th>\n",
       "      <td>Story2</td>\n",
       "      <td>135.8175</td>\n",
       "      <td>203.72625</td>\n",
       "      <td>Piso</td>\n",
       "      <td>Regular</td>\n",
       "    </tr>\n",
       "    <tr>\n",
       "      <th>2</th>\n",
       "      <td>Story1</td>\n",
       "      <td>143.2935</td>\n",
       "      <td>214.94025</td>\n",
       "      <td>Piso</td>\n",
       "      <td>Regular</td>\n",
       "    </tr>\n",
       "    <tr>\n",
       "      <th>3</th>\n",
       "      <td>Base</td>\n",
       "      <td>26.7000</td>\n",
       "      <td></td>\n",
       "      <td>Sotano</td>\n",
       "      <td>Regular</td>\n",
       "    </tr>\n",
       "  </tbody>\n",
       "</table>\n",
       "</div>"
      ],
      "text/plain": [
       "    Story      Mass   1.5 Mass story_type is_regular\n",
       "0  Story3   90.1284                Azotea    Regular\n",
       "1  Story2  135.8175  203.72625       Piso    Regular\n",
       "2  Story1  143.2935  214.94025       Piso    Regular\n",
       "3    Base   26.7000                Sotano    Regular"
      ]
     },
     "execution_count": 42,
     "metadata": {},
     "output_type": "execute_result"
    }
   ],
   "source": [
    "sismo.rev_masa_table"
   ]
  },
  {
   "cell_type": "markdown",
   "metadata": {},
   "source": [
    "## Revisión de torsión"
   ]
  },
  {
   "cell_type": "code",
   "execution_count": 43,
   "metadata": {},
   "outputs": [
    {
     "data": {
      "application/vnd.jupyter.widget-view+json": {
       "model_id": "6703650ed18c402f9ff9cb86a205828f",
       "version_major": 2,
       "version_minor": 0
      },
      "text/plain": [
       "Dropdown(description='Filtro', index=39, options=(nan, 'SDx Max', 'SDy Max', 'Derivas Max', 'Derivas Min', 'R2…"
      ]
     },
     "metadata": {},
     "output_type": "display_data"
    },
    {
     "data": {
      "text/html": [
       "<div>\n",
       "<style scoped>\n",
       "    .dataframe tbody tr th:only-of-type {\n",
       "        vertical-align: middle;\n",
       "    }\n",
       "\n",
       "    .dataframe tbody tr th {\n",
       "        vertical-align: top;\n",
       "    }\n",
       "\n",
       "    .dataframe thead th {\n",
       "        text-align: right;\n",
       "    }\n",
       "</style>\n",
       "<table border=\"1\" class=\"dataframe\">\n",
       "  <thead>\n",
       "    <tr style=\"text-align: right;\">\n",
       "      <th></th>\n",
       "      <th>Story</th>\n",
       "      <th>OutputCase</th>\n",
       "      <th>Direction</th>\n",
       "      <th>Max Drift</th>\n",
       "      <th>Avg Drift</th>\n",
       "      <th>Ratio</th>\n",
       "      <th>Height</th>\n",
       "      <th>Drifts</th>\n",
       "      <th>Drift &lt; Dmax/2</th>\n",
       "      <th>tor_reg</th>\n",
       "    </tr>\n",
       "  </thead>\n",
       "  <tbody>\n",
       "    <tr>\n",
       "      <th>0</th>\n",
       "      <td>Story3</td>\n",
       "      <td>NaN</td>\n",
       "      <td>X</td>\n",
       "      <td>4.506</td>\n",
       "      <td>4.149</td>\n",
       "      <td>1.086</td>\n",
       "      <td>3600</td>\n",
       "      <td>0.006571</td>\n",
       "      <td>False</td>\n",
       "      <td>Regular</td>\n",
       "    </tr>\n",
       "    <tr>\n",
       "      <th>1</th>\n",
       "      <td>Story3</td>\n",
       "      <td>NaN</td>\n",
       "      <td>Y</td>\n",
       "      <td>1.968</td>\n",
       "      <td>1.916</td>\n",
       "      <td>1.027</td>\n",
       "      <td>3600</td>\n",
       "      <td>0.002870</td>\n",
       "      <td>True</td>\n",
       "      <td>Regular</td>\n",
       "    </tr>\n",
       "    <tr>\n",
       "      <th>2</th>\n",
       "      <td>Story3</td>\n",
       "      <td>SDx Max</td>\n",
       "      <td>X</td>\n",
       "      <td>4.028</td>\n",
       "      <td>3.867</td>\n",
       "      <td>1.042</td>\n",
       "      <td>3600</td>\n",
       "      <td>0.005874</td>\n",
       "      <td>False</td>\n",
       "      <td>Regular</td>\n",
       "    </tr>\n",
       "    <tr>\n",
       "      <th>3</th>\n",
       "      <td>Story3</td>\n",
       "      <td>SDx Max</td>\n",
       "      <td>Y</td>\n",
       "      <td>0.643</td>\n",
       "      <td>0.622</td>\n",
       "      <td>1.034</td>\n",
       "      <td>3600</td>\n",
       "      <td>0.000938</td>\n",
       "      <td>True</td>\n",
       "      <td>Regular</td>\n",
       "    </tr>\n",
       "    <tr>\n",
       "      <th>4</th>\n",
       "      <td>Story3</td>\n",
       "      <td>SDy Max</td>\n",
       "      <td>X</td>\n",
       "      <td>1.227</td>\n",
       "      <td>1.17</td>\n",
       "      <td>1.049</td>\n",
       "      <td>3600</td>\n",
       "      <td>0.001789</td>\n",
       "      <td>True</td>\n",
       "      <td>Regular</td>\n",
       "    </tr>\n",
       "    <tr>\n",
       "      <th>...</th>\n",
       "      <td>...</td>\n",
       "      <td>...</td>\n",
       "      <td>...</td>\n",
       "      <td>...</td>\n",
       "      <td>...</td>\n",
       "      <td>...</td>\n",
       "      <td>...</td>\n",
       "      <td>...</td>\n",
       "      <td>...</td>\n",
       "      <td>...</td>\n",
       "    </tr>\n",
       "    <tr>\n",
       "      <th>253</th>\n",
       "      <td>Story1</td>\n",
       "      <td>R19 Min</td>\n",
       "      <td>Y</td>\n",
       "      <td>2.352</td>\n",
       "      <td>2.343</td>\n",
       "      <td>1.004</td>\n",
       "      <td>5000</td>\n",
       "      <td>0.002470</td>\n",
       "      <td>True</td>\n",
       "      <td>Regular</td>\n",
       "    </tr>\n",
       "    <tr>\n",
       "      <th>254</th>\n",
       "      <td>Story1</td>\n",
       "      <td>ER Max</td>\n",
       "      <td>X</td>\n",
       "      <td>4.891</td>\n",
       "      <td>4.72</td>\n",
       "      <td>1.036</td>\n",
       "      <td>5000</td>\n",
       "      <td>0.005136</td>\n",
       "      <td>False</td>\n",
       "      <td>Regular</td>\n",
       "    </tr>\n",
       "    <tr>\n",
       "      <th>255</th>\n",
       "      <td>Story1</td>\n",
       "      <td>ER Max</td>\n",
       "      <td>Y</td>\n",
       "      <td>2.361</td>\n",
       "      <td>2.349</td>\n",
       "      <td>1.005</td>\n",
       "      <td>5000</td>\n",
       "      <td>0.002479</td>\n",
       "      <td>True</td>\n",
       "      <td>Regular</td>\n",
       "    </tr>\n",
       "    <tr>\n",
       "      <th>256</th>\n",
       "      <td>Story1</td>\n",
       "      <td>ER Min</td>\n",
       "      <td>X</td>\n",
       "      <td>4.881</td>\n",
       "      <td>4.716</td>\n",
       "      <td>1.035</td>\n",
       "      <td>5000</td>\n",
       "      <td>0.005125</td>\n",
       "      <td>False</td>\n",
       "      <td>Regular</td>\n",
       "    </tr>\n",
       "    <tr>\n",
       "      <th>257</th>\n",
       "      <td>Story1</td>\n",
       "      <td>ER Min</td>\n",
       "      <td>Y</td>\n",
       "      <td>2.365</td>\n",
       "      <td>2.356</td>\n",
       "      <td>1.004</td>\n",
       "      <td>5000</td>\n",
       "      <td>0.002483</td>\n",
       "      <td>True</td>\n",
       "      <td>Regular</td>\n",
       "    </tr>\n",
       "  </tbody>\n",
       "</table>\n",
       "<p>258 rows × 10 columns</p>\n",
       "</div>"
      ],
      "text/plain": [
       "      Story OutputCase Direction Max Drift Avg Drift  Ratio Height    Drifts  \\\n",
       "0    Story3        NaN         X     4.506     4.149  1.086   3600  0.006571   \n",
       "1    Story3        NaN         Y     1.968     1.916  1.027   3600  0.002870   \n",
       "2    Story3    SDx Max         X     4.028     3.867  1.042   3600  0.005874   \n",
       "3    Story3    SDx Max         Y     0.643     0.622  1.034   3600  0.000938   \n",
       "4    Story3    SDy Max         X     1.227      1.17  1.049   3600  0.001789   \n",
       "..      ...        ...       ...       ...       ...    ...    ...       ...   \n",
       "253  Story1    R19 Min         Y     2.352     2.343  1.004   5000  0.002470   \n",
       "254  Story1     ER Max         X     4.891      4.72  1.036   5000  0.005136   \n",
       "255  Story1     ER Max         Y     2.361     2.349  1.005   5000  0.002479   \n",
       "256  Story1     ER Min         X     4.881     4.716  1.035   5000  0.005125   \n",
       "257  Story1     ER Min         Y     2.365     2.356  1.004   5000  0.002483   \n",
       "\n",
       "     Drift < Dmax/2  tor_reg  \n",
       "0             False  Regular  \n",
       "1              True  Regular  \n",
       "2             False  Regular  \n",
       "3              True  Regular  \n",
       "4              True  Regular  \n",
       "..              ...      ...  \n",
       "253            True  Regular  \n",
       "254           False  Regular  \n",
       "255            True  Regular  \n",
       "256           False  Regular  \n",
       "257            True  Regular  \n",
       "\n",
       "[258 rows x 10 columns]"
      ]
     },
     "metadata": {},
     "output_type": "display_data"
    }
   ],
   "source": [
    "sis.show_table(sismo.torsion_table)"
   ]
  },
  {
   "cell_type": "markdown",
   "metadata": {},
   "source": [
    "## Derivas"
   ]
  },
  {
   "cell_type": "code",
   "execution_count": 44,
   "metadata": {},
   "outputs": [
    {
     "data": {
      "application/vnd.jupyter.widget-view+json": {
       "model_id": "3a97029c60cd4fcb86eff16926c83bf5",
       "version_major": 2,
       "version_minor": 0
      },
      "text/plain": [
       "Dropdown(description='Filtro', index=39, options=(nan, 'SDx Max', 'SDy Max', 'Derivas Max', 'Derivas Min', 'R2…"
      ]
     },
     "metadata": {},
     "output_type": "display_data"
    },
    {
     "data": {
      "text/html": [
       "<div>\n",
       "<style scoped>\n",
       "    .dataframe tbody tr th:only-of-type {\n",
       "        vertical-align: middle;\n",
       "    }\n",
       "\n",
       "    .dataframe tbody tr th {\n",
       "        vertical-align: top;\n",
       "    }\n",
       "\n",
       "    .dataframe thead th {\n",
       "        text-align: right;\n",
       "    }\n",
       "</style>\n",
       "<table border=\"1\" class=\"dataframe\">\n",
       "  <thead>\n",
       "    <tr style=\"text-align: right;\">\n",
       "      <th></th>\n",
       "      <th>Story</th>\n",
       "      <th>OutputCase</th>\n",
       "      <th>Direction</th>\n",
       "      <th>Drifts</th>\n",
       "      <th>Drift_Check</th>\n",
       "    </tr>\n",
       "  </thead>\n",
       "  <tbody>\n",
       "    <tr>\n",
       "      <th>0</th>\n",
       "      <td>Story3</td>\n",
       "      <td>NaN</td>\n",
       "      <td>X</td>\n",
       "      <td>0.006571</td>\n",
       "      <td>Cumple</td>\n",
       "    </tr>\n",
       "    <tr>\n",
       "      <th>1</th>\n",
       "      <td>Story3</td>\n",
       "      <td>NaN</td>\n",
       "      <td>Y</td>\n",
       "      <td>0.002870</td>\n",
       "      <td>Cumple</td>\n",
       "    </tr>\n",
       "    <tr>\n",
       "      <th>2</th>\n",
       "      <td>Story3</td>\n",
       "      <td>SDx Max</td>\n",
       "      <td>X</td>\n",
       "      <td>0.005874</td>\n",
       "      <td>Cumple</td>\n",
       "    </tr>\n",
       "    <tr>\n",
       "      <th>3</th>\n",
       "      <td>Story3</td>\n",
       "      <td>SDx Max</td>\n",
       "      <td>Y</td>\n",
       "      <td>0.000938</td>\n",
       "      <td>Cumple</td>\n",
       "    </tr>\n",
       "    <tr>\n",
       "      <th>4</th>\n",
       "      <td>Story3</td>\n",
       "      <td>SDy Max</td>\n",
       "      <td>X</td>\n",
       "      <td>0.001789</td>\n",
       "      <td>Cumple</td>\n",
       "    </tr>\n",
       "    <tr>\n",
       "      <th>...</th>\n",
       "      <td>...</td>\n",
       "      <td>...</td>\n",
       "      <td>...</td>\n",
       "      <td>...</td>\n",
       "      <td>...</td>\n",
       "    </tr>\n",
       "    <tr>\n",
       "      <th>253</th>\n",
       "      <td>Story1</td>\n",
       "      <td>R19 Min</td>\n",
       "      <td>Y</td>\n",
       "      <td>0.002470</td>\n",
       "      <td>Cumple</td>\n",
       "    </tr>\n",
       "    <tr>\n",
       "      <th>254</th>\n",
       "      <td>Story1</td>\n",
       "      <td>ER Max</td>\n",
       "      <td>X</td>\n",
       "      <td>0.005136</td>\n",
       "      <td>Cumple</td>\n",
       "    </tr>\n",
       "    <tr>\n",
       "      <th>255</th>\n",
       "      <td>Story1</td>\n",
       "      <td>ER Max</td>\n",
       "      <td>Y</td>\n",
       "      <td>0.002479</td>\n",
       "      <td>Cumple</td>\n",
       "    </tr>\n",
       "    <tr>\n",
       "      <th>256</th>\n",
       "      <td>Story1</td>\n",
       "      <td>ER Min</td>\n",
       "      <td>X</td>\n",
       "      <td>0.005125</td>\n",
       "      <td>Cumple</td>\n",
       "    </tr>\n",
       "    <tr>\n",
       "      <th>257</th>\n",
       "      <td>Story1</td>\n",
       "      <td>ER Min</td>\n",
       "      <td>Y</td>\n",
       "      <td>0.002483</td>\n",
       "      <td>Cumple</td>\n",
       "    </tr>\n",
       "  </tbody>\n",
       "</table>\n",
       "<p>258 rows × 5 columns</p>\n",
       "</div>"
      ],
      "text/plain": [
       "      Story OutputCase Direction    Drifts Drift_Check\n",
       "0    Story3        NaN         X  0.006571      Cumple\n",
       "1    Story3        NaN         Y  0.002870      Cumple\n",
       "2    Story3    SDx Max         X  0.005874      Cumple\n",
       "3    Story3    SDx Max         Y  0.000938      Cumple\n",
       "4    Story3    SDy Max         X  0.001789      Cumple\n",
       "..      ...        ...       ...       ...         ...\n",
       "253  Story1    R19 Min         Y  0.002470      Cumple\n",
       "254  Story1     ER Max         X  0.005136      Cumple\n",
       "255  Story1     ER Max         Y  0.002479      Cumple\n",
       "256  Story1     ER Min         X  0.005125      Cumple\n",
       "257  Story1     ER Min         Y  0.002483      Cumple\n",
       "\n",
       "[258 rows x 5 columns]"
      ]
     },
     "metadata": {},
     "output_type": "display_data"
    }
   ],
   "source": [
    "sis.show_table(sismo.drift_table)"
   ]
  },
  {
   "cell_type": "markdown",
   "metadata": {},
   "source": [
    "# Fuerza Cortante Mínima"
   ]
  },
  {
   "cell_type": "code",
   "execution_count": 45,
   "metadata": {},
   "outputs": [
    {
     "data": {
      "text/html": [
       "<style type=\"text/css\">\n",
       "</style>\n",
       "<table id=\"T_acfc3\">\n",
       "  <thead>\n",
       "  </thead>\n",
       "  <tbody>\n",
       "    <tr>\n",
       "      <td id=\"T_acfc3_row0_col0\" class=\"data row0 col0\" ></td>\n",
       "      <td id=\"T_acfc3_row0_col1\" class=\"data row0 col1\" >X</td>\n",
       "      <td id=\"T_acfc3_row0_col2\" class=\"data row0 col2\" >Y</td>\n",
       "    </tr>\n",
       "    <tr>\n",
       "      <td id=\"T_acfc3_row1_col0\" class=\"data row1 col0\" >V din (Ton)</td>\n",
       "      <td id=\"T_acfc3_row1_col1\" class=\"data row1 col1\" >95.208500</td>\n",
       "      <td id=\"T_acfc3_row1_col2\" class=\"data row1 col2\" >82.237300</td>\n",
       "    </tr>\n",
       "    <tr>\n",
       "      <td id=\"T_acfc3_row2_col0\" class=\"data row2 col0\" >V est (Ton)</td>\n",
       "      <td id=\"T_acfc3_row2_col1\" class=\"data row2 col1\" >-109.036400</td>\n",
       "      <td id=\"T_acfc3_row2_col2\" class=\"data row2 col2\" >-93.454500</td>\n",
       "    </tr>\n",
       "    <tr>\n",
       "      <td id=\"T_acfc3_row3_col0\" class=\"data row3 col0\" >% min</td>\n",
       "      <td id=\"T_acfc3_row3_col1\" class=\"data row3 col1\" >80</td>\n",
       "      <td id=\"T_acfc3_row3_col2\" class=\"data row3 col2\" >80</td>\n",
       "    </tr>\n",
       "    <tr>\n",
       "      <td id=\"T_acfc3_row4_col0\" class=\"data row4 col0\" >%</td>\n",
       "      <td id=\"T_acfc3_row4_col1\" class=\"data row4 col1\" >87.320000</td>\n",
       "      <td id=\"T_acfc3_row4_col2\" class=\"data row4 col2\" >88.000000</td>\n",
       "    </tr>\n",
       "    <tr>\n",
       "      <td id=\"T_acfc3_row5_col0\" class=\"data row5 col0\" >F.E.</td>\n",
       "      <td id=\"T_acfc3_row5_col1\" class=\"data row5 col1\" >1</td>\n",
       "      <td id=\"T_acfc3_row5_col2\" class=\"data row5 col2\" >1</td>\n",
       "    </tr>\n",
       "  </tbody>\n",
       "</table>\n"
      ],
      "text/plain": [
       "<pandas.io.formats.style.Styler at 0x25a719d4280>"
      ]
     },
     "execution_count": 45,
     "metadata": {},
     "output_type": "execute_result"
    }
   ],
   "source": [
    "sismo.shear_table.style.hide(axis='index').hide(axis='columns')"
   ]
  }
 ],
 "metadata": {
  "kernelspec": {
   "display_name": "structures",
   "language": "python",
   "name": "python3"
  },
  "language_info": {
   "codemirror_mode": {
    "name": "ipython",
    "version": 3
   },
   "file_extension": ".py",
   "mimetype": "text/x-python",
   "name": "python",
   "nbconvert_exporter": "python",
   "pygments_lexer": "ipython3",
   "version": "3.9.16"
  },
  "toc-showmarkdowntxt": true,
  "vscode": {
   "interpreter": {
    "hash": "bac46d45b902eb1257731b3cec425c94a9ada4fac09ba91d7557c516a1f31c36"
   }
  }
 },
 "nbformat": 4,
 "nbformat_minor": 4
}
