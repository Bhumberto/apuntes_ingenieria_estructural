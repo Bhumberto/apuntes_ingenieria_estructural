{
 "cells": [
  {
   "cell_type": "markdown",
   "metadata": {},
   "source": [
    "# Análisis Sísmico"
   ]
  },
  {
   "cell_type": "code",
   "execution_count": null,
   "metadata": {},
   "outputs": [],
   "source": [
    "#Importar las librerías necesarias\n",
    "%load_ext autoreload\n",
    "%autoreload 2\n",
    "import os\n",
    "import sys\n",
    "sys.path.append(os.getcwd()+'\\\\..')\n",
    "from lib import etabs_utils as etb\n",
    "from lib import sismo_utils as sis\n",
    "#from mem import sismo_mem as smem\n",
    "from ipywidgets import widgets\n",
    "from IPython.display import display"
   ]
  },
  {
   "cell_type": "code",
   "execution_count": null,
   "metadata": {},
   "outputs": [],
   "source": [
    "import comtypes\n",
    "EtabsObject=comtypes.client.GetActiveObject(\"CSI.ETABS.API.ETABSObject\")\n",
    "SapModel=EtabsObject.SapModel   "
   ]
  },
  {
   "cell_type": "code",
   "execution_count": null,
   "metadata": {},
   "outputs": [],
   "source": [
    "SapModel.Analyze.RunAnalysis();\n",
    "sismo = sis.sismo_e30()"
   ]
  },
  {
   "cell_type": "markdown",
   "metadata": {},
   "source": [
    "# Parámetros de Sitio\n",
    "\n",
    "## Zonificación\n",
    "![Factor de Zonifiación](./factor_zona.png)"
   ]
  },
  {
   "cell_type": "markdown",
   "metadata": {},
   "source": [
    "## Factor de Suelo\n",
    "![Factor de Suelo](./factor_suelo.png)\n"
   ]
  },
  {
   "cell_type": "markdown",
   "metadata": {},
   "source": [
    "## Periodos del suelo\n",
    "![Periodos del Suelo](./periodos_suelo.png)"
   ]
  },
  {
   "cell_type": "markdown",
   "metadata": {},
   "source": [
    "## Sistema Estructural\n",
    "![Sistema Estructural](./sistemas_estructurales.png)"
   ]
  },
  {
   "cell_type": "markdown",
   "metadata": {},
   "source": [
    "## Factor de Amplificación sísmica\n",
    "![Factor de Amplificacion Sísmica](./amplificacion_sismica.png)"
   ]
  },
  {
   "cell_type": "markdown",
   "metadata": {},
   "source": [
    "## Factor de Importancia\n",
    "![Factor de Importancia](./factor_importancia.png)"
   ]
  },
  {
   "cell_type": "code",
   "execution_count": null,
   "metadata": {},
   "outputs": [],
   "source": [
    "sismo.parametros_e30()"
   ]
  },
  {
   "cell_type": "markdown",
   "metadata": {},
   "source": [
    "# Irregularidades"
   ]
  },
  {
   "cell_type": "code",
   "execution_count": null,
   "metadata": {},
   "outputs": [],
   "source": [
    "sismo.irregularidades_e30()"
   ]
  },
  {
   "cell_type": "markdown",
   "metadata": {},
   "source": [
    "# Parámetros Sísmicos"
   ]
  },
  {
   "cell_type": "code",
   "execution_count": null,
   "metadata": {},
   "outputs": [],
   "source": [
    "sismo.show_params()"
   ]
  },
  {
   "cell_type": "code",
   "execution_count": null,
   "metadata": {},
   "outputs": [],
   "source": [
    "sismo.analisis_sismo(SapModel)"
   ]
  },
  {
   "cell_type": "markdown",
   "metadata": {},
   "source": [
    "## Revisión por Piso Blando"
   ]
  },
  {
   "cell_type": "code",
   "execution_count": null,
   "metadata": {},
   "outputs": [],
   "source": [
    "sis.show_table(sismo.piso_blando_table)"
   ]
  },
  {
   "cell_type": "markdown",
   "metadata": {},
   "source": [
    "## Revisión por Irregularidad de Masa"
   ]
  },
  {
   "cell_type": "code",
   "execution_count": null,
   "metadata": {},
   "outputs": [],
   "source": [
    "sismo.rev_masa_table"
   ]
  },
  {
   "cell_type": "markdown",
   "metadata": {},
   "source": [
    "## Revisión de torsión"
   ]
  },
  {
   "cell_type": "code",
   "execution_count": null,
   "metadata": {},
   "outputs": [],
   "source": [
    "sis.show_table(sismo.torsion_table)"
   ]
  },
  {
   "cell_type": "markdown",
   "metadata": {},
   "source": [
    "## Derivas"
   ]
  },
  {
   "cell_type": "code",
   "execution_count": null,
   "metadata": {},
   "outputs": [],
   "source": [
    "sis.show_table(sismo.drift_table)"
   ]
  },
  {
   "cell_type": "markdown",
   "metadata": {},
   "source": [
    "# Fuerza Cortante Mínima"
   ]
  },
  {
   "cell_type": "code",
   "execution_count": null,
   "metadata": {},
   "outputs": [],
   "source": [
    "sismo.shear_table.style.hide(axis='index').hide(axis='columns')"
   ]
  },
  {
   "cell_type": "code",
   "execution_count": null,
   "metadata": {},
   "outputs": [],
   "source": [
    "from mem import sismo_mem as smem\n",
    "zona = 2\n",
    "suelo = 'S2'\n",
    "categoria = sismo.data['Factor de Importancia']\n",
    "\n",
    "ins = r'''Esto mostrará una lista de los commits en el repositorio, comenzando con el commit más reciente.\n",
    "Cada commit estará identificado por una cadena de caracteres larga y hexadecimal que aparece en la\n",
    "línea que comien\n",
    "'''\n",
    "\n",
    "section = smem.Section('Análsis Sísmico')\n",
    "smem.factor_zona(section,zona,o_type=smem.Subsection,insert=ins)\n",
    "geometry_options = { \"left\": \"2.5cm\", \"top\": \"1.5cm\" }\n",
    "section.append('Esto mostrará una lista de los commits en el repositorio, comenzando con el commit más reciente. Cada commit estará identificado por una cadena de caracteres larga y hexadecimal que aparece en la línea que comienz')\n",
    "doc = smem.Document(geometry_options=geometry_options)\n",
    "doc.packages.append(smem.Package('xcolor', options=['dvipsnames']))\n",
    "doc.append(section)\n",
    "doc.generate_pdf('Memoria')"
   ]
  },
  {
   "cell_type": "code",
   "execution_count": null,
   "metadata": {},
   "outputs": [],
   "source": [
    "doc.generate_tex('Memoria')"
   ]
  },
  {
   "cell_type": "code",
   "execution_count": null,
   "metadata": {},
   "outputs": [],
   "source": [
    "zona = 3\n",
    "suelo = 'S0'\n",
    "section = smem.Section('Análsis Sísmico')\n",
    "subsection = smem.Subsection('Parámetros de Sitio')\n",
    "smem.factor_zona(subsection,zona,insert=ins)\n",
    "smem.factor_suelo(subsection,zona,suelo)\n",
    "geometry_options = { \"left\": \"2.5cm\", \"top\": \"1.5cm\" }\n",
    "section.append('Esto mostrará una lista de los commits en el repositorio, comenzando con el commit más reciente. Cada commit estará identificado por una cadena de caracteres larga y hexadecimal que aparece en la línea que comienz')\n",
    "doc = smem.Document(geometry_options=geometry_options)\n",
    "doc.packages.append(smem.Package('xcolor', options=['dvipsnames']))\n",
    "section.append(subsection)\n",
    "doc.append(section)\n",
    "tabla = sismo.torsion_table\n",
    "sis_x = tabla[tabla['OutputCase']=='SDx Max']\n",
    "sis_y = tabla[tabla['OutputCase']=='SDy Max']\n",
    "sis_y = sis_y[sis_y['Direction']=='Y']\n",
    "section2 = smem.Section('Irregularidades')\n",
    "smem.irreg_torsion(section2,sis_x,sis_y)\n",
    "doc.append(section2)\n",
    "doc.generate_pdf('Memoria')"
   ]
  },
  {
   "cell_type": "code",
   "execution_count": null,
   "metadata": {},
   "outputs": [],
   "source": [
    "tabla = sismo.torsion_table"
   ]
  },
  {
   "cell_type": "code",
   "execution_count": null,
   "metadata": {},
   "outputs": [],
   "source": [
    "tabla"
   ]
  }
 ],
 "metadata": {
  "kernelspec": {
   "display_name": "API",
   "language": "python",
   "name": "python3"
  },
  "language_info": {
   "codemirror_mode": {
    "name": "ipython",
    "version": 3
   },
   "file_extension": ".py",
   "mimetype": "text/x-python",
   "name": "python",
   "nbconvert_exporter": "python",
   "pygments_lexer": "ipython3",
   "version": "3.9.16"
  },
  "toc-showmarkdowntxt": true,
  "vscode": {
   "interpreter": {
    "hash": "5791b4287b5ec7fadd801eb3f0a157326fdd5e3bd9c95da2aac047fef93499ff"
   }
  }
 },
 "nbformat": 4,
 "nbformat_minor": 4
}
