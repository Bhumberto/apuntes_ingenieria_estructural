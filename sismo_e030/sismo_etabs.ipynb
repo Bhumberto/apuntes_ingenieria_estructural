<<<<<<< HEAD
=======

>>>>>>> 39bde43b1f61f49fa828e74355b5f48dd045beaa
{
 "cells": [
  {
   "cell_type": "markdown",
   "metadata": {},
   "source": [
    "# Análisis Sísmico"
   ]
  },
  {
   "cell_type": "code",
<<<<<<< HEAD
<<<<<<< HEAD
   "execution_count": 33,
=======
   "execution_count": 8,
>>>>>>> 39bde43b1f61f49fa828e74355b5f48dd045beaa
=======
   "execution_count": 8,
>>>>>>> dev
   "metadata": {},
   "outputs": [
    {
     "name": "stdout",
     "output_type": "stream",
     "text": [
      "The autoreload extension is already loaded. To reload it, use:\n",
      "  %reload_ext autoreload\n"
     ]
    }
   ],
   "source": [
    "#Importar las librerías necesarias\n",
    "%load_ext autoreload\n",
    "%autoreload 2\n",
    "import os\n",
    "import sys\n",
    "sys.path.append(os.getcwd()+'\\\\..')\n",
    "from lib import etabs_utils as etb\n",
    "from lib import sismo_utils as sis\n",
    "#from mem import sismo_mem as smem\n",
    "from ipywidgets import widgets\n",
    "from IPython.display import display"
   ]
  },
  {
   "cell_type": "code",
<<<<<<< HEAD
<<<<<<< HEAD
   "execution_count": 34,
=======
   "execution_count": 9,
   "metadata": {},
   "outputs": [],
   "source": [
    "#!pip install -U ipywidgets==7.7.1\n",
    "#!jupyter nbextension enable --py widgetsnbextension"
   ]
  },
  {
   "cell_type": "code",
   "execution_count": 10,
>>>>>>> 39bde43b1f61f49fa828e74355b5f48dd045beaa
=======
   "execution_count": 2,
>>>>>>> dev
   "metadata": {},
   "outputs": [],
   "source": [
    "_,SapModel = etb.connect_to_etabs()"
   ]
  },
  {
   "cell_type": "code",
<<<<<<< HEAD
<<<<<<< HEAD
   "execution_count": 35,
=======
   "execution_count": 11,
>>>>>>> 39bde43b1f61f49fa828e74355b5f48dd045beaa
=======
   "execution_count": 14,
>>>>>>> dev
   "metadata": {},
   "outputs": [],
   "source": [
    "sismo = sis.sismo_e30()"
   ]
  },
  {
   "cell_type": "markdown",
   "metadata": {},
   "source": [
    "# Parámetros de Sitio\n",
    "\n",
    "## Zonificación\n",
    "![Factor de Zonifiación](./factor_zona.png)"
   ]
  },
  {
   "cell_type": "markdown",
   "metadata": {},
   "source": [
    "## Factor de Suelo\n",
    "![Factor de Suelo](./factor_suelo.png)\n"
   ]
  },
  {
   "cell_type": "markdown",
   "metadata": {},
   "source": [
    "## Periodos del suelo\n",
    "![Periodos del Suelo](./periodos_suelo.png)"
   ]
  },
  {
   "cell_type": "markdown",
   "metadata": {},
   "source": [
    "## Sistema Estructural\n",
    "![Sistema Estructural](./sistemas_estructurales.png)"
   ]
  },
  {
   "cell_type": "markdown",
   "metadata": {},
   "source": [
    "## Factor de Amplificación sísmica\n",
    "![Factor de Amplificacion Sísmica](./amplificacion_sismica.png)"
   ]
  },
  {
   "cell_type": "markdown",
   "metadata": {},
   "source": [
    "## Factor de Importancia\n",
    "![Factor de Importancia](./factor_importancia.png)"
   ]
  },
  {
   "cell_type": "code",
<<<<<<< HEAD
<<<<<<< HEAD
   "execution_count": 36,
=======
   "execution_count": 12,
>>>>>>> 39bde43b1f61f49fa828e74355b5f48dd045beaa
=======
   "execution_count": 15,
>>>>>>> dev
   "metadata": {},
   "outputs": [
    {
     "data": {
      "application/vnd.jupyter.widget-view+json": {
<<<<<<< HEAD
<<<<<<< HEAD
       "model_id": "d0e36bdb61a443a28db82467ddaf494a",
=======
       "model_id": "abe8e24ed4a84213b45e420349b53404",
>>>>>>> 39bde43b1f61f49fa828e74355b5f48dd045beaa
=======
       "model_id": "c8c940bfc1fe4d8c83adc130d8fc9c6a",
>>>>>>> dev
       "version_major": 2,
       "version_minor": 0
      },
      "text/plain": [
<<<<<<< HEAD
       "VBox(children=(Dropdown(description='Factor Zona', index=1, options=('1', '2', '3', '4'), style=DescriptionSty…"
=======
       "VBox(children=(Dropdown(description='Factor Zona', index=2, options=('1', '2', '3', '4'), style=DescriptionSty…"
>>>>>>> 39bde43b1f61f49fa828e74355b5f48dd045beaa
      ]
     },
     "metadata": {},
     "output_type": "display_data"
    }
   ],
   "source": [
    "sismo.parametros_e30()"
   ]
  },
  {
   "cell_type": "markdown",
   "metadata": {},
   "source": [
    "# Irregularidades"
   ]
  },
  {
   "cell_type": "code",
<<<<<<< HEAD
<<<<<<< HEAD
   "execution_count": 37,
=======
   "execution_count": 13,
>>>>>>> 39bde43b1f61f49fa828e74355b5f48dd045beaa
=======
   "execution_count": 16,
>>>>>>> dev
   "metadata": {},
   "outputs": [
    {
     "data": {
      "application/vnd.jupyter.widget-view+json": {
<<<<<<< HEAD
<<<<<<< HEAD
       "model_id": "2599cfecb2b64de4a89f70bc60f0c2a0",
=======
       "model_id": "1df0eb63500c4d269d0ee7be63a63d81",
>>>>>>> 39bde43b1f61f49fa828e74355b5f48dd045beaa
=======
       "model_id": "4e6cc15a4d244d989bbff590c2febc1f",
>>>>>>> dev
       "version_major": 2,
       "version_minor": 0
      },
      "text/plain": [
       "HBox(children=(VBox(children=(HTML(value='<b>Irregularidad en Altura</b>'), Checkbox(value=False, description=…"
      ]
     },
     "metadata": {},
     "output_type": "display_data"
    }
   ],
   "source": [
    "sismo.irregularidades_e30()"
   ]
  },
  {
   "cell_type": "markdown",
   "metadata": {},
   "source": [
    "# Parámetros Sísmicos"
   ]
  },
  {
   "cell_type": "code",
<<<<<<< HEAD
<<<<<<< HEAD
   "execution_count": 38,
=======
   "execution_count": 14,
>>>>>>> 39bde43b1f61f49fa828e74355b5f48dd045beaa
=======
   "execution_count": 17,
>>>>>>> dev
   "metadata": {},
   "outputs": [
    {
     "name": "stdout",
     "output_type": "stream",
     "text": [
      "\n",
      "\u001b[1mParámetros de sitio:\u001b[0m\n",
      "Factor de zona: \n",
<<<<<<< HEAD
      "    Z=0.25\n",
      "Factor de Importancia: \n",
      "    U=1.50\n",
      "Factor de Suelo: \n",
      "    S=1.00\n",
      "Periodos del Suelo: \n",
      "    Tp=0.40\n",
      "    Tl=2.50\n",
      "Factor Básico de Reducción:\n",
      "    Rox=7.00\n",
      "    Roy=7.00\n",
      "Irregularidad en planta:\n",
      "    Ipx=1.00\n",
      "    Ipy=1.00\n",
      "Irregularidad en altura:\n",
      "    Iax=1.00\n",
      "    Iay=1.00\n",
      "Factor de Reducción:\n",
      "    Rx=7.00\n",
      "    Ry=7.00\n",
=======
      "    Z=0.35\n",
      "Factor de Importancia: \n",
      "    U=1.30\n",
      "Factor de Suelo: \n",
      "    S=1.20\n",
      "Periodos del Suelo: \n",
      "    Tp=1.00\n",
      "    Tl=1.60\n",
      "Factor Básico de Reducción:\n",
      "    Rox=5.00\n",
      "    Roy=5.00\n",
      "Irregularidad en planta:\n",
      "    Ipx=0.60\n",
      "    Ipy=0.60\n",
      "Irregularidad en altura:\n",
      "    Iax=0.90\n",
      "    Iay=0.60\n",
      "Factor de Reducción:\n",
      "    Rx=2.70\n",
      "    Ry=2.70\n",
>>>>>>> 39bde43b1f61f49fa828e74355b5f48dd045beaa
      "\n"
     ]
    }
   ],
   "source": [
    "sismo.show_params()"
   ]
  },
  {
   "cell_type": "code",
<<<<<<< HEAD
<<<<<<< HEAD
   "execution_count": 39,
=======
   "execution_count": 15,
>>>>>>> 39bde43b1f61f49fa828e74355b5f48dd045beaa
=======
   "execution_count": 34,
   "metadata": {},
   "outputs": [
    {
     "data": {
      "application/vnd.jupyter.widget-view+json": {
       "model_id": "1b97e435595a43c5b096104e8bcde9ce",
       "version_major": 2,
       "version_minor": 0
      },
      "text/plain": [
       "HBox(children=(VBox(children=(HTML(value='<b>Dirección X</b>'), Dropdown(description='Sismo Estatico en X', op…"
      ]
     },
     "metadata": {},
     "output_type": "display_data"
    }
   ],
   "source": [
    "sismo.select_load(SapModel)"
   ]
  },
  {
   "cell_type": "code",
   "execution_count": 23,
>>>>>>> dev
   "metadata": {},
   "outputs": [
    {
     "name": "stdout",
     "output_type": "stream",
     "text": [
      "\n",
      "Análisis Modal:\n",
<<<<<<< HEAD
<<<<<<< HEAD
      "Masa Participativa X: 1.00\n",
      "Masa Participativa Y: 1.00\n",
      "Periodo y deformaxión X: Tx=0.029, Ux=0.000\n",
      "Periodo y deformaxión Y: Ty=0.225, Uy=0.000\n",
=======
      "Masa Participativa X: 0.95\n",
      "Masa Participativa Y: 0.86\n",
      "---Aumentar Grados de Libertad 0.86 < 0.9\n",
      "Periodo y deformaxión X: Tx=0.042, Ux=0.000\n",
      "Periodo y deformaxión Y: Ty=0.032, Uy=0.004\n",
>>>>>>> dev
      "Factor de Reduccion con Irregularidades: R=7.0\n",
      "C en X: 2.50\n",
      "C en Y: 2.50\n",
      "\n",
      "Coeficiente de sismo estático X: 0.134\n",
      "Coeficiente de sismo estático Y: 0.134\n",
=======
      "Masa Participativa X: 0.95\n",
      "Masa Participativa Y: 0.86\n",
      "---Aumentar Grados de Libertad 0.86 < 0.9\n",
      "Periodo y deformaxión X: Tx=0.042, Ux=0.000\n",
      "Periodo y deformaxión Y: Ty=0.032, Uy=0.004\n",
      "Factor de Reduccion con Irregularidades: R=2.7\n",
      "C en X: 2.50\n",
      "C en Y: 2.50\n",
      "\n",
      "Coeficiente de sismo estático X: 0.506\n",
      "Coeficiente de sismo estático Y: 0.506\n",
>>>>>>> 39bde43b1f61f49fa828e74355b5f48dd045beaa
      "Exponente de altura X: 1.00\n",
      "Exponente de altura Y: 1.00\n"
     ]
    }
   ],
   "source": [
    "sismo.analisis_sismo(SapModel)"
   ]
  },
  {
   "cell_type": "markdown",
   "metadata": {},
   "source": [
    "## Revisión por Piso Blando"
   ]
  },
  {
   "cell_type": "code",
<<<<<<< HEAD
<<<<<<< HEAD
   "execution_count": 40,
=======
   "execution_count": null,
>>>>>>> 39bde43b1f61f49fa828e74355b5f48dd045beaa
=======
   "execution_count": 24,
>>>>>>> dev
   "metadata": {},
   "outputs": [
    {
     "data": {
      "application/vnd.jupyter.widget-view+json": {
<<<<<<< HEAD
<<<<<<< HEAD
       "model_id": "71c2aab172074f79a0859fe024bb5bb7",
=======
       "model_id": "48e5926035904a24a2167d6cd45d77c2",
>>>>>>> 39bde43b1f61f49fa828e74355b5f48dd045beaa
=======
       "model_id": "f7ec9a4af4414ccebee336a090fa7c8b",
>>>>>>> dev
       "version_major": 2,
       "version_minor": 0
      },
      "text/plain": [
<<<<<<< HEAD
<<<<<<< HEAD
       "Dropdown(description='Filtro', index=44, options=('Derivas Min', 'Servicio', 'R18 Min', 'R13 Max', 'R14 Min', …"
=======
       "Dropdown(description='Filtro', index=1, options=('Sy Min', 'SDy Max', 'Sx Max', 'SDx Max', 'Sy Max', 'Sx Min',…"
>>>>>>> 39bde43b1f61f49fa828e74355b5f48dd045beaa
=======
       "Dropdown(description='Filtro', index=6, options=('Sx Max', 'Sy Max', 'SDy Max', 'Sy Min', 'Sx Min', 'SDx Max',…"
>>>>>>> dev
      ]
     },
     "metadata": {},
     "output_type": "display_data"
    },
    {
     "data": {
      "text/html": [
       "<div>\n",
       "<style scoped>\n",
       "    .dataframe tbody tr th:only-of-type {\n",
       "        vertical-align: middle;\n",
       "    }\n",
       "\n",
       "    .dataframe tbody tr th {\n",
       "        vertical-align: top;\n",
       "    }\n",
       "\n",
       "    .dataframe thead th {\n",
       "        text-align: right;\n",
       "    }\n",
       "</style>\n",
       "<table border=\"1\" class=\"dataframe\">\n",
       "  <thead>\n",
       "    <tr style=\"text-align: right;\">\n",
       "      <th></th>\n",
       "      <th>Story</th>\n",
       "      <th>OutputCase</th>\n",
       "      <th>UX</th>\n",
       "      <th>UY</th>\n",
<<<<<<< HEAD
       "      <th>ΔUX</th>\n",
       "      <th>ΔUY</th>\n",
=======
       "      <th>URX</th>\n",
       "      <th>URY</th>\n",
>>>>>>> 39bde43b1f61f49fa828e74355b5f48dd045beaa
       "      <th>VX</th>\n",
       "      <th>VY</th>\n",
       "      <th>lat_rig(k)</th>\n",
       "      <th>0.7_prev_k</th>\n",
       "      <th>0.8k_prom</th>\n",
       "      <th>is_reg</th>\n",
       "    </tr>\n",
       "  </thead>\n",
       "  <tbody>\n",
       "    <tr>\n",
<<<<<<< HEAD
       "      <th>0</th>\n",
       "      <td>Story8</td>\n",
       "      <td>Sx Max</td>\n",
       "      <td>0.028397</td>\n",
       "      <td>-0.000452</td>\n",
       "      <td>0.002752</td>\n",
       "      <td>-0.000035</td>\n",
       "      <td>-18.4866</td>\n",
       "      <td>0</td>\n",
       "      <td>6717.514535</td>\n",
       "      <td>0.000000</td>\n",
       "      <td>0.000000</td>\n",
       "      <td>Regular</td>\n",
       "    </tr>\n",
       "    <tr>\n",
       "      <th>1</th>\n",
       "      <td>Story7</td>\n",
       "      <td>Sx Max</td>\n",
       "      <td>0.025645</td>\n",
       "      <td>-0.000417</td>\n",
       "      <td>0.003577</td>\n",
       "      <td>-0.000043</td>\n",
       "      <td>-39.5596</td>\n",
       "      <td>0</td>\n",
       "      <td>11059.435281</td>\n",
       "      <td>4702.260174</td>\n",
       "      <td>0.000000</td>\n",
       "      <td>Regular</td>\n",
       "    </tr>\n",
       "    <tr>\n",
       "      <th>2</th>\n",
       "      <td>Story6</td>\n",
       "      <td>Sx Max</td>\n",
       "      <td>0.022068</td>\n",
       "      <td>-0.000374</td>\n",
       "      <td>0.004129</td>\n",
       "      <td>-0.000067</td>\n",
       "      <td>-57.4061</td>\n",
       "      <td>0</td>\n",
       "      <td>13903.148462</td>\n",
       "      <td>7741.604697</td>\n",
       "      <td>0.000000</td>\n",
       "      <td>Regular</td>\n",
       "    </tr>\n",
       "    <tr>\n",
       "      <th>3</th>\n",
       "      <td>Story5</td>\n",
       "      <td>Sx Max</td>\n",
       "      <td>0.017939</td>\n",
       "      <td>-0.000307</td>\n",
       "      <td>0.004588</td>\n",
       "      <td>-0.000080</td>\n",
       "      <td>-72.069</td>\n",
       "      <td>0</td>\n",
       "      <td>15708.151700</td>\n",
       "      <td>9732.203923</td>\n",
       "      <td>8448.026207</td>\n",
       "      <td>Regular</td>\n",
       "    </tr>\n",
       "    <tr>\n",
       "      <th>4</th>\n",
       "      <td>Story4</td>\n",
       "      <td>Sx Max</td>\n",
       "      <td>0.013351</td>\n",
       "      <td>-0.000227</td>\n",
       "      <td>0.004601</td>\n",
       "      <td>-0.000084</td>\n",
       "      <td>-84.1016</td>\n",
       "      <td>0</td>\n",
       "      <td>18278.982830</td>\n",
       "      <td>10995.706190</td>\n",
       "      <td>10845.529452</td>\n",
       "      <td>Regular</td>\n",
       "    </tr>\n",
       "    <tr>\n",
       "      <th>5</th>\n",
       "      <td>Story3</td>\n",
       "      <td>Sx Max</td>\n",
       "      <td>0.00875</td>\n",
       "      <td>-0.000143</td>\n",
       "      <td>0.004264</td>\n",
       "      <td>-0.000078</td>\n",
       "      <td>-92.7918</td>\n",
       "      <td>0</td>\n",
       "      <td>21761.679174</td>\n",
       "      <td>12795.287981</td>\n",
       "      <td>12770.742131</td>\n",
       "      <td>Regular</td>\n",
       "    </tr>\n",
       "    <tr>\n",
       "      <th>6</th>\n",
       "      <td>Story2</td>\n",
       "      <td>Sx Max</td>\n",
       "      <td>0.004486</td>\n",
       "      <td>-6.5E-05</td>\n",
       "      <td>0.003241</td>\n",
       "      <td>-0.000053</td>\n",
       "      <td>-98.1396</td>\n",
       "      <td>0</td>\n",
       "      <td>30280.654119</td>\n",
       "      <td>15233.175422</td>\n",
       "      <td>14866.350321</td>\n",
       "      <td>Regular</td>\n",
       "    </tr>\n",
       "    <tr>\n",
       "      <th>7</th>\n",
       "      <td>Story1</td>\n",
       "      <td>Sx Max</td>\n",
       "      <td>0.001245</td>\n",
       "      <td>-1.2E-05</td>\n",
       "      <td>0.001245</td>\n",
       "      <td>-0.000012</td>\n",
       "      <td>-99.7665</td>\n",
       "      <td>0</td>\n",
       "      <td>80133.734940</td>\n",
       "      <td>21196.457883</td>\n",
       "      <td>18752.350966</td>\n",
       "      <td>Regular</td>\n",
       "    </tr>\n",
       "    <tr>\n",
       "      <th>8</th>\n",
       "      <td>Story8</td>\n",
       "      <td>Sy Max</td>\n",
       "      <td>-0.000529</td>\n",
       "      <td>0.003856</td>\n",
       "      <td>0.000045</td>\n",
       "      <td>0.000563</td>\n",
       "      <td>0</td>\n",
       "      <td>-18.4866</td>\n",
       "      <td>32835.879218</td>\n",
       "      <td>0.000000</td>\n",
       "      <td>0.000000</td>\n",
       "      <td>Regular</td>\n",
       "    </tr>\n",
       "    <tr>\n",
       "      <th>9</th>\n",
       "      <td>Story7</td>\n",
       "      <td>Sy Max</td>\n",
       "      <td>-0.000574</td>\n",
       "      <td>0.003293</td>\n",
       "      <td>-0.000084</td>\n",
       "      <td>0.000581</td>\n",
       "      <td>0</td>\n",
       "      <td>-39.5596</td>\n",
       "      <td>68088.812392</td>\n",
       "      <td>22985.115453</td>\n",
       "      <td>0.000000</td>\n",
       "      <td>Regular</td>\n",
       "    </tr>\n",
       "    <tr>\n",
       "      <th>10</th>\n",
       "      <td>Story6</td>\n",
       "      <td>Sy Max</td>\n",
       "      <td>-0.00049</td>\n",
       "      <td>0.002712</td>\n",
       "      <td>-0.000098</td>\n",
       "      <td>0.000591</td>\n",
       "      <td>0</td>\n",
       "      <td>-57.4061</td>\n",
       "      <td>97133.840948</td>\n",
       "      <td>47662.168675</td>\n",
       "      <td>0.000000</td>\n",
       "      <td>Regular</td>\n",
       "    </tr>\n",
       "    <tr>\n",
       "      <th>11</th>\n",
       "      <td>Story5</td>\n",
       "      <td>Sy Max</td>\n",
       "      <td>-0.000392</td>\n",
       "      <td>0.002121</td>\n",
       "      <td>-0.000127</td>\n",
       "      <td>0.000587</td>\n",
       "      <td>0</td>\n",
       "      <td>-72.069</td>\n",
       "      <td>122775.127768</td>\n",
       "      <td>67993.688663</td>\n",
       "      <td>52815.608682</td>\n",
       "      <td>Regular</td>\n",
       "    </tr>\n",
       "    <tr>\n",
       "      <th>12</th>\n",
       "      <td>Story4</td>\n",
       "      <td>Sy Max</td>\n",
       "      <td>-0.000265</td>\n",
       "      <td>0.001534</td>\n",
       "      <td>-0.000100</td>\n",
       "      <td>0.000549</td>\n",
       "      <td>0</td>\n",
       "      <td>-84.1016</td>\n",
       "      <td>153190.528233</td>\n",
       "      <td>85942.589438</td>\n",
       "      <td>76799.408296</td>\n",
       "      <td>Regular</td>\n",
       "    </tr>\n",
       "    <tr>\n",
       "      <th>13</th>\n",
       "      <td>Story3</td>\n",
       "      <td>Sy Max</td>\n",
       "      <td>-0.000165</td>\n",
       "      <td>0.000985</td>\n",
       "      <td>-0.000090</td>\n",
       "      <td>0.000479</td>\n",
       "      <td>0</td>\n",
       "      <td>-92.7918</td>\n",
       "      <td>193719.832985</td>\n",
       "      <td>107233.369763</td>\n",
       "      <td>99493.199186</td>\n",
       "      <td>Regular</td>\n",
       "    </tr>\n",
       "    <tr>\n",
       "      <th>14</th>\n",
       "      <td>Story2</td>\n",
       "      <td>Sy Max</td>\n",
       "      <td>-7.5E-05</td>\n",
       "      <td>0.000506</td>\n",
       "      <td>-0.000030</td>\n",
       "      <td>0.000368</td>\n",
       "      <td>0</td>\n",
       "      <td>-98.1396</td>\n",
       "      <td>266683.695652</td>\n",
       "      <td>135603.883090</td>\n",
       "      <td>125249.463730</td>\n",
       "      <td>Regular</td>\n",
       "    </tr>\n",
       "    <tr>\n",
       "      <th>15</th>\n",
       "      <td>Story1</td>\n",
       "      <td>Sy Max</td>\n",
       "      <td>-4.5E-05</td>\n",
       "      <td>0.000138</td>\n",
       "      <td>-0.000045</td>\n",
       "      <td>0.000138</td>\n",
       "      <td>0</td>\n",
       "      <td>-99.7665</td>\n",
       "      <td>722945.652174</td>\n",
       "      <td>186678.586957</td>\n",
       "      <td>163625.081832</td>\n",
       "      <td>Regular</td>\n",
       "    </tr>\n",
       "    <tr>\n",
       "      <th>16</th>\n",
       "      <td>Story8</td>\n",
       "      <td>SDy Max</td>\n",
       "      <td>0.001034</td>\n",
       "      <td>0.00322</td>\n",
       "      <td>0.000154</td>\n",
       "      <td>0.000471</td>\n",
       "      <td>0.9525</td>\n",
       "      <td>19.257</td>\n",
       "      <td>40885.350318</td>\n",
       "      <td>0.000000</td>\n",
       "      <td>0.000000</td>\n",
       "      <td>Regular</td>\n",
       "    </tr>\n",
       "    <tr>\n",
       "      <th>17</th>\n",
       "      <td>Story7</td>\n",
       "      <td>SDy Max</td>\n",
       "      <td>0.00088</td>\n",
       "      <td>0.002749</td>\n",
       "      <td>0.000122</td>\n",
       "      <td>0.000495</td>\n",
       "      <td>1.8038</td>\n",
       "      <td>39.3104</td>\n",
       "      <td>79414.949495</td>\n",
       "      <td>28619.745223</td>\n",
       "      <td>0.000000</td>\n",
       "      <td>Regular</td>\n",
       "    </tr>\n",
       "    <tr>\n",
       "      <th>18</th>\n",
       "      <td>Story6</td>\n",
       "      <td>SDy Max</td>\n",
       "      <td>0.000758</td>\n",
       "      <td>0.002254</td>\n",
       "      <td>0.000140</td>\n",
       "      <td>0.000501</td>\n",
       "      <td>2.4507</td>\n",
       "      <td>54.5881</td>\n",
       "      <td>108958.283433</td>\n",
       "      <td>55590.464646</td>\n",
       "      <td>0.000000</td>\n",
       "      <td>Regular</td>\n",
       "    </tr>\n",
       "    <tr>\n",
       "      <th>19</th>\n",
       "      <td>Story5</td>\n",
       "      <td>SDy Max</td>\n",
       "      <td>0.000618</td>\n",
       "      <td>0.001753</td>\n",
       "      <td>0.000144</td>\n",
       "      <td>0.000490</td>\n",
       "      <td>2.9733</td>\n",
       "      <td>66.2486</td>\n",
       "      <td>135201.224490</td>\n",
       "      <td>76270.798403</td>\n",
       "      <td>61135.622199</td>\n",
       "      <td>Regular</td>\n",
       "    </tr>\n",
       "    <tr>\n",
       "      <th>20</th>\n",
       "      <td>Story4</td>\n",
       "      <td>SDy Max</td>\n",
       "      <td>0.000474</td>\n",
       "      <td>0.001263</td>\n",
       "      <td>0.000160</td>\n",
       "      <td>0.000456</td>\n",
       "      <td>3.4651</td>\n",
       "      <td>75.8049</td>\n",
       "      <td>166238.815789</td>\n",
       "      <td>94640.857143</td>\n",
       "      <td>86286.521978</td>\n",
       "      <td>Regular</td>\n",
       "    </tr>\n",
       "    <tr>\n",
       "      <th>21</th>\n",
       "      <td>Story3</td>\n",
       "      <td>SDy Max</td>\n",
       "      <td>0.000314</td>\n",
       "      <td>0.000807</td>\n",
       "      <td>0.000150</td>\n",
       "      <td>0.000394</td>\n",
       "      <td>3.878</td>\n",
       "      <td>83.0194</td>\n",
       "      <td>210709.137056</td>\n",
       "      <td>116367.171053</td>\n",
       "      <td>109439.552990</td>\n",
       "      <td>Regular</td>\n",
       "    </tr>\n",
       "    <tr>\n",
       "      <th>22</th>\n",
       "      <td>Story2</td>\n",
       "      <td>SDy Max</td>\n",
       "      <td>0.000164</td>\n",
       "      <td>0.000413</td>\n",
       "      <td>0.000107</td>\n",
       "      <td>0.000296</td>\n",
       "      <td>4.154</td>\n",
       "      <td>87.4793</td>\n",
       "      <td>295538.175676</td>\n",
       "      <td>147496.395939</td>\n",
       "      <td>136573.113956</td>\n",
       "      <td>Regular</td>\n",
       "    </tr>\n",
       "    <tr>\n",
       "      <th>23</th>\n",
       "      <td>Story1</td>\n",
       "      <td>SDy Max</td>\n",
       "      <td>5.7E-05</td>\n",
       "      <td>0.000117</td>\n",
       "      <td>0.000057</td>\n",
       "      <td>0.000117</td>\n",
       "      <td>4.2302</td>\n",
       "      <td>88.65</td>\n",
       "      <td>757692.307692</td>\n",
       "      <td>206876.722973</td>\n",
       "      <td>179329.634272</td>\n",
       "      <td>Regular</td>\n",
       "    </tr>\n",
       "    <tr>\n",
       "      <th>24</th>\n",
       "      <td>Story8</td>\n",
       "      <td>Sy Min</td>\n",
       "      <td>-0.000597</td>\n",
       "      <td>0.003745</td>\n",
       "      <td>0.000113</td>\n",
       "      <td>0.000545</td>\n",
       "      <td>0</td>\n",
       "      <td>-18.4866</td>\n",
       "      <td>33920.366972</td>\n",
       "      <td>0.000000</td>\n",
       "      <td>0.000000</td>\n",
       "      <td>Regular</td>\n",
       "    </tr>\n",
       "    <tr>\n",
       "      <th>25</th>\n",
       "      <td>Story7</td>\n",
       "      <td>Sy Min</td>\n",
       "      <td>-0.00071</td>\n",
       "      <td>0.0032</td>\n",
       "      <td>-0.000106</td>\n",
       "      <td>0.000566</td>\n",
       "      <td>0</td>\n",
       "      <td>-39.5596</td>\n",
       "      <td>69893.286219</td>\n",
       "      <td>23744.256881</td>\n",
       "      <td>0.000000</td>\n",
       "      <td>Regular</td>\n",
       "    </tr>\n",
       "    <tr>\n",
       "      <th>26</th>\n",
       "      <td>Story6</td>\n",
       "      <td>Sy Min</td>\n",
       "      <td>-0.000604</td>\n",
       "      <td>0.002634</td>\n",
       "      <td>-0.000122</td>\n",
       "      <td>0.000576</td>\n",
       "      <td>0</td>\n",
       "      <td>-57.4061</td>\n",
       "      <td>99663.368056</td>\n",
       "      <td>48925.300353</td>\n",
       "      <td>0.000000</td>\n",
       "      <td>Regular</td>\n",
       "    </tr>\n",
       "    <tr>\n",
       "      <th>27</th>\n",
       "      <td>Story5</td>\n",
       "      <td>Sy Min</td>\n",
       "      <td>-0.000482</td>\n",
       "      <td>0.002058</td>\n",
       "      <td>-0.000171</td>\n",
       "      <td>0.000569</td>\n",
       "      <td>0</td>\n",
       "      <td>-72.069</td>\n",
       "      <td>126659.050967</td>\n",
       "      <td>69764.357639</td>\n",
       "      <td>54260.538999</td>\n",
       "      <td>Regular</td>\n",
       "    </tr>\n",
       "    <tr>\n",
       "      <th>28</th>\n",
       "      <td>Story4</td>\n",
       "      <td>Sy Min</td>\n",
       "      <td>-0.000311</td>\n",
       "      <td>0.001489</td>\n",
       "      <td>-0.000118</td>\n",
       "      <td>0.000534</td>\n",
       "      <td>0</td>\n",
       "      <td>-84.1016</td>\n",
       "      <td>157493.632959</td>\n",
       "      <td>88661.335677</td>\n",
       "      <td>78990.854731</td>\n",
       "      <td>Regular</td>\n",
       "    </tr>\n",
       "    <tr>\n",
       "      <th>29</th>\n",
       "      <td>Story3</td>\n",
       "      <td>Sy Min</td>\n",
       "      <td>-0.000193</td>\n",
       "      <td>0.000955</td>\n",
       "      <td>-0.000108</td>\n",
       "      <td>0.000464</td>\n",
       "      <td>0</td>\n",
       "      <td>-92.7918</td>\n",
       "      <td>199982.327586</td>\n",
       "      <td>110245.543071</td>\n",
       "      <td>102350.947195</td>\n",
       "      <td>Regular</td>\n",
       "    </tr>\n",
       "    <tr>\n",
       "      <th>30</th>\n",
       "      <td>Story2</td>\n",
       "      <td>Sy Min</td>\n",
       "      <td>-8.5E-05</td>\n",
       "      <td>0.000491</td>\n",
       "      <td>-0.000013</td>\n",
       "      <td>0.000355</td>\n",
       "      <td>0</td>\n",
       "      <td>-98.1396</td>\n",
       "      <td>276449.577465</td>\n",
       "      <td>139987.629310</td>\n",
       "      <td>129102.669736</td>\n",
       "      <td>Regular</td>\n",
       "    </tr>\n",
       "    <tr>\n",
       "      <th>31</th>\n",
       "      <td>Story1</td>\n",
       "      <td>Sy Min</td>\n",
       "      <td>-7.2E-05</td>\n",
       "      <td>0.000136</td>\n",
       "      <td>-0.000072</td>\n",
       "      <td>0.000136</td>\n",
       "      <td>0</td>\n",
       "      <td>-99.7665</td>\n",
       "      <td>733577.205882</td>\n",
       "      <td>193514.704225</td>\n",
       "      <td>169046.810136</td>\n",
       "      <td>Regular</td>\n",
       "    </tr>\n",
       "    <tr>\n",
       "      <th>32</th>\n",
       "      <td>Story8</td>\n",
       "      <td>Sx Min</td>\n",
       "      <td>0.028156</td>\n",
       "      <td>-0.000844</td>\n",
       "      <td>0.002988</td>\n",
       "      <td>-0.000100</td>\n",
       "      <td>-18.4866</td>\n",
       "      <td>0</td>\n",
       "      <td>6186.947791</td>\n",
       "      <td>0.000000</td>\n",
       "      <td>0.000000</td>\n",
       "      <td>Regular</td>\n",
       "    </tr>\n",
       "    <tr>\n",
       "      <th>33</th>\n",
       "      <td>Story7</td>\n",
       "      <td>Sx Min</td>\n",
       "      <td>0.025168</td>\n",
       "      <td>-0.000744</td>\n",
       "      <td>0.003500</td>\n",
       "      <td>-0.000097</td>\n",
       "      <td>-39.5596</td>\n",
       "      <td>0</td>\n",
       "      <td>11302.742857</td>\n",
       "      <td>4330.863454</td>\n",
       "      <td>0.000000</td>\n",
       "      <td>Regular</td>\n",
       "    </tr>\n",
       "    <tr>\n",
       "      <th>34</th>\n",
       "      <td>Story6</td>\n",
       "      <td>Sx Min</td>\n",
       "      <td>0.021668</td>\n",
       "      <td>-0.000647</td>\n",
       "      <td>0.004043</td>\n",
       "      <td>-0.000121</td>\n",
       "      <td>-57.4061</td>\n",
       "      <td>0</td>\n",
       "      <td>14198.886965</td>\n",
       "      <td>7911.920000</td>\n",
       "      <td>0.000000</td>\n",
       "      <td>Regular</td>\n",
       "    </tr>\n",
       "    <tr>\n",
       "      <th>35</th>\n",
       "      <td>Story5</td>\n",
       "      <td>Sx Min</td>\n",
       "      <td>0.017625</td>\n",
       "      <td>-0.000526</td>\n",
       "      <td>0.004436</td>\n",
       "      <td>-0.000139</td>\n",
       "      <td>-72.069</td>\n",
       "      <td>0</td>\n",
       "      <td>16246.393147</td>\n",
       "      <td>9939.220876</td>\n",
       "      <td>8450.287364</td>\n",
       "      <td>Regular</td>\n",
       "    </tr>\n",
       "    <tr>\n",
       "      <th>36</th>\n",
       "      <td>Story4</td>\n",
       "      <td>Sx Min</td>\n",
       "      <td>0.013189</td>\n",
       "      <td>-0.000387</td>\n",
       "      <td>0.004535</td>\n",
       "      <td>-0.000139</td>\n",
       "      <td>-84.1016</td>\n",
       "      <td>0</td>\n",
       "      <td>18545.005513</td>\n",
       "      <td>11372.475203</td>\n",
       "      <td>11132.806125</td>\n",
       "      <td>Regular</td>\n",
       "    </tr>\n",
       "    <tr>\n",
       "      <th>37</th>\n",
       "      <td>Story3</td>\n",
       "      <td>Sx Min</td>\n",
       "      <td>0.008654</td>\n",
       "      <td>-0.000248</td>\n",
       "      <td>0.004205</td>\n",
       "      <td>-0.000129</td>\n",
       "      <td>-92.7918</td>\n",
       "      <td>0</td>\n",
       "      <td>22067.015458</td>\n",
       "      <td>12981.503859</td>\n",
       "      <td>13064.076167</td>\n",
       "      <td>Regular</td>\n",
       "    </tr>\n",
       "    <tr>\n",
       "      <th>38</th>\n",
       "      <td>Story2</td>\n",
       "      <td>Sx Min</td>\n",
       "      <td>0.004449</td>\n",
       "      <td>-0.000119</td>\n",
       "      <td>0.003298</td>\n",
       "      <td>-0.000099</td>\n",
       "      <td>-98.1396</td>\n",
       "      <td>0</td>\n",
       "      <td>29757.307459</td>\n",
       "      <td>15446.910820</td>\n",
       "      <td>15162.243765</td>\n",
       "      <td>Regular</td>\n",
       "    </tr>\n",
       "    <tr>\n",
       "      <th>39</th>\n",
       "      <td>Story1</td>\n",
<<<<<<< HEAD
       "      <td>R17 Max</td>\n",
       "      <td>4.547</td>\n",
       "      <td>0.694</td>\n",
       "      <td>4.547</td>\n",
       "      <td>0.694</td>\n",
       "      <td>933676.57</td>\n",
       "      <td>241941.64</td>\n",
       "      <td>348619.077810</td>\n",
       "      <td>193464.785294</td>\n",
       "      <td>0.0</td>\n",
=======
       "      <th>8</th>\n",
       "      <td>Story8</td>\n",
       "      <td>SDy Max</td>\n",
       "      <td>1.034</td>\n",
       "      <td>3.22</td>\n",
       "      <td>0.154</td>\n",
       "      <td>0.471</td>\n",
       "      <td>9340.76</td>\n",
       "      <td>188847.06</td>\n",
       "      <td>4.616035e+05</td>\n",
       "      <td>0.000000e+00</td>\n",
       "      <td>0.000000e+00</td>\n",
       "      <td>Regular</td>\n",
       "    </tr>\n",
       "    <tr>\n",
       "      <th>9</th>\n",
       "      <td>Story7</td>\n",
       "      <td>SDy Max</td>\n",
       "      <td>0.88</td>\n",
       "      <td>2.749</td>\n",
       "      <td>0.122</td>\n",
       "      <td>0.495</td>\n",
       "      <td>17689.01</td>\n",
       "      <td>385502.89</td>\n",
       "      <td>9.237856e+05</td>\n",
       "      <td>3.231224e+05</td>\n",
       "      <td>0.000000e+00</td>\n",
       "      <td>Regular</td>\n",
       "    </tr>\n",
       "    <tr>\n",
       "      <th>10</th>\n",
       "      <td>Story6</td>\n",
       "      <td>SDy Max</td>\n",
       "      <td>0.758</td>\n",
       "      <td>2.254</td>\n",
       "      <td>0.140</td>\n",
       "      <td>0.501</td>\n",
       "      <td>24032.76</td>\n",
       "      <td>535326.83</td>\n",
       "      <td>1.240179e+06</td>\n",
       "      <td>6.466499e+05</td>\n",
       "      <td>0.000000e+00</td>\n",
       "      <td>Regular</td>\n",
       "    </tr>\n",
       "    <tr>\n",
       "      <th>11</th>\n",
       "      <td>Story5</td>\n",
       "      <td>SDy Max</td>\n",
       "      <td>0.618</td>\n",
       "      <td>1.753</td>\n",
       "      <td>0.144</td>\n",
       "      <td>0.490</td>\n",
       "      <td>29158.11</td>\n",
       "      <td>649676.53</td>\n",
       "      <td>1.528357e+06</td>\n",
       "      <td>8.681254e+05</td>\n",
       "      <td>7.001515e+05</td>\n",
       "      <td>Regular</td>\n",
       "    </tr>\n",
       "    <tr>\n",
       "      <th>12</th>\n",
       "      <td>Story4</td>\n",
       "      <td>SDy Max</td>\n",
       "      <td>0.474</td>\n",
       "      <td>1.263</td>\n",
       "      <td>0.160</td>\n",
       "      <td>0.456</td>\n",
       "      <td>33980.75</td>\n",
       "      <td>743392.21</td>\n",
       "      <td>1.842626e+06</td>\n",
       "      <td>1.069850e+06</td>\n",
       "      <td>9.846192e+05</td>\n",
       "      <td>Regular</td>\n",
       "    </tr>\n",
       "    <tr>\n",
       "      <th>13</th>\n",
       "      <td>Story3</td>\n",
       "      <td>SDy Max</td>\n",
       "      <td>0.314</td>\n",
       "      <td>0.807</td>\n",
       "      <td>0.150</td>\n",
       "      <td>0.394</td>\n",
       "      <td>38030.53</td>\n",
       "      <td>814142.53</td>\n",
       "      <td>2.319888e+06</td>\n",
       "      <td>1.289838e+06</td>\n",
       "      <td>1.229643e+06</td>\n",
       "      <td>Regular</td>\n",
       "    </tr>\n",
       "    <tr>\n",
       "      <th>14</th>\n",
       "      <td>Story2</td>\n",
       "      <td>SDy Max</td>\n",
       "      <td>0.164</td>\n",
       "      <td>0.413</td>\n",
       "      <td>0.107</td>\n",
       "      <td>0.296</td>\n",
       "      <td>40736.49</td>\n",
       "      <td>857879.18</td>\n",
       "      <td>3.278955e+06</td>\n",
       "      <td>1.623922e+06</td>\n",
       "      <td>1.517566e+06</td>\n",
       "      <td>Regular</td>\n",
       "    </tr>\n",
       "    <tr>\n",
       "      <th>15</th>\n",
       "      <td>Story1</td>\n",
       "      <td>SDy Max</td>\n",
       "      <td>0.057</td>\n",
       "      <td>0.117</td>\n",
       "      <td>0.057</td>\n",
       "      <td>0.117</td>\n",
       "      <td>41484.54</td>\n",
       "      <td>869359.9</td>\n",
       "      <td>8.158225e+06</td>\n",
       "      <td>2.295269e+06</td>\n",
       "      <td>1.984392e+06</td>\n",
>>>>>>> 39bde43b1f61f49fa828e74355b5f48dd045beaa
=======
       "      <td>Sx Min</td>\n",
       "      <td>0.001151</td>\n",
       "      <td>-2E-05</td>\n",
       "      <td>0.001151</td>\n",
       "      <td>-0.000020</td>\n",
       "      <td>-99.7665</td>\n",
       "      <td>0</td>\n",
       "      <td>86678.105995</td>\n",
       "      <td>20830.115221</td>\n",
       "      <td>18765.154248</td>\n",
       "      <td>Regular</td>\n",
       "    </tr>\n",
       "    <tr>\n",
       "      <th>40</th>\n",
       "      <td>Story8</td>\n",
       "      <td>SDx Max</td>\n",
       "      <td>0.023583</td>\n",
       "      <td>0.000879</td>\n",
       "      <td>0.002284</td>\n",
       "      <td>0.000112</td>\n",
       "      <td>16.9984</td>\n",
       "      <td>0.844</td>\n",
       "      <td>7535.714286</td>\n",
       "      <td>0.000000</td>\n",
       "      <td>0.000000</td>\n",
       "      <td>Regular</td>\n",
       "    </tr>\n",
       "    <tr>\n",
       "      <th>41</th>\n",
       "      <td>Story7</td>\n",
       "      <td>SDx Max</td>\n",
       "      <td>0.021299</td>\n",
       "      <td>0.000767</td>\n",
       "      <td>0.002981</td>\n",
       "      <td>0.000108</td>\n",
       "      <td>34.801</td>\n",
       "      <td>1.7267</td>\n",
       "      <td>15987.962963</td>\n",
       "      <td>5275.000000</td>\n",
       "      <td>0.000000</td>\n",
       "      <td>Regular</td>\n",
       "    </tr>\n",
       "    <tr>\n",
       "      <th>42</th>\n",
       "      <td>Story6</td>\n",
       "      <td>SDx Max</td>\n",
       "      <td>0.018318</td>\n",
       "      <td>0.000659</td>\n",
       "      <td>0.003436</td>\n",
       "      <td>0.000128</td>\n",
       "      <td>49.2654</td>\n",
       "      <td>2.437</td>\n",
       "      <td>19039.062500</td>\n",
       "      <td>11191.574074</td>\n",
       "      <td>0.000000</td>\n",
       "      <td>Regular</td>\n",
       "    </tr>\n",
       "    <tr>\n",
       "      <th>43</th>\n",
       "      <td>Story5</td>\n",
       "      <td>SDx Max</td>\n",
       "      <td>0.014882</td>\n",
       "      <td>0.000531</td>\n",
       "      <td>0.003817</td>\n",
       "      <td>0.000142</td>\n",
       "      <td>60.929</td>\n",
       "      <td>3.0096</td>\n",
       "      <td>21194.366197</td>\n",
       "      <td>13327.343750</td>\n",
       "      <td>11350.063933</td>\n",
       "      <td>Regular</td>\n",
       "    </tr>\n",
       "    <tr>\n",
       "      <th>44</th>\n",
       "      <td>Story4</td>\n",
       "      <td>SDx Max</td>\n",
       "      <td>0.011065</td>\n",
       "      <td>0.000389</td>\n",
       "      <td>0.003818</td>\n",
       "      <td>0.000140</td>\n",
       "      <td>70.4907</td>\n",
       "      <td>3.4785</td>\n",
       "      <td>24846.428571</td>\n",
       "      <td>14836.056338</td>\n",
       "      <td>14992.371109</td>\n",
       "      <td>Regular</td>\n",
       "    </tr>\n",
       "    <tr>\n",
       "      <th>45</th>\n",
       "      <td>Story3</td>\n",
       "      <td>SDx Max</td>\n",
       "      <td>0.007247</td>\n",
       "      <td>0.000249</td>\n",
       "      <td>0.003535</td>\n",
       "      <td>0.000127</td>\n",
       "      <td>77.4059</td>\n",
       "      <td>3.8097</td>\n",
       "      <td>29997.637795</td>\n",
       "      <td>17392.500000</td>\n",
       "      <td>17354.628605</td>\n",
       "      <td>Regular</td>\n",
       "    </tr>\n",
       "    <tr>\n",
       "      <th>46</th>\n",
       "      <td>Story2</td>\n",
       "      <td>SDx Max</td>\n",
       "      <td>0.003712</td>\n",
       "      <td>0.000122</td>\n",
       "      <td>0.002678</td>\n",
       "      <td>0.000099</td>\n",
       "      <td>81.4952</td>\n",
       "      <td>3.9923</td>\n",
       "      <td>40326.262626</td>\n",
       "      <td>20998.346457</td>\n",
       "      <td>20276.915350</td>\n",
       "      <td>Regular</td>\n",
       "    </tr>\n",
       "    <tr>\n",
       "      <th>47</th>\n",
       "      <td>Story1</td>\n",
       "      <td>SDx Max</td>\n",
       "      <td>0.001034</td>\n",
       "      <td>2.3E-05</td>\n",
       "      <td>0.001034</td>\n",
       "      <td>0.000023</td>\n",
       "      <td>82.6308</td>\n",
       "      <td>4.0295</td>\n",
       "      <td>175195.652174</td>\n",
       "      <td>28228.383838</td>\n",
       "      <td>25378.754398</td>\n",
>>>>>>> dev
       "      <td>Regular</td>\n",
       "    </tr>\n",
       "  </tbody>\n",
       "</table>\n",
<<<<<<< HEAD
<<<<<<< HEAD
       "<p>132 rows × 12 columns</p>\n",
=======
>>>>>>> dev
       "</div>"
      ],
      "text/plain": [
       "     Story OutputCase         UX         UY       ΔUX       ΔUY        VX  \\\n",
       "0   Story8     Sx Max   0.028397  -0.000452  0.002752 -0.000035  -18.4866   \n",
       "1   Story7     Sx Max   0.025645  -0.000417  0.003577 -0.000043  -39.5596   \n",
       "2   Story6     Sx Max   0.022068  -0.000374  0.004129 -0.000067  -57.4061   \n",
       "3   Story5     Sx Max   0.017939  -0.000307  0.004588 -0.000080   -72.069   \n",
       "4   Story4     Sx Max   0.013351  -0.000227  0.004601 -0.000084  -84.1016   \n",
       "5   Story3     Sx Max    0.00875  -0.000143  0.004264 -0.000078  -92.7918   \n",
       "6   Story2     Sx Max   0.004486   -6.5E-05  0.003241 -0.000053  -98.1396   \n",
       "7   Story1     Sx Max   0.001245   -1.2E-05  0.001245 -0.000012  -99.7665   \n",
       "8   Story8     Sy Max  -0.000529   0.003856  0.000045  0.000563         0   \n",
       "9   Story7     Sy Max  -0.000574   0.003293 -0.000084  0.000581         0   \n",
       "10  Story6     Sy Max   -0.00049   0.002712 -0.000098  0.000591         0   \n",
       "11  Story5     Sy Max  -0.000392   0.002121 -0.000127  0.000587         0   \n",
       "12  Story4     Sy Max  -0.000265   0.001534 -0.000100  0.000549         0   \n",
       "13  Story3     Sy Max  -0.000165   0.000985 -0.000090  0.000479         0   \n",
       "14  Story2     Sy Max   -7.5E-05   0.000506 -0.000030  0.000368         0   \n",
       "15  Story1     Sy Max   -4.5E-05   0.000138 -0.000045  0.000138         0   \n",
       "16  Story8    SDy Max   0.001034    0.00322  0.000154  0.000471    0.9525   \n",
       "17  Story7    SDy Max    0.00088   0.002749  0.000122  0.000495    1.8038   \n",
       "18  Story6    SDy Max   0.000758   0.002254  0.000140  0.000501    2.4507   \n",
       "19  Story5    SDy Max   0.000618   0.001753  0.000144  0.000490    2.9733   \n",
       "20  Story4    SDy Max   0.000474   0.001263  0.000160  0.000456    3.4651   \n",
       "21  Story3    SDy Max   0.000314   0.000807  0.000150  0.000394     3.878   \n",
       "22  Story2    SDy Max   0.000164   0.000413  0.000107  0.000296     4.154   \n",
       "23  Story1    SDy Max    5.7E-05   0.000117  0.000057  0.000117    4.2302   \n",
       "24  Story8     Sy Min  -0.000597   0.003745  0.000113  0.000545         0   \n",
       "25  Story7     Sy Min   -0.00071     0.0032 -0.000106  0.000566         0   \n",
       "26  Story6     Sy Min  -0.000604   0.002634 -0.000122  0.000576         0   \n",
       "27  Story5     Sy Min  -0.000482   0.002058 -0.000171  0.000569         0   \n",
       "28  Story4     Sy Min  -0.000311   0.001489 -0.000118  0.000534         0   \n",
       "29  Story3     Sy Min  -0.000193   0.000955 -0.000108  0.000464         0   \n",
       "30  Story2     Sy Min   -8.5E-05   0.000491 -0.000013  0.000355         0   \n",
       "31  Story1     Sy Min   -7.2E-05   0.000136 -0.000072  0.000136         0   \n",
       "32  Story8     Sx Min   0.028156  -0.000844  0.002988 -0.000100  -18.4866   \n",
       "33  Story7     Sx Min   0.025168  -0.000744  0.003500 -0.000097  -39.5596   \n",
       "34  Story6     Sx Min   0.021668  -0.000647  0.004043 -0.000121  -57.4061   \n",
       "35  Story5     Sx Min   0.017625  -0.000526  0.004436 -0.000139   -72.069   \n",
       "36  Story4     Sx Min   0.013189  -0.000387  0.004535 -0.000139  -84.1016   \n",
       "37  Story3     Sx Min   0.008654  -0.000248  0.004205 -0.000129  -92.7918   \n",
       "38  Story2     Sx Min   0.004449  -0.000119  0.003298 -0.000099  -98.1396   \n",
       "39  Story1     Sx Min   0.001151     -2E-05  0.001151 -0.000020  -99.7665   \n",
       "40  Story8    SDx Max   0.023583   0.000879  0.002284  0.000112   16.9984   \n",
       "41  Story7    SDx Max   0.021299   0.000767  0.002981  0.000108    34.801   \n",
       "42  Story6    SDx Max   0.018318   0.000659  0.003436  0.000128   49.2654   \n",
       "43  Story5    SDx Max   0.014882   0.000531  0.003817  0.000142    60.929   \n",
       "44  Story4    SDx Max   0.011065   0.000389  0.003818  0.000140   70.4907   \n",
       "45  Story3    SDx Max   0.007247   0.000249  0.003535  0.000127   77.4059   \n",
       "46  Story2    SDx Max   0.003712   0.000122  0.002678  0.000099   81.4952   \n",
       "47  Story1    SDx Max   0.001034    2.3E-05  0.001034  0.000023   82.6308   \n",
       "\n",
<<<<<<< HEAD
       "[132 rows x 12 columns]"
=======
       "</div>"
      ],
      "text/plain": [
       "     Story OutputCase     UX     UY    URX    URY        VX         VY  \\\n",
       "8   Story8    SDy Max  1.034   3.22  0.154  0.471   9340.76  188847.06   \n",
       "9   Story7    SDy Max   0.88  2.749  0.122  0.495  17689.01  385502.89   \n",
       "10  Story6    SDy Max  0.758  2.254  0.140  0.501  24032.76  535326.83   \n",
       "11  Story5    SDy Max  0.618  1.753  0.144  0.490  29158.11  649676.53   \n",
       "12  Story4    SDy Max  0.474  1.263  0.160  0.456  33980.75  743392.21   \n",
       "13  Story3    SDy Max  0.314  0.807  0.150  0.394  38030.53  814142.53   \n",
       "14  Story2    SDy Max  0.164  0.413  0.107  0.296  40736.49  857879.18   \n",
       "15  Story1    SDy Max  0.057  0.117  0.057  0.117  41484.54   869359.9   \n",
       "\n",
       "      lat_rig(k)    0.7_prev_k     0.8k_prom   is_reg  \n",
       "8   4.616035e+05  0.000000e+00  0.000000e+00  Regular  \n",
       "9   9.237856e+05  3.231224e+05  0.000000e+00  Regular  \n",
       "10  1.240179e+06  6.466499e+05  0.000000e+00  Regular  \n",
       "11  1.528357e+06  8.681254e+05  7.001515e+05  Regular  \n",
       "12  1.842626e+06  1.069850e+06  9.846192e+05  Regular  \n",
       "13  2.319888e+06  1.289838e+06  1.229643e+06  Regular  \n",
       "14  3.278955e+06  1.623922e+06  1.517566e+06  Regular  \n",
       "15  8.158225e+06  2.295269e+06  1.984392e+06  Regular  "
>>>>>>> 39bde43b1f61f49fa828e74355b5f48dd045beaa
=======
       "          VY     lat_rig(k)     0.7_prev_k      0.8k_prom   is_reg  \n",
       "0          0    6717.514535       0.000000       0.000000  Regular  \n",
       "1          0   11059.435281    4702.260174       0.000000  Regular  \n",
       "2          0   13903.148462    7741.604697       0.000000  Regular  \n",
       "3          0   15708.151700    9732.203923    8448.026207  Regular  \n",
       "4          0   18278.982830   10995.706190   10845.529452  Regular  \n",
       "5          0   21761.679174   12795.287981   12770.742131  Regular  \n",
       "6          0   30280.654119   15233.175422   14866.350321  Regular  \n",
       "7          0   80133.734940   21196.457883   18752.350966  Regular  \n",
       "8   -18.4866   32835.879218       0.000000       0.000000  Regular  \n",
       "9   -39.5596   68088.812392   22985.115453       0.000000  Regular  \n",
       "10  -57.4061   97133.840948   47662.168675       0.000000  Regular  \n",
       "11   -72.069  122775.127768   67993.688663   52815.608682  Regular  \n",
       "12  -84.1016  153190.528233   85942.589438   76799.408296  Regular  \n",
       "13  -92.7918  193719.832985  107233.369763   99493.199186  Regular  \n",
       "14  -98.1396  266683.695652  135603.883090  125249.463730  Regular  \n",
       "15  -99.7665  722945.652174  186678.586957  163625.081832  Regular  \n",
       "16    19.257   40885.350318       0.000000       0.000000  Regular  \n",
       "17   39.3104   79414.949495   28619.745223       0.000000  Regular  \n",
       "18   54.5881  108958.283433   55590.464646       0.000000  Regular  \n",
       "19   66.2486  135201.224490   76270.798403   61135.622199  Regular  \n",
       "20   75.8049  166238.815789   94640.857143   86286.521978  Regular  \n",
       "21   83.0194  210709.137056  116367.171053  109439.552990  Regular  \n",
       "22   87.4793  295538.175676  147496.395939  136573.113956  Regular  \n",
       "23     88.65  757692.307692  206876.722973  179329.634272  Regular  \n",
       "24  -18.4866   33920.366972       0.000000       0.000000  Regular  \n",
       "25  -39.5596   69893.286219   23744.256881       0.000000  Regular  \n",
       "26  -57.4061   99663.368056   48925.300353       0.000000  Regular  \n",
       "27   -72.069  126659.050967   69764.357639   54260.538999  Regular  \n",
       "28  -84.1016  157493.632959   88661.335677   78990.854731  Regular  \n",
       "29  -92.7918  199982.327586  110245.543071  102350.947195  Regular  \n",
       "30  -98.1396  276449.577465  139987.629310  129102.669736  Regular  \n",
       "31  -99.7665  733577.205882  193514.704225  169046.810136  Regular  \n",
       "32         0    6186.947791       0.000000       0.000000  Regular  \n",
       "33         0   11302.742857    4330.863454       0.000000  Regular  \n",
       "34         0   14198.886965    7911.920000       0.000000  Regular  \n",
       "35         0   16246.393147    9939.220876    8450.287364  Regular  \n",
       "36         0   18545.005513   11372.475203   11132.806125  Regular  \n",
       "37         0   22067.015458   12981.503859   13064.076167  Regular  \n",
       "38         0   29757.307459   15446.910820   15162.243765  Regular  \n",
       "39         0   86678.105995   20830.115221   18765.154248  Regular  \n",
       "40     0.844    7535.714286       0.000000       0.000000  Regular  \n",
       "41    1.7267   15987.962963    5275.000000       0.000000  Regular  \n",
       "42     2.437   19039.062500   11191.574074       0.000000  Regular  \n",
       "43    3.0096   21194.366197   13327.343750   11350.063933  Regular  \n",
       "44    3.4785   24846.428571   14836.056338   14992.371109  Regular  \n",
       "45    3.8097   29997.637795   17392.500000   17354.628605  Regular  \n",
       "46    3.9923   40326.262626   20998.346457   20276.915350  Regular  \n",
       "47    4.0295  175195.652174   28228.383838   25378.754398  Regular  "
>>>>>>> dev
      ]
     },
     "metadata": {},
     "output_type": "display_data"
    }
   ],
   "source": [
    "sis.show_table(sismo.piso_blando_table)"
   ]
  },
  {
<<<<<<< HEAD
<<<<<<< HEAD
   "cell_type": "code",
   "execution_count": 41,
   "metadata": {},
   "outputs": [],
   "source": [
    "a = sismo.piso_blando_table"
   ]
  },
  {
=======
>>>>>>> 39bde43b1f61f49fa828e74355b5f48dd045beaa
=======
>>>>>>> dev
   "cell_type": "markdown",
   "metadata": {},
   "source": [
    "## Revisión por Irregularidad de Masa"
   ]
  },
  {
   "cell_type": "code",
<<<<<<< HEAD
<<<<<<< HEAD
   "execution_count": 42,
=======
   "execution_count": 17,
>>>>>>> 39bde43b1f61f49fa828e74355b5f48dd045beaa
=======
   "execution_count": 25,
>>>>>>> dev
   "metadata": {},
   "outputs": [
    {
     "data": {
      "text/html": [
       "<div>\n",
       "<style scoped>\n",
       "    .dataframe tbody tr th:only-of-type {\n",
       "        vertical-align: middle;\n",
       "    }\n",
       "\n",
       "    .dataframe tbody tr th {\n",
       "        vertical-align: top;\n",
       "    }\n",
       "\n",
       "    .dataframe thead th {\n",
       "        text-align: right;\n",
       "    }\n",
       "</style>\n",
       "<table border=\"1\" class=\"dataframe\">\n",
       "  <thead>\n",
       "    <tr style=\"text-align: right;\">\n",
       "      <th></th>\n",
       "      <th>Story</th>\n",
       "      <th>Mass</th>\n",
<<<<<<< HEAD
       "      <th>1.5 Mass</th>\n",
       "      <th>story_type</th>\n",
       "      <th>is_regular</th>\n",
=======
       "      <th>1.5_inf_mass</th>\n",
       "      <th>1.5_sup_mass</th>\n",
       "      <th>story_type</th>\n",
       "      <th>is_reg</th>\n",
>>>>>>> 39bde43b1f61f49fa828e74355b5f48dd045beaa
       "    </tr>\n",
       "  </thead>\n",
       "  <tbody>\n",
       "    <tr>\n",
       "      <th>0</th>\n",
<<<<<<< HEAD
<<<<<<< HEAD
       "      <td>Story3</td>\n",
       "      <td>90.1284</td>\n",
=======
       "      <td>Story8</td>\n",
       "      <td>65.3981</td>\n",
       "      <td></td>\n",
>>>>>>> 39bde43b1f61f49fa828e74355b5f48dd045beaa
=======
       "      <td>Story8</td>\n",
       "      <td>6.66875</td>\n",
>>>>>>> dev
       "      <td></td>\n",
       "      <td>Azotea</td>\n",
       "      <td>Regular</td>\n",
       "    </tr>\n",
       "    <tr>\n",
       "      <th>1</th>\n",
<<<<<<< HEAD
<<<<<<< HEAD
       "      <td>Story2</td>\n",
       "      <td>135.8175</td>\n",
       "      <td>203.72625</td>\n",
=======
       "      <td>Story7</td>\n",
       "      <td>85.8431</td>\n",
       "      <td>128.5221</td>\n",
       "      <td></td>\n",
>>>>>>> 39bde43b1f61f49fa828e74355b5f48dd045beaa
=======
       "      <td>Story7</td>\n",
       "      <td>8.75356</td>\n",
       "      <td>13.13034</td>\n",
>>>>>>> dev
       "      <td>Piso</td>\n",
       "      <td>Regular</td>\n",
       "    </tr>\n",
       "    <tr>\n",
       "      <th>2</th>\n",
<<<<<<< HEAD
<<<<<<< HEAD
       "      <td>Story1</td>\n",
       "      <td>143.2935</td>\n",
       "      <td>214.94025</td>\n",
=======
       "      <td>Story6</td>\n",
       "      <td>85.6814</td>\n",
       "      <td>128.5509</td>\n",
       "      <td>128.76465</td>\n",
>>>>>>> 39bde43b1f61f49fa828e74355b5f48dd045beaa
=======
       "      <td>Story6</td>\n",
       "      <td>8.73707</td>\n",
       "      <td>13.105605</td>\n",
>>>>>>> dev
       "      <td>Piso</td>\n",
       "      <td>Regular</td>\n",
       "    </tr>\n",
       "    <tr>\n",
       "      <th>3</th>\n",
<<<<<<< HEAD
<<<<<<< HEAD
       "      <td>Base</td>\n",
       "      <td>26.7000</td>\n",
=======
       "      <td>Story5</td>\n",
       "      <td>85.7006</td>\n",
       "      <td>134.7939</td>\n",
       "      <td>128.5221</td>\n",
       "      <td>Piso</td>\n",
       "      <td>Regular</td>\n",
       "    </tr>\n",
       "    <tr>\n",
       "      <th>4</th>\n",
       "      <td>Story4</td>\n",
       "      <td>89.8626</td>\n",
       "      <td>134.7939</td>\n",
       "      <td>128.5509</td>\n",
       "      <td>Piso</td>\n",
       "      <td>Regular</td>\n",
       "    </tr>\n",
       "    <tr>\n",
       "      <th>5</th>\n",
       "      <td>Story3</td>\n",
       "      <td>89.8626</td>\n",
       "      <td>134.7939</td>\n",
       "      <td>134.7939</td>\n",
       "      <td>Piso</td>\n",
       "      <td>Regular</td>\n",
       "    </tr>\n",
       "    <tr>\n",
       "      <th>6</th>\n",
       "      <td>Story2</td>\n",
       "      <td>89.8626</td>\n",
       "      <td>109.3485</td>\n",
       "      <td>134.7939</td>\n",
       "      <td>Piso</td>\n",
       "      <td>Regular</td>\n",
       "    </tr>\n",
       "    <tr>\n",
       "      <th>7</th>\n",
       "      <td>Story1</td>\n",
       "      <td>72.899</td>\n",
       "      <td>52.36965</td>\n",
       "      <td>134.7939</td>\n",
       "      <td>Piso</td>\n",
       "      <td>Irregular</td>\n",
       "    </tr>\n",
       "    <tr>\n",
       "      <th>8</th>\n",
       "      <td>NT</td>\n",
       "      <td>34.9131</td>\n",
       "      <td></td>\n",
       "      <td>109.3485</td>\n",
       "      <td>Piso</td>\n",
       "      <td>Regular</td>\n",
       "    </tr>\n",
       "    <tr>\n",
       "      <th>9</th>\n",
       "      <td>Base</td>\n",
       "      <td>38.4194</td>\n",
       "      <td></td>\n",
>>>>>>> 39bde43b1f61f49fa828e74355b5f48dd045beaa
=======
       "      <td>Story5</td>\n",
       "      <td>8.73903</td>\n",
       "      <td>13.108545</td>\n",
       "      <td>Piso</td>\n",
       "      <td>Regular</td>\n",
       "    </tr>\n",
       "    <tr>\n",
       "      <th>4</th>\n",
       "      <td>Story4</td>\n",
       "      <td>9.16343</td>\n",
       "      <td>13.745145</td>\n",
       "      <td>Piso</td>\n",
       "      <td>Regular</td>\n",
       "    </tr>\n",
       "    <tr>\n",
       "      <th>5</th>\n",
       "      <td>Story3</td>\n",
       "      <td>9.16343</td>\n",
       "      <td>13.745145</td>\n",
       "      <td>Piso</td>\n",
       "      <td>Regular</td>\n",
       "    </tr>\n",
       "    <tr>\n",
       "      <th>6</th>\n",
       "      <td>Story2</td>\n",
       "      <td>9.16343</td>\n",
       "      <td>13.745145</td>\n",
       "      <td>Piso</td>\n",
       "      <td>Regular</td>\n",
       "    </tr>\n",
       "    <tr>\n",
       "      <th>7</th>\n",
       "      <td>Story1</td>\n",
       "      <td>7.43363</td>\n",
       "      <td>11.150445</td>\n",
       "      <td>Piso</td>\n",
       "      <td>Irregular</td>\n",
       "    </tr>\n",
       "    <tr>\n",
       "      <th>8</th>\n",
       "      <td>NT</td>\n",
       "      <td>3.56015</td>\n",
       "      <td>5.340225</td>\n",
       "      <td>Piso</td>\n",
       "      <td>Regular</td>\n",
       "    </tr>\n",
       "    <tr>\n",
       "      <th>9</th>\n",
       "      <td>Base</td>\n",
       "      <td>3.91769</td>\n",
>>>>>>> dev
       "      <td></td>\n",
       "      <td>Sotano</td>\n",
       "      <td>Regular</td>\n",
       "    </tr>\n",
       "  </tbody>\n",
       "</table>\n",
       "</div>"
      ],
      "text/plain": [
<<<<<<< HEAD
<<<<<<< HEAD
       "    Story      Mass   1.5 Mass story_type is_regular\n",
       "0  Story3   90.1284                Azotea    Regular\n",
       "1  Story2  135.8175  203.72625       Piso    Regular\n",
       "2  Story1  143.2935  214.94025       Piso    Regular\n",
       "3    Base   26.7000                Sotano    Regular"
      ]
     },
     "execution_count": 42,
=======
       "    Story     Mass 1.5_inf_mass 1.5_sup_mass story_type     is_reg\n",
       "0  Story8  65.3981                               Azotea    Regular\n",
       "1  Story7  85.8431     128.5221                    Piso    Regular\n",
       "2  Story6  85.6814     128.5509    128.76465       Piso    Regular\n",
       "3  Story5  85.7006     134.7939     128.5221       Piso    Regular\n",
       "4  Story4  89.8626     134.7939     128.5509       Piso    Regular\n",
       "5  Story3  89.8626     134.7939     134.7939       Piso    Regular\n",
       "6  Story2  89.8626     109.3485     134.7939       Piso    Regular\n",
       "7  Story1   72.899     52.36965     134.7939       Piso  Irregular\n",
       "8      NT  34.9131                  109.3485       Piso    Regular\n",
       "9    Base  38.4194                               Sotano    Regular"
      ]
     },
     "execution_count": 17,
>>>>>>> 39bde43b1f61f49fa828e74355b5f48dd045beaa
=======
       "    Story     Mass   1.5 Mass story_type is_regular\n",
       "0  Story8  6.66875                Azotea    Regular\n",
       "1  Story7  8.75356   13.13034       Piso    Regular\n",
       "2  Story6  8.73707  13.105605       Piso    Regular\n",
       "3  Story5  8.73903  13.108545       Piso    Regular\n",
       "4  Story4  9.16343  13.745145       Piso    Regular\n",
       "5  Story3  9.16343  13.745145       Piso    Regular\n",
       "6  Story2  9.16343  13.745145       Piso    Regular\n",
       "7  Story1  7.43363  11.150445       Piso  Irregular\n",
       "8      NT  3.56015   5.340225       Piso    Regular\n",
       "9    Base  3.91769                Sotano    Regular"
      ]
     },
     "execution_count": 25,
>>>>>>> dev
     "metadata": {},
     "output_type": "execute_result"
    }
   ],
   "source": [
    "sismo.rev_masa_table"
   ]
  },
  {
   "cell_type": "markdown",
   "metadata": {},
   "source": [
    "## Revisión de torsión"
   ]
  },
  {
   "cell_type": "code",
<<<<<<< HEAD
<<<<<<< HEAD
   "execution_count": 43,
=======
   "execution_count": 18,
>>>>>>> 39bde43b1f61f49fa828e74355b5f48dd045beaa
=======
   "execution_count": 26,
>>>>>>> dev
   "metadata": {},
   "outputs": [
    {
     "data": {
      "application/vnd.jupyter.widget-view+json": {
<<<<<<< HEAD
<<<<<<< HEAD
       "model_id": "6703650ed18c402f9ff9cb86a205828f",
=======
       "model_id": "98119595753c49abb25847738fe350ce",
>>>>>>> 39bde43b1f61f49fa828e74355b5f48dd045beaa
=======
       "model_id": "02daf1656d40449a86c067104e61a744",
>>>>>>> dev
       "version_major": 2,
       "version_minor": 0
      },
      "text/plain": [
<<<<<<< HEAD
<<<<<<< HEAD
       "Dropdown(description='Filtro', index=39, options=(nan, 'SDx Max', 'SDy Max', 'Derivas Max', 'Derivas Min', 'R2…"
=======
       "Dropdown(description='Filtro', index=6, options=('Sx Max', 'Sx Min', 'Sy Max', 'Sy Min', 'SDx Max', 'SDy Max',…"
>>>>>>> 39bde43b1f61f49fa828e74355b5f48dd045beaa
=======
       "Dropdown(description='Filtro', index=6, options=('Sx Max', 'Sx Min', 'Sy Max', 'Sy Min', 'SDx Max', 'SDy Max',…"
>>>>>>> dev
      ]
     },
     "metadata": {},
     "output_type": "display_data"
    },
    {
     "data": {
      "text/html": [
       "<div>\n",
       "<style scoped>\n",
       "    .dataframe tbody tr th:only-of-type {\n",
       "        vertical-align: middle;\n",
       "    }\n",
       "\n",
       "    .dataframe tbody tr th {\n",
       "        vertical-align: top;\n",
       "    }\n",
       "\n",
       "    .dataframe thead th {\n",
       "        text-align: right;\n",
       "    }\n",
       "</style>\n",
       "<table border=\"1\" class=\"dataframe\">\n",
       "  <thead>\n",
       "    <tr style=\"text-align: right;\">\n",
       "      <th></th>\n",
       "      <th>Story</th>\n",
       "      <th>OutputCase</th>\n",
       "      <th>Direction</th>\n",
       "      <th>Max Drift</th>\n",
       "      <th>Avg Drift</th>\n",
       "      <th>Ratio</th>\n",
       "      <th>Height</th>\n",
       "      <th>Drifts</th>\n",
       "      <th>Drift &lt; Dmax/2</th>\n",
       "      <th>tor_reg</th>\n",
       "    </tr>\n",
       "  </thead>\n",
       "  <tbody>\n",
       "    <tr>\n",
       "      <th>0</th>\n",
<<<<<<< HEAD
<<<<<<< HEAD
       "      <td>Story3</td>\n",
       "      <td>NaN</td>\n",
=======
       "      <td>Story8</td>\n",
       "      <td>Sx Max</td>\n",
>>>>>>> dev
       "      <td>X</td>\n",
       "      <td>0.003536</td>\n",
       "      <td>0.003073</td>\n",
       "      <td>1.151</td>\n",
       "      <td>2.5</td>\n",
       "      <td>0.007426</td>\n",
       "      <td>False</td>\n",
=======
       "      <td>Story8</td>\n",
       "      <td>Sx Max</td>\n",
       "      <td>X</td>\n",
       "      <td>3.536</td>\n",
       "      <td>3.073</td>\n",
       "      <td>1.151</td>\n",
       "      <td>2500</td>\n",
       "      <td>0.003246</td>\n",
       "      <td>True</td>\n",
>>>>>>> 39bde43b1f61f49fa828e74355b5f48dd045beaa
       "      <td>Regular</td>\n",
       "    </tr>\n",
       "    <tr>\n",
       "      <th>1</th>\n",
<<<<<<< HEAD
<<<<<<< HEAD
       "      <td>Story3</td>\n",
       "      <td>NaN</td>\n",
       "      <td>Y</td>\n",
       "      <td>1.968</td>\n",
       "      <td>1.916</td>\n",
       "      <td>1.027</td>\n",
       "      <td>3600</td>\n",
       "      <td>0.002870</td>\n",
=======
       "      <td>Story8</td>\n",
       "      <td>Sx Min</td>\n",
       "      <td>X</td>\n",
       "      <td>3.013</td>\n",
       "      <td>2.589</td>\n",
       "      <td>1.163</td>\n",
       "      <td>2500</td>\n",
       "      <td>0.002766</td>\n",
>>>>>>> 39bde43b1f61f49fa828e74355b5f48dd045beaa
       "      <td>True</td>\n",
=======
       "      <td>Story8</td>\n",
       "      <td>Sx Min</td>\n",
       "      <td>X</td>\n",
       "      <td>0.003013</td>\n",
       "      <td>0.002589</td>\n",
       "      <td>1.163</td>\n",
       "      <td>2.5</td>\n",
       "      <td>0.006327</td>\n",
       "      <td>False</td>\n",
>>>>>>> dev
       "      <td>Regular</td>\n",
       "    </tr>\n",
       "    <tr>\n",
       "      <th>2</th>\n",
<<<<<<< HEAD
<<<<<<< HEAD
       "      <td>Story3</td>\n",
       "      <td>SDx Max</td>\n",
       "      <td>X</td>\n",
       "      <td>4.028</td>\n",
       "      <td>3.867</td>\n",
       "      <td>1.042</td>\n",
       "      <td>3600</td>\n",
       "      <td>0.005874</td>\n",
       "      <td>False</td>\n",
=======
       "      <td>Story8</td>\n",
       "      <td>Sy Max</td>\n",
       "      <td>X</td>\n",
       "      <td>0.46</td>\n",
       "      <td>0.107</td>\n",
       "      <td>4.305</td>\n",
       "      <td>2500</td>\n",
       "      <td>0.000422</td>\n",
       "      <td>True</td>\n",
>>>>>>> 39bde43b1f61f49fa828e74355b5f48dd045beaa
=======
       "      <td>Story8</td>\n",
       "      <td>Sy Max</td>\n",
       "      <td>X</td>\n",
       "      <td>0.00046</td>\n",
       "      <td>0.000107</td>\n",
       "      <td>4.305</td>\n",
       "      <td>2.5</td>\n",
       "      <td>0.000966</td>\n",
       "      <td>True</td>\n",
>>>>>>> dev
       "      <td>Regular</td>\n",
       "    </tr>\n",
       "    <tr>\n",
       "      <th>3</th>\n",
<<<<<<< HEAD
<<<<<<< HEAD
       "      <td>Story3</td>\n",
       "      <td>SDx Max</td>\n",
       "      <td>Y</td>\n",
       "      <td>0.643</td>\n",
       "      <td>0.622</td>\n",
       "      <td>1.034</td>\n",
       "      <td>3600</td>\n",
       "      <td>0.000938</td>\n",
=======
       "      <td>Story8</td>\n",
       "      <td>Sy Max</td>\n",
       "      <td>Y</td>\n",
       "      <td>0.671</td>\n",
       "      <td>0.564</td>\n",
       "      <td>1.19</td>\n",
       "      <td>2500</td>\n",
       "      <td>0.000616</td>\n",
>>>>>>> 39bde43b1f61f49fa828e74355b5f48dd045beaa
=======
       "      <td>Story8</td>\n",
       "      <td>Sy Max</td>\n",
       "      <td>Y</td>\n",
       "      <td>0.000671</td>\n",
       "      <td>0.000564</td>\n",
       "      <td>1.19</td>\n",
       "      <td>2.5</td>\n",
       "      <td>0.001409</td>\n",
>>>>>>> dev
       "      <td>True</td>\n",
       "      <td>Regular</td>\n",
       "    </tr>\n",
       "    <tr>\n",
       "      <th>4</th>\n",
<<<<<<< HEAD
<<<<<<< HEAD
       "      <td>Story3</td>\n",
       "      <td>SDy Max</td>\n",
       "      <td>X</td>\n",
       "      <td>1.227</td>\n",
       "      <td>1.17</td>\n",
       "      <td>1.049</td>\n",
       "      <td>3600</td>\n",
       "      <td>0.001789</td>\n",
=======
       "      <td>Story8</td>\n",
       "      <td>Sy Min</td>\n",
       "      <td>X</td>\n",
       "      <td>0.399</td>\n",
       "      <td>0.078</td>\n",
       "      <td>5.118</td>\n",
       "      <td>2500</td>\n",
       "      <td>0.000366</td>\n",
>>>>>>> 39bde43b1f61f49fa828e74355b5f48dd045beaa
=======
       "      <td>Story8</td>\n",
       "      <td>Sy Min</td>\n",
       "      <td>X</td>\n",
       "      <td>0.000399</td>\n",
       "      <td>7.8E-05</td>\n",
       "      <td>5.118</td>\n",
       "      <td>2.5</td>\n",
       "      <td>0.000838</td>\n",
>>>>>>> dev
       "      <td>True</td>\n",
       "      <td>Regular</td>\n",
       "    </tr>\n",
       "    <tr>\n",
       "      <th>...</th>\n",
       "      <td>...</td>\n",
       "      <td>...</td>\n",
       "      <td>...</td>\n",
       "      <td>...</td>\n",
       "      <td>...</td>\n",
       "      <td>...</td>\n",
       "      <td>...</td>\n",
       "      <td>...</td>\n",
       "      <td>...</td>\n",
       "      <td>...</td>\n",
       "    </tr>\n",
       "    <tr>\n",
<<<<<<< HEAD
<<<<<<< HEAD
       "      <th>253</th>\n",
       "      <td>Story1</td>\n",
       "      <td>R19 Min</td>\n",
       "      <td>Y</td>\n",
       "      <td>2.352</td>\n",
       "      <td>2.343</td>\n",
       "      <td>1.004</td>\n",
       "      <td>5000</td>\n",
       "      <td>0.002470</td>\n",
=======
       "      <th>76</th>\n",
       "      <td>NT</td>\n",
       "      <td>Sy Min</td>\n",
       "      <td>Y</td>\n",
       "      <td>0.029</td>\n",
       "      <td>0.001</td>\n",
       "      <td>40.601</td>\n",
       "      <td>1750</td>\n",
       "      <td>0.000038</td>\n",
>>>>>>> 39bde43b1f61f49fa828e74355b5f48dd045beaa
=======
       "      <th>76</th>\n",
       "      <td>NT</td>\n",
       "      <td>Sy Min</td>\n",
       "      <td>Y</td>\n",
       "      <td>2.9E-05</td>\n",
       "      <td>1E-06</td>\n",
       "      <td>40.601</td>\n",
       "      <td>1.75</td>\n",
       "      <td>0.000087</td>\n",
>>>>>>> dev
       "      <td>True</td>\n",
       "      <td>Regular</td>\n",
       "    </tr>\n",
       "    <tr>\n",
<<<<<<< HEAD
<<<<<<< HEAD
       "      <th>254</th>\n",
       "      <td>Story1</td>\n",
       "      <td>ER Max</td>\n",
=======
       "      <th>77</th>\n",
       "      <td>NT</td>\n",
       "      <td>SDx Max</td>\n",
>>>>>>> dev
       "      <td>X</td>\n",
       "      <td>0.00024</td>\n",
       "      <td>0.00012</td>\n",
       "      <td>2</td>\n",
       "      <td>1.75</td>\n",
       "      <td>0.000720</td>\n",
       "      <td>True</td>\n",
       "      <td>Regular</td>\n",
       "    </tr>\n",
       "    <tr>\n",
       "      <th>78</th>\n",
       "      <td>NT</td>\n",
       "      <td>SDx Max</td>\n",
       "      <td>Y</td>\n",
<<<<<<< HEAD
       "      <td>2.361</td>\n",
       "      <td>2.349</td>\n",
       "      <td>1.005</td>\n",
       "      <td>5000</td>\n",
       "      <td>0.002479</td>\n",
=======
       "      <th>77</th>\n",
       "      <td>NT</td>\n",
       "      <td>SDx Max</td>\n",
       "      <td>X</td>\n",
       "      <td>0.24</td>\n",
       "      <td>0.12</td>\n",
       "      <td>2</td>\n",
       "      <td>1750</td>\n",
       "      <td>0.000315</td>\n",
=======
       "      <td>2.8E-05</td>\n",
       "      <td>1.4E-05</td>\n",
       "      <td>2</td>\n",
       "      <td>1.75</td>\n",
       "      <td>0.000084</td>\n",
>>>>>>> dev
       "      <td>True</td>\n",
       "      <td>Regular</td>\n",
       "    </tr>\n",
       "    <tr>\n",
<<<<<<< HEAD
       "      <th>78</th>\n",
       "      <td>NT</td>\n",
       "      <td>SDx Max</td>\n",
       "      <td>Y</td>\n",
       "      <td>0.028</td>\n",
       "      <td>0.014</td>\n",
       "      <td>2</td>\n",
       "      <td>1750</td>\n",
       "      <td>0.000037</td>\n",
>>>>>>> 39bde43b1f61f49fa828e74355b5f48dd045beaa
       "      <td>True</td>\n",
       "      <td>Regular</td>\n",
       "    </tr>\n",
       "    <tr>\n",
<<<<<<< HEAD
       "      <th>256</th>\n",
       "      <td>Story1</td>\n",
       "      <td>ER Min</td>\n",
=======
       "      <th>79</th>\n",
       "      <td>NT</td>\n",
       "      <td>SDy Max</td>\n",
>>>>>>> dev
       "      <td>X</td>\n",
       "      <td>3.3E-05</td>\n",
       "      <td>1.6E-05</td>\n",
       "      <td>2</td>\n",
       "      <td>1.75</td>\n",
       "      <td>0.000099</td>\n",
       "      <td>True</td>\n",
       "      <td>Regular</td>\n",
       "    </tr>\n",
       "    <tr>\n",
       "      <th>80</th>\n",
       "      <td>NT</td>\n",
       "      <td>SDy Max</td>\n",
       "      <td>Y</td>\n",
<<<<<<< HEAD
       "      <td>2.365</td>\n",
       "      <td>2.356</td>\n",
       "      <td>1.004</td>\n",
       "      <td>5000</td>\n",
       "      <td>0.002483</td>\n",
=======
       "      <th>79</th>\n",
       "      <td>NT</td>\n",
       "      <td>SDy Max</td>\n",
       "      <td>X</td>\n",
       "      <td>0.033</td>\n",
       "      <td>0.016</td>\n",
       "      <td>2</td>\n",
       "      <td>1750</td>\n",
       "      <td>0.000043</td>\n",
       "      <td>True</td>\n",
       "      <td>Regular</td>\n",
       "    </tr>\n",
       "    <tr>\n",
       "      <th>80</th>\n",
       "      <td>NT</td>\n",
       "      <td>SDy Max</td>\n",
       "      <td>Y</td>\n",
       "      <td>0.027</td>\n",
       "      <td>0.013</td>\n",
       "      <td>2</td>\n",
       "      <td>1750</td>\n",
       "      <td>0.000035</td>\n",
>>>>>>> 39bde43b1f61f49fa828e74355b5f48dd045beaa
=======
       "      <td>2.7E-05</td>\n",
       "      <td>1.3E-05</td>\n",
       "      <td>2</td>\n",
       "      <td>1.75</td>\n",
       "      <td>0.000081</td>\n",
>>>>>>> dev
       "      <td>True</td>\n",
       "      <td>Regular</td>\n",
       "    </tr>\n",
       "  </tbody>\n",
       "</table>\n",
<<<<<<< HEAD
<<<<<<< HEAD
       "<p>258 rows × 10 columns</p>\n",
=======
       "<p>81 rows × 10 columns</p>\n",
>>>>>>> dev
       "</div>"
      ],
      "text/plain": [
       "     Story OutputCase Direction Max Drift Avg Drift   Ratio Height    Drifts  \\\n",
       "0   Story8     Sx Max         X  0.003536  0.003073   1.151    2.5  0.007426   \n",
       "1   Story8     Sx Min         X  0.003013  0.002589   1.163    2.5  0.006327   \n",
       "2   Story8     Sy Max         X   0.00046  0.000107   4.305    2.5  0.000966   \n",
       "3   Story8     Sy Max         Y  0.000671  0.000564    1.19    2.5  0.001409   \n",
       "4   Story8     Sy Min         X  0.000399   7.8E-05   5.118    2.5  0.000838   \n",
       "..     ...        ...       ...       ...       ...     ...    ...       ...   \n",
       "76      NT     Sy Min         Y   2.9E-05     1E-06  40.601   1.75  0.000087   \n",
       "77      NT    SDx Max         X   0.00024   0.00012       2   1.75  0.000720   \n",
       "78      NT    SDx Max         Y   2.8E-05   1.4E-05       2   1.75  0.000084   \n",
       "79      NT    SDy Max         X   3.3E-05   1.6E-05       2   1.75  0.000099   \n",
       "80      NT    SDy Max         Y   2.7E-05   1.3E-05       2   1.75  0.000081   \n",
       "\n",
       "    Drift < Dmax/2  tor_reg  \n",
       "0            False  Regular  \n",
       "1            False  Regular  \n",
       "2             True  Regular  \n",
       "3             True  Regular  \n",
       "4             True  Regular  \n",
       "..             ...      ...  \n",
       "76            True  Regular  \n",
       "77            True  Regular  \n",
       "78            True  Regular  \n",
       "79            True  Regular  \n",
       "80            True  Regular  \n",
       "\n",
<<<<<<< HEAD
       "[258 rows x 10 columns]"
=======
       "<p>81 rows × 10 columns</p>\n",
       "</div>"
      ],
      "text/plain": [
       "     Story OutputCase Direction Max Drift Avg Drift   Ratio Height    Drifts  \\\n",
       "0   Story8     Sx Max         X     3.536     3.073   1.151   2500  0.003246   \n",
       "1   Story8     Sx Min         X     3.013     2.589   1.163   2500  0.002766   \n",
       "2   Story8     Sy Max         X      0.46     0.107   4.305   2500  0.000422   \n",
       "3   Story8     Sy Max         Y     0.671     0.564    1.19   2500  0.000616   \n",
       "4   Story8     Sy Min         X     0.399     0.078   5.118   2500  0.000366   \n",
       "..     ...        ...       ...       ...       ...     ...    ...       ...   \n",
       "76      NT     Sy Min         Y     0.029     0.001  40.601   1750  0.000038   \n",
       "77      NT    SDx Max         X      0.24      0.12       2   1750  0.000315   \n",
       "78      NT    SDx Max         Y     0.028     0.014       2   1750  0.000037   \n",
       "79      NT    SDy Max         X     0.033     0.016       2   1750  0.000043   \n",
       "80      NT    SDy Max         Y     0.027     0.013       2   1750  0.000035   \n",
       "\n",
       "    Drift < Dmax/2  tor_reg  \n",
       "0             True  Regular  \n",
       "1             True  Regular  \n",
       "2             True  Regular  \n",
       "3             True  Regular  \n",
       "4             True  Regular  \n",
       "..             ...      ...  \n",
       "76            True  Regular  \n",
       "77            True  Regular  \n",
       "78            True  Regular  \n",
       "79            True  Regular  \n",
       "80            True  Regular  \n",
       "\n",
       "[81 rows x 10 columns]"
>>>>>>> 39bde43b1f61f49fa828e74355b5f48dd045beaa
=======
       "[81 rows x 10 columns]"
>>>>>>> dev
      ]
     },
     "metadata": {},
     "output_type": "display_data"
    }
   ],
   "source": [
    "sis.show_table(sismo.torsion_table)"
   ]
  },
  {
   "cell_type": "markdown",
   "metadata": {},
   "source": [
    "## Derivas"
   ]
  },
  {
   "cell_type": "code",
<<<<<<< HEAD
<<<<<<< HEAD
   "execution_count": 44,
=======
   "execution_count": 19,
>>>>>>> 39bde43b1f61f49fa828e74355b5f48dd045beaa
=======
   "execution_count": 27,
>>>>>>> dev
   "metadata": {},
   "outputs": [
    {
     "data": {
      "application/vnd.jupyter.widget-view+json": {
<<<<<<< HEAD
<<<<<<< HEAD
       "model_id": "3a97029c60cd4fcb86eff16926c83bf5",
=======
       "model_id": "6909d00d17e647ac8f0f211ce0b80e89",
>>>>>>> 39bde43b1f61f49fa828e74355b5f48dd045beaa
=======
       "model_id": "6956b408642447d5b429a921b43dedaa",
>>>>>>> dev
       "version_major": 2,
       "version_minor": 0
      },
      "text/plain": [
<<<<<<< HEAD
<<<<<<< HEAD
       "Dropdown(description='Filtro', index=39, options=(nan, 'SDx Max', 'SDy Max', 'Derivas Max', 'Derivas Min', 'R2…"
=======
       "Dropdown(description='Filtro', index=6, options=('Sx Max', 'Sx Min', 'Sy Max', 'Sy Min', 'SDx Max', 'SDy Max',…"
>>>>>>> 39bde43b1f61f49fa828e74355b5f48dd045beaa
=======
       "Dropdown(description='Filtro', index=6, options=('Sx Max', 'Sx Min', 'Sy Max', 'Sy Min', 'SDx Max', 'SDy Max',…"
>>>>>>> dev
      ]
     },
     "metadata": {},
     "output_type": "display_data"
    },
    {
     "data": {
      "text/html": [
       "<div>\n",
       "<style scoped>\n",
       "    .dataframe tbody tr th:only-of-type {\n",
       "        vertical-align: middle;\n",
       "    }\n",
       "\n",
       "    .dataframe tbody tr th {\n",
       "        vertical-align: top;\n",
       "    }\n",
       "\n",
       "    .dataframe thead th {\n",
       "        text-align: right;\n",
       "    }\n",
       "</style>\n",
       "<table border=\"1\" class=\"dataframe\">\n",
       "  <thead>\n",
       "    <tr style=\"text-align: right;\">\n",
       "      <th></th>\n",
       "      <th>Story</th>\n",
       "      <th>OutputCase</th>\n",
       "      <th>Direction</th>\n",
       "      <th>Drifts</th>\n",
       "      <th>Drift_Check</th>\n",
       "    </tr>\n",
       "  </thead>\n",
       "  <tbody>\n",
       "    <tr>\n",
       "      <th>0</th>\n",
<<<<<<< HEAD
<<<<<<< HEAD
       "      <td>Story3</td>\n",
       "      <td>NaN</td>\n",
       "      <td>X</td>\n",
       "      <td>0.006571</td>\n",
=======
       "      <td>Story8</td>\n",
       "      <td>Sx Max</td>\n",
       "      <td>X</td>\n",
       "      <td>0.003246</td>\n",
>>>>>>> 39bde43b1f61f49fa828e74355b5f48dd045beaa
       "      <td>Cumple</td>\n",
       "    </tr>\n",
       "    <tr>\n",
       "      <th>1</th>\n",
<<<<<<< HEAD
       "      <td>Story3</td>\n",
       "      <td>NaN</td>\n",
       "      <td>Y</td>\n",
       "      <td>0.002870</td>\n",
=======
       "      <td>Story8</td>\n",
       "      <td>Sx Min</td>\n",
       "      <td>X</td>\n",
       "      <td>0.002766</td>\n",
>>>>>>> 39bde43b1f61f49fa828e74355b5f48dd045beaa
=======
       "      <td>Story8</td>\n",
       "      <td>Sx Max</td>\n",
       "      <td>X</td>\n",
       "      <td>0.007426</td>\n",
       "      <td>No Cumple</td>\n",
       "    </tr>\n",
       "    <tr>\n",
       "      <th>1</th>\n",
       "      <td>Story8</td>\n",
       "      <td>Sx Min</td>\n",
       "      <td>X</td>\n",
       "      <td>0.006327</td>\n",
>>>>>>> dev
       "      <td>Cumple</td>\n",
       "    </tr>\n",
       "    <tr>\n",
       "      <th>2</th>\n",
<<<<<<< HEAD
<<<<<<< HEAD
       "      <td>Story3</td>\n",
       "      <td>SDx Max</td>\n",
       "      <td>X</td>\n",
       "      <td>0.005874</td>\n",
=======
       "      <td>Story8</td>\n",
       "      <td>Sy Max</td>\n",
       "      <td>X</td>\n",
       "      <td>0.000422</td>\n",
>>>>>>> 39bde43b1f61f49fa828e74355b5f48dd045beaa
=======
       "      <td>Story8</td>\n",
       "      <td>Sy Max</td>\n",
       "      <td>X</td>\n",
       "      <td>0.000966</td>\n",
>>>>>>> dev
       "      <td>Cumple</td>\n",
       "    </tr>\n",
       "    <tr>\n",
       "      <th>3</th>\n",
<<<<<<< HEAD
<<<<<<< HEAD
       "      <td>Story3</td>\n",
       "      <td>SDx Max</td>\n",
       "      <td>Y</td>\n",
       "      <td>0.000938</td>\n",
=======
       "      <td>Story8</td>\n",
       "      <td>Sy Max</td>\n",
       "      <td>Y</td>\n",
       "      <td>0.000616</td>\n",
>>>>>>> 39bde43b1f61f49fa828e74355b5f48dd045beaa
=======
       "      <td>Story8</td>\n",
       "      <td>Sy Max</td>\n",
       "      <td>Y</td>\n",
       "      <td>0.001409</td>\n",
>>>>>>> dev
       "      <td>Cumple</td>\n",
       "    </tr>\n",
       "    <tr>\n",
       "      <th>4</th>\n",
<<<<<<< HEAD
<<<<<<< HEAD
       "      <td>Story3</td>\n",
       "      <td>SDy Max</td>\n",
       "      <td>X</td>\n",
       "      <td>0.001789</td>\n",
=======
       "      <td>Story8</td>\n",
       "      <td>Sy Min</td>\n",
       "      <td>X</td>\n",
       "      <td>0.000366</td>\n",
>>>>>>> 39bde43b1f61f49fa828e74355b5f48dd045beaa
=======
       "      <td>Story8</td>\n",
       "      <td>Sy Min</td>\n",
       "      <td>X</td>\n",
       "      <td>0.000838</td>\n",
>>>>>>> dev
       "      <td>Cumple</td>\n",
       "    </tr>\n",
       "    <tr>\n",
       "      <th>...</th>\n",
       "      <td>...</td>\n",
       "      <td>...</td>\n",
       "      <td>...</td>\n",
       "      <td>...</td>\n",
       "      <td>...</td>\n",
       "    </tr>\n",
       "    <tr>\n",
<<<<<<< HEAD
<<<<<<< HEAD
       "      <th>253</th>\n",
       "      <td>Story1</td>\n",
       "      <td>R19 Min</td>\n",
=======
       "      <th>76</th>\n",
       "      <td>NT</td>\n",
       "      <td>Sy Min</td>\n",
>>>>>>> dev
       "      <td>Y</td>\n",
       "      <td>0.000087</td>\n",
       "      <td>Cumple</td>\n",
       "    </tr>\n",
       "    <tr>\n",
       "      <th>77</th>\n",
       "      <td>NT</td>\n",
       "      <td>SDx Max</td>\n",
       "      <td>X</td>\n",
       "      <td>0.000720</td>\n",
       "      <td>Cumple</td>\n",
       "    </tr>\n",
       "    <tr>\n",
       "      <th>78</th>\n",
       "      <td>NT</td>\n",
       "      <td>SDx Max</td>\n",
       "      <td>Y</td>\n",
       "      <td>0.000084</td>\n",
       "      <td>Cumple</td>\n",
       "    </tr>\n",
       "    <tr>\n",
       "      <th>79</th>\n",
       "      <td>NT</td>\n",
       "      <td>SDy Max</td>\n",
       "      <td>X</td>\n",
       "      <td>0.000099</td>\n",
       "      <td>Cumple</td>\n",
       "    </tr>\n",
       "    <tr>\n",
       "      <th>80</th>\n",
       "      <td>NT</td>\n",
       "      <td>SDy Max</td>\n",
       "      <td>Y</td>\n",
<<<<<<< HEAD
       "      <td>0.002483</td>\n",
=======
       "      <th>76</th>\n",
       "      <td>NT</td>\n",
       "      <td>Sy Min</td>\n",
       "      <td>Y</td>\n",
       "      <td>0.000038</td>\n",
       "      <td>Cumple</td>\n",
       "    </tr>\n",
       "    <tr>\n",
       "      <th>77</th>\n",
       "      <td>NT</td>\n",
       "      <td>SDx Max</td>\n",
       "      <td>X</td>\n",
       "      <td>0.000315</td>\n",
       "      <td>Cumple</td>\n",
       "    </tr>\n",
       "    <tr>\n",
       "      <th>78</th>\n",
       "      <td>NT</td>\n",
       "      <td>SDx Max</td>\n",
       "      <td>Y</td>\n",
       "      <td>0.000037</td>\n",
       "      <td>Cumple</td>\n",
       "    </tr>\n",
       "    <tr>\n",
       "      <th>79</th>\n",
       "      <td>NT</td>\n",
       "      <td>SDy Max</td>\n",
       "      <td>X</td>\n",
       "      <td>0.000043</td>\n",
       "      <td>Cumple</td>\n",
       "    </tr>\n",
       "    <tr>\n",
       "      <th>80</th>\n",
       "      <td>NT</td>\n",
       "      <td>SDy Max</td>\n",
       "      <td>Y</td>\n",
       "      <td>0.000035</td>\n",
>>>>>>> 39bde43b1f61f49fa828e74355b5f48dd045beaa
=======
       "      <td>0.000081</td>\n",
>>>>>>> dev
       "      <td>Cumple</td>\n",
       "    </tr>\n",
       "  </tbody>\n",
       "</table>\n",
<<<<<<< HEAD
<<<<<<< HEAD
       "<p>258 rows × 5 columns</p>\n",
=======
       "<p>81 rows × 5 columns</p>\n",
>>>>>>> dev
       "</div>"
      ],
      "text/plain": [
       "     Story OutputCase Direction    Drifts Drift_Check\n",
       "0   Story8     Sx Max         X  0.007426   No Cumple\n",
       "1   Story8     Sx Min         X  0.006327      Cumple\n",
       "2   Story8     Sy Max         X  0.000966      Cumple\n",
       "3   Story8     Sy Max         Y  0.001409      Cumple\n",
       "4   Story8     Sy Min         X  0.000838      Cumple\n",
       "..     ...        ...       ...       ...         ...\n",
       "76      NT     Sy Min         Y  0.000087      Cumple\n",
       "77      NT    SDx Max         X  0.000720      Cumple\n",
       "78      NT    SDx Max         Y  0.000084      Cumple\n",
       "79      NT    SDy Max         X  0.000099      Cumple\n",
       "80      NT    SDy Max         Y  0.000081      Cumple\n",
       "\n",
<<<<<<< HEAD
       "[258 rows x 5 columns]"
=======
       "<p>81 rows × 5 columns</p>\n",
       "</div>"
      ],
      "text/plain": [
       "     Story OutputCase Direction    Drifts Drift_Check\n",
       "0   Story8     Sx Max         X  0.003246      Cumple\n",
       "1   Story8     Sx Min         X  0.002766      Cumple\n",
       "2   Story8     Sy Max         X  0.000422      Cumple\n",
       "3   Story8     Sy Max         Y  0.000616      Cumple\n",
       "4   Story8     Sy Min         X  0.000366      Cumple\n",
       "..     ...        ...       ...       ...         ...\n",
       "76      NT     Sy Min         Y  0.000038      Cumple\n",
       "77      NT    SDx Max         X  0.000315      Cumple\n",
       "78      NT    SDx Max         Y  0.000037      Cumple\n",
       "79      NT    SDy Max         X  0.000043      Cumple\n",
       "80      NT    SDy Max         Y  0.000035      Cumple\n",
       "\n",
       "[81 rows x 5 columns]"
>>>>>>> 39bde43b1f61f49fa828e74355b5f48dd045beaa
=======
       "[81 rows x 5 columns]"
>>>>>>> dev
      ]
     },
     "metadata": {},
     "output_type": "display_data"
    }
   ],
   "source": [
    "sis.show_table(sismo.drift_table)"
   ]
  },
  {
   "cell_type": "markdown",
   "metadata": {},
   "source": [
    "# Fuerza Cortante Mínima"
   ]
  },
  {
   "cell_type": "code",
<<<<<<< HEAD
<<<<<<< HEAD
   "execution_count": 45,
=======
   "execution_count": 20,
>>>>>>> 39bde43b1f61f49fa828e74355b5f48dd045beaa
=======
   "execution_count": 28,
>>>>>>> dev
   "metadata": {},
   "outputs": [
    {
     "data": {
      "text/html": [
       "<style type=\"text/css\">\n",
       "</style>\n",
<<<<<<< HEAD
<<<<<<< HEAD
       "<table id=\"T_acfc3\">\n",
=======
       "<table id=\"T_60f20\">\n",
>>>>>>> 39bde43b1f61f49fa828e74355b5f48dd045beaa
=======
       "<table id=\"T_26c28\">\n",
>>>>>>> dev
       "  <thead>\n",
       "  </thead>\n",
       "  <tbody>\n",
       "    <tr>\n",
<<<<<<< HEAD
<<<<<<< HEAD
       "      <td id=\"T_acfc3_row0_col0\" class=\"data row0 col0\" ></td>\n",
       "      <td id=\"T_acfc3_row0_col1\" class=\"data row0 col1\" >X</td>\n",
       "      <td id=\"T_acfc3_row0_col2\" class=\"data row0 col2\" >Y</td>\n",
=======
       "      <td id=\"T_26c28_row0_col0\" class=\"data row0 col0\" ></td>\n",
       "      <td id=\"T_26c28_row0_col1\" class=\"data row0 col1\" >X</td>\n",
       "      <td id=\"T_26c28_row0_col2\" class=\"data row0 col2\" >Y</td>\n",
>>>>>>> dev
       "    </tr>\n",
       "    <tr>\n",
       "      <td id=\"T_26c28_row1_col0\" class=\"data row1 col0\" >V din (Ton)</td>\n",
       "      <td id=\"T_26c28_row1_col1\" class=\"data row1 col1\" >50.889600</td>\n",
       "      <td id=\"T_26c28_row1_col2\" class=\"data row1 col2\" >65.187100</td>\n",
       "    </tr>\n",
       "    <tr>\n",
       "      <td id=\"T_26c28_row2_col0\" class=\"data row2 col0\" >V est (Ton)</td>\n",
       "      <td id=\"T_26c28_row2_col1\" class=\"data row2 col1\" >-61.300700</td>\n",
       "      <td id=\"T_26c28_row2_col2\" class=\"data row2 col2\" >-73.041000</td>\n",
       "    </tr>\n",
       "    <tr>\n",
       "      <td id=\"T_26c28_row3_col0\" class=\"data row3 col0\" >% min</td>\n",
       "      <td id=\"T_26c28_row3_col1\" class=\"data row3 col1\" >80</td>\n",
       "      <td id=\"T_26c28_row3_col2\" class=\"data row3 col2\" >80</td>\n",
       "    </tr>\n",
       "    <tr>\n",
       "      <td id=\"T_26c28_row4_col0\" class=\"data row4 col0\" >%</td>\n",
       "      <td id=\"T_26c28_row4_col1\" class=\"data row4 col1\" >83.020000</td>\n",
       "      <td id=\"T_26c28_row4_col2\" class=\"data row4 col2\" >89.250000</td>\n",
       "    </tr>\n",
       "    <tr>\n",
<<<<<<< HEAD
       "      <td id=\"T_acfc3_row5_col0\" class=\"data row5 col0\" >F.E.</td>\n",
       "      <td id=\"T_acfc3_row5_col1\" class=\"data row5 col1\" >1</td>\n",
       "      <td id=\"T_acfc3_row5_col2\" class=\"data row5 col2\" >1</td>\n",
=======
       "      <td id=\"T_60f20_row0_col0\" class=\"data row0 col0\" ></td>\n",
       "      <td id=\"T_60f20_row0_col1\" class=\"data row0 col1\" >X</td>\n",
       "      <td id=\"T_60f20_row0_col2\" class=\"data row0 col2\" >Y</td>\n",
       "    </tr>\n",
       "    <tr>\n",
       "      <td id=\"T_60f20_row1_col0\" class=\"data row1 col0\" >V din (Ton)</td>\n",
       "      <td id=\"T_60f20_row1_col1\" class=\"data row1 col1\" >50.889600</td>\n",
       "      <td id=\"T_60f20_row1_col2\" class=\"data row1 col2\" >65.187100</td>\n",
       "    </tr>\n",
       "    <tr>\n",
       "      <td id=\"T_60f20_row2_col0\" class=\"data row2 col0\" >V est (Ton)</td>\n",
       "      <td id=\"T_60f20_row2_col1\" class=\"data row2 col1\" >-61.300700</td>\n",
       "      <td id=\"T_60f20_row2_col2\" class=\"data row2 col2\" >-73.041000</td>\n",
       "    </tr>\n",
       "    <tr>\n",
       "      <td id=\"T_60f20_row3_col0\" class=\"data row3 col0\" >% min</td>\n",
       "      <td id=\"T_60f20_row3_col1\" class=\"data row3 col1\" >90</td>\n",
       "      <td id=\"T_60f20_row3_col2\" class=\"data row3 col2\" >90</td>\n",
       "    </tr>\n",
       "    <tr>\n",
       "      <td id=\"T_60f20_row4_col0\" class=\"data row4 col0\" >%</td>\n",
       "      <td id=\"T_60f20_row4_col1\" class=\"data row4 col1\" >83.020000</td>\n",
       "      <td id=\"T_60f20_row4_col2\" class=\"data row4 col2\" >89.250000</td>\n",
       "    </tr>\n",
       "    <tr>\n",
       "      <td id=\"T_60f20_row5_col0\" class=\"data row5 col0\" >F.E.</td>\n",
       "      <td id=\"T_60f20_row5_col1\" class=\"data row5 col1\" >1.080000</td>\n",
       "      <td id=\"T_60f20_row5_col2\" class=\"data row5 col2\" >1.010000</td>\n",
>>>>>>> 39bde43b1f61f49fa828e74355b5f48dd045beaa
=======
       "      <td id=\"T_26c28_row5_col0\" class=\"data row5 col0\" >F.E.</td>\n",
       "      <td id=\"T_26c28_row5_col1\" class=\"data row5 col1\" >1</td>\n",
       "      <td id=\"T_26c28_row5_col2\" class=\"data row5 col2\" >1</td>\n",
>>>>>>> dev
       "    </tr>\n",
       "  </tbody>\n",
       "</table>\n"
      ],
      "text/plain": [
<<<<<<< HEAD
<<<<<<< HEAD
       "<pandas.io.formats.style.Styler at 0x25a719d4280>"
      ]
     },
     "execution_count": 45,
=======
       "<pandas.io.formats.style.Styler at 0x23ae48c7160>"
      ]
     },
     "execution_count": 20,
>>>>>>> 39bde43b1f61f49fa828e74355b5f48dd045beaa
=======
       "<pandas.io.formats.style.Styler at 0x2025a68d9a0>"
      ]
     },
     "execution_count": 28,
>>>>>>> dev
     "metadata": {},
     "output_type": "execute_result"
    }
   ],
   "source": [
    "sismo.shear_table.style.hide(axis='index').hide(axis='columns')"
   ]
  }
 ],
 "metadata": {
  "kernelspec": {
   "display_name": "structures",
   "language": "python",
   "name": "python3"
  },
  "language_info": {
   "codemirror_mode": {
    "name": "ipython",
    "version": 3
   },
   "file_extension": ".py",
   "mimetype": "text/x-python",
   "name": "python",
   "nbconvert_exporter": "python",
   "pygments_lexer": "ipython3",
   "version": "3.9.16"
  },
  "toc-showmarkdowntxt": true,
  "vscode": {
   "interpreter": {
    "hash": "bac46d45b902eb1257731b3cec425c94a9ada4fac09ba91d7557c516a1f31c36"
   }
  }
 },
 "nbformat": 4,
 "nbformat_minor": 4
}
<<<<<<< HEAD
=======
=======
{
 "cells": [
  {
   "cell_type": "markdown",
   "metadata": {},
   "source": [
    "# Análisis Sísmico"
   ]
  },
  {
   "cell_type": "code",
   "execution_count": 6,
   "metadata": {},
   "outputs": [
    {
     "name": "stdout",
     "output_type": "stream",
     "text": [
      "The autoreload extension is already loaded. To reload it, use:\n",
      "  %reload_ext autoreload\n"
     ]
    }
   ],
   "source": [
    "#Importar las librerías necesarias\n",
    "%load_ext autoreload\n",
    "%autoreload 2\n",
    "import os\n",
    "import sys\n",
    "sys.path.append(os.getcwd()+'\\\\..')\n",
    "from lib import etabs_utils as etb\n",
    "from lib import sismo_utils as sis\n",
    "#from mem import sismo_mem as smem\n",
    "from ipywidgets import widgets\n",
    "from IPython.display import display"
   ]
  },
  {
   "cell_type": "code",
   "execution_count": 11,
   "metadata": {},
   "outputs": [],
   "source": [
    "_,SapModel = etb.connect_to_etabs()"
   ]
  },
  {
   "cell_type": "code",
   "execution_count": 16,
   "metadata": {},
   "outputs": [
    {
     "data": {
      "text/plain": [
       "(('Case',\n",
       "  'Mode',\n",
       "  'Period',\n",
       "  'UX',\n",
       "  'UY',\n",
       "  'UZ',\n",
       "  'SumUX',\n",
       "  'SumUY',\n",
       "  'SumUZ',\n",
       "  'RX',\n",
       "  'RY',\n",
       "  'RZ',\n",
       "  'SumRX',\n",
       "  'SumRY',\n",
       "  'SumRZ'),\n",
       "      Case Mode Period         UX         UY UZ   SumUX   SumUY SumUZ  \\\n",
       " 0   Modal    1  0.644     0.6906      0.001  0  0.6906   0.001     0   \n",
       " 1   Modal    2  0.451     0.0156     0.0172  0  0.7062  0.0182     0   \n",
       " 2   Modal    3  0.218     0.0003     0.6536  0  0.7065  0.6719     0   \n",
       " 3   Modal    4  0.176     0.1312     0.0006  0  0.8377  0.6725     0   \n",
       " 4   Modal    5   0.13     0.0012     0.0012  0  0.8388  0.6737     0   \n",
       " 5   Modal    6  0.122     0.0022     0.0013  0   0.841   0.675     0   \n",
       " 6   Modal    7    0.1     0.0004     0.0029  0  0.8414  0.6779     0   \n",
       " 7   Modal    8  0.087     0.0195     0.0001  0  0.8609   0.678     0   \n",
       " 8   Modal    9  0.076     0.0336  6.606E-06  0  0.8945   0.678     0   \n",
       " 9   Modal   10  0.064     0.0008  2.184E-05  0  0.8953   0.678     0   \n",
       " 10  Modal   11  0.054     0.0003     0.0005  0  0.8957  0.6785     0   \n",
       " 11  Modal   12   0.05      0.001     0.0561  0  0.8967  0.7346     0   \n",
       " 12  Modal   13   0.05     0.0012      0.123  0  0.8978  0.8576     0   \n",
       " 13  Modal   14  0.049     0.0075     0.0001  0  0.9053  0.8578     0   \n",
       " 14  Modal   15  0.046     0.0187  3.659E-05  0  0.9241  0.8578     0   \n",
       " 15  Modal   16  0.042   9.23E-06  6.875E-07  0  0.9241  0.8578     0   \n",
       " 16  Modal   17  0.037  4.527E-05  1.239E-06  0  0.9241  0.8578     0   \n",
       " 17  Modal   18  0.035     0.0005     0.0001  0  0.9246  0.8579     0   \n",
       " 18  Modal   19  0.034     0.0007  4.201E-05  0  0.9253   0.858     0   \n",
       " 19  Modal   20  0.033     0.0059     0.0002  0  0.9312  0.8581     0   \n",
       " 20  Modal   21  0.032     0.0036  7.295E-07  0  0.9348  0.8581     0   \n",
       " 21  Modal   22  0.031     0.0062     0.0001  0   0.941  0.8582     0   \n",
       " 22  Modal   23  0.026     0.0039  1.899E-05  0  0.9449  0.8582     0   \n",
       " 23  Modal   24  0.024     0.0063  4.295E-05  0  0.9513  0.8583     0   \n",
       " \n",
       "            RX         RY         RZ   SumRX   SumRY   SumRZ  \n",
       " 0      0.0006     0.4011     0.0111  0.0006  0.4011  0.0111  \n",
       " 1       0.011     0.0096     0.6635  0.0116  0.4107  0.6746  \n",
       " 2      0.4338  7.584E-06      0.018  0.4455  0.4107  0.6926  \n",
       " 3      0.0001     0.2725     0.0022  0.4456  0.6832  0.6948  \n",
       " 4   1.543E-05     0.0023     0.0169  0.4456  0.6855  0.7117  \n",
       " 5      0.0031     0.0037        0.1  0.4487  0.6892  0.8116  \n",
       " 6      0.0037     0.0008     0.0299  0.4524    0.69  0.8415  \n",
       " 7      0.0001     0.0265     0.0068  0.4525  0.7164  0.8483  \n",
       " 8     5.2E-06     0.0491  3.177E-05  0.4525  0.7655  0.8483  \n",
       " 9   3.131E-05     0.0021     0.0019  0.4525  0.7676  0.8502  \n",
       " 10     0.0005     0.0007     0.0488   0.453  0.7683   0.899  \n",
       " 11     0.0781      0.002     0.0011  0.5311  0.7703  0.9001  \n",
       " 12     0.1722     0.0022     0.0006  0.7033  0.7725  0.9007  \n",
       " 13     0.0002     0.0173     0.0004  0.7035  0.7898  0.9011  \n",
       " 14  4.677E-05     0.0376     0.0018  0.7035  0.8275  0.9029  \n",
       " 15  9.154E-07  7.998E-06     0.0002  0.7035  0.8275  0.9031  \n",
       " 16  2.482E-06     0.0001     0.0004  0.7035  0.8275  0.9035  \n",
       " 17     0.0002      0.001     0.0204  0.7038  0.8286  0.9239  \n",
       " 18     0.0001     0.0014      0.002  0.7039    0.83  0.9259  \n",
       " 19     0.0004     0.0122     0.0007  0.7042  0.8422  0.9266  \n",
       " 20          0     0.0072  2.517E-05  0.7042  0.8494  0.9266  \n",
       " 21     0.0001     0.0121     0.0022  0.7043  0.8616  0.9288  \n",
       " 22  4.789E-05     0.0087     0.0082  0.7044  0.8702  0.9369  \n",
       " 23     0.0001      0.014     0.0001  0.7045  0.8842  0.9371  )"
      ]
     },
     "execution_count": 16,
     "metadata": {},
     "output_type": "execute_result"
    }
   ],
   "source": [
    "etb.get_table(SapModel,'Modal Participating Mass Ratios')"
   ]
  },
  {
   "cell_type": "code",
   "execution_count": null,
   "metadata": {},
   "outputs": [],
   "source": [
    "SapModel.Analyze.RunAnalysis();\n",
    "sismo = sis.sismo_e30()"
   ]
  },
  {
   "cell_type": "markdown",
   "metadata": {},
   "source": [
    "# Parámetros de Sitio\n",
    "\n",
    "## Zonificación\n",
    "![Factor de Zonifiación](./factor_zona.png)"
   ]
  },
  {
   "cell_type": "markdown",
   "metadata": {},
   "source": [
    "## Factor de Suelo\n",
    "![Factor de Suelo](./factor_suelo.png)\n"
   ]
  },
  {
   "cell_type": "markdown",
   "metadata": {},
   "source": [
    "## Periodos del suelo\n",
    "![Periodos del Suelo](./periodos_suelo.png)"
   ]
  },
  {
   "cell_type": "markdown",
   "metadata": {},
   "source": [
    "## Sistema Estructural\n",
    "![Sistema Estructural](./sistemas_estructurales.png)"
   ]
  },
  {
   "cell_type": "markdown",
   "metadata": {},
   "source": [
    "## Factor de Amplificación sísmica\n",
    "![Factor de Amplificacion Sísmica](./amplificacion_sismica.png)"
   ]
  },
  {
   "cell_type": "markdown",
   "metadata": {},
   "source": [
    "## Factor de Importancia\n",
    "![Factor de Importancia](./factor_importancia.png)"
   ]
  },
  {
   "cell_type": "code",
   "execution_count": null,
   "metadata": {},
   "outputs": [],
   "source": [
    "sismo.parametros_e30()"
   ]
  },
  {
   "cell_type": "markdown",
   "metadata": {},
   "source": [
    "# Irregularidades"
   ]
  },
  {
   "cell_type": "code",
   "execution_count": null,
   "metadata": {},
   "outputs": [],
   "source": [
    "sismo.irregularidades_e30()"
   ]
  },
  {
   "cell_type": "markdown",
   "metadata": {},
   "source": [
    "# Parámetros Sísmicos"
   ]
  },
  {
   "cell_type": "code",
   "execution_count": null,
   "metadata": {},
   "outputs": [],
   "source": [
    "sismo.show_params()"
   ]
  },
  {
   "cell_type": "code",
   "execution_count": null,
   "metadata": {},
   "outputs": [],
   "source": [
    "sismo.analisis_sismo(SapModel)"
   ]
  },
  {
   "cell_type": "markdown",
   "metadata": {},
   "source": [
    "## Revisión por Piso Blando"
   ]
  },
  {
   "cell_type": "code",
   "execution_count": null,
   "metadata": {},
   "outputs": [],
   "source": [
    "sis.show_table(sismo.piso_blando_table)"
   ]
  },
  {
   "cell_type": "markdown",
   "metadata": {},
   "source": [
    "## Revisión por Irregularidad de Masa"
   ]
  },
  {
   "cell_type": "code",
   "execution_count": null,
   "metadata": {},
   "outputs": [],
   "source": [
    "sismo.rev_masa_table"
   ]
  },
  {
   "cell_type": "markdown",
   "metadata": {},
   "source": [
    "## Revisión de torsión"
   ]
  },
  {
   "cell_type": "code",
   "execution_count": null,
   "metadata": {},
   "outputs": [],
   "source": [
    "sis.show_table(sismo.torsion_table)"
   ]
  },
  {
   "cell_type": "markdown",
   "metadata": {},
   "source": [
    "## Derivas"
   ]
  },
  {
   "cell_type": "code",
   "execution_count": null,
   "metadata": {},
   "outputs": [],
   "source": [
    "sis.show_table(sismo.drift_table)"
   ]
  },
  {
   "cell_type": "markdown",
   "metadata": {},
   "source": [
    "# Fuerza Cortante Mínima"
   ]
  },
  {
   "cell_type": "code",
   "execution_count": null,
   "metadata": {},
   "outputs": [],
   "source": [
    "sismo.shear_table.style.hide(axis='index').hide(axis='columns')"
   ]
  },
  {
   "cell_type": "code",
   "execution_count": null,
   "metadata": {},
   "outputs": [],
   "source": [
    "from mem import sismo_mem as smem\n",
    "zona = 2\n",
    "suelo = 'S2'\n",
    "categoria = sismo.data['Factor de Importancia']\n",
    "\n",
    "ins = r'''Esto mostrará una lista de los commits en el repositorio, comenzando con el commit más reciente.\n",
    "Cada commit estará identificado por una cadena de caracteres larga y hexadecimal que aparece en la\n",
    "línea que comien\n",
    "'''\n",
    "\n",
    "section = smem.Section('Análsis Sísmico')\n",
    "smem.factor_zona(section,zona,o_type=smem.Subsection,insert=ins)\n",
    "geometry_options = { \"left\": \"2.5cm\", \"top\": \"1.5cm\" }\n",
    "section.append('Esto mostrará una lista de los commits en el repositorio, comenzando con el commit más reciente. Cada commit estará identificado por una cadena de caracteres larga y hexadecimal que aparece en la línea que comienz')\n",
    "doc = smem.Document(geometry_options=geometry_options)\n",
    "doc.packages.append(smem.Package('xcolor', options=['dvipsnames']))\n",
    "doc.append(section)\n",
    "doc.generate_pdf('Memoria')"
   ]
  },
  {
   "cell_type": "code",
   "execution_count": null,
   "metadata": {},
   "outputs": [],
   "source": [
    "doc.generate_tex('Memoria')"
   ]
  },
  {
   "cell_type": "code",
   "execution_count": null,
   "metadata": {},
   "outputs": [],
   "source": [
    "zona = 3\n",
    "suelo = 'S0'\n",
    "section = smem.Section('Análsis Sísmico')\n",
    "subsection = smem.Subsection('Parámetros de Sitio')\n",
    "smem.factor_zona(subsection,zona,insert=ins)\n",
    "smem.factor_suelo(subsection,zona,suelo)\n",
    "geometry_options = { \"left\": \"2.5cm\", \"top\": \"1.5cm\" }\n",
    "section.append('Esto mostrará una lista de los commits en el repositorio, comenzando con el commit más reciente. Cada commit estará identificado por una cadena de caracteres larga y hexadecimal que aparece en la línea que comienz')\n",
    "doc = smem.Document(geometry_options=geometry_options)\n",
    "doc.packages.append(smem.Package('xcolor', options=['dvipsnames']))\n",
    "section.append(subsection)\n",
    "doc.append(section)\n",
    "tabla = sismo.torsion_table\n",
    "sis_x = tabla[tabla['OutputCase']=='SDx Max']\n",
    "sis_y = tabla[tabla['OutputCase']=='SDy Max']\n",
    "sis_y = sis_y[sis_y['Direction']=='Y']\n",
    "section2 = smem.Section('Irregularidades')\n",
    "smem.irreg_torsion(section2,sis_x,sis_y)\n",
    "doc.append(section2)\n",
    "doc.generate_pdf('Memoria')"
   ]
  },
  {
   "cell_type": "code",
   "execution_count": null,
   "metadata": {},
   "outputs": [],
   "source": [
    "tabla = sismo.torsion_table"
   ]
  },
  {
   "cell_type": "code",
   "execution_count": null,
   "metadata": {},
   "outputs": [],
   "source": [
    "tabla"
   ]
  }
 ],
 "metadata": {
  "kernelspec": {
   "display_name": "Python 3 (ipykernel)",
   "language": "python",
   "name": "python3"
  },
  "language_info": {
   "codemirror_mode": {
    "name": "ipython",
    "version": 3
   },
   "file_extension": ".py",
   "mimetype": "text/x-python",
   "name": "python",
   "nbconvert_exporter": "python",
   "pygments_lexer": "ipython3",
   "version": "3.9.16"
  },
  "toc-showmarkdowntxt": true,
  "vscode": {
   "interpreter": {
    "hash": "5791b4287b5ec7fadd801eb3f0a157326fdd5e3bd9c95da2aac047fef93499ff"
   }
  }
 },
 "nbformat": 4,
 "nbformat_minor": 4
}

>>>>>>> 39bde43b1f61f49fa828e74355b5f48dd045beaa
