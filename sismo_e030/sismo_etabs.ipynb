{
 "cells": [
  {
   "cell_type": "markdown",
   "metadata": {},
   "source": [
    "# Análisis Sísmico"
   ]
  },
  {
   "cell_type": "code",
   "execution_count": 6,
   "metadata": {},
   "outputs": [
    {
     "name": "stdout",
     "output_type": "stream",
     "text": [
      "The autoreload extension is already loaded. To reload it, use:\n",
      "  %reload_ext autoreload\n"
     ]
    }
   ],
   "source": [
    "#Importar las librerías necesarias\n",
    "%load_ext autoreload\n",
    "%autoreload 2\n",
    "import os\n",
    "import sys\n",
    "sys.path.append(os.getcwd()+'\\\\..')\n",
    "from lib import etabs_utils as etb\n",
    "from lib import sismo_utils as sis\n",
    "#from mem import sismo_mem as smem\n",
    "from ipywidgets import widgets\n",
    "from IPython.display import display"
   ]
  },
  {
   "cell_type": "code",
   "execution_count": 11,
   "metadata": {},
   "outputs": [],
   "source": [
    "_,SapModel = etb.connect_to_etabs()"
   ]
  },
  {
   "cell_type": "code",
   "execution_count": 12,
   "metadata": {},
   "outputs": [
    {
     "data": {
      "text/plain": [
       "(('Case',\n",
       "  'Mode',\n",
       "  'Period',\n",
       "  'UX',\n",
       "  'UY',\n",
       "  'UZ',\n",
       "  'SumUX',\n",
       "  'SumUY',\n",
       "  'SumUZ',\n",
       "  'RX',\n",
       "  'RY',\n",
       "  'RZ',\n",
       "  'SumRX',\n",
       "  'SumRY',\n",
       "  'SumRZ'),\n",
       "      Case Mode Period         UX         UY UZ   SumUX   SumUY SumUZ  \\\n",
       " 0   Modal    1  0.644     0.6906      0.001  0  0.6906   0.001     0   \n",
       " 1   Modal    2  0.451     0.0156     0.0172  0  0.7062  0.0182     0   \n",
       " 2   Modal    3  0.218     0.0003     0.6536  0  0.7065  0.6719     0   \n",
       " 3   Modal    4  0.176     0.1312     0.0006  0  0.8377  0.6725     0   \n",
       " 4   Modal    5   0.13     0.0012     0.0012  0  0.8388  0.6737     0   \n",
       " 5   Modal    6  0.122     0.0022     0.0013  0   0.841   0.675     0   \n",
       " 6   Modal    7    0.1     0.0004     0.0029  0  0.8414  0.6779     0   \n",
       " 7   Modal    8  0.087     0.0195     0.0001  0  0.8609   0.678     0   \n",
       " 8   Modal    9  0.076     0.0336  6.606E-06  0  0.8945   0.678     0   \n",
       " 9   Modal   10  0.064     0.0008  2.184E-05  0  0.8953   0.678     0   \n",
       " 10  Modal   11  0.054     0.0003     0.0005  0  0.8957  0.6785     0   \n",
       " 11  Modal   12   0.05      0.001     0.0561  0  0.8967  0.7346     0   \n",
       " 12  Modal   13   0.05     0.0012      0.123  0  0.8978  0.8576     0   \n",
       " 13  Modal   14  0.049     0.0075     0.0001  0  0.9053  0.8578     0   \n",
       " 14  Modal   15  0.046     0.0187  3.659E-05  0  0.9241  0.8578     0   \n",
       " 15  Modal   16  0.042   9.23E-06  6.875E-07  0  0.9241  0.8578     0   \n",
       " 16  Modal   17  0.037  4.527E-05  1.239E-06  0  0.9241  0.8578     0   \n",
       " 17  Modal   18  0.035     0.0005     0.0001  0  0.9246  0.8579     0   \n",
       " 18  Modal   19  0.034     0.0007  4.201E-05  0  0.9253   0.858     0   \n",
       " 19  Modal   20  0.033     0.0059     0.0002  0  0.9312  0.8581     0   \n",
       " 20  Modal   21  0.032     0.0036  7.295E-07  0  0.9348  0.8581     0   \n",
       " 21  Modal   22  0.031     0.0062     0.0001  0   0.941  0.8582     0   \n",
       " 22  Modal   23  0.026     0.0039  1.899E-05  0  0.9449  0.8582     0   \n",
       " 23  Modal   24  0.024     0.0063  4.295E-05  0  0.9513  0.8583     0   \n",
       " \n",
       "            RX         RY         RZ   SumRX   SumRY   SumRZ  \n",
       " 0      0.0006     0.4011     0.0111  0.0006  0.4011  0.0111  \n",
       " 1       0.011     0.0096     0.6635  0.0116  0.4107  0.6746  \n",
       " 2      0.4338  7.584E-06      0.018  0.4455  0.4107  0.6926  \n",
       " 3      0.0001     0.2725     0.0022  0.4456  0.6832  0.6948  \n",
       " 4   1.543E-05     0.0023     0.0169  0.4456  0.6855  0.7117  \n",
       " 5      0.0031     0.0037        0.1  0.4487  0.6892  0.8116  \n",
       " 6      0.0037     0.0008     0.0299  0.4524    0.69  0.8415  \n",
       " 7      0.0001     0.0265     0.0068  0.4525  0.7164  0.8483  \n",
       " 8     5.2E-06     0.0491  3.177E-05  0.4525  0.7655  0.8483  \n",
       " 9   3.131E-05     0.0021     0.0019  0.4525  0.7676  0.8502  \n",
       " 10     0.0005     0.0007     0.0488   0.453  0.7683   0.899  \n",
       " 11     0.0781      0.002     0.0011  0.5311  0.7703  0.9001  \n",
       " 12     0.1722     0.0022     0.0006  0.7033  0.7725  0.9007  \n",
       " 13     0.0002     0.0173     0.0004  0.7035  0.7898  0.9011  \n",
       " 14  4.677E-05     0.0376     0.0018  0.7035  0.8275  0.9029  \n",
       " 15  9.154E-07  7.998E-06     0.0002  0.7035  0.8275  0.9031  \n",
       " 16  2.482E-06     0.0001     0.0004  0.7035  0.8275  0.9035  \n",
       " 17     0.0002      0.001     0.0204  0.7038  0.8286  0.9239  \n",
       " 18     0.0001     0.0014      0.002  0.7039    0.83  0.9259  \n",
       " 19     0.0004     0.0122     0.0007  0.7042  0.8422  0.9266  \n",
       " 20          0     0.0072  2.517E-05  0.7042  0.8494  0.9266  \n",
       " 21     0.0001     0.0121     0.0022  0.7043  0.8616  0.9288  \n",
       " 22  4.789E-05     0.0087     0.0082  0.7044  0.8702  0.9369  \n",
       " 23     0.0001      0.014     0.0001  0.7045  0.8842  0.9371  )"
      ]
     },
     "execution_count": 12,
     "metadata": {},
     "output_type": "execute_result"
    }
   ],
   "source": [
    "SapModel.Analyze.RunAnalysis()\n",
    "etb.get_table(SapModel,'Modal Participating Mass Ratios')"
   ]
  },
  {
   "cell_type": "code",
   "execution_count": null,
   "metadata": {},
   "outputs": [],
   "source": [
    "SapModel.Analyze.RunAnalysis();\n",
    "sismo = sis.sismo_e30()"
   ]
  },
  {
   "cell_type": "markdown",
   "metadata": {},
   "source": [
    "# Parámetros de Sitio\n",
    "\n",
    "## Zonificación\n",
    "![Factor de Zonifiación](./factor_zona.png)"
   ]
  },
  {
   "cell_type": "markdown",
   "metadata": {},
   "source": [
    "## Factor de Suelo\n",
    "![Factor de Suelo](./factor_suelo.png)\n"
   ]
  },
  {
   "cell_type": "markdown",
   "metadata": {},
   "source": [
    "## Periodos del suelo\n",
    "![Periodos del Suelo](./periodos_suelo.png)"
   ]
  },
  {
   "cell_type": "markdown",
   "metadata": {},
   "source": [
    "## Sistema Estructural\n",
    "![Sistema Estructural](./sistemas_estructurales.png)"
   ]
  },
  {
   "cell_type": "markdown",
   "metadata": {},
   "source": [
    "## Factor de Amplificación sísmica\n",
    "![Factor de Amplificacion Sísmica](./amplificacion_sismica.png)"
   ]
  },
  {
   "cell_type": "markdown",
   "metadata": {},
   "source": [
    "## Factor de Importancia\n",
    "![Factor de Importancia](./factor_importancia.png)"
   ]
  },
  {
   "cell_type": "code",
   "execution_count": null,
   "metadata": {},
   "outputs": [],
   "source": [
    "sismo.parametros_e30()"
   ]
  },
  {
   "cell_type": "markdown",
   "metadata": {},
   "source": [
    "# Irregularidades"
   ]
  },
  {
   "cell_type": "code",
   "execution_count": null,
   "metadata": {},
   "outputs": [],
   "source": [
    "sismo.irregularidades_e30()"
   ]
  },
  {
   "cell_type": "markdown",
   "metadata": {},
   "source": [
    "# Parámetros Sísmicos"
   ]
  },
  {
   "cell_type": "code",
   "execution_count": null,
   "metadata": {},
   "outputs": [],
   "source": [
    "sismo.show_params()"
   ]
  },
  {
   "cell_type": "code",
   "execution_count": null,
   "metadata": {},
   "outputs": [],
   "source": [
    "sismo.analisis_sismo(SapModel)"
   ]
  },
  {
   "cell_type": "markdown",
   "metadata": {},
   "source": [
    "## Revisión por Piso Blando"
   ]
  },
  {
   "cell_type": "code",
   "execution_count": null,
   "metadata": {},
   "outputs": [],
   "source": [
    "sis.show_table(sismo.piso_blando_table)"
   ]
  },
  {
   "cell_type": "markdown",
   "metadata": {},
   "source": [
    "## Revisión por Irregularidad de Masa"
   ]
  },
  {
   "cell_type": "code",
   "execution_count": null,
   "metadata": {},
   "outputs": [],
   "source": [
    "sismo.rev_masa_table"
   ]
  },
  {
   "cell_type": "markdown",
   "metadata": {},
   "source": [
    "## Revisión de torsión"
   ]
  },
  {
   "cell_type": "code",
   "execution_count": null,
   "metadata": {},
   "outputs": [],
   "source": [
    "sis.show_table(sismo.torsion_table)"
   ]
  },
  {
   "cell_type": "markdown",
   "metadata": {},
   "source": [
    "## Derivas"
   ]
  },
  {
   "cell_type": "code",
   "execution_count": null,
   "metadata": {},
   "outputs": [],
   "source": [
    "sis.show_table(sismo.drift_table)"
   ]
  },
  {
   "cell_type": "markdown",
   "metadata": {},
   "source": [
    "# Fuerza Cortante Mínima"
   ]
  },
  {
   "cell_type": "code",
   "execution_count": null,
   "metadata": {},
   "outputs": [],
   "source": [
    "sismo.shear_table.style.hide(axis='index').hide(axis='columns')"
   ]
  },
  {
   "cell_type": "code",
   "execution_count": null,
   "metadata": {},
   "outputs": [],
   "source": [
    "from mem import sismo_mem as smem\n",
    "zona = 2\n",
    "suelo = 'S2'\n",
    "categoria = sismo.data['Factor de Importancia']\n",
    "\n",
    "ins = r'''Esto mostrará una lista de los commits en el repositorio, comenzando con el commit más reciente.\n",
    "Cada commit estará identificado por una cadena de caracteres larga y hexadecimal que aparece en la\n",
    "línea que comien\n",
    "'''\n",
    "\n",
    "section = smem.Section('Análsis Sísmico')\n",
    "smem.factor_zona(section,zona,o_type=smem.Subsection,insert=ins)\n",
    "geometry_options = { \"left\": \"2.5cm\", \"top\": \"1.5cm\" }\n",
    "section.append('Esto mostrará una lista de los commits en el repositorio, comenzando con el commit más reciente. Cada commit estará identificado por una cadena de caracteres larga y hexadecimal que aparece en la línea que comienz')\n",
    "doc = smem.Document(geometry_options=geometry_options)\n",
    "doc.packages.append(smem.Package('xcolor', options=['dvipsnames']))\n",
    "doc.append(section)\n",
    "doc.generate_pdf('Memoria')"
   ]
  },
  {
   "cell_type": "code",
   "execution_count": null,
   "metadata": {},
   "outputs": [],
   "source": [
    "doc.generate_tex('Memoria')"
   ]
  },
  {
   "cell_type": "code",
   "execution_count": null,
   "metadata": {},
   "outputs": [],
   "source": [
    "zona = 3\n",
    "suelo = 'S0'\n",
    "section = smem.Section('Análsis Sísmico')\n",
    "subsection = smem.Subsection('Parámetros de Sitio')\n",
    "smem.factor_zona(subsection,zona,insert=ins)\n",
    "smem.factor_suelo(subsection,zona,suelo)\n",
    "geometry_options = { \"left\": \"2.5cm\", \"top\": \"1.5cm\" }\n",
    "section.append('Esto mostrará una lista de los commits en el repositorio, comenzando con el commit más reciente. Cada commit estará identificado por una cadena de caracteres larga y hexadecimal que aparece en la línea que comienz')\n",
    "doc = smem.Document(geometry_options=geometry_options)\n",
    "doc.packages.append(smem.Package('xcolor', options=['dvipsnames']))\n",
    "section.append(subsection)\n",
    "doc.append(section)\n",
    "tabla = sismo.torsion_table\n",
    "sis_x = tabla[tabla['OutputCase']=='SDx Max']\n",
    "sis_y = tabla[tabla['OutputCase']=='SDy Max']\n",
    "sis_y = sis_y[sis_y['Direction']=='Y']\n",
    "section2 = smem.Section('Irregularidades')\n",
    "smem.irreg_torsion(section2,sis_x,sis_y)\n",
    "doc.append(section2)\n",
    "doc.generate_pdf('Memoria')"
   ]
  },
  {
   "cell_type": "code",
   "execution_count": null,
   "metadata": {},
   "outputs": [],
   "source": [
    "tabla = sismo.torsion_table"
   ]
  },
  {
   "cell_type": "code",
   "execution_count": null,
   "metadata": {},
   "outputs": [],
   "source": [
    "tabla"
   ]
  }
 ],
 "metadata": {
  "kernelspec": {
   "display_name": "Python 3 (ipykernel)",
   "language": "python",
   "name": "python3"
  },
  "language_info": {
   "codemirror_mode": {
    "name": "ipython",
    "version": 3
   },
   "file_extension": ".py",
   "mimetype": "text/x-python",
   "name": "python",
   "nbconvert_exporter": "python",
   "pygments_lexer": "ipython3",
   "version": "3.9.16"
  },
  "toc-showmarkdowntxt": true,
  "vscode": {
   "interpreter": {
    "hash": "5791b4287b5ec7fadd801eb3f0a157326fdd5e3bd9c95da2aac047fef93499ff"
   }
  }
 },
 "nbformat": 4,
 "nbformat_minor": 4
}
