{
 "cells": [
  {
   "cell_type": "markdown",
   "metadata": {},
   "source": [
    "# Análisis Sísmico"
   ]
  },
  {
   "cell_type": "code",
   "execution_count": 23,
   "metadata": {},
   "outputs": [
    {
     "name": "stdout",
     "output_type": "stream",
     "text": [
      "The autoreload extension is already loaded. To reload it, use:\n",
      "  %reload_ext autoreload\n"
     ]
    }
   ],
   "source": [
    "#Importar las librerías necesarias\n",
    "%load_ext autoreload\n",
    "%autoreload 2\n",
    "import os\n",
    "import sys\n",
    "sys.path.append(os.getcwd()+'\\\\..')\n",
    "from lib import etabs_utils as etb\n",
    "from lib import sismo_utils as sis\n",
    "#from mem import sismo_mem as smem\n",
    "from ipywidgets import widgets\n",
    "from IPython.display import display"
   ]
  },
  {
   "cell_type": "code",
   "execution_count": 24,
   "metadata": {},
   "outputs": [],
   "source": [
    "_,SapModel = etb.connect_to_etabs()"
   ]
  },
  {
   "cell_type": "code",
   "execution_count": 25,
   "metadata": {},
   "outputs": [
    {
     "data": {
      "application/vnd.jupyter.widget-view+json": {
       "model_id": "88b461908650474ea59849fe7f05c9ac",
       "version_major": 2,
       "version_minor": 0
      },
      "text/plain": [
       "HBox(children=(VBox(children=(HTML(value='<b>Dirección X</b>'), Dropdown(description='Sismo Estatico en X', in…"
      ]
     },
     "execution_count": 25,
     "metadata": {},
     "output_type": "execute_result"
    }
   ],
   "source": [
    "Load_Sismos = sis.Seleccionar_Load_Cases(SapModel)\n",
    "Load_Sismos"
   ]
  },
  {
   "cell_type": "code",
   "execution_count": 26,
   "metadata": {},
   "outputs": [
    {
     "data": {
      "text/plain": [
       "(('Case',\n",
       "  'Mode',\n",
       "  'Period',\n",
       "  'UX',\n",
       "  'UY',\n",
       "  'UZ',\n",
       "  'SumUX',\n",
       "  'SumUY',\n",
       "  'SumUZ',\n",
       "  'RX',\n",
       "  'RY',\n",
       "  'RZ',\n",
       "  'SumRX',\n",
       "  'SumRY',\n",
       "  'SumRZ'),\n",
       "      Case Mode Period         UX         UY UZ   SumUX   SumUY SumUZ  \\\n",
       " 0   Modal    1  0.272     0.8001     0.0001  0  0.8001  0.0001     0   \n",
       " 1   Modal    2  0.153     0.0121     0.1363  0  0.8122  0.1364     0   \n",
       " 2   Modal    3  0.135     0.0032     0.7374  0  0.8154  0.8738     0   \n",
       " 3   Modal    4  0.094     0.0568     0.0002  0  0.8722  0.8739     0   \n",
       " 4   Modal    5  0.072     0.1081     0.0001  0  0.9804   0.874     0   \n",
       " 5   Modal    6  0.052     0.0003     0.0756  0  0.9807  0.9496     0   \n",
       " 6   Modal    7  0.047     0.0013      0.019  0   0.982  0.9686     0   \n",
       " 7   Modal    8  0.043     0.0175     0.0002  0  0.9995  0.9688     0   \n",
       " 8   Modal    9  0.039     0.0001     0.0205  0  0.9996  0.9893     0   \n",
       " 9   Modal   10  0.033  4.134E-05     0.0042  0  0.9997  0.9935     0   \n",
       " 10  Modal   11  0.029  9.026E-07     0.0065  0  0.9997       1     0   \n",
       " 11  Modal   12  0.029     0.0003  3.506E-05  0       1       1     0   \n",
       " \n",
       "            RX         RY         RZ      SumRX   SumRY   SumRZ  \n",
       " 0   1.054E-05     0.3394     0.0143  1.054E-05  0.3394  0.0143  \n",
       " 1      0.0553     0.0012     0.6867     0.0553  0.3405  0.7009  \n",
       " 2      0.2014     0.0001     0.1362     0.2567  0.3406  0.8372  \n",
       " 3      0.0001     0.2279     0.0352     0.2567  0.5685  0.8724  \n",
       " 4      0.0003     0.3728      0.007     0.2571  0.9413  0.8794  \n",
       " 5      0.4422     0.0006      0.025     0.6993  0.9419  0.9044  \n",
       " 6      0.1545     0.0034     0.0789     0.8538  0.9453  0.9833  \n",
       " 7      0.0016     0.0531   4.81E-06     0.8554  0.9985  0.9833  \n",
       " 8      0.1076     0.0003     0.0039      0.963  0.9988  0.9872  \n",
       " 9      0.0236     0.0002     0.0005     0.9867  0.9989  0.9877  \n",
       " 10      0.013  1.499E-06  4.904E-06     0.9997  0.9989  0.9877  \n",
       " 11     0.0003     0.0011     0.0123          1       1       1  )"
      ]
     },
     "execution_count": 26,
     "metadata": {},
     "output_type": "execute_result"
    }
   ],
   "source": [
    "etb.get_table(SapModel,'Modal Participating Mass Ratios')"
   ]
  },
  {
   "cell_type": "code",
   "execution_count": 27,
   "metadata": {},
   "outputs": [],
   "source": [
    "SapModel.Analyze.RunAnalysis();\n",
    "sismo = sis.sismo_e30()"
   ]
  },
  {
   "cell_type": "markdown",
   "metadata": {},
   "source": [
    "# Parámetros de Sitio\n",
    "\n",
    "## Zonificación\n",
    "![Factor de Zonifiación](./factor_zona.png)"
   ]
  },
  {
   "cell_type": "markdown",
   "metadata": {},
   "source": [
    "## Factor de Suelo\n",
    "![Factor de Suelo](./factor_suelo.png)\n"
   ]
  },
  {
   "cell_type": "markdown",
   "metadata": {},
   "source": [
    "## Periodos del suelo\n",
    "![Periodos del Suelo](./periodos_suelo.png)"
   ]
  },
  {
   "cell_type": "markdown",
   "metadata": {},
   "source": [
    "## Sistema Estructural\n",
    "![Sistema Estructural](./sistemas_estructurales.png)"
   ]
  },
  {
   "cell_type": "markdown",
   "metadata": {},
   "source": [
    "## Factor de Amplificación sísmica\n",
    "![Factor de Amplificacion Sísmica](./amplificacion_sismica.png)"
   ]
  },
  {
   "cell_type": "markdown",
   "metadata": {},
   "source": [
    "## Factor de Importancia\n",
    "![Factor de Importancia](./factor_importancia.png)"
   ]
  },
  {
   "cell_type": "code",
   "execution_count": 29,
   "metadata": {},
   "outputs": [
    {
     "data": {
      "application/vnd.jupyter.widget-view+json": {
       "model_id": "1478c017372d4616adaa44eacdf173c5",
       "version_major": 2,
       "version_minor": 0
      },
      "text/plain": [
       "VBox(children=(Dropdown(description='Factor Zona', index=1, options=('1', '2', '3', '4'), style=DescriptionSty…"
      ]
     },
     "metadata": {},
     "output_type": "display_data"
    }
   ],
   "source": [
    "sismo.parametros_e30()"
   ]
  },
  {
   "cell_type": "markdown",
   "metadata": {},
   "source": [
    "# Irregularidades"
   ]
  },
  {
   "cell_type": "code",
   "execution_count": 28,
   "metadata": {},
   "outputs": [
    {
     "data": {
      "application/vnd.jupyter.widget-view+json": {
       "model_id": "b662d83221c4483ab514815de9441215",
       "version_major": 2,
       "version_minor": 0
      },
      "text/plain": [
       "HBox(children=(VBox(children=(HTML(value='<b>Irregularidad en Altura</b>'), Checkbox(value=False, description=…"
      ]
     },
     "execution_count": 28,
     "metadata": {},
     "output_type": "execute_result"
    }
   ],
   "source": [
    "sismo.irregularidades_e30()"
   ]
  },
  {
   "cell_type": "markdown",
   "metadata": {},
   "source": [
    "# Parámetros Sísmicos"
   ]
  },
  {
   "cell_type": "code",
   "execution_count": 30,
   "metadata": {},
   "outputs": [
    {
     "name": "stdout",
     "output_type": "stream",
     "text": [
      "\n",
      "\u001b[1mParámetros de sitio:\u001b[0m\n",
      "Factor de zona: \n",
      "    Z=0.45\n",
      "Factor de Importancia: \n",
      "    U=1.00\n",
      "Factor de Suelo: \n",
      "    S=1.05\n",
      "Periodos del Suelo: \n",
      "    Tp=0.60\n",
      "    Tl=2.00\n",
      "Factor Básico de Reducción:\n",
      "    Rox=3.00\n",
      "    Roy=3.00\n",
      "Irregularidad en planta:\n",
      "    Ipx=1.00\n",
      "    Ipy=1.00\n",
      "Irregularidad en altura:\n",
      "    Iax=1.00\n",
      "    Iay=1.00\n",
      "Factor de Reducción:\n",
      "    Rx=3.00\n",
      "    Ry=3.00\n",
      "\n"
     ]
    }
   ],
   "source": [
    "sismo.show_params()"
   ]
  },
  {
   "cell_type": "code",
   "execution_count": 31,
   "metadata": {},
   "outputs": [
    {
     "name": "stdout",
     "output_type": "stream",
     "text": [
      "\n",
      "Análisis Modal:\n",
      "Masa Participativa X: 1.00\n",
      "Masa Participativa Y: 1.00\n",
      "Periodo y deformaxión X: Tx=0.029, Ux=0.000\n",
      "Periodo y deformaxión Y: Ty=0.029, Uy=0.000\n",
      "Factor de Reduccion con Irregularidades: R=3.0\n",
      "C en X: 2.50\n",
      "C en Y: 2.50\n",
      "\n",
      "Coeficiente de sismo estático X: 0.394\n",
      "Coeficiente de sismo estático Y: 0.394\n",
      "Exponente de altura X: 1.00\n",
      "Exponente de altura Y: 1.00\n"
     ]
    },
    {
     "ename": "KeyError",
     "evalue": "'[0] not found in axis'",
     "output_type": "error",
     "traceback": [
      "\u001b[1;31m---------------------------------------------------------------------------\u001b[0m",
      "\u001b[1;31mKeyError\u001b[0m                                  Traceback (most recent call last)",
      "Cell \u001b[1;32mIn[31], line 1\u001b[0m\n\u001b[1;32m----> 1\u001b[0m \u001b[43msismo\u001b[49m\u001b[38;5;241;43m.\u001b[39;49m\u001b[43manalisis_sismo\u001b[49m\u001b[43m(\u001b[49m\u001b[43mSapModel\u001b[49m\u001b[43m)\u001b[49m\n",
      "File \u001b[1;32mD:\\CARPETAS W10\\Escritorio\\GITHUB\\automatizacion_estructural\\sismo_e030\\..\\lib\\sismo_utils.py:614\u001b[0m, in \u001b[0;36msismo_e30.analisis_sismo\u001b[1;34m(self, SapModel)\u001b[0m\n\u001b[0;32m    612\u001b[0m \u001b[38;5;28;01mdef\u001b[39;00m \u001b[38;5;21manalisis_sismo\u001b[39m(\u001b[38;5;28mself\u001b[39m, SapModel):\n\u001b[0;32m    613\u001b[0m     \u001b[38;5;28mself\u001b[39m\u001b[38;5;241m.\u001b[39msismo_estatico(SapModel)\n\u001b[1;32m--> 614\u001b[0m     \u001b[38;5;28;43mself\u001b[39;49m\u001b[38;5;241;43m.\u001b[39;49m\u001b[43mpiso_blando\u001b[49m\u001b[43m(\u001b[49m\u001b[43mSapModel\u001b[49m\u001b[43m)\u001b[49m\n\u001b[0;32m    615\u001b[0m     \u001b[38;5;28mself\u001b[39m\u001b[38;5;241m.\u001b[39mirregularidad_masa(SapModel)\n\u001b[0;32m    616\u001b[0m     \u001b[38;5;28mself\u001b[39m\u001b[38;5;241m.\u001b[39mcentro_masa_inercia(SapModel)\n",
      "File \u001b[1;32mD:\\CARPETAS W10\\Escritorio\\GITHUB\\automatizacion_estructural\\sismo_e030\\..\\lib\\sismo_utils.py:592\u001b[0m, in \u001b[0;36msismo_e30.piso_blando\u001b[1;34m(self, SapModel, loads)\u001b[0m\n\u001b[0;32m    591\u001b[0m \u001b[38;5;28;01mdef\u001b[39;00m \u001b[38;5;21mpiso_blando\u001b[39m(\u001b[38;5;28mself\u001b[39m, SapModel, loads\u001b[38;5;241m=\u001b[39m[\u001b[38;5;124m'\u001b[39m\u001b[38;5;124mSx\u001b[39m\u001b[38;5;124m'\u001b[39m, \u001b[38;5;124m'\u001b[39m\u001b[38;5;124mSy\u001b[39m\u001b[38;5;124m'\u001b[39m, \u001b[38;5;124m'\u001b[39m\u001b[38;5;124mSDx\u001b[39m\u001b[38;5;124m'\u001b[39m, \u001b[38;5;124m'\u001b[39m\u001b[38;5;124mSDy\u001b[39m\u001b[38;5;124m'\u001b[39m]):\n\u001b[1;32m--> 592\u001b[0m     \u001b[38;5;28mself\u001b[39m\u001b[38;5;241m.\u001b[39mpiso_blando_table \u001b[38;5;241m=\u001b[39m \u001b[43mrev_piso_blando\u001b[49m\u001b[43m(\u001b[49m\u001b[43mSapModel\u001b[49m\u001b[43m,\u001b[49m\u001b[43m \u001b[49m\u001b[43mloads\u001b[49m\u001b[43m)\u001b[49m\n",
      "File \u001b[1;32mD:\\CARPETAS W10\\Escritorio\\GITHUB\\automatizacion_estructural\\sismo_e030\\..\\lib\\sismo_utils.py:206\u001b[0m, in \u001b[0;36mrev_piso_blando\u001b[1;34m(SapModel, loads)\u001b[0m\n\u001b[0;32m    204\u001b[0m load_data \u001b[38;5;241m=\u001b[39m data[data\u001b[38;5;241m.\u001b[39mOutputCase \u001b[38;5;241m==\u001b[39m load]\n\u001b[0;32m    205\u001b[0m load_data \u001b[38;5;241m=\u001b[39m load_data\u001b[38;5;241m.\u001b[39mreset_index(drop\u001b[38;5;241m=\u001b[39m\u001b[38;5;28;01mTrue\u001b[39;00m)\n\u001b[1;32m--> 206\u001b[0m URX \u001b[38;5;241m=\u001b[39m \u001b[43mobtener_despl_rel\u001b[49m\u001b[43m(\u001b[49m\u001b[43mload_data\u001b[49m\u001b[38;5;241;43m.\u001b[39;49m\u001b[43mUX\u001b[49m\u001b[43m)\u001b[49m\n\u001b[0;32m    207\u001b[0m URY \u001b[38;5;241m=\u001b[39m obtener_despl_rel(load_data\u001b[38;5;241m.\u001b[39mUY)\n\u001b[0;32m    208\u001b[0m load_data[\u001b[38;5;124m'\u001b[39m\u001b[38;5;124mURX\u001b[39m\u001b[38;5;124m'\u001b[39m] \u001b[38;5;241m=\u001b[39m URX\n",
      "File \u001b[1;32mD:\\CARPETAS W10\\Escritorio\\GITHUB\\automatizacion_estructural\\sismo_e030\\..\\lib\\sismo_utils.py:159\u001b[0m, in \u001b[0;36mobtener_despl_rel\u001b[1;34m(data)\u001b[0m\n\u001b[0;32m    157\u001b[0m data \u001b[38;5;241m=\u001b[39m data\u001b[38;5;241m.\u001b[39mapply(\u001b[38;5;28;01mlambda\u001b[39;00m x:\u001b[38;5;28mfloat\u001b[39m(x))\n\u001b[0;32m    158\u001b[0m despl \u001b[38;5;241m=\u001b[39m data\u001b[38;5;241m.\u001b[39mdiff()\u001b[38;5;241m.\u001b[39mapply(\u001b[38;5;28;01mlambda\u001b[39;00m x:\u001b[38;5;241m-\u001b[39mx)\n\u001b[1;32m--> 159\u001b[0m despl \u001b[38;5;241m=\u001b[39m \u001b[43mdespl\u001b[49m\u001b[38;5;241;43m.\u001b[39;49m\u001b[43mdrop\u001b[49m\u001b[43m(\u001b[49m\u001b[38;5;241;43m0\u001b[39;49m\u001b[43m,\u001b[49m\u001b[43maxis\u001b[49m\u001b[38;5;241;43m=\u001b[39;49m\u001b[38;5;241;43m0\u001b[39;49m\u001b[43m)\u001b[49m\n\u001b[0;32m    160\u001b[0m despl[\u001b[38;5;28mlen\u001b[39m(despl)\u001b[38;5;241m+\u001b[39m\u001b[38;5;241m1\u001b[39m] \u001b[38;5;241m=\u001b[39m data[\u001b[38;5;28mlen\u001b[39m(data)\u001b[38;5;241m-\u001b[39m\u001b[38;5;241m1\u001b[39m]\n\u001b[0;32m    161\u001b[0m despl \u001b[38;5;241m=\u001b[39m despl\u001b[38;5;241m.\u001b[39mreset_index(drop\u001b[38;5;241m=\u001b[39m\u001b[38;5;28;01mTrue\u001b[39;00m)\n",
      "File \u001b[1;32m~\\anaconda3\\envs\\SISMOE030\\lib\\site-packages\\pandas\\util\\_decorators.py:331\u001b[0m, in \u001b[0;36mdeprecate_nonkeyword_arguments.<locals>.decorate.<locals>.wrapper\u001b[1;34m(*args, **kwargs)\u001b[0m\n\u001b[0;32m    325\u001b[0m \u001b[38;5;28;01mif\u001b[39;00m \u001b[38;5;28mlen\u001b[39m(args) \u001b[38;5;241m>\u001b[39m num_allow_args:\n\u001b[0;32m    326\u001b[0m     warnings\u001b[38;5;241m.\u001b[39mwarn(\n\u001b[0;32m    327\u001b[0m         msg\u001b[38;5;241m.\u001b[39mformat(arguments\u001b[38;5;241m=\u001b[39m_format_argument_list(allow_args)),\n\u001b[0;32m    328\u001b[0m         \u001b[38;5;167;01mFutureWarning\u001b[39;00m,\n\u001b[0;32m    329\u001b[0m         stacklevel\u001b[38;5;241m=\u001b[39mfind_stack_level(),\n\u001b[0;32m    330\u001b[0m     )\n\u001b[1;32m--> 331\u001b[0m \u001b[38;5;28;01mreturn\u001b[39;00m func(\u001b[38;5;241m*\u001b[39margs, \u001b[38;5;241m*\u001b[39m\u001b[38;5;241m*\u001b[39mkwargs)\n",
      "File \u001b[1;32m~\\anaconda3\\envs\\SISMOE030\\lib\\site-packages\\pandas\\core\\series.py:5237\u001b[0m, in \u001b[0;36mSeries.drop\u001b[1;34m(self, labels, axis, index, columns, level, inplace, errors)\u001b[0m\n\u001b[0;32m   5140\u001b[0m \u001b[38;5;129m@deprecate_nonkeyword_arguments\u001b[39m(version\u001b[38;5;241m=\u001b[39m\u001b[38;5;28;01mNone\u001b[39;00m, allowed_args\u001b[38;5;241m=\u001b[39m[\u001b[38;5;124m\"\u001b[39m\u001b[38;5;124mself\u001b[39m\u001b[38;5;124m\"\u001b[39m, \u001b[38;5;124m\"\u001b[39m\u001b[38;5;124mlabels\u001b[39m\u001b[38;5;124m\"\u001b[39m])\n\u001b[0;32m   5141\u001b[0m \u001b[38;5;28;01mdef\u001b[39;00m \u001b[38;5;21mdrop\u001b[39m(  \u001b[38;5;66;03m# type: ignore[override]\u001b[39;00m\n\u001b[0;32m   5142\u001b[0m     \u001b[38;5;28mself\u001b[39m,\n\u001b[1;32m   (...)\u001b[0m\n\u001b[0;32m   5149\u001b[0m     errors: IgnoreRaise \u001b[38;5;241m=\u001b[39m \u001b[38;5;124m\"\u001b[39m\u001b[38;5;124mraise\u001b[39m\u001b[38;5;124m\"\u001b[39m,\n\u001b[0;32m   5150\u001b[0m ) \u001b[38;5;241m-\u001b[39m\u001b[38;5;241m>\u001b[39m Series \u001b[38;5;241m|\u001b[39m \u001b[38;5;28;01mNone\u001b[39;00m:\n\u001b[0;32m   5151\u001b[0m     \u001b[38;5;124;03m\"\"\"\u001b[39;00m\n\u001b[0;32m   5152\u001b[0m \u001b[38;5;124;03m    Return Series with specified index labels removed.\u001b[39;00m\n\u001b[0;32m   5153\u001b[0m \n\u001b[1;32m   (...)\u001b[0m\n\u001b[0;32m   5235\u001b[0m \u001b[38;5;124;03m    dtype: float64\u001b[39;00m\n\u001b[0;32m   5236\u001b[0m \u001b[38;5;124;03m    \"\"\"\u001b[39;00m\n\u001b[1;32m-> 5237\u001b[0m     \u001b[38;5;28;01mreturn\u001b[39;00m \u001b[38;5;28;43msuper\u001b[39;49m\u001b[43m(\u001b[49m\u001b[43m)\u001b[49m\u001b[38;5;241;43m.\u001b[39;49m\u001b[43mdrop\u001b[49m\u001b[43m(\u001b[49m\n\u001b[0;32m   5238\u001b[0m \u001b[43m        \u001b[49m\u001b[43mlabels\u001b[49m\u001b[38;5;241;43m=\u001b[39;49m\u001b[43mlabels\u001b[49m\u001b[43m,\u001b[49m\n\u001b[0;32m   5239\u001b[0m \u001b[43m        \u001b[49m\u001b[43maxis\u001b[49m\u001b[38;5;241;43m=\u001b[39;49m\u001b[43maxis\u001b[49m\u001b[43m,\u001b[49m\n\u001b[0;32m   5240\u001b[0m \u001b[43m        \u001b[49m\u001b[43mindex\u001b[49m\u001b[38;5;241;43m=\u001b[39;49m\u001b[43mindex\u001b[49m\u001b[43m,\u001b[49m\n\u001b[0;32m   5241\u001b[0m \u001b[43m        \u001b[49m\u001b[43mcolumns\u001b[49m\u001b[38;5;241;43m=\u001b[39;49m\u001b[43mcolumns\u001b[49m\u001b[43m,\u001b[49m\n\u001b[0;32m   5242\u001b[0m \u001b[43m        \u001b[49m\u001b[43mlevel\u001b[49m\u001b[38;5;241;43m=\u001b[39;49m\u001b[43mlevel\u001b[49m\u001b[43m,\u001b[49m\n\u001b[0;32m   5243\u001b[0m \u001b[43m        \u001b[49m\u001b[43minplace\u001b[49m\u001b[38;5;241;43m=\u001b[39;49m\u001b[43minplace\u001b[49m\u001b[43m,\u001b[49m\n\u001b[0;32m   5244\u001b[0m \u001b[43m        \u001b[49m\u001b[43merrors\u001b[49m\u001b[38;5;241;43m=\u001b[39;49m\u001b[43merrors\u001b[49m\u001b[43m,\u001b[49m\n\u001b[0;32m   5245\u001b[0m \u001b[43m    \u001b[49m\u001b[43m)\u001b[49m\n",
      "File \u001b[1;32m~\\anaconda3\\envs\\SISMOE030\\lib\\site-packages\\pandas\\util\\_decorators.py:331\u001b[0m, in \u001b[0;36mdeprecate_nonkeyword_arguments.<locals>.decorate.<locals>.wrapper\u001b[1;34m(*args, **kwargs)\u001b[0m\n\u001b[0;32m    325\u001b[0m \u001b[38;5;28;01mif\u001b[39;00m \u001b[38;5;28mlen\u001b[39m(args) \u001b[38;5;241m>\u001b[39m num_allow_args:\n\u001b[0;32m    326\u001b[0m     warnings\u001b[38;5;241m.\u001b[39mwarn(\n\u001b[0;32m    327\u001b[0m         msg\u001b[38;5;241m.\u001b[39mformat(arguments\u001b[38;5;241m=\u001b[39m_format_argument_list(allow_args)),\n\u001b[0;32m    328\u001b[0m         \u001b[38;5;167;01mFutureWarning\u001b[39;00m,\n\u001b[0;32m    329\u001b[0m         stacklevel\u001b[38;5;241m=\u001b[39mfind_stack_level(),\n\u001b[0;32m    330\u001b[0m     )\n\u001b[1;32m--> 331\u001b[0m \u001b[38;5;28;01mreturn\u001b[39;00m func(\u001b[38;5;241m*\u001b[39margs, \u001b[38;5;241m*\u001b[39m\u001b[38;5;241m*\u001b[39mkwargs)\n",
      "File \u001b[1;32m~\\anaconda3\\envs\\SISMOE030\\lib\\site-packages\\pandas\\core\\generic.py:4505\u001b[0m, in \u001b[0;36mNDFrame.drop\u001b[1;34m(self, labels, axis, index, columns, level, inplace, errors)\u001b[0m\n\u001b[0;32m   4503\u001b[0m \u001b[38;5;28;01mfor\u001b[39;00m axis, labels \u001b[38;5;129;01min\u001b[39;00m axes\u001b[38;5;241m.\u001b[39mitems():\n\u001b[0;32m   4504\u001b[0m     \u001b[38;5;28;01mif\u001b[39;00m labels \u001b[38;5;129;01mis\u001b[39;00m \u001b[38;5;129;01mnot\u001b[39;00m \u001b[38;5;28;01mNone\u001b[39;00m:\n\u001b[1;32m-> 4505\u001b[0m         obj \u001b[38;5;241m=\u001b[39m \u001b[43mobj\u001b[49m\u001b[38;5;241;43m.\u001b[39;49m\u001b[43m_drop_axis\u001b[49m\u001b[43m(\u001b[49m\u001b[43mlabels\u001b[49m\u001b[43m,\u001b[49m\u001b[43m \u001b[49m\u001b[43maxis\u001b[49m\u001b[43m,\u001b[49m\u001b[43m \u001b[49m\u001b[43mlevel\u001b[49m\u001b[38;5;241;43m=\u001b[39;49m\u001b[43mlevel\u001b[49m\u001b[43m,\u001b[49m\u001b[43m \u001b[49m\u001b[43merrors\u001b[49m\u001b[38;5;241;43m=\u001b[39;49m\u001b[43merrors\u001b[49m\u001b[43m)\u001b[49m\n\u001b[0;32m   4507\u001b[0m \u001b[38;5;28;01mif\u001b[39;00m inplace:\n\u001b[0;32m   4508\u001b[0m     \u001b[38;5;28mself\u001b[39m\u001b[38;5;241m.\u001b[39m_update_inplace(obj)\n",
      "File \u001b[1;32m~\\anaconda3\\envs\\SISMOE030\\lib\\site-packages\\pandas\\core\\generic.py:4546\u001b[0m, in \u001b[0;36mNDFrame._drop_axis\u001b[1;34m(self, labels, axis, level, errors, only_slice)\u001b[0m\n\u001b[0;32m   4544\u001b[0m         new_axis \u001b[38;5;241m=\u001b[39m axis\u001b[38;5;241m.\u001b[39mdrop(labels, level\u001b[38;5;241m=\u001b[39mlevel, errors\u001b[38;5;241m=\u001b[39merrors)\n\u001b[0;32m   4545\u001b[0m     \u001b[38;5;28;01melse\u001b[39;00m:\n\u001b[1;32m-> 4546\u001b[0m         new_axis \u001b[38;5;241m=\u001b[39m \u001b[43maxis\u001b[49m\u001b[38;5;241;43m.\u001b[39;49m\u001b[43mdrop\u001b[49m\u001b[43m(\u001b[49m\u001b[43mlabels\u001b[49m\u001b[43m,\u001b[49m\u001b[43m \u001b[49m\u001b[43merrors\u001b[49m\u001b[38;5;241;43m=\u001b[39;49m\u001b[43merrors\u001b[49m\u001b[43m)\u001b[49m\n\u001b[0;32m   4547\u001b[0m     indexer \u001b[38;5;241m=\u001b[39m axis\u001b[38;5;241m.\u001b[39mget_indexer(new_axis)\n\u001b[0;32m   4549\u001b[0m \u001b[38;5;66;03m# Case for non-unique axis\u001b[39;00m\n\u001b[0;32m   4550\u001b[0m \u001b[38;5;28;01melse\u001b[39;00m:\n",
      "File \u001b[1;32m~\\anaconda3\\envs\\SISMOE030\\lib\\site-packages\\pandas\\core\\indexes\\base.py:6934\u001b[0m, in \u001b[0;36mIndex.drop\u001b[1;34m(self, labels, errors)\u001b[0m\n\u001b[0;32m   6932\u001b[0m \u001b[38;5;28;01mif\u001b[39;00m mask\u001b[38;5;241m.\u001b[39many():\n\u001b[0;32m   6933\u001b[0m     \u001b[38;5;28;01mif\u001b[39;00m errors \u001b[38;5;241m!=\u001b[39m \u001b[38;5;124m\"\u001b[39m\u001b[38;5;124mignore\u001b[39m\u001b[38;5;124m\"\u001b[39m:\n\u001b[1;32m-> 6934\u001b[0m         \u001b[38;5;28;01mraise\u001b[39;00m \u001b[38;5;167;01mKeyError\u001b[39;00m(\u001b[38;5;124mf\u001b[39m\u001b[38;5;124m\"\u001b[39m\u001b[38;5;132;01m{\u001b[39;00m\u001b[38;5;28mlist\u001b[39m(labels[mask])\u001b[38;5;132;01m}\u001b[39;00m\u001b[38;5;124m not found in axis\u001b[39m\u001b[38;5;124m\"\u001b[39m)\n\u001b[0;32m   6935\u001b[0m     indexer \u001b[38;5;241m=\u001b[39m indexer[\u001b[38;5;241m~\u001b[39mmask]\n\u001b[0;32m   6936\u001b[0m \u001b[38;5;28;01mreturn\u001b[39;00m \u001b[38;5;28mself\u001b[39m\u001b[38;5;241m.\u001b[39mdelete(indexer)\n",
      "\u001b[1;31mKeyError\u001b[0m: '[0] not found in axis'"
     ]
    }
   ],
   "source": [
    "sismo.analisis_sismo(SapModel)"
   ]
  },
  {
   "cell_type": "markdown",
   "metadata": {},
   "source": [
    "## Revisión por Piso Blando"
   ]
  },
  {
   "cell_type": "code",
   "execution_count": 32,
   "metadata": {},
   "outputs": [
    {
     "ename": "AttributeError",
     "evalue": "'sismo_e30' object has no attribute 'piso_blando_table'",
     "output_type": "error",
     "traceback": [
      "\u001b[1;31m---------------------------------------------------------------------------\u001b[0m",
      "\u001b[1;31mAttributeError\u001b[0m                            Traceback (most recent call last)",
      "Cell \u001b[1;32mIn[32], line 1\u001b[0m\n\u001b[1;32m----> 1\u001b[0m sis\u001b[38;5;241m.\u001b[39mshow_table(\u001b[43msismo\u001b[49m\u001b[38;5;241;43m.\u001b[39;49m\u001b[43mpiso_blando_table\u001b[49m)\n",
      "\u001b[1;31mAttributeError\u001b[0m: 'sismo_e30' object has no attribute 'piso_blando_table'"
     ]
    }
   ],
   "source": [
    "sis.show_table(sismo.piso_blando_table)"
   ]
  },
  {
   "cell_type": "markdown",
   "metadata": {},
   "source": [
    "## Revisión por Irregularidad de Masa"
   ]
  },
  {
   "cell_type": "code",
   "execution_count": null,
   "metadata": {},
   "outputs": [],
   "source": [
    "sismo.rev_masa_table"
   ]
  },
  {
   "cell_type": "markdown",
   "metadata": {},
   "source": [
    "## Revisión de torsión"
   ]
  },
  {
   "cell_type": "code",
   "execution_count": null,
   "metadata": {},
   "outputs": [],
   "source": [
    "sis.show_table(sismo.torsion_table)"
   ]
  },
  {
   "cell_type": "markdown",
   "metadata": {},
   "source": [
    "## Derivas"
   ]
  },
  {
   "cell_type": "code",
   "execution_count": null,
   "metadata": {},
   "outputs": [],
   "source": [
    "sis.show_table(sismo.drift_table)"
   ]
  },
  {
   "cell_type": "markdown",
   "metadata": {},
   "source": [
    "# Fuerza Cortante Mínima"
   ]
  },
  {
   "cell_type": "code",
   "execution_count": null,
   "metadata": {},
   "outputs": [],
   "source": [
    "sismo.shear_table.style.hide(axis='index').hide(axis='columns')"
   ]
  },
  {
   "cell_type": "code",
   "execution_count": null,
   "metadata": {},
   "outputs": [],
   "source": [
    "from mem import sismo_mem as smem\n",
    "zona = 2\n",
    "suelo = 'S2'\n",
    "categoria = sismo.data['Factor de Importancia']\n",
    "\n",
    "ins = r'''Esto mostrará una lista de los commits en el repositorio, comenzando con el commit más reciente.\n",
    "Cada commit estará identificado por una cadena de caracteres larga y hexadecimal que aparece en la\n",
    "línea que comien\n",
    "'''\n",
    "\n",
    "section = smem.Section('Análsis Sísmico')\n",
    "smem.factor_zona(section,zona,o_type=smem.Subsection,insert=ins)\n",
    "geometry_options = { \"left\": \"2.5cm\", \"top\": \"1.5cm\" }\n",
    "section.append('Esto mostrará una lista de los commits en el repositorio, comenzando con el commit más reciente. Cada commit estará identificado por una cadena de caracteres larga y hexadecimal que aparece en la línea que comienz')\n",
    "doc = smem.Document(geometry_options=geometry_options)\n",
    "doc.packages.append(smem.Package('xcolor', options=['dvipsnames']))\n",
    "doc.append(section)\n",
    "doc.generate_pdf('Memoria')"
   ]
  },
  {
   "cell_type": "code",
   "execution_count": null,
   "metadata": {},
   "outputs": [],
   "source": [
    "doc.generate_tex('Memoria')"
   ]
  },
  {
   "cell_type": "code",
   "execution_count": null,
   "metadata": {},
   "outputs": [],
   "source": [
    "zona = 3\n",
    "suelo = 'S0'\n",
    "section = smem.Section('Análsis Sísmico')\n",
    "subsection = smem.Subsection('Parámetros de Sitio')\n",
    "smem.factor_zona(subsection,zona,insert=ins)\n",
    "smem.factor_suelo(subsection,zona,suelo)\n",
    "geometry_options = { \"left\": \"2.5cm\", \"top\": \"1.5cm\" }\n",
    "section.append('Esto mostrará una lista de los commits en el repositorio, comenzando con el commit más reciente. Cada commit estará identificado por una cadena de caracteres larga y hexadecimal que aparece en la línea que comienz')\n",
    "doc = smem.Document(geometry_options=geometry_options)\n",
    "doc.packages.append(smem.Package('xcolor', options=['dvipsnames']))\n",
    "section.append(subsection)\n",
    "doc.append(section)\n",
    "tabla = sismo.torsion_table\n",
    "sis_x = tabla[tabla['OutputCase']=='SDx Max']\n",
    "sis_y = tabla[tabla['OutputCase']=='SDy Max']\n",
    "sis_y = sis_y[sis_y['Direction']=='Y']\n",
    "section2 = smem.Section('Irregularidades')\n",
    "smem.irreg_torsion(section2,sis_x,sis_y)\n",
    "doc.append(section2)\n",
    "doc.generate_pdf('Memoria')"
   ]
  },
  {
   "cell_type": "code",
   "execution_count": null,
   "metadata": {},
   "outputs": [],
   "source": [
    "tabla = sismo.torsion_table"
   ]
  },
  {
   "cell_type": "code",
   "execution_count": null,
   "metadata": {},
   "outputs": [],
   "source": [
    "tabla"
   ]
  }
 ],
 "metadata": {
  "kernelspec": {
   "display_name": "Python 3 (ipykernel)",
   "language": "python",
   "name": "python3"
  },
  "language_info": {
   "codemirror_mode": {
    "name": "ipython",
    "version": 3
   },
   "file_extension": ".py",
   "mimetype": "text/x-python",
   "name": "python",
   "nbconvert_exporter": "python",
   "pygments_lexer": "ipython3",
   "version": "3.9.16"
  },
  "toc-showmarkdowntxt": true,
  "vscode": {
   "interpreter": {
    "hash": "5791b4287b5ec7fadd801eb3f0a157326fdd5e3bd9c95da2aac047fef93499ff"
   }
  }
 },
 "nbformat": 4,
 "nbformat_minor": 4
}
