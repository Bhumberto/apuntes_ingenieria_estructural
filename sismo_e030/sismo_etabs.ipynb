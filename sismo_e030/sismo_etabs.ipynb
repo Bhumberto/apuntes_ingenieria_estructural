{
 "cells": [
  {
   "cell_type": "markdown",
   "metadata": {},
   "source": [
    "# Análisis Sísmico"
   ]
  },
  {
   "cell_type": "code",
   "execution_count": 8,
   "metadata": {},
   "outputs": [
    {
     "name": "stdout",
     "output_type": "stream",
     "text": [
      "The autoreload extension is already loaded. To reload it, use:\n",
      "  %reload_ext autoreload\n"
     ]
    }
   ],
   "source": [
    "#Importar las librerías necesarias\n",
    "%load_ext autoreload\n",
    "%autoreload 2\n",
    "import os\n",
    "import sys\n",
    "sys.path.append(os.getcwd()+'\\\\..')\n",
    "from lib import etabs_utils as etb\n",
    "from lib import sismo_utils as sis\n",
    "#from mem import sismo_mem as smem\n",
    "from ipywidgets import widgets\n",
    "from IPython.display import display"
   ]
  },
  {
   "cell_type": "code",
   "execution_count": 9,
   "metadata": {},
   "outputs": [],
   "source": [
    "#!pip install -U ipywidgets==7.7.1\n",
    "#!jupyter nbextension enable --py widgetsnbextension"
   ]
  },
  {
   "cell_type": "code",
   "execution_count": 10,
   "metadata": {},
   "outputs": [],
   "source": [
    "_,SapModel = etb.connect_to_etabs()"
   ]
  },
  {
   "cell_type": "code",
   "execution_count": 11,
   "metadata": {},
   "outputs": [],
   "source": [
    "sismo = sis.sismo_e30()"
   ]
  },
  {
   "cell_type": "markdown",
   "metadata": {},
   "source": [
    "# Parámetros de Sitio\n",
    "\n",
    "## Zonificación\n",
    "![Factor de Zonifiación](./factor_zona.png)"
   ]
  },
  {
   "cell_type": "markdown",
   "metadata": {},
   "source": [
    "## Factor de Suelo\n",
    "![Factor de Suelo](./factor_suelo.png)\n"
   ]
  },
  {
   "cell_type": "markdown",
   "metadata": {},
   "source": [
    "## Periodos del suelo\n",
    "![Periodos del Suelo](./periodos_suelo.png)"
   ]
  },
  {
   "cell_type": "markdown",
   "metadata": {},
   "source": [
    "## Sistema Estructural\n",
    "![Sistema Estructural](./sistemas_estructurales.png)"
   ]
  },
  {
   "cell_type": "markdown",
   "metadata": {},
   "source": [
    "## Factor de Amplificación sísmica\n",
    "![Factor de Amplificacion Sísmica](./amplificacion_sismica.png)"
   ]
  },
  {
   "cell_type": "markdown",
   "metadata": {},
   "source": [
    "## Factor de Importancia\n",
    "![Factor de Importancia](./factor_importancia.png)"
   ]
  },
  {
   "cell_type": "code",
   "execution_count": 12,
   "metadata": {},
   "outputs": [
    {
     "data": {
      "application/vnd.jupyter.widget-view+json": {
       "model_id": "abe8e24ed4a84213b45e420349b53404",
       "version_major": 2,
       "version_minor": 0
      },
      "text/plain": [
       "VBox(children=(Dropdown(description='Factor Zona', index=2, options=('1', '2', '3', '4'), style=DescriptionSty…"
      ]
     },
     "metadata": {},
     "output_type": "display_data"
    }
   ],
   "source": [
    "sismo.parametros_e30()"
   ]
  },
  {
   "cell_type": "markdown",
   "metadata": {},
   "source": [
    "# Irregularidades"
   ]
  },
  {
   "cell_type": "code",
   "execution_count": 13,
   "metadata": {},
   "outputs": [
    {
     "data": {
      "application/vnd.jupyter.widget-view+json": {
       "model_id": "1df0eb63500c4d269d0ee7be63a63d81",
       "version_major": 2,
       "version_minor": 0
      },
      "text/plain": [
       "HBox(children=(VBox(children=(HTML(value='<b>Irregularidad en Altura</b>'), Checkbox(value=False, description=…"
      ]
     },
     "metadata": {},
     "output_type": "display_data"
    }
   ],
   "source": [
    "sismo.irregularidades_e30()"
   ]
  },
  {
   "cell_type": "markdown",
   "metadata": {},
   "source": [
    "# Parámetros Sísmicos"
   ]
  },
  {
   "cell_type": "code",
   "execution_count": 14,
   "metadata": {},
   "outputs": [
    {
     "name": "stdout",
     "output_type": "stream",
     "text": [
      "\n",
      "\u001b[1mParámetros de sitio:\u001b[0m\n",
      "Factor de zona: \n",
      "    Z=0.35\n",
      "Factor de Importancia: \n",
      "    U=1.30\n",
      "Factor de Suelo: \n",
      "    S=1.20\n",
      "Periodos del Suelo: \n",
      "    Tp=1.00\n",
      "    Tl=1.60\n",
      "Factor Básico de Reducción:\n",
      "    Rox=5.00\n",
      "    Roy=5.00\n",
      "Irregularidad en planta:\n",
      "    Ipx=0.60\n",
      "    Ipy=0.60\n",
      "Irregularidad en altura:\n",
      "    Iax=0.90\n",
      "    Iay=0.60\n",
      "Factor de Reducción:\n",
      "    Rx=2.70\n",
      "    Ry=2.70\n",
      "\n"
     ]
    }
   ],
   "source": [
    "sismo.show_params()"
   ]
  },
  {
   "cell_type": "code",
   "execution_count": 15,
   "metadata": {},
   "outputs": [
    {
     "name": "stdout",
     "output_type": "stream",
     "text": [
      "\n",
      "Análisis Modal:\n",
      "Masa Participativa X: 0.95\n",
      "Masa Participativa Y: 0.86\n",
      "---Aumentar Grados de Libertad 0.86 < 0.9\n",
      "Periodo y deformaxión X: Tx=0.042, Ux=0.000\n",
      "Periodo y deformaxión Y: Ty=0.032, Uy=0.004\n",
      "Factor de Reduccion con Irregularidades: R=2.7\n",
      "C en X: 2.50\n",
      "C en Y: 2.50\n",
      "\n",
      "Coeficiente de sismo estático X: 0.506\n",
      "Coeficiente de sismo estático Y: 0.506\n",
      "Exponente de altura X: 1.00\n",
      "Exponente de altura Y: 1.00\n"
     ]
    }
   ],
   "source": [
    "sismo.analisis_sismo(SapModel)"
   ]
  },
  {
   "cell_type": "markdown",
   "metadata": {},
   "source": [
    "## Revisión por Piso Blando"
   ]
  },
  {
   "cell_type": "code",
   "execution_count": null,
   "metadata": {},
   "outputs": [
    {
     "data": {
      "application/vnd.jupyter.widget-view+json": {
       "model_id": "48e5926035904a24a2167d6cd45d77c2",
       "version_major": 2,
       "version_minor": 0
      },
      "text/plain": [
       "Dropdown(description='Filtro', index=1, options=('Sy Min', 'SDy Max', 'Sx Max', 'SDx Max', 'Sy Max', 'Sx Min',…"
      ]
     },
     "metadata": {},
     "output_type": "display_data"
    },
    {
     "data": {
      "text/html": [
       "<div>\n",
       "<style scoped>\n",
       "    .dataframe tbody tr th:only-of-type {\n",
       "        vertical-align: middle;\n",
       "    }\n",
       "\n",
       "    .dataframe tbody tr th {\n",
       "        vertical-align: top;\n",
       "    }\n",
       "\n",
       "    .dataframe thead th {\n",
       "        text-align: right;\n",
       "    }\n",
       "</style>\n",
       "<table border=\"1\" class=\"dataframe\">\n",
       "  <thead>\n",
       "    <tr style=\"text-align: right;\">\n",
       "      <th></th>\n",
       "      <th>Story</th>\n",
       "      <th>OutputCase</th>\n",
       "      <th>UX</th>\n",
       "      <th>UY</th>\n",
       "      <th>URX</th>\n",
       "      <th>URY</th>\n",
       "      <th>VX</th>\n",
       "      <th>VY</th>\n",
       "      <th>lat_rig(k)</th>\n",
       "      <th>0.7_prev_k</th>\n",
       "      <th>0.8k_prom</th>\n",
       "      <th>is_reg</th>\n",
       "    </tr>\n",
       "  </thead>\n",
       "  <tbody>\n",
       "    <tr>\n",
       "      <th>8</th>\n",
       "      <td>Story8</td>\n",
       "      <td>SDy Max</td>\n",
       "      <td>1.034</td>\n",
       "      <td>3.22</td>\n",
       "      <td>0.154</td>\n",
       "      <td>0.471</td>\n",
       "      <td>9340.76</td>\n",
       "      <td>188847.06</td>\n",
       "      <td>4.616035e+05</td>\n",
       "      <td>0.000000e+00</td>\n",
       "      <td>0.000000e+00</td>\n",
       "      <td>Regular</td>\n",
       "    </tr>\n",
       "    <tr>\n",
       "      <th>9</th>\n",
       "      <td>Story7</td>\n",
       "      <td>SDy Max</td>\n",
       "      <td>0.88</td>\n",
       "      <td>2.749</td>\n",
       "      <td>0.122</td>\n",
       "      <td>0.495</td>\n",
       "      <td>17689.01</td>\n",
       "      <td>385502.89</td>\n",
       "      <td>9.237856e+05</td>\n",
       "      <td>3.231224e+05</td>\n",
       "      <td>0.000000e+00</td>\n",
       "      <td>Regular</td>\n",
       "    </tr>\n",
       "    <tr>\n",
       "      <th>10</th>\n",
       "      <td>Story6</td>\n",
       "      <td>SDy Max</td>\n",
       "      <td>0.758</td>\n",
       "      <td>2.254</td>\n",
       "      <td>0.140</td>\n",
       "      <td>0.501</td>\n",
       "      <td>24032.76</td>\n",
       "      <td>535326.83</td>\n",
       "      <td>1.240179e+06</td>\n",
       "      <td>6.466499e+05</td>\n",
       "      <td>0.000000e+00</td>\n",
       "      <td>Regular</td>\n",
       "    </tr>\n",
       "    <tr>\n",
       "      <th>11</th>\n",
       "      <td>Story5</td>\n",
       "      <td>SDy Max</td>\n",
       "      <td>0.618</td>\n",
       "      <td>1.753</td>\n",
       "      <td>0.144</td>\n",
       "      <td>0.490</td>\n",
       "      <td>29158.11</td>\n",
       "      <td>649676.53</td>\n",
       "      <td>1.528357e+06</td>\n",
       "      <td>8.681254e+05</td>\n",
       "      <td>7.001515e+05</td>\n",
       "      <td>Regular</td>\n",
       "    </tr>\n",
       "    <tr>\n",
       "      <th>12</th>\n",
       "      <td>Story4</td>\n",
       "      <td>SDy Max</td>\n",
       "      <td>0.474</td>\n",
       "      <td>1.263</td>\n",
       "      <td>0.160</td>\n",
       "      <td>0.456</td>\n",
       "      <td>33980.75</td>\n",
       "      <td>743392.21</td>\n",
       "      <td>1.842626e+06</td>\n",
       "      <td>1.069850e+06</td>\n",
       "      <td>9.846192e+05</td>\n",
       "      <td>Regular</td>\n",
       "    </tr>\n",
       "    <tr>\n",
       "      <th>13</th>\n",
       "      <td>Story3</td>\n",
       "      <td>SDy Max</td>\n",
       "      <td>0.314</td>\n",
       "      <td>0.807</td>\n",
       "      <td>0.150</td>\n",
       "      <td>0.394</td>\n",
       "      <td>38030.53</td>\n",
       "      <td>814142.53</td>\n",
       "      <td>2.319888e+06</td>\n",
       "      <td>1.289838e+06</td>\n",
       "      <td>1.229643e+06</td>\n",
       "      <td>Regular</td>\n",
       "    </tr>\n",
       "    <tr>\n",
       "      <th>14</th>\n",
       "      <td>Story2</td>\n",
       "      <td>SDy Max</td>\n",
       "      <td>0.164</td>\n",
       "      <td>0.413</td>\n",
       "      <td>0.107</td>\n",
       "      <td>0.296</td>\n",
       "      <td>40736.49</td>\n",
       "      <td>857879.18</td>\n",
       "      <td>3.278955e+06</td>\n",
       "      <td>1.623922e+06</td>\n",
       "      <td>1.517566e+06</td>\n",
       "      <td>Regular</td>\n",
       "    </tr>\n",
       "    <tr>\n",
       "      <th>15</th>\n",
       "      <td>Story1</td>\n",
       "      <td>SDy Max</td>\n",
       "      <td>0.057</td>\n",
       "      <td>0.117</td>\n",
       "      <td>0.057</td>\n",
       "      <td>0.117</td>\n",
       "      <td>41484.54</td>\n",
       "      <td>869359.9</td>\n",
       "      <td>8.158225e+06</td>\n",
       "      <td>2.295269e+06</td>\n",
       "      <td>1.984392e+06</td>\n",
       "      <td>Regular</td>\n",
       "    </tr>\n",
       "  </tbody>\n",
       "</table>\n",
       "</div>"
      ],
      "text/plain": [
       "     Story OutputCase     UX     UY    URX    URY        VX         VY  \\\n",
       "8   Story8    SDy Max  1.034   3.22  0.154  0.471   9340.76  188847.06   \n",
       "9   Story7    SDy Max   0.88  2.749  0.122  0.495  17689.01  385502.89   \n",
       "10  Story6    SDy Max  0.758  2.254  0.140  0.501  24032.76  535326.83   \n",
       "11  Story5    SDy Max  0.618  1.753  0.144  0.490  29158.11  649676.53   \n",
       "12  Story4    SDy Max  0.474  1.263  0.160  0.456  33980.75  743392.21   \n",
       "13  Story3    SDy Max  0.314  0.807  0.150  0.394  38030.53  814142.53   \n",
       "14  Story2    SDy Max  0.164  0.413  0.107  0.296  40736.49  857879.18   \n",
       "15  Story1    SDy Max  0.057  0.117  0.057  0.117  41484.54   869359.9   \n",
       "\n",
       "      lat_rig(k)    0.7_prev_k     0.8k_prom   is_reg  \n",
       "8   4.616035e+05  0.000000e+00  0.000000e+00  Regular  \n",
       "9   9.237856e+05  3.231224e+05  0.000000e+00  Regular  \n",
       "10  1.240179e+06  6.466499e+05  0.000000e+00  Regular  \n",
       "11  1.528357e+06  8.681254e+05  7.001515e+05  Regular  \n",
       "12  1.842626e+06  1.069850e+06  9.846192e+05  Regular  \n",
       "13  2.319888e+06  1.289838e+06  1.229643e+06  Regular  \n",
       "14  3.278955e+06  1.623922e+06  1.517566e+06  Regular  \n",
       "15  8.158225e+06  2.295269e+06  1.984392e+06  Regular  "
      ]
     },
     "metadata": {},
     "output_type": "display_data"
    }
   ],
   "source": [
    "sis.show_table(sismo.piso_blando_table)"
   ]
  },
  {
   "cell_type": "markdown",
   "metadata": {},
   "source": [
    "## Revisión por Irregularidad de Masa"
   ]
  },
  {
   "cell_type": "code",
   "execution_count": 17,
   "metadata": {},
   "outputs": [
    {
     "data": {
      "text/html": [
       "<div>\n",
       "<style scoped>\n",
       "    .dataframe tbody tr th:only-of-type {\n",
       "        vertical-align: middle;\n",
       "    }\n",
       "\n",
       "    .dataframe tbody tr th {\n",
       "        vertical-align: top;\n",
       "    }\n",
       "\n",
       "    .dataframe thead th {\n",
       "        text-align: right;\n",
       "    }\n",
       "</style>\n",
       "<table border=\"1\" class=\"dataframe\">\n",
       "  <thead>\n",
       "    <tr style=\"text-align: right;\">\n",
       "      <th></th>\n",
       "      <th>Story</th>\n",
       "      <th>Mass</th>\n",
       "      <th>1.5_inf_mass</th>\n",
       "      <th>1.5_sup_mass</th>\n",
       "      <th>story_type</th>\n",
       "      <th>is_reg</th>\n",
       "    </tr>\n",
       "  </thead>\n",
       "  <tbody>\n",
       "    <tr>\n",
       "      <th>0</th>\n",
       "      <td>Story8</td>\n",
       "      <td>65.3981</td>\n",
       "      <td></td>\n",
       "      <td></td>\n",
       "      <td>Azotea</td>\n",
       "      <td>Regular</td>\n",
       "    </tr>\n",
       "    <tr>\n",
       "      <th>1</th>\n",
       "      <td>Story7</td>\n",
       "      <td>85.8431</td>\n",
       "      <td>128.5221</td>\n",
       "      <td></td>\n",
       "      <td>Piso</td>\n",
       "      <td>Regular</td>\n",
       "    </tr>\n",
       "    <tr>\n",
       "      <th>2</th>\n",
       "      <td>Story6</td>\n",
       "      <td>85.6814</td>\n",
       "      <td>128.5509</td>\n",
       "      <td>128.76465</td>\n",
       "      <td>Piso</td>\n",
       "      <td>Regular</td>\n",
       "    </tr>\n",
       "    <tr>\n",
       "      <th>3</th>\n",
       "      <td>Story5</td>\n",
       "      <td>85.7006</td>\n",
       "      <td>134.7939</td>\n",
       "      <td>128.5221</td>\n",
       "      <td>Piso</td>\n",
       "      <td>Regular</td>\n",
       "    </tr>\n",
       "    <tr>\n",
       "      <th>4</th>\n",
       "      <td>Story4</td>\n",
       "      <td>89.8626</td>\n",
       "      <td>134.7939</td>\n",
       "      <td>128.5509</td>\n",
       "      <td>Piso</td>\n",
       "      <td>Regular</td>\n",
       "    </tr>\n",
       "    <tr>\n",
       "      <th>5</th>\n",
       "      <td>Story3</td>\n",
       "      <td>89.8626</td>\n",
       "      <td>134.7939</td>\n",
       "      <td>134.7939</td>\n",
       "      <td>Piso</td>\n",
       "      <td>Regular</td>\n",
       "    </tr>\n",
       "    <tr>\n",
       "      <th>6</th>\n",
       "      <td>Story2</td>\n",
       "      <td>89.8626</td>\n",
       "      <td>109.3485</td>\n",
       "      <td>134.7939</td>\n",
       "      <td>Piso</td>\n",
       "      <td>Regular</td>\n",
       "    </tr>\n",
       "    <tr>\n",
       "      <th>7</th>\n",
       "      <td>Story1</td>\n",
       "      <td>72.899</td>\n",
       "      <td>52.36965</td>\n",
       "      <td>134.7939</td>\n",
       "      <td>Piso</td>\n",
       "      <td>Irregular</td>\n",
       "    </tr>\n",
       "    <tr>\n",
       "      <th>8</th>\n",
       "      <td>NT</td>\n",
       "      <td>34.9131</td>\n",
       "      <td></td>\n",
       "      <td>109.3485</td>\n",
       "      <td>Piso</td>\n",
       "      <td>Regular</td>\n",
       "    </tr>\n",
       "    <tr>\n",
       "      <th>9</th>\n",
       "      <td>Base</td>\n",
       "      <td>38.4194</td>\n",
       "      <td></td>\n",
       "      <td></td>\n",
       "      <td>Sotano</td>\n",
       "      <td>Regular</td>\n",
       "    </tr>\n",
       "  </tbody>\n",
       "</table>\n",
       "</div>"
      ],
      "text/plain": [
       "    Story     Mass 1.5_inf_mass 1.5_sup_mass story_type     is_reg\n",
       "0  Story8  65.3981                               Azotea    Regular\n",
       "1  Story7  85.8431     128.5221                    Piso    Regular\n",
       "2  Story6  85.6814     128.5509    128.76465       Piso    Regular\n",
       "3  Story5  85.7006     134.7939     128.5221       Piso    Regular\n",
       "4  Story4  89.8626     134.7939     128.5509       Piso    Regular\n",
       "5  Story3  89.8626     134.7939     134.7939       Piso    Regular\n",
       "6  Story2  89.8626     109.3485     134.7939       Piso    Regular\n",
       "7  Story1   72.899     52.36965     134.7939       Piso  Irregular\n",
       "8      NT  34.9131                  109.3485       Piso    Regular\n",
       "9    Base  38.4194                               Sotano    Regular"
      ]
     },
     "execution_count": 17,
     "metadata": {},
     "output_type": "execute_result"
    }
   ],
   "source": [
    "sismo.rev_masa_table"
   ]
  },
  {
   "cell_type": "markdown",
   "metadata": {},
   "source": [
    "## Revisión de torsión"
   ]
  },
  {
   "cell_type": "code",
   "execution_count": 18,
   "metadata": {},
   "outputs": [
    {
     "data": {
      "application/vnd.jupyter.widget-view+json": {
       "model_id": "98119595753c49abb25847738fe350ce",
       "version_major": 2,
       "version_minor": 0
      },
      "text/plain": [
       "Dropdown(description='Filtro', index=6, options=('Sx Max', 'Sx Min', 'Sy Max', 'Sy Min', 'SDx Max', 'SDy Max',…"
      ]
     },
     "metadata": {},
     "output_type": "display_data"
    },
    {
     "data": {
      "text/html": [
       "<div>\n",
       "<style scoped>\n",
       "    .dataframe tbody tr th:only-of-type {\n",
       "        vertical-align: middle;\n",
       "    }\n",
       "\n",
       "    .dataframe tbody tr th {\n",
       "        vertical-align: top;\n",
       "    }\n",
       "\n",
       "    .dataframe thead th {\n",
       "        text-align: right;\n",
       "    }\n",
       "</style>\n",
       "<table border=\"1\" class=\"dataframe\">\n",
       "  <thead>\n",
       "    <tr style=\"text-align: right;\">\n",
       "      <th></th>\n",
       "      <th>Story</th>\n",
       "      <th>OutputCase</th>\n",
       "      <th>Direction</th>\n",
       "      <th>Max Drift</th>\n",
       "      <th>Avg Drift</th>\n",
       "      <th>Ratio</th>\n",
       "      <th>Height</th>\n",
       "      <th>Drifts</th>\n",
       "      <th>Drift &lt; Dmax/2</th>\n",
       "      <th>tor_reg</th>\n",
       "    </tr>\n",
       "  </thead>\n",
       "  <tbody>\n",
       "    <tr>\n",
       "      <th>0</th>\n",
       "      <td>Story8</td>\n",
       "      <td>Sx Max</td>\n",
       "      <td>X</td>\n",
       "      <td>3.536</td>\n",
       "      <td>3.073</td>\n",
       "      <td>1.151</td>\n",
       "      <td>2500</td>\n",
       "      <td>0.003246</td>\n",
       "      <td>True</td>\n",
       "      <td>Regular</td>\n",
       "    </tr>\n",
       "    <tr>\n",
       "      <th>1</th>\n",
       "      <td>Story8</td>\n",
       "      <td>Sx Min</td>\n",
       "      <td>X</td>\n",
       "      <td>3.013</td>\n",
       "      <td>2.589</td>\n",
       "      <td>1.163</td>\n",
       "      <td>2500</td>\n",
       "      <td>0.002766</td>\n",
       "      <td>True</td>\n",
       "      <td>Regular</td>\n",
       "    </tr>\n",
       "    <tr>\n",
       "      <th>2</th>\n",
       "      <td>Story8</td>\n",
       "      <td>Sy Max</td>\n",
       "      <td>X</td>\n",
       "      <td>0.46</td>\n",
       "      <td>0.107</td>\n",
       "      <td>4.305</td>\n",
       "      <td>2500</td>\n",
       "      <td>0.000422</td>\n",
       "      <td>True</td>\n",
       "      <td>Regular</td>\n",
       "    </tr>\n",
       "    <tr>\n",
       "      <th>3</th>\n",
       "      <td>Story8</td>\n",
       "      <td>Sy Max</td>\n",
       "      <td>Y</td>\n",
       "      <td>0.671</td>\n",
       "      <td>0.564</td>\n",
       "      <td>1.19</td>\n",
       "      <td>2500</td>\n",
       "      <td>0.000616</td>\n",
       "      <td>True</td>\n",
       "      <td>Regular</td>\n",
       "    </tr>\n",
       "    <tr>\n",
       "      <th>4</th>\n",
       "      <td>Story8</td>\n",
       "      <td>Sy Min</td>\n",
       "      <td>X</td>\n",
       "      <td>0.399</td>\n",
       "      <td>0.078</td>\n",
       "      <td>5.118</td>\n",
       "      <td>2500</td>\n",
       "      <td>0.000366</td>\n",
       "      <td>True</td>\n",
       "      <td>Regular</td>\n",
       "    </tr>\n",
       "    <tr>\n",
       "      <th>...</th>\n",
       "      <td>...</td>\n",
       "      <td>...</td>\n",
       "      <td>...</td>\n",
       "      <td>...</td>\n",
       "      <td>...</td>\n",
       "      <td>...</td>\n",
       "      <td>...</td>\n",
       "      <td>...</td>\n",
       "      <td>...</td>\n",
       "      <td>...</td>\n",
       "    </tr>\n",
       "    <tr>\n",
       "      <th>76</th>\n",
       "      <td>NT</td>\n",
       "      <td>Sy Min</td>\n",
       "      <td>Y</td>\n",
       "      <td>0.029</td>\n",
       "      <td>0.001</td>\n",
       "      <td>40.601</td>\n",
       "      <td>1750</td>\n",
       "      <td>0.000038</td>\n",
       "      <td>True</td>\n",
       "      <td>Regular</td>\n",
       "    </tr>\n",
       "    <tr>\n",
       "      <th>77</th>\n",
       "      <td>NT</td>\n",
       "      <td>SDx Max</td>\n",
       "      <td>X</td>\n",
       "      <td>0.24</td>\n",
       "      <td>0.12</td>\n",
       "      <td>2</td>\n",
       "      <td>1750</td>\n",
       "      <td>0.000315</td>\n",
       "      <td>True</td>\n",
       "      <td>Regular</td>\n",
       "    </tr>\n",
       "    <tr>\n",
       "      <th>78</th>\n",
       "      <td>NT</td>\n",
       "      <td>SDx Max</td>\n",
       "      <td>Y</td>\n",
       "      <td>0.028</td>\n",
       "      <td>0.014</td>\n",
       "      <td>2</td>\n",
       "      <td>1750</td>\n",
       "      <td>0.000037</td>\n",
       "      <td>True</td>\n",
       "      <td>Regular</td>\n",
       "    </tr>\n",
       "    <tr>\n",
       "      <th>79</th>\n",
       "      <td>NT</td>\n",
       "      <td>SDy Max</td>\n",
       "      <td>X</td>\n",
       "      <td>0.033</td>\n",
       "      <td>0.016</td>\n",
       "      <td>2</td>\n",
       "      <td>1750</td>\n",
       "      <td>0.000043</td>\n",
       "      <td>True</td>\n",
       "      <td>Regular</td>\n",
       "    </tr>\n",
       "    <tr>\n",
       "      <th>80</th>\n",
       "      <td>NT</td>\n",
       "      <td>SDy Max</td>\n",
       "      <td>Y</td>\n",
       "      <td>0.027</td>\n",
       "      <td>0.013</td>\n",
       "      <td>2</td>\n",
       "      <td>1750</td>\n",
       "      <td>0.000035</td>\n",
       "      <td>True</td>\n",
       "      <td>Regular</td>\n",
       "    </tr>\n",
       "  </tbody>\n",
       "</table>\n",
       "<p>81 rows × 10 columns</p>\n",
       "</div>"
      ],
      "text/plain": [
       "     Story OutputCase Direction Max Drift Avg Drift   Ratio Height    Drifts  \\\n",
       "0   Story8     Sx Max         X     3.536     3.073   1.151   2500  0.003246   \n",
       "1   Story8     Sx Min         X     3.013     2.589   1.163   2500  0.002766   \n",
       "2   Story8     Sy Max         X      0.46     0.107   4.305   2500  0.000422   \n",
       "3   Story8     Sy Max         Y     0.671     0.564    1.19   2500  0.000616   \n",
       "4   Story8     Sy Min         X     0.399     0.078   5.118   2500  0.000366   \n",
       "..     ...        ...       ...       ...       ...     ...    ...       ...   \n",
       "76      NT     Sy Min         Y     0.029     0.001  40.601   1750  0.000038   \n",
       "77      NT    SDx Max         X      0.24      0.12       2   1750  0.000315   \n",
       "78      NT    SDx Max         Y     0.028     0.014       2   1750  0.000037   \n",
       "79      NT    SDy Max         X     0.033     0.016       2   1750  0.000043   \n",
       "80      NT    SDy Max         Y     0.027     0.013       2   1750  0.000035   \n",
       "\n",
       "    Drift < Dmax/2  tor_reg  \n",
       "0             True  Regular  \n",
       "1             True  Regular  \n",
       "2             True  Regular  \n",
       "3             True  Regular  \n",
       "4             True  Regular  \n",
       "..             ...      ...  \n",
       "76            True  Regular  \n",
       "77            True  Regular  \n",
       "78            True  Regular  \n",
       "79            True  Regular  \n",
       "80            True  Regular  \n",
       "\n",
       "[81 rows x 10 columns]"
      ]
     },
     "metadata": {},
     "output_type": "display_data"
    }
   ],
   "source": [
    "sis.show_table(sismo.torsion_table)"
   ]
  },
  {
   "cell_type": "markdown",
   "metadata": {},
   "source": [
    "## Derivas"
   ]
  },
  {
   "cell_type": "code",
   "execution_count": 19,
   "metadata": {},
   "outputs": [
    {
     "data": {
      "application/vnd.jupyter.widget-view+json": {
       "model_id": "6909d00d17e647ac8f0f211ce0b80e89",
       "version_major": 2,
       "version_minor": 0
      },
      "text/plain": [
       "Dropdown(description='Filtro', index=6, options=('Sx Max', 'Sx Min', 'Sy Max', 'Sy Min', 'SDx Max', 'SDy Max',…"
      ]
     },
     "metadata": {},
     "output_type": "display_data"
    },
    {
     "data": {
      "text/html": [
       "<div>\n",
       "<style scoped>\n",
       "    .dataframe tbody tr th:only-of-type {\n",
       "        vertical-align: middle;\n",
       "    }\n",
       "\n",
       "    .dataframe tbody tr th {\n",
       "        vertical-align: top;\n",
       "    }\n",
       "\n",
       "    .dataframe thead th {\n",
       "        text-align: right;\n",
       "    }\n",
       "</style>\n",
       "<table border=\"1\" class=\"dataframe\">\n",
       "  <thead>\n",
       "    <tr style=\"text-align: right;\">\n",
       "      <th></th>\n",
       "      <th>Story</th>\n",
       "      <th>OutputCase</th>\n",
       "      <th>Direction</th>\n",
       "      <th>Drifts</th>\n",
       "      <th>Drift_Check</th>\n",
       "    </tr>\n",
       "  </thead>\n",
       "  <tbody>\n",
       "    <tr>\n",
       "      <th>0</th>\n",
       "      <td>Story8</td>\n",
       "      <td>Sx Max</td>\n",
       "      <td>X</td>\n",
       "      <td>0.003246</td>\n",
       "      <td>Cumple</td>\n",
       "    </tr>\n",
       "    <tr>\n",
       "      <th>1</th>\n",
       "      <td>Story8</td>\n",
       "      <td>Sx Min</td>\n",
       "      <td>X</td>\n",
       "      <td>0.002766</td>\n",
       "      <td>Cumple</td>\n",
       "    </tr>\n",
       "    <tr>\n",
       "      <th>2</th>\n",
       "      <td>Story8</td>\n",
       "      <td>Sy Max</td>\n",
       "      <td>X</td>\n",
       "      <td>0.000422</td>\n",
       "      <td>Cumple</td>\n",
       "    </tr>\n",
       "    <tr>\n",
       "      <th>3</th>\n",
       "      <td>Story8</td>\n",
       "      <td>Sy Max</td>\n",
       "      <td>Y</td>\n",
       "      <td>0.000616</td>\n",
       "      <td>Cumple</td>\n",
       "    </tr>\n",
       "    <tr>\n",
       "      <th>4</th>\n",
       "      <td>Story8</td>\n",
       "      <td>Sy Min</td>\n",
       "      <td>X</td>\n",
       "      <td>0.000366</td>\n",
       "      <td>Cumple</td>\n",
       "    </tr>\n",
       "    <tr>\n",
       "      <th>...</th>\n",
       "      <td>...</td>\n",
       "      <td>...</td>\n",
       "      <td>...</td>\n",
       "      <td>...</td>\n",
       "      <td>...</td>\n",
       "    </tr>\n",
       "    <tr>\n",
       "      <th>76</th>\n",
       "      <td>NT</td>\n",
       "      <td>Sy Min</td>\n",
       "      <td>Y</td>\n",
       "      <td>0.000038</td>\n",
       "      <td>Cumple</td>\n",
       "    </tr>\n",
       "    <tr>\n",
       "      <th>77</th>\n",
       "      <td>NT</td>\n",
       "      <td>SDx Max</td>\n",
       "      <td>X</td>\n",
       "      <td>0.000315</td>\n",
       "      <td>Cumple</td>\n",
       "    </tr>\n",
       "    <tr>\n",
       "      <th>78</th>\n",
       "      <td>NT</td>\n",
       "      <td>SDx Max</td>\n",
       "      <td>Y</td>\n",
       "      <td>0.000037</td>\n",
       "      <td>Cumple</td>\n",
       "    </tr>\n",
       "    <tr>\n",
       "      <th>79</th>\n",
       "      <td>NT</td>\n",
       "      <td>SDy Max</td>\n",
       "      <td>X</td>\n",
       "      <td>0.000043</td>\n",
       "      <td>Cumple</td>\n",
       "    </tr>\n",
       "    <tr>\n",
       "      <th>80</th>\n",
       "      <td>NT</td>\n",
       "      <td>SDy Max</td>\n",
       "      <td>Y</td>\n",
       "      <td>0.000035</td>\n",
       "      <td>Cumple</td>\n",
       "    </tr>\n",
       "  </tbody>\n",
       "</table>\n",
       "<p>81 rows × 5 columns</p>\n",
       "</div>"
      ],
      "text/plain": [
       "     Story OutputCase Direction    Drifts Drift_Check\n",
       "0   Story8     Sx Max         X  0.003246      Cumple\n",
       "1   Story8     Sx Min         X  0.002766      Cumple\n",
       "2   Story8     Sy Max         X  0.000422      Cumple\n",
       "3   Story8     Sy Max         Y  0.000616      Cumple\n",
       "4   Story8     Sy Min         X  0.000366      Cumple\n",
       "..     ...        ...       ...       ...         ...\n",
       "76      NT     Sy Min         Y  0.000038      Cumple\n",
       "77      NT    SDx Max         X  0.000315      Cumple\n",
       "78      NT    SDx Max         Y  0.000037      Cumple\n",
       "79      NT    SDy Max         X  0.000043      Cumple\n",
       "80      NT    SDy Max         Y  0.000035      Cumple\n",
       "\n",
       "[81 rows x 5 columns]"
      ]
     },
     "metadata": {},
     "output_type": "display_data"
    }
   ],
   "source": [
    "sis.show_table(sismo.drift_table)"
   ]
  },
  {
   "cell_type": "markdown",
   "metadata": {},
   "source": [
    "# Fuerza Cortante Mínima"
   ]
  },
  {
   "cell_type": "code",
   "execution_count": 20,
   "metadata": {},
   "outputs": [
    {
     "data": {
      "text/html": [
       "<style type=\"text/css\">\n",
       "</style>\n",
       "<table id=\"T_60f20\">\n",
       "  <thead>\n",
       "  </thead>\n",
       "  <tbody>\n",
       "    <tr>\n",
       "      <td id=\"T_60f20_row0_col0\" class=\"data row0 col0\" ></td>\n",
       "      <td id=\"T_60f20_row0_col1\" class=\"data row0 col1\" >X</td>\n",
       "      <td id=\"T_60f20_row0_col2\" class=\"data row0 col2\" >Y</td>\n",
       "    </tr>\n",
       "    <tr>\n",
       "      <td id=\"T_60f20_row1_col0\" class=\"data row1 col0\" >V din (Ton)</td>\n",
       "      <td id=\"T_60f20_row1_col1\" class=\"data row1 col1\" >50.889600</td>\n",
       "      <td id=\"T_60f20_row1_col2\" class=\"data row1 col2\" >65.187100</td>\n",
       "    </tr>\n",
       "    <tr>\n",
       "      <td id=\"T_60f20_row2_col0\" class=\"data row2 col0\" >V est (Ton)</td>\n",
       "      <td id=\"T_60f20_row2_col1\" class=\"data row2 col1\" >-61.300700</td>\n",
       "      <td id=\"T_60f20_row2_col2\" class=\"data row2 col2\" >-73.041000</td>\n",
       "    </tr>\n",
       "    <tr>\n",
       "      <td id=\"T_60f20_row3_col0\" class=\"data row3 col0\" >% min</td>\n",
       "      <td id=\"T_60f20_row3_col1\" class=\"data row3 col1\" >90</td>\n",
       "      <td id=\"T_60f20_row3_col2\" class=\"data row3 col2\" >90</td>\n",
       "    </tr>\n",
       "    <tr>\n",
       "      <td id=\"T_60f20_row4_col0\" class=\"data row4 col0\" >%</td>\n",
       "      <td id=\"T_60f20_row4_col1\" class=\"data row4 col1\" >83.020000</td>\n",
       "      <td id=\"T_60f20_row4_col2\" class=\"data row4 col2\" >89.250000</td>\n",
       "    </tr>\n",
       "    <tr>\n",
       "      <td id=\"T_60f20_row5_col0\" class=\"data row5 col0\" >F.E.</td>\n",
       "      <td id=\"T_60f20_row5_col1\" class=\"data row5 col1\" >1.080000</td>\n",
       "      <td id=\"T_60f20_row5_col2\" class=\"data row5 col2\" >1.010000</td>\n",
       "    </tr>\n",
       "  </tbody>\n",
       "</table>\n"
      ],
      "text/plain": [
       "<pandas.io.formats.style.Styler at 0x23ae48c7160>"
      ]
     },
     "execution_count": 20,
     "metadata": {},
     "output_type": "execute_result"
    }
   ],
   "source": [
    "sismo.shear_table.style.hide(axis='index').hide(axis='columns')"
   ]
  }
 ],
 "metadata": {
  "kernelspec": {
   "display_name": "structures",
   "language": "python",
   "name": "python3"
  },
  "language_info": {
   "codemirror_mode": {
    "name": "ipython",
    "version": 3
   },
   "file_extension": ".py",
   "mimetype": "text/x-python",
   "name": "python",
   "nbconvert_exporter": "python",
   "pygments_lexer": "ipython3",
   "version": "3.9.16"
  },
  "toc-showmarkdowntxt": true,
  "vscode": {
   "interpreter": {
    "hash": "bac46d45b902eb1257731b3cec425c94a9ada4fac09ba91d7557c516a1f31c36"
   }
  }
 },
 "nbformat": 4,
 "nbformat_minor": 4
}
